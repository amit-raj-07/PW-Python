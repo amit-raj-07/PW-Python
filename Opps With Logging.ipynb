{
 "cells": [
  {
   "cell_type": "code",
   "execution_count": 1,
   "id": "4b57924a-6059-4974-b7f2-9a566cf44c97",
   "metadata": {},
   "outputs": [
    {
     "data": {
      "text/plain": [
       "'\\nThere are several logger objects offered by the base Handler itself.  \\n\\nLogger.info(msg): This will log a message with level INFO on this logger.\\nLogger.warning(msg): This will log a message with a level WARNING on this logger.\\nLogger.error(msg): This will log a message with level ERROR on this logger.\\nLogger.critical(msg): This will log a message with level CRITICAL on this logger.\\nLogger.log(lvl,msg): This will Log a message with integer level lvl on this logger.\\nLogger.exception(msg): This will log a message with level ERROR on this logger.\\nLogger.setLevel(lvl): This function sets the threshold of this logger to lvl. This means that all the messages below this level will be ignored.\\nLogger.addFilter(filt): This adds a specific filter fit into this logger.\\nLogger.removeFilter(filt): This removes a specific filter fit into this logger.\\nLogger.filter(record): This method applies the logger’s filter to the record provided and returns True if the record is to be processed. Else, it will return False.\\nLogger.addHandler(hdlr): This adds a specific handler hdlr to this logger.\\nLogger.removeHandler(hdlr) : This removes a specific handler hdlr into this logger.\\nLogger.hasHandlers(): This checks if the logger has any handler configured or not. \\n'"
      ]
     },
     "execution_count": 1,
     "metadata": {},
     "output_type": "execute_result"
    }
   ],
   "source": [
    "'''Python Logging Levels\n",
    "\n",
    "There are five built-in levels of the log message.  \n",
    "\n",
    "1. Debug: These are used to give Detailed information, typically of interest only when diagnosing problems.\n",
    "2. Info: These are used to confirm that things are working as expected\n",
    "3. Warning: These are used as an indication that something unexpected happened, or is indicative of some problem in the near future\n",
    "4. Error: This tells that due to a more serious problem, the software has not been able to perform some function\n",
    "5. Critical: This tells serious error, indicating that the program itself may be unable to continue running\n",
    "'''\n",
    "\n",
    "\n",
    "'''\n",
    "There are several logger objects offered by the base Handler itself.  \n",
    "\n",
    "Logger.info(msg): This will log a message with level INFO on this logger.\n",
    "Logger.warning(msg): This will log a message with a level WARNING on this logger.\n",
    "Logger.error(msg): This will log a message with level ERROR on this logger.\n",
    "Logger.critical(msg): This will log a message with level CRITICAL on this logger.\n",
    "Logger.log(lvl,msg): This will Log a message with integer level lvl on this logger.\n",
    "Logger.exception(msg): This will log a message with level ERROR on this logger.\n",
    "Logger.setLevel(lvl): This function sets the threshold of this logger to lvl. This means that all the messages below this level will be ignored.\n",
    "Logger.addFilter(filt): This adds a specific filter fit into this logger.\n",
    "Logger.removeFilter(filt): This removes a specific filter fit into this logger.\n",
    "Logger.filter(record): This method applies the logger’s filter to the record provided and returns True if the record is to be processed. Else, it will return False.\n",
    "Logger.addHandler(hdlr): This adds a specific handler hdlr to this logger.\n",
    "Logger.removeHandler(hdlr) : This removes a specific handler hdlr into this logger.\n",
    "Logger.hasHandlers(): This checks if the logger has any handler configured or not. \n",
    "'''"
   ]
  },
  {
   "cell_type": "code",
   "execution_count": 19,
   "id": "2cfd5e9c-a11d-4038-89ad-a5b206df3337",
   "metadata": {},
   "outputs": [],
   "source": [
    "import logging\n",
    "logging.basicConfig(filename = '/home/jovyan/work/OOPs/test1.log',level = logging.DEBUG, format='%(asctime)s- %(message)s - %(levelname)s')\n",
    "\n",
    "try:\n",
    "    \n",
    "    logging.info(\"This is start of my class bankaccount \")\n",
    "    class bankaccount:\n",
    "        \n",
    "        logging.info(\"I am inside my class\")\n",
    "        logging.info(\"Going to create an account with name and email id\")\n",
    "        def openaccount(self,name,email_id):\n",
    "            logging.info(\"I am inside of open account\")\n",
    "            print(\"Open an account with the help of name and email id\")\n",
    "            return name+email_id\n",
    "        \n",
    "        \n",
    "        logging.info(\"This is start of deposite the amount in deposite section\")\n",
    "        def deposite(self,amount):\n",
    "            logging.info(\"Inside deposite section\")\n",
    "            print(\"I am trying to deposite an amount in my account\")\n",
    "            logging.info(\"Done with deposite section\")\n",
    "            \n",
    "        logging.info(\"This is start Withdraw function\")\n",
    "        def withdraw(self, amt_with):\n",
    "            logging.info(\"This is start withdraw function/method\")\n",
    "            print(\"Withdraw the amount\")\n",
    "            logging.info(\"done with withdraw method\")\n",
    "    \n",
    "        logging.info(\"This is start update the details method\")\n",
    "        def update_details(self, name_update, email_update):\n",
    "            logging.info(\"This is start of update detail method\")\n",
    "            print(\"This function will update my name and email\")\n",
    "            logging.info(\"done with update details\")\n",
    "    \n",
    "except Exception as e:\n",
    "    logging.error(e)"
   ]
  },
  {
   "cell_type": "code",
   "execution_count": 20,
   "id": "b6336cc7-20f9-476d-bccd-e8afaa2c5167",
   "metadata": {},
   "outputs": [],
   "source": [
    "ICICI = bankaccount()"
   ]
  },
  {
   "cell_type": "code",
   "execution_count": 21,
   "id": "aa56537d-7383-47ae-9088-2b84a368716e",
   "metadata": {},
   "outputs": [
    {
     "name": "stdout",
     "output_type": "stream",
     "text": [
      "I am trying to deposite an amount in my account\n"
     ]
    }
   ],
   "source": [
    "ICICI.deposite(35000)"
   ]
  },
  {
   "cell_type": "code",
   "execution_count": 22,
   "id": "ae24b183-c861-42d0-ba35-f5ebcf558ff4",
   "metadata": {},
   "outputs": [
    {
     "name": "stdout",
     "output_type": "stream",
     "text": [
      "Withdraw the amount\n"
     ]
    }
   ],
   "source": [
    "ICICI.withdraw(300)"
   ]
  },
  {
   "cell_type": "code",
   "execution_count": 5,
   "id": "dae2f168-31a7-4be6-8311-d800b674cd5c",
   "metadata": {},
   "outputs": [
    {
     "data": {
      "text/plain": [
       "'/home/jovyan/work/OOPs'"
      ]
     },
     "execution_count": 5,
     "metadata": {},
     "output_type": "execute_result"
    }
   ],
   "source": [
    "pwd"
   ]
  },
  {
   "cell_type": "code",
   "execution_count": 16,
   "id": "100ed153-83a9-4e55-8b87-ab8a9d914284",
   "metadata": {},
   "outputs": [],
   "source": [
    "import logging\n",
    "logging.basicConfig(filename = '/home/jovyan/work/OOPs/test2.log',level = logging.DEBUG, format='%(asctime)s- %(message)s - %(levelname)s')\n",
    "\n",
    "logging.info(\"GOing inside class LIST_OPS\")\n",
    "class list_ops:\n",
    "    #self work as reference, not necessary to write only self, caan put any name\n",
    "    logging.info(\"inside extract from index\")\n",
    "    def extractfromindex(self, l, index):\n",
    "        logging.info(\"inside extract from index\")\n",
    "        return l[index]\n",
    "    logging.info(\"return index of list\")\n",
    "    logging.info(\"Going inside extract range data\")\n",
    "    def extractrangedata(self, l, start, end):\n",
    "        logging.info(\"going inside the range data\")\n",
    "        return l[start:end]\n",
    "    logging.info(\"print data of extract range\")\n",
    "    logging.info(\"inside extract even\")\n",
    "    def extracteven(self,l):\n",
    "        l1=[]\n",
    "        for i in l:\n",
    "            if i%2==0:\n",
    "                l1.append(i)\n",
    "        return l1"
   ]
  },
  {
   "cell_type": "code",
   "execution_count": 17,
   "id": "759cc771-d3d0-434c-b732-0852da0b2200",
   "metadata": {},
   "outputs": [],
   "source": [
    "A1 = list_ops()"
   ]
  },
  {
   "cell_type": "code",
   "execution_count": 18,
   "id": "b0ca096d-6dda-4e79-b941-ab8e9009680f",
   "metadata": {},
   "outputs": [
    {
     "data": {
      "text/plain": [
       "7"
      ]
     },
     "execution_count": 18,
     "metadata": {},
     "output_type": "execute_result"
    }
   ],
   "source": [
    "A1.extractfromindex([2,3,4,5,6,7,8], 5)"
   ]
  },
  {
   "cell_type": "code",
   "execution_count": null,
   "id": "2cb795cb-527b-44ca-b864-c61fc150211a",
   "metadata": {},
   "outputs": [],
   "source": []
  },
  {
   "cell_type": "code",
   "execution_count": 15,
   "id": "2a103390-6c5e-4588-9e75-63616dfd2191",
   "metadata": {},
   "outputs": [],
   "source": [
    "class list_ops:\n",
    "    #self work as reference, not necessary to write only self, caan put any name\n",
    "    \n",
    "    #a=10\n",
    "    #l = [1,2,3,4,5,6,7,8,9]\n",
    "    \n",
    "    #init means initialise, used to provide data for variable\n",
    "    #below called as constructor nd Amit.l1 bind with class name\n",
    "    #init is a constructor method\n",
    "    def __init__(Amit, l):\n",
    "        Amit.l1 = l #this l come from below assign element while calling objects\n",
    "        Amit.l2 = 40\n",
    "        Amit.l3 = \"Aashu\"\n",
    "        Amit.l4 = (2,3,4,5,6,7,8,8,9)\n",
    "        Amit.l5 = {\"key\":\"value\"}\n",
    "        \n",
    "    def extractfromindex(self, l, index):\n",
    "        return l[index]\n",
    "    \n",
    "    def extractrangedata(self, l, start, end):\n",
    "        return l[start:end]\n",
    "    \n",
    "    def extracteven(self,l):\n",
    "        l1=[]\n",
    "        for i in l:\n",
    "            if i%2==0:\n",
    "                l1.append(i)\n",
    "        return l1"
   ]
  },
  {
   "cell_type": "code",
   "execution_count": null,
   "id": "d4886919-1233-4ca9-8dab-2aaa07d280cb",
   "metadata": {},
   "outputs": [],
   "source": [
    "class book:\n",
    "    \n",
    "    #class know only left side wala pointer object i.e self.name_of_book \n",
    "    def __init__(self,name, title, pageno):\n",
    "        self.name_of_book = name\n",
    "        self.title_of_book = title\n",
    "        self.page_no = pageno\n",
    "        \n",
    "    def extract_details(self):\n",
    "        print(self.name_of_book, self.title_of_book)\n",
    "        \n",
    "    \n",
    "    def print_page_no(self):\n",
    "        print(self.page_no)\n",
    "        \n",
    "    "
   ]
  },
  {
   "cell_type": "code",
   "execution_count": null,
   "id": "cb9d8ea9-b061-4ab4-b29d-0ba206068ac8",
   "metadata": {},
   "outputs": [],
   "source": [
    "class book:\n",
    "    \n",
    "    #class know only left side wala pointer object i.e self.name_of_book \n",
    "    def __init__(self):\n",
    "        self.name_of_book = \"SQL\"\n",
    "        self.title_of_book = \"DATU\"\n",
    "        self.page_no = 5665\n",
    "        \n",
    "    def extract_details(self):\n",
    "        print(self.name_of_book, self.title_of_book)\n",
    "        \n",
    "    \n",
    "    def print_page_no(self):\n",
    "        print(self.page_no)\n",
    "        "
   ]
  },
  {
   "cell_type": "code",
   "execution_count": null,
   "id": "55c0517f-ff9b-49b3-8db8-4e65aa33060f",
   "metadata": {},
   "outputs": [],
   "source": [
    "class gmail_ops:\n",
    "    #constructor and userd to pass the data\n",
    "    #class always understand left side variable and right side wala is assignment of the data\n",
    "    def __init__(self, user_id, password):\n",
    "        self.user_id = user_id\n",
    "        self.password = password\n",
    "        self.url = \"gmail.com\"\n",
    "        \n",
    "    def login(self):\n",
    "        print(\"Take user_id\" + self.user_id + \"Take Paaword\" + self.password + \"hit url\" + self.url)\n",
    "        print(\"Loggin\")\n",
    "        \n",
    "    def read_mail(self):\n",
    "        print(\"Read mail for\" + self.user_id + \"  \" + self.password)\n",
    "    \n",
    "    def reply_mail(self):\n",
    "        print(\"reply  mail for\" + self.user_id + \"  \" + self.password)"
   ]
  },
  {
   "cell_type": "code",
   "execution_count": null,
   "id": "0e3202cd-bd6b-4819-b0f6-1c0b54458464",
   "metadata": {},
   "outputs": [],
   "source": [
    "from functools import reduce\n",
    "class calculator:\n",
    "    \n",
    "    #*args used to take multiple arguments/value\n",
    "    def add(self, *args):\n",
    "        return sum(args)\n",
    "    \n",
    "    def subtraction(self, *args):\n",
    "        return reduce(lambda a,b : a-b, args)\n",
    "    \n",
    "    def mul(self, *args):\n",
    "        return reduce(lambda a,b : a*b, args)\n",
    "        \n",
    "    \n",
    "    def div(self, *args):\n",
    "        return reduce(lambda a,b : a/b, args)\n",
    "        "
   ]
  },
  {
   "cell_type": "code",
   "execution_count": null,
   "id": "08d05e5c-54c9-477d-9641-42c8f4dc9129",
   "metadata": {},
   "outputs": [],
   "source": [
    "from functools import reduce\n",
    "class calculator:\n",
    "    \n",
    "    def __init__(self, username):\n",
    "        self.username = username\n",
    "        \n",
    "    \n",
    "    #*args used to take multiple arguments/value\n",
    "    def add(self, *args):\n",
    "        return self.username,  sum(args)\n",
    "    \n",
    "    def subtraction(self, *args):\n",
    "        return self.username, reduce(lambda a,b : a-b, args)\n",
    "    \n",
    "    def mul(self, *args):\n",
    "        return self.username, reduce(lambda a,b : a*b, args)\n",
    "        \n",
    "    \n",
    "    def div(self, *args):\n",
    "        return self.username, reduce(lambda a,b : a/b, args)\n",
    "        "
   ]
  }
 ],
 "metadata": {
  "kernelspec": {
   "display_name": "Python 3 (ipykernel)",
   "language": "python",
   "name": "python3"
  },
  "language_info": {
   "codemirror_mode": {
    "name": "ipython",
    "version": 3
   },
   "file_extension": ".py",
   "mimetype": "text/x-python",
   "name": "python",
   "nbconvert_exporter": "python",
   "pygments_lexer": "ipython3",
   "version": "3.10.8"
  }
 },
 "nbformat": 4,
 "nbformat_minor": 5
}
