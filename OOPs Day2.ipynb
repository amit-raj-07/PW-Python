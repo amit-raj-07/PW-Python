{
 "cells": [
  {
   "cell_type": "code",
   "execution_count": 7,
   "id": "1617751a-5183-45eb-8b4e-6879f1925bcf",
   "metadata": {},
   "outputs": [],
   "source": [
    "class a:\n",
    "    def test(self):\n",
    "        print(\"This test method is a part of class a\")\n",
    "    \n",
    "    def test1(self):\n",
    "        print(\"This test1 method is a part of class a\")\n",
    "    "
   ]
  },
  {
   "cell_type": "code",
   "execution_count": 8,
   "id": "4a13a55e-5bf0-4015-8929-e39fcbc201e3",
   "metadata": {},
   "outputs": [],
   "source": [
    "obj_a = a()"
   ]
  },
  {
   "cell_type": "code",
   "execution_count": 9,
   "id": "7b95ece1-9e8a-459e-9314-ec8b3e10aaa3",
   "metadata": {},
   "outputs": [
    {
     "name": "stdout",
     "output_type": "stream",
     "text": [
      "This test method is a part of class a\n"
     ]
    }
   ],
   "source": [
    "obj_a.test()"
   ]
  },
  {
   "cell_type": "code",
   "execution_count": 17,
   "id": "d1d9055f-e7ec-4264-8365-91326091afca",
   "metadata": {},
   "outputs": [],
   "source": [
    "class b(a):\n",
    "    def test1b(self):\n",
    "        print(\"This test1b method is a part of class b\")\n",
    "    "
   ]
  },
  {
   "cell_type": "code",
   "execution_count": 18,
   "id": "c0b29372-3a57-4639-9dc9-ecc2ef113a07",
   "metadata": {},
   "outputs": [],
   "source": [
    "obj_b = b()"
   ]
  },
  {
   "cell_type": "code",
   "execution_count": 19,
   "id": "ace0d368-415d-4837-8036-2ebe5ea0d4f3",
   "metadata": {},
   "outputs": [
    {
     "name": "stdout",
     "output_type": "stream",
     "text": [
      "This test method is a part of class a\n"
     ]
    }
   ],
   "source": [
    "obj_b.test()"
   ]
  },
  {
   "cell_type": "code",
   "execution_count": 20,
   "id": "9e2852a9-2304-4c8c-a8c1-50b09541af40",
   "metadata": {},
   "outputs": [
    {
     "name": "stdout",
     "output_type": "stream",
     "text": [
      "This test1 method is a part of class a\n"
     ]
    }
   ],
   "source": [
    "obj_b.test1()"
   ]
  },
  {
   "cell_type": "code",
   "execution_count": 21,
   "id": "b6fae374-98ee-4c51-ae17-7cee246d40ff",
   "metadata": {},
   "outputs": [
    {
     "name": "stdout",
     "output_type": "stream",
     "text": [
      "This test1b method is a part of class b\n"
     ]
    }
   ],
   "source": [
    "obj_b.test1b()"
   ]
  },
  {
   "cell_type": "code",
   "execution_count": 22,
   "id": "4a1941ce-8c83-4834-b053-57b18fd34ebd",
   "metadata": {},
   "outputs": [],
   "source": [
    "class lecture:\n",
    "    def topic(self):\n",
    "        print(\"Today class we are discussing about inheritance\")\n",
    "    def timing(self):\n",
    "        print(\"Timing for todays class is 9AM IST\")\n",
    "    def end_time(self):\n",
    "        print(\"Today i will try to end class bit early\")\n",
    "    "
   ]
  },
  {
   "cell_type": "code",
   "execution_count": 23,
   "id": "08a9eeea-7d8c-4652-b629-74896bb994ab",
   "metadata": {},
   "outputs": [],
   "source": [
    "class student(lecture):\n",
    "    def student_details(self):\n",
    "        print(\"This class will give you a student details\")"
   ]
  },
  {
   "cell_type": "code",
   "execution_count": 24,
   "id": "d2e27b0c-36f7-41de-bc64-bc6c9f70c346",
   "metadata": {},
   "outputs": [],
   "source": [
    "obj_student = student()"
   ]
  },
  {
   "cell_type": "code",
   "execution_count": 25,
   "id": "4e28f69f-6599-4fd4-b77f-421beb290cbe",
   "metadata": {},
   "outputs": [
    {
     "name": "stdout",
     "output_type": "stream",
     "text": [
      "Today class we are discussing about inheritance\n"
     ]
    }
   ],
   "source": [
    "obj_student.topic()"
   ]
  },
  {
   "cell_type": "code",
   "execution_count": 27,
   "id": "3da70216-9a92-46c7-a643-c72e3ca1b276",
   "metadata": {},
   "outputs": [],
   "source": [
    "Aashu = student()"
   ]
  },
  {
   "cell_type": "code",
   "execution_count": 28,
   "id": "4323d22f-4d3c-4aec-9c61-f9ab72adc191",
   "metadata": {},
   "outputs": [
    {
     "name": "stdout",
     "output_type": "stream",
     "text": [
      "This class will give you a student details\n"
     ]
    }
   ],
   "source": [
    "Aashu.student_details()"
   ]
  },
  {
   "cell_type": "code",
   "execution_count": 30,
   "id": "8293c302-4244-4516-b5b4-8fcb7c5d792b",
   "metadata": {},
   "outputs": [],
   "source": [
    "class teacher(student):\n",
    "    def details(self):\n",
    "        print(\"This will give you a details about teacher\")"
   ]
  },
  {
   "cell_type": "code",
   "execution_count": 31,
   "id": "79092381-98e7-46d9-b112-da0516fd7561",
   "metadata": {},
   "outputs": [],
   "source": [
    "sudh = teacher()"
   ]
  },
  {
   "cell_type": "code",
   "execution_count": 32,
   "id": "6323ee4a-33b6-4bf3-8e3a-bf14330090a6",
   "metadata": {},
   "outputs": [
    {
     "name": "stdout",
     "output_type": "stream",
     "text": [
      "This class will give you a student details\n"
     ]
    }
   ],
   "source": [
    "sudh.student_details()"
   ]
  },
  {
   "cell_type": "code",
   "execution_count": 33,
   "id": "7a28f9c1-c93f-485a-8048-248a1b4a15ba",
   "metadata": {},
   "outputs": [
    {
     "name": "stdout",
     "output_type": "stream",
     "text": [
      "Timing for todays class is 9AM IST\n"
     ]
    }
   ],
   "source": [
    "sudh.timing()"
   ]
  },
  {
   "cell_type": "code",
   "execution_count": 39,
   "id": "fe7c8b72-f937-4d95-a0df-712a348b34cf",
   "metadata": {},
   "outputs": [],
   "source": [
    "###Above is Mu;ti level inheritance"
   ]
  },
  {
   "cell_type": "code",
   "execution_count": 42,
   "id": "be71624d-4616-4394-955b-40e9b0b6a0d8",
   "metadata": {},
   "outputs": [],
   "source": [
    "class lecture:\n",
    "    def topic(self):\n",
    "        print(\"Today class we are discussing about inheritance\")\n",
    "    def timing(self):\n",
    "        print(\"Timing for todays class is 9AM IST\")\n",
    "    def end_time(self):\n",
    "        print(\"Today i will try to end class bit early\")\n",
    "    "
   ]
  },
  {
   "cell_type": "code",
   "execution_count": 43,
   "id": "5b261c47-6dcf-4c44-9e48-6f0f8bb8fbf6",
   "metadata": {},
   "outputs": [],
   "source": [
    "class student:\n",
    "    def student_details(self):\n",
    "        print(\"This class will give you a student details\")\n",
    "    def timing(self):\n",
    "        print(\"Timing from Student class\")"
   ]
  },
  {
   "cell_type": "code",
   "execution_count": 47,
   "id": "e6b92059-9d86-48e9-9992-450e73aba87c",
   "metadata": {},
   "outputs": [],
   "source": [
    "class teacher(lecture, student):\n",
    "    def details(self):\n",
    "        print(\"This will give you a details about teacher\")"
   ]
  },
  {
   "cell_type": "code",
   "execution_count": 48,
   "id": "5ff6853e-296d-41ed-b6ff-253b85afb0f2",
   "metadata": {},
   "outputs": [],
   "source": [
    "obj_teacher = teacher()"
   ]
  },
  {
   "cell_type": "code",
   "execution_count": 49,
   "id": "b9507b61-79d3-4213-9dd5-345058275b7b",
   "metadata": {},
   "outputs": [
    {
     "name": "stdout",
     "output_type": "stream",
     "text": [
      "Timing for todays class is 9AM IST\n"
     ]
    }
   ],
   "source": [
    "obj_teacher.timing()"
   ]
  },
  {
   "cell_type": "code",
   "execution_count": 40,
   "id": "ea3d8819-9d43-4ddc-8e97-252b8186ec83",
   "metadata": {},
   "outputs": [],
   "source": [
    "###Above is multiple inheritance"
   ]
  },
  {
   "cell_type": "code",
   "execution_count": 50,
   "id": "d4e5b5e2-33c7-441e-b583-7397423fbc2c",
   "metadata": {},
   "outputs": [],
   "source": [
    "### if same function name, it call the first call name from class"
   ]
  },
  {
   "cell_type": "code",
   "execution_count": 51,
   "id": "9b3c64e8-d538-4480-9a2c-6591506aef8d",
   "metadata": {},
   "outputs": [],
   "source": [
    "class teacher(student, lecture):\n",
    "    def details(self):\n",
    "        print(\"This will give you a details about teacher\")"
   ]
  },
  {
   "cell_type": "code",
   "execution_count": 52,
   "id": "6af73b04-b231-41de-b8b7-7c138d02b744",
   "metadata": {},
   "outputs": [],
   "source": [
    "krish = teacher()"
   ]
  },
  {
   "cell_type": "code",
   "execution_count": 53,
   "id": "b4a3ad7a-fbf4-4c71-8af9-4b19df0f2a03",
   "metadata": {},
   "outputs": [
    {
     "name": "stdout",
     "output_type": "stream",
     "text": [
      "Timing from Student class\n"
     ]
    }
   ],
   "source": [
    "krish.timing()"
   ]
  },
  {
   "cell_type": "code",
   "execution_count": null,
   "id": "25d881f7-cdac-41a3-97a0-7e9ba13cfa5f",
   "metadata": {},
   "outputs": [],
   "source": []
  }
 ],
 "metadata": {
  "kernelspec": {
   "display_name": "Python 3 (ipykernel)",
   "language": "python",
   "name": "python3"
  },
  "language_info": {
   "codemirror_mode": {
    "name": "ipython",
    "version": 3
   },
   "file_extension": ".py",
   "mimetype": "text/x-python",
   "name": "python",
   "nbconvert_exporter": "python",
   "pygments_lexer": "ipython3",
   "version": "3.10.8"
  }
 },
 "nbformat": 4,
 "nbformat_minor": 5
}
