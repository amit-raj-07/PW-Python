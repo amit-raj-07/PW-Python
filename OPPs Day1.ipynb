{
 "cells": [
  {
   "cell_type": "code",
   "execution_count": 5,
   "id": "42e96b5c-0d2a-442b-b535-045572ff53f6",
   "metadata": {},
   "outputs": [],
   "source": [
    "###OBJECT ORIENTED PROGRAMMING"
   ]
  },
  {
   "cell_type": "code",
   "execution_count": 6,
   "id": "54262feb-fbd0-4a61-bce4-2d23764bfc9e",
   "metadata": {},
   "outputs": [],
   "source": [
    "##scripting format -- normal coding\n"
   ]
  },
  {
   "cell_type": "code",
   "execution_count": 7,
   "id": "b35ce85c-94ac-4611-9fdb-5f87838b0e30",
   "metadata": {},
   "outputs": [],
   "source": [
    "###class -> Blueprint/template for declaring and creating variable obkects.\n",
    "###class - we can classify that is class\n",
    "### classification and seggrigation of real world object is class\n",
    "\n",
    "\n",
    "##Object -> Real World Instance\n",
    "###object is a class instance that allows programmers to use variables and methods from inside the class.\n",
    "###object - > variable of a class\n",
    "\n",
    "### s = \"Amit\" --\n",
    "#Here s is  a - > Object/variable/instance"
   ]
  },
  {
   "cell_type": "code",
   "execution_count": 13,
   "id": "5a632171-3525-4095-8f99-cc4ac2b9c1a0",
   "metadata": {},
   "outputs": [],
   "source": [
    "def openaccount(name,email_id):\n",
    "        print(\"Open an account with the help of name and email id\")\n",
    "        return name+email_id"
   ]
  },
  {
   "cell_type": "code",
   "execution_count": 14,
   "id": "8c16b0db-de20-47d0-8089-70d6572d2e9c",
   "metadata": {},
   "outputs": [
    {
     "name": "stdout",
     "output_type": "stream",
     "text": [
      "Open an account with the help of name and email id\n"
     ]
    },
    {
     "data": {
      "text/plain": [
       "'Amit  a@gmail.com'"
      ]
     },
     "execution_count": 14,
     "metadata": {},
     "output_type": "execute_result"
    }
   ],
   "source": [
    "openaccount(\"Amit  \", \"a@gmail.com\")"
   ]
  },
  {
   "cell_type": "code",
   "execution_count": 16,
   "id": "377a2572-9ca4-4554-91c8-1801af2cba8d",
   "metadata": {},
   "outputs": [],
   "source": [
    "class bankaccount:\n",
    "    \n",
    "    def openaccount(self,name,email_id):\n",
    "        print(\"Open an account with the help of name and email id\")\n",
    "        return name+email_id\n",
    "    \n",
    "    def deposite(self,amount):\n",
    "        print(\"I am trying to deposite an amount in my account\")\n",
    "    \n",
    "    def withdraw(self, amt_with):\n",
    "        print(\"Withdraw the amount\")\n",
    "    \n",
    "    def update_details(self, name_update, email_update):\n",
    "        print(\"This function will update my name and email\")\n",
    "    \n",
    "    \n",
    "        "
   ]
  },
  {
   "cell_type": "code",
   "execution_count": 17,
   "id": "6cc54404-e374-4036-b474-0758c396e7e3",
   "metadata": {},
   "outputs": [],
   "source": [
    "Aashu = bankaccount()"
   ]
  },
  {
   "cell_type": "code",
   "execution_count": 19,
   "id": "00638086-8c9c-4211-aca1-2aca9421839f",
   "metadata": {},
   "outputs": [
    {
     "name": "stdout",
     "output_type": "stream",
     "text": [
      "Open an account with the help of name and email id\n"
     ]
    },
    {
     "data": {
      "text/plain": [
       "'Amit Raj raj@gmail.com'"
      ]
     },
     "execution_count": 19,
     "metadata": {},
     "output_type": "execute_result"
    }
   ],
   "source": [
    "Aashu.openaccount(\"Amit Raj \", \"raj@gmail.com\")"
   ]
  },
  {
   "cell_type": "code",
   "execution_count": 21,
   "id": "3b7f8563-fb95-4e38-9e51-fa8d113b734a",
   "metadata": {},
   "outputs": [
    {
     "data": {
      "text/plain": [
       "7"
      ]
     },
     "execution_count": 21,
     "metadata": {},
     "output_type": "execute_result"
    }
   ],
   "source": [
    "l = [4,54,6,7,8]\n",
    "l[3]"
   ]
  },
  {
   "cell_type": "code",
   "execution_count": 27,
   "id": "951d7cc0-0655-432b-9f5a-e486d1aa3962",
   "metadata": {},
   "outputs": [],
   "source": [
    "class list_ops:\n",
    "    #self work as reference, not necessary to write only self, caan put any name\n",
    "    def extractfromindex(self, l, index):\n",
    "        return l[index]\n",
    "    \n",
    "    def extractrangedata(self, l, start, end):\n",
    "        return l[start:end]\n",
    "    \n",
    "    def extracteven(self,l):\n",
    "        l1=[]\n",
    "        for i in l:\n",
    "            if i%2==0:\n",
    "                l1.append(i)\n",
    "        return l1"
   ]
  },
  {
   "cell_type": "code",
   "execution_count": 28,
   "id": "27c437d7-6232-4a6e-879f-8b5f97632359",
   "metadata": {},
   "outputs": [
    {
     "data": {
      "text/plain": [
       "6"
      ]
     },
     "execution_count": 28,
     "metadata": {},
     "output_type": "execute_result"
    }
   ],
   "source": [
    "first_obj = list_ops()\n",
    "first_obj.extractfromindex([2,3,4,5,6,7,8], 4)"
   ]
  },
  {
   "cell_type": "code",
   "execution_count": 29,
   "id": "c9bcb686-df80-46ff-a358-2ff6e412e939",
   "metadata": {},
   "outputs": [
    {
     "data": {
      "text/plain": [
       "[2, 3, 4, 5]"
      ]
     },
     "execution_count": 29,
     "metadata": {},
     "output_type": "execute_result"
    }
   ],
   "source": [
    "first_obj.extractrangedata([2,3,4,5,6,7,8], 0, 4)"
   ]
  },
  {
   "cell_type": "code",
   "execution_count": 30,
   "id": "961c1747-f90f-49f4-8257-1e23fd01fc8e",
   "metadata": {},
   "outputs": [
    {
     "data": {
      "text/plain": [
       "[2, 4, 6, 8]"
      ]
     },
     "execution_count": 30,
     "metadata": {},
     "output_type": "execute_result"
    }
   ],
   "source": [
    "first_obj.extracteven([2,3,4,5,6,7,8])"
   ]
  },
  {
   "cell_type": "code",
   "execution_count": 34,
   "id": "171b57ca-150b-436b-a833-d663d7e2db5f",
   "metadata": {},
   "outputs": [],
   "source": [
    "class list_ops:\n",
    "    #self work as reference, not necessary to write only self, caan put any name\n",
    "    \n",
    "    a=10\n",
    "    l = [1,2,3,4,5,6,7,8,9]\n",
    "    def extractfromindex(self, l, index):\n",
    "        return l[index]\n",
    "    \n",
    "    def extractrangedata(self, l, start, end):\n",
    "        return l[start:end]\n",
    "    \n",
    "    def extracteven(self,l):\n",
    "        l1=[]\n",
    "        for i in l:\n",
    "            if i%2==0:\n",
    "                l1.append(i)\n",
    "        return l1"
   ]
  },
  {
   "cell_type": "code",
   "execution_count": 34,
   "id": "64555503-195e-46ad-bd1f-83d3a0979381",
   "metadata": {},
   "outputs": [],
   "source": [
    "class list_ops:\n",
    "    #self work as reference, not necessary to write only self, caan put any name\n",
    "    \n",
    "    a=10\n",
    "    l = [1,2,3,4,5,6,7,8,9]\n",
    "    def extractfromindex(self, l, index):\n",
    "        return l[index]\n",
    "    \n",
    "    def extractrangedata(self, l, start, end):\n",
    "        return l[start:end]\n",
    "    \n",
    "    def extracteven(self,l):\n",
    "        l1=[]\n",
    "        for i in l:\n",
    "            if i%2==0:\n",
    "                l1.append(i)\n",
    "        return l1"
   ]
  },
  {
   "cell_type": "code",
   "execution_count": 35,
   "id": "31239a0f-00b5-4040-8f84-b9d4a4ea17d2",
   "metadata": {},
   "outputs": [],
   "source": [
    "second_obj = list_ops()"
   ]
  },
  {
   "cell_type": "code",
   "execution_count": 36,
   "id": "48142908-403f-420f-8bd1-94412e2a743d",
   "metadata": {},
   "outputs": [
    {
     "data": {
      "text/plain": [
       "10"
      ]
     },
     "execution_count": 36,
     "metadata": {},
     "output_type": "execute_result"
    }
   ],
   "source": [
    "second_obj.a"
   ]
  },
  {
   "cell_type": "code",
   "execution_count": 37,
   "id": "ee3cac6c-edfe-4b95-b3e4-a68e6f5d47bf",
   "metadata": {},
   "outputs": [
    {
     "data": {
      "text/plain": [
       "[1, 2, 3, 4, 5, 6, 7, 8, 9]"
      ]
     },
     "execution_count": 37,
     "metadata": {},
     "output_type": "execute_result"
    }
   ],
   "source": [
    "second_obj.l"
   ]
  },
  {
   "cell_type": "code",
   "execution_count": 38,
   "id": "0dcb42ad-2487-478f-a32a-3d9090150984",
   "metadata": {},
   "outputs": [
    {
     "data": {
      "text/plain": [
       "[1, 2, 3, 4, 5]"
      ]
     },
     "execution_count": 38,
     "metadata": {},
     "output_type": "execute_result"
    }
   ],
   "source": [
    "second_obj.extractrangedata(second_obj.l,0,5)"
   ]
  },
  {
   "cell_type": "code",
   "execution_count": 45,
   "id": "71da83a2-3e44-4d7c-8582-f18b049aaf65",
   "metadata": {},
   "outputs": [],
   "source": [
    "class list_ops:\n",
    "    #self work as reference, not necessary to write only self, caan put any name\n",
    "    \n",
    "    #a=10\n",
    "    #l = [1,2,3,4,5,6,7,8,9]\n",
    "    \n",
    "    #init means initialise, used to provide data for variable\n",
    "    \n",
    "    def __init__(Amit, l):\n",
    "        Amit.l = l #this l come from below assign element while calling objects\n",
    "    \n",
    "    def extractfromindex(self, l, index):\n",
    "        return l[index]\n",
    "    \n",
    "    def extractrangedata(self, l, start, end):\n",
    "        return l[start:end]\n",
    "    \n",
    "    def extracteven(self,l):\n",
    "        l1=[]\n",
    "        for i in l:\n",
    "            if i%2==0:\n",
    "                l1.append(i)\n",
    "        return l1"
   ]
  },
  {
   "cell_type": "code",
   "execution_count": 46,
   "id": "cd7fb1de-7668-4d45-853d-d6a1ffc8faf5",
   "metadata": {},
   "outputs": [],
   "source": [
    "third_obj = list_ops([2,3,4,5,6,7,8])"
   ]
  },
  {
   "cell_type": "code",
   "execution_count": 47,
   "id": "30c2ff73-4626-4a12-9c14-a854ba307f69",
   "metadata": {},
   "outputs": [
    {
     "data": {
      "text/plain": [
       "[2, 3, 4, 5, 6, 7, 8]"
      ]
     },
     "execution_count": 47,
     "metadata": {},
     "output_type": "execute_result"
    }
   ],
   "source": [
    "third_obj.l"
   ]
  },
  {
   "cell_type": "code",
   "execution_count": 57,
   "id": "857709c8-9528-4a9b-9050-4fc3f2546e7a",
   "metadata": {},
   "outputs": [],
   "source": [
    "class list_ops:\n",
    "    #self work as reference, not necessary to write only self, caan put any name\n",
    "    \n",
    "    #a=10\n",
    "    #l = [1,2,3,4,5,6,7,8,9]\n",
    "    \n",
    "    #init means initialise, used to provide data for variable\n",
    "    #below called as constructor nd Amit.l1 bind with class name\n",
    "    #init is a constructor method\n",
    "    def __init__(Amit, l):\n",
    "        Amit.l1 = l #this l come from below assign element while calling objects\n",
    "        Amit.l2 = 40\n",
    "        Amit.l3 = \"Aashu\"\n",
    "        Amit.l4 = (2,3,4,5,6,7,8,8,9)\n",
    "        Amit.l5 = {\"key\":\"value\"}\n",
    "        \n",
    "    def extractfromindex(self, l, index):\n",
    "        return l[index]\n",
    "    \n",
    "    def extractrangedata(self, l, start, end):\n",
    "        return l[start:end]\n",
    "    \n",
    "    def extracteven(self,l):\n",
    "        l1=[]\n",
    "        for i in l:\n",
    "            if i%2==0:\n",
    "                l1.append(i)\n",
    "        return l1"
   ]
  },
  {
   "cell_type": "code",
   "execution_count": 58,
   "id": "db7744e8-12ae-47d3-9e2a-09318ce02b51",
   "metadata": {},
   "outputs": [],
   "source": [
    "forth_obj = list_ops([2,3,4,5,6,7,8])"
   ]
  },
  {
   "cell_type": "code",
   "execution_count": 59,
   "id": "bea6a84d-7a9f-45cd-b000-5e4f106f38cb",
   "metadata": {},
   "outputs": [
    {
     "ename": "AttributeError",
     "evalue": "'list_ops' object has no attribute 'l'",
     "output_type": "error",
     "traceback": [
      "\u001b[0;31m---------------------------------------------------------------------------\u001b[0m",
      "\u001b[0;31mAttributeError\u001b[0m                            Traceback (most recent call last)",
      "Cell \u001b[0;32mIn[59], line 1\u001b[0m\n\u001b[0;32m----> 1\u001b[0m \u001b[43mforth_obj\u001b[49m\u001b[38;5;241;43m.\u001b[39;49m\u001b[43ml\u001b[49m\n",
      "\u001b[0;31mAttributeError\u001b[0m: 'list_ops' object has no attribute 'l'"
     ]
    }
   ],
   "source": [
    "forth_obj.l"
   ]
  },
  {
   "cell_type": "code",
   "execution_count": 60,
   "id": "45594977-a136-4a49-91fe-1ca8fe47e971",
   "metadata": {},
   "outputs": [
    {
     "data": {
      "text/plain": [
       "[2, 3, 4, 5, 6, 7, 8]"
      ]
     },
     "execution_count": 60,
     "metadata": {},
     "output_type": "execute_result"
    }
   ],
   "source": [
    "forth_obj.l1"
   ]
  },
  {
   "cell_type": "code",
   "execution_count": 61,
   "id": "613251e2-2b37-479f-84e5-43563bc3954f",
   "metadata": {},
   "outputs": [
    {
     "data": {
      "text/plain": [
       "40"
      ]
     },
     "execution_count": 61,
     "metadata": {},
     "output_type": "execute_result"
    }
   ],
   "source": [
    "forth_obj.l2"
   ]
  },
  {
   "cell_type": "code",
   "execution_count": 62,
   "id": "24381a38-ed37-4cf7-a588-2f91bcbf3608",
   "metadata": {},
   "outputs": [
    {
     "data": {
      "text/plain": [
       "{'key': 'value'}"
      ]
     },
     "execution_count": 62,
     "metadata": {},
     "output_type": "execute_result"
    }
   ],
   "source": [
    "forth_obj.l5"
   ]
  },
  {
   "cell_type": "code",
   "execution_count": 63,
   "id": "93763459-3f8d-4dab-8d2d-4791f5985246",
   "metadata": {},
   "outputs": [
    {
     "data": {
      "text/plain": [
       "'Aashu'"
      ]
     },
     "execution_count": 63,
     "metadata": {},
     "output_type": "execute_result"
    }
   ],
   "source": [
    "forth_obj.l3"
   ]
  },
  {
   "cell_type": "code",
   "execution_count": 64,
   "id": "a7eb308e-a69b-4c1c-9ef5-984c0be092c6",
   "metadata": {},
   "outputs": [
    {
     "data": {
      "text/plain": [
       "(2, 3, 4, 5, 6, 7, 8, 8, 9)"
      ]
     },
     "execution_count": 64,
     "metadata": {},
     "output_type": "execute_result"
    }
   ],
   "source": [
    "forth_obj.l4"
   ]
  },
  {
   "cell_type": "code",
   "execution_count": 76,
   "id": "05d1f96c-83d7-4cea-9bb7-6571dcffccc7",
   "metadata": {},
   "outputs": [],
   "source": [
    "class book:\n",
    "    \n",
    "    #class know only left side wala pointer object i.e self.name_of_book \n",
    "    def __init__(self,name, title, pageno):\n",
    "        self.name_of_book = name\n",
    "        self.title_of_book = title\n",
    "        self.page_no = pageno\n",
    "        \n",
    "    def extract_details(self):\n",
    "        print(self.name_of_book, self.title_of_book)\n",
    "        \n",
    "    \n",
    "    def print_page_no(self):\n",
    "        print(self.page_no)\n",
    "        \n",
    "    "
   ]
  },
  {
   "cell_type": "code",
   "execution_count": 77,
   "id": "312507f9-ae23-4716-8c26-8f8042778869",
   "metadata": {},
   "outputs": [],
   "source": [
    "Aashu = book(\"DSA\", \"Practical DSA\", 456)\n",
    "Anshu = book(\"Data Science\", \"Implementation\", 258)\n",
    "Sonu = book(\"Big data\", \" practice\", 2581)"
   ]
  },
  {
   "cell_type": "code",
   "execution_count": 78,
   "id": "0ebfb78b-3be1-4911-825a-d9164efa8746",
   "metadata": {},
   "outputs": [
    {
     "name": "stdout",
     "output_type": "stream",
     "text": [
      "DSA Practical DSA\n"
     ]
    }
   ],
   "source": [
    "Aashu.extract_details()"
   ]
  },
  {
   "cell_type": "code",
   "execution_count": 79,
   "id": "e46e1c10-fda4-4c1e-a256-50f743f6c599",
   "metadata": {},
   "outputs": [
    {
     "data": {
      "text/plain": [
       "'Data Science'"
      ]
     },
     "execution_count": 79,
     "metadata": {},
     "output_type": "execute_result"
    }
   ],
   "source": [
    "Anshu.name_of_book"
   ]
  },
  {
   "cell_type": "code",
   "execution_count": 80,
   "id": "a00a1747-533e-4c0b-b0b1-887bf4620e6d",
   "metadata": {},
   "outputs": [
    {
     "data": {
      "text/plain": [
       "258"
      ]
     },
     "execution_count": 80,
     "metadata": {},
     "output_type": "execute_result"
    }
   ],
   "source": [
    "Anshu.page_no"
   ]
  },
  {
   "cell_type": "code",
   "execution_count": 81,
   "id": "e7f58d79-4a84-4854-9240-d08b49473bc6",
   "metadata": {},
   "outputs": [
    {
     "name": "stdout",
     "output_type": "stream",
     "text": [
      "258\n"
     ]
    }
   ],
   "source": [
    "Anshu.print_page_no()"
   ]
  },
  {
   "cell_type": "code",
   "execution_count": 82,
   "id": "6e2e592c-1883-46ba-96f5-c57cb5fcae9f",
   "metadata": {},
   "outputs": [],
   "source": [
    "class book:\n",
    "    \n",
    "    #class know only left side wala pointer object i.e self.name_of_book \n",
    "    def __init__(self):\n",
    "        self.name_of_book = \"SQL\"\n",
    "        self.title_of_book = \"DATU\"\n",
    "        self.page_no = 5665\n",
    "        \n",
    "    def extract_details(self):\n",
    "        print(self.name_of_book, self.title_of_book)\n",
    "        \n",
    "    \n",
    "    def print_page_no(self):\n",
    "        print(self.page_no)\n",
    "        "
   ]
  },
  {
   "cell_type": "code",
   "execution_count": 83,
   "id": "ad21e0ff-bf59-4455-911b-ae798763763d",
   "metadata": {},
   "outputs": [],
   "source": [
    "st = book()"
   ]
  },
  {
   "cell_type": "code",
   "execution_count": 85,
   "id": "8d42d588-4c26-43a4-9ddf-6bd7748aeea0",
   "metadata": {},
   "outputs": [
    {
     "data": {
      "text/plain": [
       "'SQL'"
      ]
     },
     "execution_count": 85,
     "metadata": {},
     "output_type": "execute_result"
    }
   ],
   "source": [
    "st.name_of_book"
   ]
  },
  {
   "cell_type": "code",
   "execution_count": 86,
   "id": "51210fc3-512d-4a81-a3ef-84c3b72e38e4",
   "metadata": {},
   "outputs": [
    {
     "data": {
      "text/plain": [
       "5665"
      ]
     },
     "execution_count": 86,
     "metadata": {},
     "output_type": "execute_result"
    }
   ],
   "source": [
    "st.page_no"
   ]
  },
  {
   "cell_type": "code",
   "execution_count": 87,
   "id": "1d985ea2-3043-4e54-a43e-09e9b3aed2f6",
   "metadata": {},
   "outputs": [
    {
     "data": {
      "text/plain": [
       "'DATU'"
      ]
     },
     "execution_count": 87,
     "metadata": {},
     "output_type": "execute_result"
    }
   ],
   "source": [
    "st.title_of_book"
   ]
  },
  {
   "cell_type": "code",
   "execution_count": 89,
   "id": "840dcbab-bbf3-41c3-821d-2477333a74e4",
   "metadata": {},
   "outputs": [
    {
     "name": "stdout",
     "output_type": "stream",
     "text": [
      "SQL DATU\n"
     ]
    }
   ],
   "source": [
    "st.extract_details()"
   ]
  },
  {
   "cell_type": "code",
   "execution_count": 100,
   "id": "5691a727-0f68-4658-9a87-cf3643007706",
   "metadata": {},
   "outputs": [],
   "source": [
    "class gmail_ops:\n",
    "    #constructor and userd to pass the data\n",
    "    #class always understand left side variable and right side wala is assignment of the data\n",
    "    def __init__(self, user_id, password):\n",
    "        self.user_id = user_id\n",
    "        self.password = password\n",
    "        self.url = \"gmail.com\"\n",
    "        \n",
    "    def login(self):\n",
    "        print(\"Take user_id\" + self.user_id + \"Take Paaword\" + self.password + \"hit url\" + self.url)\n",
    "        print(\"Loggin\")\n",
    "        \n",
    "    def read_mail(self):\n",
    "        print(\"Read mail for\" + self.user_id + \"  \" + self.password)\n",
    "    \n",
    "    def reply_mail(self):\n",
    "        print(\"reply  mail for\" + self.user_id + \"  \" + self.password)"
   ]
  },
  {
   "cell_type": "code",
   "execution_count": 101,
   "id": "422fc38c-6fda-42b4-9a7f-36f0fd36ec6f",
   "metadata": {},
   "outputs": [
    {
     "name": "stdout",
     "output_type": "stream",
     "text": [
      "Take user_iduser1Take Paaworduser1passhit urlgmail.com\n",
      "Loggin\n"
     ]
    }
   ],
   "source": [
    "user1 = gmail_ops(\"user1\", \"user1pass\")\n",
    "user1.login()"
   ]
  },
  {
   "cell_type": "code",
   "execution_count": 102,
   "id": "21dcb241-c2f7-43ae-922e-5ea3c628c2ff",
   "metadata": {},
   "outputs": [
    {
     "name": "stdout",
     "output_type": "stream",
     "text": [
      "Take user_iduser1Take Paaworduser1passhit urlgmail.com\n",
      "Loggin\n"
     ]
    }
   ],
   "source": [
    "user2 = gmail_ops(\"user1\", \"user1pass\")\n",
    "user2.login()"
   ]
  },
  {
   "cell_type": "code",
   "execution_count": 107,
   "id": "43744f78-7c6b-4cff-846e-f62832765c57",
   "metadata": {},
   "outputs": [],
   "source": [
    "from functools import reduce\n",
    "class calculator:\n",
    "    \n",
    "    #*args used to take multiple arguments/value\n",
    "    def add(self, *args):\n",
    "        return sum(args)\n",
    "    \n",
    "    def subtraction(self, *args):\n",
    "        return reduce(lambda a,b : a-b, args)\n",
    "    \n",
    "    def mul(self, *args):\n",
    "        return reduce(lambda a,b : a*b, args)\n",
    "        \n",
    "    \n",
    "    def div(self, *args):\n",
    "        return reduce(lambda a,b : a/b, args)\n",
    "        "
   ]
  },
  {
   "cell_type": "code",
   "execution_count": 108,
   "id": "b1123d51-cf92-4b6f-bc04-134f95ed699e",
   "metadata": {},
   "outputs": [],
   "source": [
    "anshu = calculator()"
   ]
  },
  {
   "cell_type": "code",
   "execution_count": 109,
   "id": "47d03208-b456-4e5d-bb3e-6f826470f29d",
   "metadata": {},
   "outputs": [
    {
     "data": {
      "text/plain": [
       "13"
      ]
     },
     "execution_count": 109,
     "metadata": {},
     "output_type": "execute_result"
    }
   ],
   "source": [
    "anshu.add(5,8)"
   ]
  },
  {
   "cell_type": "code",
   "execution_count": 110,
   "id": "7d1d69b3-4381-499c-82c0-eb13c1032391",
   "metadata": {},
   "outputs": [
    {
     "data": {
      "text/plain": [
       "10"
      ]
     },
     "execution_count": 110,
     "metadata": {},
     "output_type": "execute_result"
    }
   ],
   "source": [
    "anshu.mul(5,2)"
   ]
  },
  {
   "cell_type": "code",
   "execution_count": 111,
   "id": "c381b7d5-1b65-4d00-8769-deee1a4d6af5",
   "metadata": {},
   "outputs": [
    {
     "data": {
      "text/plain": [
       "7.0"
      ]
     },
     "execution_count": 111,
     "metadata": {},
     "output_type": "execute_result"
    }
   ],
   "source": [
    "anshu.div(42,6)"
   ]
  },
  {
   "cell_type": "code",
   "execution_count": 112,
   "id": "fcfdd06d-b648-4533-9c0f-e7f05f9a6626",
   "metadata": {},
   "outputs": [],
   "source": [
    "Ashu = calculator()"
   ]
  },
  {
   "cell_type": "code",
   "execution_count": 113,
   "id": "4552c7eb-bfa9-4240-b246-a61f76b8f02b",
   "metadata": {},
   "outputs": [
    {
     "data": {
      "text/plain": [
       "32"
      ]
     },
     "execution_count": 113,
     "metadata": {},
     "output_type": "execute_result"
    }
   ],
   "source": [
    "Ashu.add(5,8,9,6,3,1)"
   ]
  },
  {
   "cell_type": "code",
   "execution_count": 114,
   "id": "73272619-c5cf-43fa-96b7-2b9228deffb9",
   "metadata": {},
   "outputs": [],
   "source": [
    "from functools import reduce\n",
    "class calculator:\n",
    "    \n",
    "    def __init__(self, username):\n",
    "        self.username = username\n",
    "        \n",
    "    \n",
    "    #*args used to take multiple arguments/value\n",
    "    def add(self, *args):\n",
    "        return self.username,  sum(args)\n",
    "    \n",
    "    def subtraction(self, *args):\n",
    "        return self.username, reduce(lambda a,b : a-b, args)\n",
    "    \n",
    "    def mul(self, *args):\n",
    "        return self.username, reduce(lambda a,b : a*b, args)\n",
    "        \n",
    "    \n",
    "    def div(self, *args):\n",
    "        return self.username, reduce(lambda a,b : a/b, args)\n",
    "        "
   ]
  },
  {
   "cell_type": "code",
   "execution_count": 116,
   "id": "d53a42d7-7948-413f-be27-83773419cf1a",
   "metadata": {},
   "outputs": [],
   "source": [
    "Ashu = calculator(\"Aaaaashu\")"
   ]
  },
  {
   "cell_type": "code",
   "execution_count": 117,
   "id": "e774632c-8c1f-4fe9-9b3d-63d00e21295e",
   "metadata": {},
   "outputs": [
    {
     "data": {
      "text/plain": [
       "('Aaaaashu', 38)"
      ]
     },
     "execution_count": 117,
     "metadata": {},
     "output_type": "execute_result"
    }
   ],
   "source": [
    "Ashu.add(5,8,9,6,3,2,1,4)"
   ]
  },
  {
   "cell_type": "code",
   "execution_count": null,
   "id": "8b70b924-fd31-41ea-86a0-3047702e310e",
   "metadata": {},
   "outputs": [],
   "source": [
    "##output with name"
   ]
  }
 ],
 "metadata": {
  "kernelspec": {
   "display_name": "Python 3 (ipykernel)",
   "language": "python",
   "name": "python3"
  },
  "language_info": {
   "codemirror_mode": {
    "name": "ipython",
    "version": 3
   },
   "file_extension": ".py",
   "mimetype": "text/x-python",
   "name": "python",
   "nbconvert_exporter": "python",
   "pygments_lexer": "ipython3",
   "version": "3.10.8"
  }
 },
 "nbformat": 4,
 "nbformat_minor": 5
}
