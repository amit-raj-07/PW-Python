{
 "cells": [
  {
   "cell_type": "code",
   "execution_count": 82,
   "id": "f3c749a6-a11a-4769-bf29-4ecc839b1dbd",
   "metadata": {},
   "outputs": [
    {
     "data": {
      "text/plain": [
       "'type()\\nprint()\\nlen()\\nrange()'"
      ]
     },
     "execution_count": 82,
     "metadata": {},
     "output_type": "execute_result"
    }
   ],
   "source": [
    "'''type()\n",
    "print()\n",
    "len()\n",
    "range()'''"
   ]
  },
  {
   "cell_type": "code",
   "execution_count": 83,
   "id": "20cace92-473c-4446-9eac-f95204b64084",
   "metadata": {},
   "outputs": [],
   "source": [
    "def test():\n",
    "    print(\"First fun\")"
   ]
  },
  {
   "cell_type": "code",
   "execution_count": 84,
   "id": "e608dff2-a129-4035-a671-0bc3922d10ff",
   "metadata": {},
   "outputs": [
    {
     "name": "stdout",
     "output_type": "stream",
     "text": [
      "First fun\n"
     ]
    }
   ],
   "source": [
    "test()"
   ]
  },
  {
   "cell_type": "code",
   "execution_count": 1,
   "id": "633f5b24-efe9-45b2-a684-eae81a87d42e",
   "metadata": {},
   "outputs": [],
   "source": [
    "def test1():\n",
    "    print(\"test\")"
   ]
  },
  {
   "cell_type": "code",
   "execution_count": 2,
   "id": "90ca9e4a-d30f-448c-9479-c6ce5e264b8c",
   "metadata": {},
   "outputs": [
    {
     "name": "stdout",
     "output_type": "stream",
     "text": [
      "test\n"
     ]
    }
   ],
   "source": [
    "test1()"
   ]
  },
  {
   "cell_type": "code",
   "execution_count": 3,
   "id": "e2fcd6fd-86f3-4c5b-a2b4-f0f02aeca6c8",
   "metadata": {},
   "outputs": [
    {
     "name": "stdout",
     "output_type": "stream",
     "text": [
      "test\n"
     ]
    },
    {
     "ename": "TypeError",
     "evalue": "unsupported operand type(s) for +: 'NoneType' and 'str'",
     "output_type": "error",
     "traceback": [
      "\u001b[0;31m---------------------------------------------------------------------------\u001b[0m",
      "\u001b[0;31mTypeError\u001b[0m                                 Traceback (most recent call last)",
      "Cell \u001b[0;32mIn[3], line 1\u001b[0m\n\u001b[0;32m----> 1\u001b[0m \u001b[43mtest1\u001b[49m\u001b[43m(\u001b[49m\u001b[43m)\u001b[49m\u001b[43m \u001b[49m\u001b[38;5;241;43m+\u001b[39;49m\u001b[43m \u001b[49m\u001b[38;5;124;43m\"\u001b[39;49m\u001b[38;5;124;43mAmit\u001b[39;49m\u001b[38;5;124;43m\"\u001b[39;49m\n",
      "\u001b[0;31mTypeError\u001b[0m: unsupported operand type(s) for +: 'NoneType' and 'str'"
     ]
    }
   ],
   "source": [
    "test1() + \"Amit\""
   ]
  },
  {
   "cell_type": "code",
   "execution_count": 4,
   "id": "e630226d-b226-4324-95b6-c0bd126fcf6c",
   "metadata": {},
   "outputs": [
    {
     "name": "stdout",
     "output_type": "stream",
     "text": [
      "test\n"
     ]
    },
    {
     "data": {
      "text/plain": [
       "NoneType"
      ]
     },
     "execution_count": 4,
     "metadata": {},
     "output_type": "execute_result"
    }
   ],
   "source": [
    "type(test1())  #due to non type we can't add or append antything in this"
   ]
  },
  {
   "cell_type": "code",
   "execution_count": 23,
   "id": "ebc05994-765b-4a54-9ebb-acb06e3064c4",
   "metadata": {},
   "outputs": [],
   "source": [
    "def test2():\n",
    "    print(1+3)  #give non type datatype"
   ]
  },
  {
   "cell_type": "code",
   "execution_count": 7,
   "id": "9cb2fd6b-4c14-4d5f-b6fe-8ec70671d6ca",
   "metadata": {},
   "outputs": [
    {
     "name": "stdout",
     "output_type": "stream",
     "text": [
      "4\n"
     ]
    }
   ],
   "source": [
    "test2()"
   ]
  },
  {
   "cell_type": "code",
   "execution_count": 8,
   "id": "cafa8996-248a-47c4-a392-ace802753a61",
   "metadata": {},
   "outputs": [
    {
     "name": "stdout",
     "output_type": "stream",
     "text": [
      "4\n"
     ]
    },
    {
     "ename": "TypeError",
     "evalue": "unsupported operand type(s) for +: 'NoneType' and 'int'",
     "output_type": "error",
     "traceback": [
      "\u001b[0;31m---------------------------------------------------------------------------\u001b[0m",
      "\u001b[0;31mTypeError\u001b[0m                                 Traceback (most recent call last)",
      "Cell \u001b[0;32mIn[8], line 1\u001b[0m\n\u001b[0;32m----> 1\u001b[0m \u001b[43mtest2\u001b[49m\u001b[43m(\u001b[49m\u001b[43m)\u001b[49m\u001b[38;5;241;43m+\u001b[39;49m\u001b[38;5;241;43m10\u001b[39;49m\n",
      "\u001b[0;31mTypeError\u001b[0m: unsupported operand type(s) for +: 'NoneType' and 'int'"
     ]
    }
   ],
   "source": [
    "test2()+10"
   ]
  },
  {
   "cell_type": "code",
   "execution_count": 24,
   "id": "c8438453-6459-49a9-bf15-913d0ddb59f6",
   "metadata": {},
   "outputs": [],
   "source": [
    "def test3():\n",
    "    return 3"
   ]
  },
  {
   "cell_type": "code",
   "execution_count": 25,
   "id": "061118a6-37cb-4c84-9376-4f48b4cb5c04",
   "metadata": {},
   "outputs": [
    {
     "data": {
      "text/plain": [
       "3"
      ]
     },
     "execution_count": 25,
     "metadata": {},
     "output_type": "execute_result"
    }
   ],
   "source": [
    "test3()"
   ]
  },
  {
   "cell_type": "code",
   "execution_count": 26,
   "id": "9630ab81-2e94-4c80-85d9-f63a9556b3ee",
   "metadata": {},
   "outputs": [
    {
     "data": {
      "text/plain": [
       "int"
      ]
     },
     "execution_count": 26,
     "metadata": {},
     "output_type": "execute_result"
    }
   ],
   "source": [
    "type(test3())"
   ]
  },
  {
   "cell_type": "code",
   "execution_count": 27,
   "id": "dc286e12-9712-427c-bc22-323c9e62bd89",
   "metadata": {},
   "outputs": [
    {
     "data": {
      "text/plain": [
       "13"
      ]
     },
     "execution_count": 27,
     "metadata": {},
     "output_type": "execute_result"
    }
   ],
   "source": [
    "test3()+10"
   ]
  },
  {
   "cell_type": "code",
   "execution_count": 28,
   "id": "a78478cd-4f26-4d28-8eb4-d0b11b8101db",
   "metadata": {},
   "outputs": [
    {
     "data": {
      "text/plain": [
       "int"
      ]
     },
     "execution_count": 28,
     "metadata": {},
     "output_type": "execute_result"
    }
   ],
   "source": [
    "type(test3())"
   ]
  },
  {
   "cell_type": "code",
   "execution_count": 12,
   "id": "b1cc3c33-bccf-49e9-a93c-03560d011fa8",
   "metadata": {},
   "outputs": [],
   "source": [
    "def test4():\n",
    "    return 2, \"Amit\", True, [1,2,3,4,5]"
   ]
  },
  {
   "cell_type": "code",
   "execution_count": 13,
   "id": "ea025897-b248-4c99-bee9-25db6a585950",
   "metadata": {},
   "outputs": [
    {
     "data": {
      "text/plain": [
       "(2, 'Amit', True, [1, 2, 3, 4, 5])"
      ]
     },
     "execution_count": 13,
     "metadata": {},
     "output_type": "execute_result"
    }
   ],
   "source": [
    "test4()"
   ]
  },
  {
   "cell_type": "code",
   "execution_count": 14,
   "id": "a90b261e-57ea-4bc1-a9aa-3fb168db49b4",
   "metadata": {},
   "outputs": [],
   "source": [
    "a,b,c,d = 1,\"Amit\", 32,45"
   ]
  },
  {
   "cell_type": "code",
   "execution_count": 15,
   "id": "6fee9a6c-397c-47f1-945e-22f0172e86ef",
   "metadata": {},
   "outputs": [
    {
     "data": {
      "text/plain": [
       "tuple"
      ]
     },
     "execution_count": 15,
     "metadata": {},
     "output_type": "execute_result"
    }
   ],
   "source": [
    "type(test4())"
   ]
  },
  {
   "cell_type": "code",
   "execution_count": 18,
   "id": "4f6e1657-a876-4b9b-a6a3-5befc76b4717",
   "metadata": {},
   "outputs": [],
   "source": [
    "m,n,o,p = test4()"
   ]
  },
  {
   "cell_type": "code",
   "execution_count": 19,
   "id": "4fe907b7-5272-4c70-8fe6-a63c091a9b4b",
   "metadata": {},
   "outputs": [
    {
     "data": {
      "text/plain": [
       "2"
      ]
     },
     "execution_count": 19,
     "metadata": {},
     "output_type": "execute_result"
    }
   ],
   "source": [
    "m"
   ]
  },
  {
   "cell_type": "code",
   "execution_count": 20,
   "id": "1c2fdb70-ce08-461c-9c18-45e921cfa916",
   "metadata": {},
   "outputs": [
    {
     "data": {
      "text/plain": [
       "'Amit'"
      ]
     },
     "execution_count": 20,
     "metadata": {},
     "output_type": "execute_result"
    }
   ],
   "source": [
    "n"
   ]
  },
  {
   "cell_type": "code",
   "execution_count": 21,
   "id": "88968e63-cc45-4ba1-ba28-5c0696d091ed",
   "metadata": {},
   "outputs": [
    {
     "data": {
      "text/plain": [
       "True"
      ]
     },
     "execution_count": 21,
     "metadata": {},
     "output_type": "execute_result"
    }
   ],
   "source": [
    "o"
   ]
  },
  {
   "cell_type": "code",
   "execution_count": 22,
   "id": "975d7d5f-7f4b-4d5f-b132-c6b5d3c1ea68",
   "metadata": {},
   "outputs": [
    {
     "data": {
      "text/plain": [
       "[1, 2, 3, 4, 5]"
      ]
     },
     "execution_count": 22,
     "metadata": {},
     "output_type": "execute_result"
    }
   ],
   "source": [
    "p"
   ]
  },
  {
   "cell_type": "code",
   "execution_count": 31,
   "id": "737d4f18-2359-4b2c-a1fe-acd981bd8f05",
   "metadata": {},
   "outputs": [],
   "source": [
    "def test5(x):  #placeholder or arguments\n",
    "    return x"
   ]
  },
  {
   "cell_type": "code",
   "execution_count": 32,
   "id": "e5a1d068-c862-4739-b7aa-f916979e5324",
   "metadata": {},
   "outputs": [
    {
     "data": {
      "text/plain": [
       "5"
      ]
     },
     "execution_count": 32,
     "metadata": {},
     "output_type": "execute_result"
    }
   ],
   "source": [
    "test5(5)"
   ]
  },
  {
   "cell_type": "code",
   "execution_count": 33,
   "id": "4a06475b-586f-4a0a-9968-8eaa49699167",
   "metadata": {},
   "outputs": [
    {
     "data": {
      "text/plain": [
       "'Amit'"
      ]
     },
     "execution_count": 33,
     "metadata": {},
     "output_type": "execute_result"
    }
   ],
   "source": [
    "test5(\"Amit\")"
   ]
  },
  {
   "cell_type": "code",
   "execution_count": 34,
   "id": "8d086a50-588f-4db7-a73f-f2186e9fa1e5",
   "metadata": {},
   "outputs": [
    {
     "data": {
      "text/plain": [
       "[34, 5, 6, 7, 8]"
      ]
     },
     "execution_count": 34,
     "metadata": {},
     "output_type": "execute_result"
    }
   ],
   "source": [
    "test5([34,5,6,7,8])"
   ]
  },
  {
   "cell_type": "code",
   "execution_count": 37,
   "id": "91afe705-fc88-430c-a554-46704c40fd04",
   "metadata": {},
   "outputs": [
    {
     "data": {
      "text/plain": [
       "str"
      ]
     },
     "execution_count": 37,
     "metadata": {},
     "output_type": "execute_result"
    }
   ],
   "source": [
    "type(test5(\"Amit\"))"
   ]
  },
  {
   "cell_type": "code",
   "execution_count": 38,
   "id": "646b8b96-2f68-400f-8558-a769a6f79228",
   "metadata": {},
   "outputs": [
    {
     "ename": "TypeError",
     "evalue": "test5() takes 1 positional argument but 2 were given",
     "output_type": "error",
     "traceback": [
      "\u001b[0;31m---------------------------------------------------------------------------\u001b[0m",
      "\u001b[0;31mTypeError\u001b[0m                                 Traceback (most recent call last)",
      "Cell \u001b[0;32mIn[38], line 1\u001b[0m\n\u001b[0;32m----> 1\u001b[0m \u001b[43mtest5\u001b[49m\u001b[43m(\u001b[49m\u001b[38;5;241;43m4\u001b[39;49m\u001b[43m,\u001b[49m\u001b[38;5;241;43m5\u001b[39;49m\u001b[43m)\u001b[49m\n",
      "\u001b[0;31mTypeError\u001b[0m: test5() takes 1 positional argument but 2 were given"
     ]
    }
   ],
   "source": [
    "test5(4,5)"
   ]
  },
  {
   "cell_type": "code",
   "execution_count": 39,
   "id": "eff372ea-22bf-47fb-b440-d9a5f2636eed",
   "metadata": {},
   "outputs": [],
   "source": [
    "def test6(x,y):\n",
    "    return x,y"
   ]
  },
  {
   "cell_type": "code",
   "execution_count": 40,
   "id": "fdea4cf1-4c48-4ef7-b38d-5175e0336c9d",
   "metadata": {},
   "outputs": [
    {
     "data": {
      "text/plain": [
       "('Amit', [1, 2, 3, 4, 5, 6])"
      ]
     },
     "execution_count": 40,
     "metadata": {},
     "output_type": "execute_result"
    }
   ],
   "source": [
    "test6(\"Amit\", [1,2,3,4,5,6])"
   ]
  },
  {
   "cell_type": "code",
   "execution_count": 42,
   "id": "65af042d-bde1-4238-81aa-c733400e3bd8",
   "metadata": {},
   "outputs": [
    {
     "data": {
      "text/plain": [
       "tuple"
      ]
     },
     "execution_count": 42,
     "metadata": {},
     "output_type": "execute_result"
    }
   ],
   "source": [
    "type(test6(45,6))"
   ]
  },
  {
   "cell_type": "code",
   "execution_count": 43,
   "id": "6f3e4b78-9553-4731-8d81-a55abcfa2d72",
   "metadata": {},
   "outputs": [
    {
     "data": {
      "text/plain": [
       "tuple"
      ]
     },
     "execution_count": 43,
     "metadata": {},
     "output_type": "execute_result"
    }
   ],
   "source": [
    "type(test6(\"Amit\",6))"
   ]
  },
  {
   "cell_type": "code",
   "execution_count": 44,
   "id": "2f88bce3-055b-4881-ab91-6e6ac4da2785",
   "metadata": {},
   "outputs": [],
   "source": [
    "def test7(a:int, b:int):\n",
    "    return a,b"
   ]
  },
  {
   "cell_type": "code",
   "execution_count": 45,
   "id": "4ebb2b8d-dc7b-46a6-b1ba-091768c632ad",
   "metadata": {},
   "outputs": [
    {
     "data": {
      "text/plain": [
       "(4, 5)"
      ]
     },
     "execution_count": 45,
     "metadata": {},
     "output_type": "execute_result"
    }
   ],
   "source": [
    "test7(4,5)"
   ]
  },
  {
   "cell_type": "code",
   "execution_count": 46,
   "id": "5e6f5d9e-d108-46f1-aa7e-be1d1be80791",
   "metadata": {},
   "outputs": [
    {
     "data": {
      "text/plain": [
       "('Amit', [1, 2, 3, 4])"
      ]
     },
     "execution_count": 46,
     "metadata": {},
     "output_type": "execute_result"
    }
   ],
   "source": [
    "test7(\"Amit\", [1,2,3,4])"
   ]
  },
  {
   "cell_type": "code",
   "execution_count": 47,
   "id": "9dae9bad-d8d0-4dfd-82a2-73ba2a341a9f",
   "metadata": {},
   "outputs": [],
   "source": [
    "#it understand by self data type"
   ]
  },
  {
   "cell_type": "code",
   "execution_count": 48,
   "id": "6cf0970b-3c0f-4f28-b515-f22fc482d544",
   "metadata": {},
   "outputs": [],
   "source": [
    "def test8(x:int, y:int):\n",
    "    return x/y"
   ]
  },
  {
   "cell_type": "code",
   "execution_count": 49,
   "id": "4909c4cf-2c16-4cc5-8df5-47435186edd3",
   "metadata": {},
   "outputs": [
    {
     "data": {
      "text/plain": [
       "2.0"
      ]
     },
     "execution_count": 49,
     "metadata": {},
     "output_type": "execute_result"
    }
   ],
   "source": [
    "test8(8,4)"
   ]
  },
  {
   "cell_type": "code",
   "execution_count": 51,
   "id": "6f49a3da-f76f-4c90-b1ea-4af637d83ecf",
   "metadata": {},
   "outputs": [
    {
     "ename": "TypeError",
     "evalue": "unsupported operand type(s) for /: 'str' and 'str'",
     "output_type": "error",
     "traceback": [
      "\u001b[0;31m---------------------------------------------------------------------------\u001b[0m",
      "\u001b[0;31mTypeError\u001b[0m                                 Traceback (most recent call last)",
      "Cell \u001b[0;32mIn[51], line 1\u001b[0m\n\u001b[0;32m----> 1\u001b[0m \u001b[43mtest8\u001b[49m\u001b[43m(\u001b[49m\u001b[38;5;124;43m\"\u001b[39;49m\u001b[38;5;124;43mAmit\u001b[39;49m\u001b[38;5;124;43m\"\u001b[39;49m\u001b[43m,\u001b[49m\u001b[38;5;124;43m\"\u001b[39;49m\u001b[38;5;124;43mRaj\u001b[39;49m\u001b[38;5;124;43m\"\u001b[39;49m\u001b[43m)\u001b[49m  \u001b[38;5;66;03m#should be int here to divide\u001b[39;00m\n",
      "Cell \u001b[0;32mIn[48], line 2\u001b[0m, in \u001b[0;36mtest8\u001b[0;34m(x, y)\u001b[0m\n\u001b[1;32m      1\u001b[0m \u001b[38;5;28;01mdef\u001b[39;00m \u001b[38;5;21mtest8\u001b[39m(x:\u001b[38;5;28mint\u001b[39m, y:\u001b[38;5;28mint\u001b[39m):\n\u001b[0;32m----> 2\u001b[0m     \u001b[38;5;28;01mreturn\u001b[39;00m \u001b[43mx\u001b[49m\u001b[38;5;241;43m/\u001b[39;49m\u001b[43my\u001b[49m\n",
      "\u001b[0;31mTypeError\u001b[0m: unsupported operand type(s) for /: 'str' and 'str'"
     ]
    }
   ],
   "source": [
    "test8(\"Amit\",\"Raj\")  #should be int here to divide"
   ]
  },
  {
   "cell_type": "code",
   "execution_count": 52,
   "id": "8c1a4ef6-678c-4beb-a83c-337edbf1e3aa",
   "metadata": {},
   "outputs": [],
   "source": [
    "def test9(c,d):\n",
    "    return c*d"
   ]
  },
  {
   "cell_type": "code",
   "execution_count": 53,
   "id": "ec9de45f-4d62-4a15-8fc0-7b7cb58eeb84",
   "metadata": {},
   "outputs": [
    {
     "data": {
      "text/plain": [
       "30"
      ]
     },
     "execution_count": 53,
     "metadata": {},
     "output_type": "execute_result"
    }
   ],
   "source": [
    "test9(5,6)"
   ]
  },
  {
   "cell_type": "code",
   "execution_count": 54,
   "id": "f58d79f4-bd7e-48f7-acca-9106a9801ceb",
   "metadata": {},
   "outputs": [],
   "source": [
    "def test9(c,d):\n",
    "    \"\"\" This is my function which can take two input and return a addition or catenation\"\"\"\n",
    "    return c+d"
   ]
  },
  {
   "cell_type": "code",
   "execution_count": 55,
   "id": "f3738e31-7fb8-4728-89e1-ed0f98003b91",
   "metadata": {},
   "outputs": [
    {
     "data": {
      "text/plain": [
       "11"
      ]
     },
     "execution_count": 55,
     "metadata": {},
     "output_type": "execute_result"
    }
   ],
   "source": [
    "test9(5,6)"
   ]
  },
  {
   "cell_type": "code",
   "execution_count": 56,
   "id": "63655bb6-2dbe-427b-9236-f0c62cf7eafc",
   "metadata": {},
   "outputs": [
    {
     "data": {
      "text/plain": [
       "int"
      ]
     },
     "execution_count": 56,
     "metadata": {},
     "output_type": "execute_result"
    }
   ],
   "source": [
    "type(test9(5,6))"
   ]
  },
  {
   "cell_type": "markdown",
   "id": "82c9e442-ab66-441f-978a-66308a06bbb7",
   "metadata": {},
   "source": [
    "#need more than defined variable/arguments then use *args/**kwargs"
   ]
  },
  {
   "cell_type": "code",
   "execution_count": 61,
   "id": "77996642-8db0-4019-9deb-3b394ce50f4d",
   "metadata": {},
   "outputs": [],
   "source": [
    "def test10(*args):\n",
    "    return args\n",
    "#we can pass any number arguments"
   ]
  },
  {
   "cell_type": "code",
   "execution_count": 62,
   "id": "dce32e1d-485a-42c8-8699-9abdcfb95ebd",
   "metadata": {},
   "outputs": [
    {
     "data": {
      "text/plain": [
       "()"
      ]
     },
     "execution_count": 62,
     "metadata": {},
     "output_type": "execute_result"
    }
   ],
   "source": [
    "test10()"
   ]
  },
  {
   "cell_type": "code",
   "execution_count": 63,
   "id": "3529b993-b98d-4698-a002-9d14691804e9",
   "metadata": {},
   "outputs": [
    {
     "data": {
      "text/plain": [
       "(2, 4, 5, 6, 7, 8)"
      ]
     },
     "execution_count": 63,
     "metadata": {},
     "output_type": "execute_result"
    }
   ],
   "source": [
    "test10(2,4,5,6,7,8)"
   ]
  },
  {
   "cell_type": "code",
   "execution_count": 64,
   "id": "874f7ba0-ae71-4173-9aab-8e9b44726000",
   "metadata": {},
   "outputs": [],
   "source": [
    "def test11(*amit):\n",
    "    return amit"
   ]
  },
  {
   "cell_type": "code",
   "execution_count": 65,
   "id": "a75e9021-06eb-4c4c-ae43-002c2485ebb4",
   "metadata": {},
   "outputs": [
    {
     "data": {
      "text/plain": [
       "('Raj', 2, 4, 5, 6, 7)"
      ]
     },
     "execution_count": 65,
     "metadata": {},
     "output_type": "execute_result"
    }
   ],
   "source": [
    "test11(\"Raj\",2,4,5,6,7)"
   ]
  },
  {
   "cell_type": "code",
   "execution_count": 67,
   "id": "a262c8c8-3491-45a9-bf1e-d0b14673c7e5",
   "metadata": {},
   "outputs": [
    {
     "data": {
      "text/plain": [
       "()"
      ]
     },
     "execution_count": 67,
     "metadata": {},
     "output_type": "execute_result"
    }
   ],
   "source": [
    "test11()"
   ]
  },
  {
   "cell_type": "code",
   "execution_count": 68,
   "id": "4de4fbbd-eb76-4781-aa1a-540982656bd7",
   "metadata": {},
   "outputs": [
    {
     "data": {
      "text/plain": [
       "tuple"
      ]
     },
     "execution_count": 68,
     "metadata": {},
     "output_type": "execute_result"
    }
   ],
   "source": [
    "type(test11())"
   ]
  },
  {
   "cell_type": "code",
   "execution_count": 69,
   "id": "bf1401e9-f5a8-4435-8bb0-0e521b7a7dc8",
   "metadata": {},
   "outputs": [],
   "source": [
    "def test12(**kwargs):\n",
    "    return kwargs"
   ]
  },
  {
   "cell_type": "code",
   "execution_count": 70,
   "id": "e2ce2a52-44e5-4bb8-b939-37020220b4de",
   "metadata": {},
   "outputs": [
    {
     "ename": "TypeError",
     "evalue": "test12() takes 0 positional arguments but 5 were given",
     "output_type": "error",
     "traceback": [
      "\u001b[0;31m---------------------------------------------------------------------------\u001b[0m",
      "\u001b[0;31mTypeError\u001b[0m                                 Traceback (most recent call last)",
      "Cell \u001b[0;32mIn[70], line 1\u001b[0m\n\u001b[0;32m----> 1\u001b[0m \u001b[43mtest12\u001b[49m\u001b[43m(\u001b[49m\u001b[38;5;241;43m4\u001b[39;49m\u001b[43m,\u001b[49m\u001b[38;5;241;43m5\u001b[39;49m\u001b[43m,\u001b[49m\u001b[38;5;241;43m67\u001b[39;49m\u001b[43m,\u001b[49m\u001b[38;5;241;43m8\u001b[39;49m\u001b[43m,\u001b[49m\u001b[38;5;241;43m7\u001b[39;49m\u001b[43m)\u001b[49m\n",
      "\u001b[0;31mTypeError\u001b[0m: test12() takes 0 positional arguments but 5 were given"
     ]
    }
   ],
   "source": [
    "test12(4,5,67,8,7)"
   ]
  },
  {
   "cell_type": "code",
   "execution_count": 71,
   "id": "124ad036-e4ea-4d8f-aba0-879b8f36f7a4",
   "metadata": {},
   "outputs": [],
   "source": [
    "#only pass arguments in key value pair"
   ]
  },
  {
   "cell_type": "code",
   "execution_count": 73,
   "id": "5f2cec02-0ba1-41ea-b26e-122dd6f442ce",
   "metadata": {},
   "outputs": [
    {
     "data": {
      "text/plain": [
       "{'a': 1, 'b': 2, 'c': 3}"
      ]
     },
     "execution_count": 73,
     "metadata": {},
     "output_type": "execute_result"
    }
   ],
   "source": [
    "test12(a=1, b=2, c=3)"
   ]
  },
  {
   "cell_type": "code",
   "execution_count": 74,
   "id": "a418a73c-905f-45ab-808f-8b7273b98ec8",
   "metadata": {},
   "outputs": [],
   "source": [
    "## **kwargs ---- use as a dictionary\n",
    "## *args ------- use to take as many arguments in it"
   ]
  },
  {
   "cell_type": "code",
   "execution_count": 75,
   "id": "0a82202b-a1a9-4233-83b2-c16f609bd8c5",
   "metadata": {},
   "outputs": [
    {
     "data": {
      "text/plain": [
       "{'n': {1: 1, 'Amit': 2, 32: 3, 45: 4}}"
      ]
     },
     "execution_count": 75,
     "metadata": {},
     "output_type": "execute_result"
    }
   ],
   "source": [
    "test12(n={a:1, b:2, c:3, d:4})"
   ]
  },
  {
   "cell_type": "code",
   "execution_count": 78,
   "id": "c9ab8515-de86-4408-a848-640dfb58ca71",
   "metadata": {},
   "outputs": [],
   "source": [
    "def test13(b, a=10,  c=20):\n",
    "    return a,b,c"
   ]
  },
  {
   "cell_type": "code",
   "execution_count": 79,
   "id": "1a26edf5-749f-41fe-96d6-cb8e1d03e974",
   "metadata": {},
   "outputs": [
    {
     "data": {
      "text/plain": [
       "(10, 43, 20)"
      ]
     },
     "execution_count": 79,
     "metadata": {},
     "output_type": "execute_result"
    }
   ],
   "source": [
    "test13(43)"
   ]
  },
  {
   "cell_type": "code",
   "execution_count": 80,
   "id": "a392c3b5-4530-4785-ae52-b395cd5c6d4c",
   "metadata": {},
   "outputs": [
    {
     "data": {
      "text/plain": [
       "(455, 34, 20)"
      ]
     },
     "execution_count": 80,
     "metadata": {},
     "output_type": "execute_result"
    }
   ],
   "source": [
    "test13(34,a=455)"
   ]
  },
  {
   "cell_type": "code",
   "execution_count": 86,
   "id": "919c6263-9ef7-4cb9-8ecb-5fdab34129b9",
   "metadata": {},
   "outputs": [],
   "source": [
    "#hhh"
   ]
  },
  {
   "cell_type": "code",
   "execution_count": 94,
   "id": "c1423714-4f6a-4afd-9ca0-e12d1ba63dce",
   "metadata": {},
   "outputs": [],
   "source": [
    "#Lambda function.------- function without name  --> anonymous function"
   ]
  },
  {
   "cell_type": "code",
   "execution_count": 89,
   "id": "fb794aab-f51c-4c69-9583-1aa5bd98542c",
   "metadata": {},
   "outputs": [],
   "source": [
    "v = test13(4,5,6)"
   ]
  },
  {
   "cell_type": "code",
   "execution_count": 90,
   "id": "dde37042-1477-4a94-8a01-18bfe1645b8c",
   "metadata": {},
   "outputs": [
    {
     "data": {
      "text/plain": [
       "(5, 4, 6)"
      ]
     },
     "execution_count": 90,
     "metadata": {},
     "output_type": "execute_result"
    }
   ],
   "source": [
    "v"
   ]
  },
  {
   "cell_type": "code",
   "execution_count": 91,
   "id": "bc509549-52cd-4d37-971d-18a03c924e47",
   "metadata": {},
   "outputs": [],
   "source": [
    "def test14(a,b):\n",
    "    return a+b"
   ]
  },
  {
   "cell_type": "code",
   "execution_count": 92,
   "id": "3eb4ef67-7700-4017-98fb-ea82931888b1",
   "metadata": {},
   "outputs": [
    {
     "data": {
      "text/plain": [
       "121"
      ]
     },
     "execution_count": 92,
     "metadata": {},
     "output_type": "execute_result"
    }
   ],
   "source": [
    "test14(45,76)"
   ]
  },
  {
   "cell_type": "code",
   "execution_count": 93,
   "id": "3f0d9327-f3f1-43cf-b569-ea329589ddb5",
   "metadata": {},
   "outputs": [],
   "source": [
    "m = lambda a,b : a+b"
   ]
  },
  {
   "cell_type": "code",
   "execution_count": 95,
   "id": "5e6f8b83-7eb4-4c7c-b7b8-125a6b6e165e",
   "metadata": {},
   "outputs": [
    {
     "data": {
      "text/plain": [
       "<function __main__.<lambda>(a, b)>"
      ]
     },
     "execution_count": 95,
     "metadata": {},
     "output_type": "execute_result"
    }
   ],
   "source": [
    "m"
   ]
  },
  {
   "cell_type": "code",
   "execution_count": 97,
   "id": "f061865e-9c5b-49cb-a097-2e65d561a5bd",
   "metadata": {},
   "outputs": [
    {
     "data": {
      "text/plain": [
       "<function __main__.test14(a, b)>"
      ]
     },
     "execution_count": 97,
     "metadata": {},
     "output_type": "execute_result"
    }
   ],
   "source": [
    "test14"
   ]
  },
  {
   "cell_type": "code",
   "execution_count": 98,
   "id": "b8af0d23-4ed6-45e5-a105-3f1345b5798f",
   "metadata": {},
   "outputs": [
    {
     "data": {
      "text/plain": [
       "110"
      ]
     },
     "execution_count": 98,
     "metadata": {},
     "output_type": "execute_result"
    }
   ],
   "source": [
    "m(34,76)"
   ]
  },
  {
   "cell_type": "code",
   "execution_count": 99,
   "id": "4873fe3d-3b21-4497-b832-2878db2a7239",
   "metadata": {},
   "outputs": [],
   "source": [
    "def check_even(n):\n",
    "    if n%2==0:\n",
    "        return \"Given number is even number\"\n",
    "    else:\n",
    "        return \"Given number is odd number\""
   ]
  },
  {
   "cell_type": "code",
   "execution_count": 100,
   "id": "01253a6c-8502-42a6-b7f8-7548add8ebb8",
   "metadata": {},
   "outputs": [
    {
     "data": {
      "text/plain": [
       "'Given number is even number'"
      ]
     },
     "execution_count": 100,
     "metadata": {},
     "output_type": "execute_result"
    }
   ],
   "source": [
    "check_even(4)"
   ]
  },
  {
   "cell_type": "code",
   "execution_count": 101,
   "id": "6572519a-dee3-4831-8d8f-ef5758579285",
   "metadata": {},
   "outputs": [
    {
     "data": {
      "text/plain": [
       "'Given number is odd number'"
      ]
     },
     "execution_count": 101,
     "metadata": {},
     "output_type": "execute_result"
    }
   ],
   "source": [
    "check_even(3)"
   ]
  },
  {
   "cell_type": "code",
   "execution_count": 102,
   "id": "f15d2ff7-3e64-4f2f-a946-19dc0a5c9a09",
   "metadata": {},
   "outputs": [],
   "source": [
    "b = lambda n : \"Given number is even number\" if n%2==0 else \"Given number is odd number\""
   ]
  },
  {
   "cell_type": "code",
   "execution_count": 103,
   "id": "c6cca0d2-f18c-45b5-a7c3-3f359e2d8585",
   "metadata": {},
   "outputs": [
    {
     "data": {
      "text/plain": [
       "'Given number is even number'"
      ]
     },
     "execution_count": 103,
     "metadata": {},
     "output_type": "execute_result"
    }
   ],
   "source": [
    "b(8)"
   ]
  },
  {
   "cell_type": "code",
   "execution_count": 104,
   "id": "6b60feff-d3f0-4ffc-b153-6b35a8e651a6",
   "metadata": {},
   "outputs": [
    {
     "data": {
      "text/plain": [
       "'Given number is odd number'"
      ]
     },
     "execution_count": 104,
     "metadata": {},
     "output_type": "execute_result"
    }
   ],
   "source": [
    "b(581)"
   ]
  },
  {
   "cell_type": "code",
   "execution_count": 105,
   "id": "b1bd2207-4a94-469e-bb4d-a892b71e6d16",
   "metadata": {},
   "outputs": [],
   "source": [
    "l = [3,4,5,6,7,8,9,4,3,6,1,2]"
   ]
  },
  {
   "cell_type": "code",
   "execution_count": 106,
   "id": "5df18adf-0e00-4e7f-ad25-d221ec69ef6c",
   "metadata": {},
   "outputs": [],
   "source": [
    "min_list = lambda li : min(li)"
   ]
  },
  {
   "cell_type": "code",
   "execution_count": 107,
   "id": "986dd979-966b-481b-8669-838b98df95d6",
   "metadata": {},
   "outputs": [
    {
     "data": {
      "text/plain": [
       "1"
      ]
     },
     "execution_count": 107,
     "metadata": {},
     "output_type": "execute_result"
    }
   ],
   "source": [
    "min_list(l)"
   ]
  },
  {
   "cell_type": "code",
   "execution_count": 110,
   "id": "cf31324c-fe74-4257-91d1-c752d07e86d7",
   "metadata": {},
   "outputs": [],
   "source": [
    "div = lambda a,b : a/b"
   ]
  },
  {
   "cell_type": "code",
   "execution_count": 111,
   "id": "cdea845c-3783-4ed5-8458-4073930c0fbf",
   "metadata": {},
   "outputs": [
    {
     "data": {
      "text/plain": [
       "0.5"
      ]
     },
     "execution_count": 111,
     "metadata": {},
     "output_type": "execute_result"
    }
   ],
   "source": [
    "div(3,6)"
   ]
  },
  {
   "cell_type": "code",
   "execution_count": 112,
   "id": "a2b75121-8101-44da-8b57-514ea9bf222d",
   "metadata": {},
   "outputs": [],
   "source": [
    "upper = lambda s : s.upper()"
   ]
  },
  {
   "cell_type": "code",
   "execution_count": 113,
   "id": "85f17791-872d-40a8-9c88-5831750ae68f",
   "metadata": {},
   "outputs": [
    {
     "data": {
      "text/plain": [
       "'AMIT RAJ'"
      ]
     },
     "execution_count": 113,
     "metadata": {},
     "output_type": "execute_result"
    }
   ],
   "source": [
    "upper(\"amit raj\")"
   ]
  },
  {
   "cell_type": "code",
   "execution_count": 118,
   "id": "e9fd6213-4ef3-465f-b32d-c926f5dc2bc1",
   "metadata": {},
   "outputs": [
    {
     "name": "stdout",
     "output_type": "stream",
     "text": [
      "32\n"
     ]
    }
   ],
   "source": [
    "l = [3,4,5,6,7,8,9,0,8,7,2,1]\n",
    "sum1=0\n",
    "for i in l:\n",
    "    if i%2!=0:\n",
    "        sum1 += i\n",
    "print(sum1)"
   ]
  },
  {
   "cell_type": "code",
   "execution_count": 121,
   "id": "52a01bd5-1fb6-464c-9710-17a594a409cb",
   "metadata": {},
   "outputs": [],
   "source": [
    "def sum_odd(b):\n",
    "    li=[]\n",
    "    for i in b:\n",
    "        if i%2!=0:\n",
    "            li.append(i)\n",
    "    return sum(li)"
   ]
  },
  {
   "cell_type": "code",
   "execution_count": 122,
   "id": "5c4bcf9b-0f8c-499e-aa70-52d62df36357",
   "metadata": {},
   "outputs": [
    {
     "data": {
      "text/plain": [
       "32"
      ]
     },
     "execution_count": 122,
     "metadata": {},
     "output_type": "execute_result"
    }
   ],
   "source": [
    "sum_odd(l)"
   ]
  },
  {
   "cell_type": "code",
   "execution_count": 126,
   "id": "90b95e85-c0bc-4c10-9166-5a41c947d933",
   "metadata": {},
   "outputs": [
    {
     "data": {
      "text/plain": [
       "32"
      ]
     },
     "execution_count": 126,
     "metadata": {},
     "output_type": "execute_result"
    }
   ],
   "source": [
    "sum([i for i in l if i%2!=0])"
   ]
  },
  {
   "cell_type": "code",
   "execution_count": 127,
   "id": "8af716da-18dd-42a0-a2b6-d5e41283a73e",
   "metadata": {},
   "outputs": [],
   "source": [
    "sum_of_lambda = lambda b : sum([i for i in l if i%2!=0])"
   ]
  },
  {
   "cell_type": "code",
   "execution_count": 128,
   "id": "ccd65e4f-d679-4434-a280-cfea440b64f7",
   "metadata": {},
   "outputs": [
    {
     "data": {
      "text/plain": [
       "32"
      ]
     },
     "execution_count": 128,
     "metadata": {},
     "output_type": "execute_result"
    }
   ],
   "source": [
    "sum_of_lambda(l)"
   ]
  },
  {
   "cell_type": "code",
   "execution_count": 143,
   "id": "5c721053-54f0-48d8-aa7b-ea34b3433238",
   "metadata": {},
   "outputs": [],
   "source": [
    "#factorial\n",
    "sum2=0\n",
    "def fact(n):\n",
    "    if n==0:\n",
    "        return 1\n",
    "    else:\n",
    "        return n*fact(n-1)\n",
    "    "
   ]
  },
  {
   "cell_type": "code",
   "execution_count": 144,
   "id": "77b89267-3829-49fd-bd27-5ce616396bf7",
   "metadata": {},
   "outputs": [
    {
     "data": {
      "text/plain": [
       "120"
      ]
     },
     "execution_count": 144,
     "metadata": {},
     "output_type": "execute_result"
    }
   ],
   "source": [
    "fact(5)"
   ]
  },
  {
   "cell_type": "code",
   "execution_count": 145,
   "id": "68a8dc9c-3bad-4a97-b5ec-746cd2c6b762",
   "metadata": {},
   "outputs": [
    {
     "data": {
      "text/plain": [
       "1"
      ]
     },
     "execution_count": 145,
     "metadata": {},
     "output_type": "execute_result"
    }
   ],
   "source": [
    "fact(1)\n"
   ]
  },
  {
   "cell_type": "code",
   "execution_count": 146,
   "id": "5770dbad-66a5-4a46-bccf-e1a2c8df9631",
   "metadata": {},
   "outputs": [],
   "source": [
    "def fact_num(n):\n",
    "    a=1\n",
    "    for i in range(1, n+1):\n",
    "        a = i * a\n",
    "    return a"
   ]
  },
  {
   "cell_type": "code",
   "execution_count": 147,
   "id": "0d6b4a77-957d-4834-83ad-60cbfff4b3c7",
   "metadata": {},
   "outputs": [
    {
     "data": {
      "text/plain": [
       "6"
      ]
     },
     "execution_count": 147,
     "metadata": {},
     "output_type": "execute_result"
    }
   ],
   "source": [
    "fact_num(3)"
   ]
  },
  {
   "cell_type": "code",
   "execution_count": 148,
   "id": "7776ce73-e458-4b4a-9312-a045f87f13da",
   "metadata": {},
   "outputs": [
    {
     "data": {
      "text/plain": [
       "720"
      ]
     },
     "execution_count": 148,
     "metadata": {},
     "output_type": "execute_result"
    }
   ],
   "source": [
    "fact_num(6)"
   ]
  },
  {
   "cell_type": "code",
   "execution_count": 149,
   "id": "87de99c9-9bf1-4d75-935c-6b9d31fdaa5a",
   "metadata": {},
   "outputs": [],
   "source": [
    "fact_num_lamda = lambda n : 1 if n==0 else  n*fact_num_lamda(n-1)"
   ]
  },
  {
   "cell_type": "code",
   "execution_count": 150,
   "id": "c172d665-8725-4a85-9708-b56cb2bfccd5",
   "metadata": {},
   "outputs": [
    {
     "data": {
      "text/plain": [
       "120"
      ]
     },
     "execution_count": 150,
     "metadata": {},
     "output_type": "execute_result"
    }
   ],
   "source": [
    "fact_num_lamda(5)"
   ]
  },
  {
   "cell_type": "code",
   "execution_count": 151,
   "id": "80a358b8-1394-40f8-980b-a47c665b4f3e",
   "metadata": {},
   "outputs": [
    {
     "data": {
      "text/plain": [
       "720"
      ]
     },
     "execution_count": 151,
     "metadata": {},
     "output_type": "execute_result"
    }
   ],
   "source": [
    "fact_num_lamda(6)"
   ]
  },
  {
   "cell_type": "code",
   "execution_count": 152,
   "id": "7589b974-79de-4f3d-9bc5-4e6e9b7bbef3",
   "metadata": {},
   "outputs": [],
   "source": [
    "l = [5,6,7,8,9]\n",
    "l1 = []\n",
    "\n",
    "for i in l:\n",
    "    l1.append(i*2)"
   ]
  },
  {
   "cell_type": "code",
   "execution_count": 153,
   "id": "8b2740cc-9406-424b-acc3-3d3e0ff42662",
   "metadata": {},
   "outputs": [
    {
     "data": {
      "text/plain": [
       "[10, 12, 14, 16, 18]"
      ]
     },
     "execution_count": 153,
     "metadata": {},
     "output_type": "execute_result"
    }
   ],
   "source": [
    "l1"
   ]
  },
  {
   "cell_type": "code",
   "execution_count": 159,
   "id": "e94e5e9d-6596-478f-b755-fba7a08edf1b",
   "metadata": {},
   "outputs": [],
   "source": [
    "def add_list(l):\n",
    "    for i in l:\n",
    "        l1.append(i*2)\n",
    "    return l1"
   ]
  },
  {
   "cell_type": "code",
   "execution_count": 160,
   "id": "9facc932-614a-4fba-b537-8d6a65c6abe4",
   "metadata": {},
   "outputs": [
    {
     "data": {
      "text/plain": [
       "[10,\n",
       " 12,\n",
       " 14,\n",
       " 16,\n",
       " 18,\n",
       " 4,\n",
       " 6,\n",
       " 8,\n",
       " 10,\n",
       " 12,\n",
       " 14,\n",
       " 4,\n",
       " 6,\n",
       " 8,\n",
       " 10,\n",
       " 12,\n",
       " 14,\n",
       " 4,\n",
       " 6,\n",
       " 8,\n",
       " 10,\n",
       " 12,\n",
       " 14]"
      ]
     },
     "execution_count": 160,
     "metadata": {},
     "output_type": "execute_result"
    }
   ],
   "source": [
    "add_list([2,3,4,5,6,7])"
   ]
  },
  {
   "cell_type": "code",
   "execution_count": 162,
   "id": "393b2530-b686-49ad-b978-f6252534d1f1",
   "metadata": {},
   "outputs": [
    {
     "data": {
      "text/plain": [
       "[7, 8, 9, 10, 11]"
      ]
     },
     "execution_count": 162,
     "metadata": {},
     "output_type": "execute_result"
    }
   ],
   "source": [
    "list(map(lambda a: a+2, l))"
   ]
  },
  {
   "cell_type": "code",
   "execution_count": 163,
   "id": "5d5842a2-ca3d-4c65-8f58-aeb42cea408d",
   "metadata": {},
   "outputs": [
    {
     "data": {
      "text/plain": [
       "[5, 6, 7, 8, 9]"
      ]
     },
     "execution_count": 163,
     "metadata": {},
     "output_type": "execute_result"
    }
   ],
   "source": [
    "l"
   ]
  },
  {
   "cell_type": "code",
   "execution_count": 164,
   "id": "3caefd3d-b502-4d44-8bf9-820c8e4dda08",
   "metadata": {},
   "outputs": [],
   "source": [
    "def test31(c):\n",
    "    return c*2"
   ]
  },
  {
   "cell_type": "code",
   "execution_count": 166,
   "id": "f3844b48-23d6-4f28-b13b-bad6af606901",
   "metadata": {},
   "outputs": [
    {
     "data": {
      "text/plain": [
       "[10, 12, 14, 16, 18]"
      ]
     },
     "execution_count": 166,
     "metadata": {},
     "output_type": "execute_result"
    }
   ],
   "source": [
    "list(map(test31, l))"
   ]
  },
  {
   "cell_type": "code",
   "execution_count": 167,
   "id": "2adaac99-888b-4068-8f1f-569beac4549a",
   "metadata": {},
   "outputs": [
    {
     "data": {
      "text/plain": [
       "12"
      ]
     },
     "execution_count": 167,
     "metadata": {},
     "output_type": "execute_result"
    }
   ],
   "source": [
    "test31(6)"
   ]
  },
  {
   "cell_type": "code",
   "execution_count": 168,
   "id": "b419fd4d-683a-459f-962a-3c412020e039",
   "metadata": {},
   "outputs": [
    {
     "data": {
      "text/plain": [
       "18"
      ]
     },
     "execution_count": 168,
     "metadata": {},
     "output_type": "execute_result"
    }
   ],
   "source": [
    "test31(9)"
   ]
  },
  {
   "cell_type": "code",
   "execution_count": 169,
   "id": "76240097-51a7-4261-8c1f-6f2bb902416d",
   "metadata": {},
   "outputs": [
    {
     "data": {
      "text/plain": [
       "62"
      ]
     },
     "execution_count": 169,
     "metadata": {},
     "output_type": "execute_result"
    }
   ],
   "source": [
    "test31(31)"
   ]
  },
  {
   "cell_type": "code",
   "execution_count": 170,
   "id": "bfaf9154-610e-4eb0-ab01-e9f139be2a54",
   "metadata": {},
   "outputs": [],
   "source": [
    "l = [\"Amit\", \"Raj\", \"Kumar\"]\n"
   ]
  },
  {
   "cell_type": "code",
   "execution_count": 171,
   "id": "511af8b7-2477-4378-b375-ca9f5fb5deda",
   "metadata": {},
   "outputs": [
    {
     "data": {
      "text/plain": [
       "4"
      ]
     },
     "execution_count": 171,
     "metadata": {},
     "output_type": "execute_result"
    }
   ],
   "source": [
    "len(\"Amit\")"
   ]
  },
  {
   "cell_type": "code",
   "execution_count": 174,
   "id": "a3322ce1-b362-4faf-a23b-8b1ca516789c",
   "metadata": {},
   "outputs": [
    {
     "data": {
      "text/plain": [
       "3"
      ]
     },
     "execution_count": 174,
     "metadata": {},
     "output_type": "execute_result"
    }
   ],
   "source": [
    "len(\"Raj\")"
   ]
  },
  {
   "cell_type": "code",
   "execution_count": 175,
   "id": "22a5ec53-863c-4907-86b6-a8bfe5f83cd1",
   "metadata": {},
   "outputs": [
    {
     "data": {
      "text/plain": [
       "5"
      ]
     },
     "execution_count": 175,
     "metadata": {},
     "output_type": "execute_result"
    }
   ],
   "source": [
    "len(\"Kumar\")"
   ]
  },
  {
   "cell_type": "code",
   "execution_count": 176,
   "id": "c331bd95-5728-4946-9ec6-d417201a97e3",
   "metadata": {},
   "outputs": [],
   "source": [
    "li = []\n",
    "\n",
    "for i in l:\n",
    "    li.append(len(i))"
   ]
  },
  {
   "cell_type": "code",
   "execution_count": 177,
   "id": "7bc3c943-5d14-4d44-b873-1af264b44a12",
   "metadata": {},
   "outputs": [
    {
     "data": {
      "text/plain": [
       "[4, 3, 5]"
      ]
     },
     "execution_count": 177,
     "metadata": {},
     "output_type": "execute_result"
    }
   ],
   "source": [
    "li"
   ]
  },
  {
   "cell_type": "code",
   "execution_count": 178,
   "id": "8c4f4c48-1c69-4680-9b86-14e18f48f006",
   "metadata": {},
   "outputs": [],
   "source": [
    "def leng(l):\n",
    "    li=[]\n",
    "    for i in l:\n",
    "        li.append(len(i))\n",
    "    return li"
   ]
  },
  {
   "cell_type": "code",
   "execution_count": 179,
   "id": "fcea2941-f6d5-4054-9ce6-7220a24aaeae",
   "metadata": {},
   "outputs": [
    {
     "data": {
      "text/plain": [
       "[4, 3, 5]"
      ]
     },
     "execution_count": 179,
     "metadata": {},
     "output_type": "execute_result"
    }
   ],
   "source": [
    "leng(l)"
   ]
  },
  {
   "cell_type": "code",
   "execution_count": 181,
   "id": "f2f0cfaf-11d0-49dc-b11e-f318858f559c",
   "metadata": {},
   "outputs": [
    {
     "data": {
      "text/plain": [
       "[4, 3, 5]"
      ]
     },
     "execution_count": 181,
     "metadata": {},
     "output_type": "execute_result"
    }
   ],
   "source": [
    "list(map(lambda c: len(c), l))"
   ]
  },
  {
   "cell_type": "code",
   "execution_count": 182,
   "id": "16bbc331-718f-478d-a59c-3baf79392205",
   "metadata": {},
   "outputs": [
    {
     "data": {
      "text/plain": [
       "[4, 3, 5]"
      ]
     },
     "execution_count": 182,
     "metadata": {},
     "output_type": "execute_result"
    }
   ],
   "source": [
    "list(map(len, l))"
   ]
  },
  {
   "cell_type": "code",
   "execution_count": 183,
   "id": "08f596dd-9f47-48d0-8987-4d7e29a3deaa",
   "metadata": {},
   "outputs": [
    {
     "data": {
      "text/plain": [
       "['Amit', 'Raj', 'Kumar']"
      ]
     },
     "execution_count": 183,
     "metadata": {},
     "output_type": "execute_result"
    }
   ],
   "source": [
    "l"
   ]
  },
  {
   "cell_type": "code",
   "execution_count": 184,
   "id": "ab3c1d6f-6790-4ca0-a9f8-2f004e94c367",
   "metadata": {},
   "outputs": [
    {
     "data": {
      "text/plain": [
       "['Kumar', 'Raj', 'Amit']"
      ]
     },
     "execution_count": 184,
     "metadata": {},
     "output_type": "execute_result"
    }
   ],
   "source": [
    "l[::-1]"
   ]
  },
  {
   "cell_type": "code",
   "execution_count": 185,
   "id": "e867d9ad-17cd-4450-b6c9-7e86c677b4cd",
   "metadata": {},
   "outputs": [],
   "source": [
    "s = \"Amit\"\n"
   ]
  },
  {
   "cell_type": "code",
   "execution_count": 186,
   "id": "6b6852d4-592a-450b-8e99-751d385ea499",
   "metadata": {},
   "outputs": [
    {
     "data": {
      "text/plain": [
       "'timA'"
      ]
     },
     "execution_count": 186,
     "metadata": {},
     "output_type": "execute_result"
    }
   ],
   "source": [
    "s[::-1]"
   ]
  },
  {
   "cell_type": "code",
   "execution_count": 188,
   "id": "75b03965-8858-41f8-8a1a-c27f94d5e99f",
   "metadata": {},
   "outputs": [
    {
     "data": {
      "text/plain": [
       "['timA', 'jaR', 'ramuK']"
      ]
     },
     "execution_count": 188,
     "metadata": {},
     "output_type": "execute_result"
    }
   ],
   "source": [
    "list(map(lambda a: a[::-1], l))"
   ]
  },
  {
   "cell_type": "code",
   "execution_count": 189,
   "id": "6fa6a793-1107-40f0-9da4-d3ae2c834a50",
   "metadata": {},
   "outputs": [],
   "source": [
    "l = [2,3,4,5,6,6]"
   ]
  },
  {
   "cell_type": "code",
   "execution_count": 191,
   "id": "5c4786a3-462e-4023-abe1-294637c14c9f",
   "metadata": {},
   "outputs": [],
   "source": [
    "from functools import reduce"
   ]
  },
  {
   "cell_type": "code",
   "execution_count": 193,
   "id": "d8c5e53f-ba33-4437-828a-3bbe6c1fbbcc",
   "metadata": {},
   "outputs": [
    {
     "data": {
      "text/plain": [
       "4320"
      ]
     },
     "execution_count": 193,
     "metadata": {},
     "output_type": "execute_result"
    }
   ],
   "source": [
    "reduce(lambda a,b : a*b, l)"
   ]
  },
  {
   "cell_type": "code",
   "execution_count": 194,
   "id": "3179e93e-3c16-49a3-b40f-2b0525308c3d",
   "metadata": {},
   "outputs": [
    {
     "data": {
      "text/plain": [
       "[2, 3, 4, 5, 6, 6]"
      ]
     },
     "execution_count": 194,
     "metadata": {},
     "output_type": "execute_result"
    }
   ],
   "source": [
    "l"
   ]
  },
  {
   "cell_type": "code",
   "execution_count": 195,
   "id": "de2db877-7f66-4cb1-a165-feda2a062962",
   "metadata": {},
   "outputs": [
    {
     "data": {
      "text/plain": [
       "2"
      ]
     },
     "execution_count": 195,
     "metadata": {},
     "output_type": "execute_result"
    }
   ],
   "source": [
    "min(l)"
   ]
  },
  {
   "cell_type": "code",
   "execution_count": 196,
   "id": "898889f5-4475-44ee-9e7f-2182932c944e",
   "metadata": {},
   "outputs": [
    {
     "data": {
      "text/plain": [
       "6"
      ]
     },
     "execution_count": 196,
     "metadata": {},
     "output_type": "execute_result"
    }
   ],
   "source": [
    "max(l)"
   ]
  },
  {
   "cell_type": "code",
   "execution_count": 197,
   "id": "3507d31b-185b-4474-a578-04ce43c04d68",
   "metadata": {},
   "outputs": [
    {
     "data": {
      "text/plain": [
       "6"
      ]
     },
     "execution_count": 197,
     "metadata": {},
     "output_type": "execute_result"
    }
   ],
   "source": [
    "reduce(lambda a,b : a if a>b else b, l)"
   ]
  },
  {
   "cell_type": "code",
   "execution_count": 198,
   "id": "b7ef4169-356e-4798-9f31-b3960c77e8d2",
   "metadata": {},
   "outputs": [],
   "source": [
    "n=4\n",
    "fact = reduce(lambda a,b : a*b, range(1,n+1))"
   ]
  },
  {
   "cell_type": "code",
   "execution_count": 199,
   "id": "7988bae7-1139-4104-8304-a2dc917e0ca6",
   "metadata": {},
   "outputs": [
    {
     "data": {
      "text/plain": [
       "24"
      ]
     },
     "execution_count": 199,
     "metadata": {},
     "output_type": "execute_result"
    }
   ],
   "source": [
    "fact"
   ]
  },
  {
   "cell_type": "code",
   "execution_count": 200,
   "id": "6736c044-3405-4aa3-b452-b95e6a238a9e",
   "metadata": {},
   "outputs": [
    {
     "data": {
      "text/plain": [
       "[2, 3, 4, 5, 6, 6]"
      ]
     },
     "execution_count": 200,
     "metadata": {},
     "output_type": "execute_result"
    }
   ],
   "source": [
    "l"
   ]
  },
  {
   "cell_type": "code",
   "execution_count": 205,
   "id": "f6f49903-a77e-4b49-ad9d-b9419e226aaf",
   "metadata": {},
   "outputs": [
    {
     "name": "stdout",
     "output_type": "stream",
     "text": [
      "288\n"
     ]
    }
   ],
   "source": [
    "even_num=1\n",
    "for i in l:\n",
    "    if i%2==0:\n",
    "        even_num *= i\n",
    "print(even_num)"
   ]
  },
  {
   "cell_type": "code",
   "execution_count": 206,
   "id": "982fb8ac-71d6-4e28-8ad5-d38ac27a0267",
   "metadata": {},
   "outputs": [
    {
     "data": {
      "text/plain": [
       "288"
      ]
     },
     "execution_count": 206,
     "metadata": {},
     "output_type": "execute_result"
    }
   ],
   "source": [
    "reduce( lambda a,b: a*b, [i for i in l if i%2==0])"
   ]
  },
  {
   "cell_type": "code",
   "execution_count": 207,
   "id": "5a1ce4a7-1447-419b-b103-8a0cf22e842c",
   "metadata": {},
   "outputs": [],
   "source": [
    "#Filter Function"
   ]
  },
  {
   "cell_type": "code",
   "execution_count": 208,
   "id": "2aefa22e-f69a-44bc-9b64-15d9e9f7ddd4",
   "metadata": {},
   "outputs": [],
   "source": [
    "l = [2,3,4,5,6,7,8,934,5,67,2,76,0]\n"
   ]
  },
  {
   "cell_type": "code",
   "execution_count": 209,
   "id": "0898db08-f6b1-4fbb-aad2-06afc291ea08",
   "metadata": {},
   "outputs": [
    {
     "name": "stdout",
     "output_type": "stream",
     "text": [
      "3 5 7 5 67 "
     ]
    }
   ],
   "source": [
    "for i in l:\n",
    "    if i%2!=0:\n",
    "        print(i, end = \" \")"
   ]
  },
  {
   "cell_type": "code",
   "execution_count": 211,
   "id": "4098a950-3699-434b-b500-1ae611a50479",
   "metadata": {},
   "outputs": [
    {
     "data": {
      "text/plain": [
       "[2, 4, 6, 8, 934, 2, 76, 0]"
      ]
     },
     "execution_count": 211,
     "metadata": {},
     "output_type": "execute_result"
    }
   ],
   "source": [
    "list(filter(lambda a : a%2==0, l))"
   ]
  },
  {
   "cell_type": "code",
   "execution_count": 212,
   "id": "b88b870b-a14c-4642-a6d1-4f69e0b54cc8",
   "metadata": {},
   "outputs": [
    {
     "data": {
      "text/plain": [
       "[3, 5, 7, 5, 67]"
      ]
     },
     "execution_count": 212,
     "metadata": {},
     "output_type": "execute_result"
    }
   ],
   "source": [
    "list(filter(lambda a : a%2!=0, l))"
   ]
  },
  {
   "cell_type": "code",
   "execution_count": 216,
   "id": "7ce1eb7f-bed0-4989-a9c4-c4e4df0d9eed",
   "metadata": {},
   "outputs": [],
   "source": [
    "s = \"Pw Skills\"\n"
   ]
  },
  {
   "cell_type": "code",
   "execution_count": 217,
   "id": "a8096f46-5b7a-4edf-b9cd-f1d92fdd3454",
   "metadata": {},
   "outputs": [
    {
     "data": {
      "text/plain": [
       "['w', 'k', 'i', 'l', 'l', 's']"
      ]
     },
     "execution_count": 217,
     "metadata": {},
     "output_type": "execute_result"
    }
   ],
   "source": [
    "list(filter(lambda a : a.islower(), s))"
   ]
  },
  {
   "cell_type": "code",
   "execution_count": 218,
   "id": "c96225d3-223c-41ad-b6fd-14bf78867d1c",
   "metadata": {},
   "outputs": [],
   "source": [
    "l = [\"pw\", \"pwskills\", \"Amit\", \"krish\"]"
   ]
  },
  {
   "cell_type": "code",
   "execution_count": 220,
   "id": "93df8911-90f6-4993-b0b5-d73f3a98877d",
   "metadata": {},
   "outputs": [
    {
     "data": {
      "text/plain": [
       "['pw', 'Amit']"
      ]
     },
     "execution_count": 220,
     "metadata": {},
     "output_type": "execute_result"
    }
   ],
   "source": [
    "list(filter(lambda a : len(a)<=4, l))"
   ]
  },
  {
   "cell_type": "code",
   "execution_count": 221,
   "id": "4181535e-de4d-47e0-98be-63a6e257c799",
   "metadata": {},
   "outputs": [
    {
     "data": {
      "text/plain": [
       "['pw', 'pwskills', 'Amit', 'krish']"
      ]
     },
     "execution_count": 221,
     "metadata": {},
     "output_type": "execute_result"
    }
   ],
   "source": [
    "l"
   ]
  },
  {
   "cell_type": "code",
   "execution_count": 223,
   "id": "c3124066-feef-48a7-9536-da6fc4ac752e",
   "metadata": {},
   "outputs": [
    {
     "data": {
      "text/plain": [
       "['pw', 'pwskills']"
      ]
     },
     "execution_count": 223,
     "metadata": {},
     "output_type": "execute_result"
    }
   ],
   "source": [
    "list(filter(lambda a : a[0]=='p', l))"
   ]
  },
  {
   "cell_type": "code",
   "execution_count": 227,
   "id": "d778ab27-524d-4455-8b43-6d31481b5008",
   "metadata": {},
   "outputs": [
    {
     "ename": "TypeError",
     "evalue": "startswith() takes at least 1 argument (0 given)",
     "output_type": "error",
     "traceback": [
      "\u001b[0;31m---------------------------------------------------------------------------\u001b[0m",
      "\u001b[0;31mTypeError\u001b[0m                                 Traceback (most recent call last)",
      "Cell \u001b[0;32mIn[227], line 1\u001b[0m\n\u001b[0;32m----> 1\u001b[0m \u001b[38;5;28;43mlist\u001b[39;49m\u001b[43m(\u001b[49m\u001b[38;5;28;43mfilter\u001b[39;49m\u001b[43m(\u001b[49m\u001b[38;5;28;43;01mlambda\u001b[39;49;00m\u001b[43m \u001b[49m\u001b[43ma\u001b[49m\u001b[43m \u001b[49m\u001b[43m:\u001b[49m\u001b[43m \u001b[49m\u001b[43ma\u001b[49m\u001b[38;5;241;43m.\u001b[39;49m\u001b[43mstartswith\u001b[49m\u001b[43m(\u001b[49m\u001b[43m)\u001b[49m\u001b[38;5;241;43m==\u001b[39;49m\u001b[38;5;124;43m'\u001b[39;49m\u001b[38;5;124;43mp\u001b[39;49m\u001b[38;5;124;43m'\u001b[39;49m\u001b[43m,\u001b[49m\u001b[43m \u001b[49m\u001b[43ml\u001b[49m\u001b[43m)\u001b[49m\u001b[43m)\u001b[49m  \u001b[38;5;66;03m#check\u001b[39;00m\n",
      "Cell \u001b[0;32mIn[227], line 1\u001b[0m, in \u001b[0;36m<lambda>\u001b[0;34m(a)\u001b[0m\n\u001b[0;32m----> 1\u001b[0m \u001b[38;5;28mlist\u001b[39m(\u001b[38;5;28mfilter\u001b[39m(\u001b[38;5;28;01mlambda\u001b[39;00m a : \u001b[43ma\u001b[49m\u001b[38;5;241;43m.\u001b[39;49m\u001b[43mstartswith\u001b[49m\u001b[43m(\u001b[49m\u001b[43m)\u001b[49m\u001b[38;5;241m==\u001b[39m\u001b[38;5;124m'\u001b[39m\u001b[38;5;124mp\u001b[39m\u001b[38;5;124m'\u001b[39m, l))  \u001b[38;5;66;03m#check\u001b[39;00m\n",
      "\u001b[0;31mTypeError\u001b[0m: startswith() takes at least 1 argument (0 given)"
     ]
    }
   ],
   "source": [
    "list(filter(lambda a : a.startswith()=='p', l))  #check"
   ]
  },
  {
   "cell_type": "code",
   "execution_count": 228,
   "id": "67ef5802-fd9d-4f49-9436-e40a03d980f5",
   "metadata": {},
   "outputs": [],
   "source": [
    "#Recursive function-- calling a function itself again and again untill task is not done"
   ]
  },
  {
   "cell_type": "code",
   "execution_count": 231,
   "id": "120f1eb6-1f31-40ff-8339-1baf985f405e",
   "metadata": {},
   "outputs": [],
   "source": [
    "def gen_fib(n):\n",
    "    if n<=1:\n",
    "        return n\n",
    "    else:\n",
    "        return gen_fib(n-1) + gen_fib(n-2)"
   ]
  },
  {
   "cell_type": "code",
   "execution_count": 232,
   "id": "0d1fc392-2081-449b-9f6a-02fd73941210",
   "metadata": {},
   "outputs": [
    {
     "data": {
      "text/plain": [
       "55"
      ]
     },
     "execution_count": 232,
     "metadata": {},
     "output_type": "execute_result"
    }
   ],
   "source": [
    "gen_fib(10)"
   ]
  },
  {
   "cell_type": "code",
   "execution_count": 233,
   "id": "0b953fb5-26c9-4b02-9d67-18cbbdf2dcd4",
   "metadata": {},
   "outputs": [
    {
     "data": {
      "text/plain": [
       "2"
      ]
     },
     "execution_count": 233,
     "metadata": {},
     "output_type": "execute_result"
    }
   ],
   "source": [
    "gen_fib(3)"
   ]
  },
  {
   "cell_type": "code",
   "execution_count": 234,
   "id": "68f8b281-395e-4021-a40c-bf8633e80c37",
   "metadata": {},
   "outputs": [
    {
     "data": {
      "text/plain": [
       "13"
      ]
     },
     "execution_count": 234,
     "metadata": {},
     "output_type": "execute_result"
    }
   ],
   "source": [
    "gen_fib(7)"
   ]
  },
  {
   "cell_type": "code",
   "execution_count": 238,
   "id": "cab000d5-937f-4378-91ac-89087f3c1537",
   "metadata": {},
   "outputs": [],
   "source": [
    "def sum_till_n(n):\n",
    "    if n==1:\n",
    "        return 1\n",
    "    else:\n",
    "        return n+sum_till_n(n-1)"
   ]
  },
  {
   "cell_type": "code",
   "execution_count": 239,
   "id": "efbfa704-4d1b-45f0-95fa-baa9f17caba2",
   "metadata": {},
   "outputs": [
    {
     "data": {
      "text/plain": [
       "5050"
      ]
     },
     "execution_count": 239,
     "metadata": {},
     "output_type": "execute_result"
    }
   ],
   "source": [
    "sum_till_n(100)"
   ]
  },
  {
   "cell_type": "code",
   "execution_count": 240,
   "id": "ffe9ed69-8af9-47ee-9a0e-c01370c99908",
   "metadata": {},
   "outputs": [
    {
     "data": {
      "text/plain": [
       "15"
      ]
     },
     "execution_count": 240,
     "metadata": {},
     "output_type": "execute_result"
    }
   ],
   "source": [
    "sum_till_n(5)"
   ]
  },
  {
   "cell_type": "code",
   "execution_count": null,
   "id": "07df7c04-5cbb-4336-a3d4-3961353d0f1f",
   "metadata": {},
   "outputs": [],
   "source": []
  }
 ],
 "metadata": {
  "kernelspec": {
   "display_name": "Python 3 (ipykernel)",
   "language": "python",
   "name": "python3"
  },
  "language_info": {
   "codemirror_mode": {
    "name": "ipython",
    "version": 3
   },
   "file_extension": ".py",
   "mimetype": "text/x-python",
   "name": "python",
   "nbconvert_exporter": "python",
   "pygments_lexer": "ipython3",
   "version": "3.10.8"
  }
 },
 "nbformat": 4,
 "nbformat_minor": 5
}
