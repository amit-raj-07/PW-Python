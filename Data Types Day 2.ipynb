{
 "cells": [
  {
   "cell_type": "markdown",
   "id": "554ebd38-a264-4feb-9bac-8ab6a78a7775",
   "metadata": {},
   "source": [
    "List -> It hold multiple heterogenous data\n",
    "l = [], using square bracket\n",
    "list is mutable, value re-assignment is possible\n",
    "List is collection of everything,\n",
    "int,float,string,bool,--- different kind of data together\n",
    "\n",
    "In list Contenation is possible. (Both are in same data type then only \n",
    "concatenation is possible)\n",
    "\n",
    "Type-Casting possible-- tuple to list and vice-versa"
   ]
  },
  {
   "cell_type": "code",
   "execution_count": 1,
   "id": "48329c7d-e728-4dc3-966c-10901442cce2",
   "metadata": {},
   "outputs": [],
   "source": [
    "l = []"
   ]
  },
  {
   "cell_type": "code",
   "execution_count": 2,
   "id": "e81da994-f97a-4497-bf8a-b8ed1a21739e",
   "metadata": {},
   "outputs": [
    {
     "data": {
      "text/plain": [
       "list"
      ]
     },
     "execution_count": 2,
     "metadata": {},
     "output_type": "execute_result"
    }
   ],
   "source": [
    "type(l)"
   ]
  },
  {
   "cell_type": "code",
   "execution_count": 3,
   "id": "18cb89f6-8eed-4586-8787-a22403e9b73a",
   "metadata": {},
   "outputs": [],
   "source": [
    "l1 = [1,2,3,4,5, \"Amit\", 'Raj', 3+6j, True, 45.7, [4,7,2,8,1]]"
   ]
  },
  {
   "cell_type": "code",
   "execution_count": 4,
   "id": "8b273efd-8cbc-4c02-a4e2-864689e3ce84",
   "metadata": {},
   "outputs": [
    {
     "data": {
      "text/plain": [
       "[1, 2, 3, 4, 5, 'Amit', 'Raj', (3+6j), True, 45.7, [4, 7, 2, 8, 1]]"
      ]
     },
     "execution_count": 4,
     "metadata": {},
     "output_type": "execute_result"
    }
   ],
   "source": [
    "l1"
   ]
  },
  {
   "cell_type": "code",
   "execution_count": 5,
   "id": "bba403dc-10ce-4708-bfec-d7667ca67f08",
   "metadata": {},
   "outputs": [],
   "source": [
    "s = \"3dgfxjnkvx^$^$#\""
   ]
  },
  {
   "cell_type": "code",
   "execution_count": 6,
   "id": "64712c76-a6b8-45d3-9ce2-6f332b5b06cc",
   "metadata": {},
   "outputs": [
    {
     "data": {
      "text/plain": [
       "'3dgfxjnkvx^$^$#'"
      ]
     },
     "execution_count": 6,
     "metadata": {},
     "output_type": "execute_result"
    }
   ],
   "source": [
    "s"
   ]
  },
  {
   "cell_type": "code",
   "execution_count": 7,
   "id": "dad91063-cead-4fd5-8f07-5b7c01936d71",
   "metadata": {},
   "outputs": [
    {
     "data": {
      "text/plain": [
       "list"
      ]
     },
     "execution_count": 7,
     "metadata": {},
     "output_type": "execute_result"
    }
   ],
   "source": [
    "type(l1)"
   ]
  },
  {
   "cell_type": "code",
   "execution_count": 8,
   "id": "f79ce5bf-dca1-4ca7-8584-faa135e30e1c",
   "metadata": {},
   "outputs": [
    {
     "data": {
      "text/plain": [
       "[1, 2, 3, 4, 5, 'Amit', 'Raj', (3+6j), True, 45.7, [4, 7, 2, 8, 1]]"
      ]
     },
     "execution_count": 8,
     "metadata": {},
     "output_type": "execute_result"
    }
   ],
   "source": [
    "l1"
   ]
  },
  {
   "cell_type": "code",
   "execution_count": 9,
   "id": "65ba0228-c4ac-45f7-b9c9-ef6b4e8ba412",
   "metadata": {},
   "outputs": [
    {
     "data": {
      "text/plain": [
       "'Amit'"
      ]
     },
     "execution_count": 9,
     "metadata": {},
     "output_type": "execute_result"
    }
   ],
   "source": [
    "l1[5]"
   ]
  },
  {
   "cell_type": "code",
   "execution_count": 10,
   "id": "2cd43836-aeb7-46dc-b504-1d7d54cc1ca5",
   "metadata": {},
   "outputs": [
    {
     "data": {
      "text/plain": [
       "[4, 7, 2, 8, 1]"
      ]
     },
     "execution_count": 10,
     "metadata": {},
     "output_type": "execute_result"
    }
   ],
   "source": [
    "l1[-1]"
   ]
  },
  {
   "cell_type": "code",
   "execution_count": 11,
   "id": "6209a23f-4497-42ad-ab1c-637e3052e1cd",
   "metadata": {},
   "outputs": [
    {
     "data": {
      "text/plain": [
       "1"
      ]
     },
     "execution_count": 11,
     "metadata": {},
     "output_type": "execute_result"
    }
   ],
   "source": [
    "l1[-1][-1]"
   ]
  },
  {
   "cell_type": "code",
   "execution_count": 12,
   "id": "f4d3ac8e-1a9b-4713-8a5d-337a8826809f",
   "metadata": {},
   "outputs": [
    {
     "data": {
      "text/plain": [
       "1"
      ]
     },
     "execution_count": 12,
     "metadata": {},
     "output_type": "execute_result"
    }
   ],
   "source": [
    "l1[-1][4]"
   ]
  },
  {
   "cell_type": "code",
   "execution_count": 13,
   "id": "bcf6c951-0ce8-4561-9d72-18a9f110d165",
   "metadata": {},
   "outputs": [
    {
     "data": {
      "text/plain": [
       "[1, 2, 3, 4, 5]"
      ]
     },
     "execution_count": 13,
     "metadata": {},
     "output_type": "execute_result"
    }
   ],
   "source": [
    "l1[0:5]"
   ]
  },
  {
   "cell_type": "code",
   "execution_count": 14,
   "id": "23c4908b-40db-40fc-9238-ab080acc5fa4",
   "metadata": {},
   "outputs": [],
   "source": [
    "l2 = [3,4,5,\"Pwskills\", \"Amit\"]"
   ]
  },
  {
   "cell_type": "code",
   "execution_count": 15,
   "id": "6658377e-7a32-4a90-abe4-58382a54a2ed",
   "metadata": {},
   "outputs": [
    {
     "data": {
      "text/plain": [
       "[1,\n",
       " 2,\n",
       " 3,\n",
       " 4,\n",
       " 5,\n",
       " 'Amit',\n",
       " 'Raj',\n",
       " (3+6j),\n",
       " True,\n",
       " 45.7,\n",
       " [4, 7, 2, 8, 1],\n",
       " 3,\n",
       " 4,\n",
       " 5,\n",
       " 'Pwskills',\n",
       " 'Amit']"
      ]
     },
     "execution_count": 15,
     "metadata": {},
     "output_type": "execute_result"
    }
   ],
   "source": [
    "l1+l2"
   ]
  },
  {
   "cell_type": "code",
   "execution_count": 17,
   "id": "3b90bd4d-f635-4e63-a4b9-26ad4af4519f",
   "metadata": {},
   "outputs": [
    {
     "ename": "TypeError",
     "evalue": "can only concatenate list (not \"str\") to list",
     "output_type": "error",
     "traceback": [
      "\u001b[0;31m---------------------------------------------------------------------------\u001b[0m",
      "\u001b[0;31mTypeError\u001b[0m                                 Traceback (most recent call last)",
      "Cell \u001b[0;32mIn[17], line 1\u001b[0m\n\u001b[0;32m----> 1\u001b[0m \u001b[43ml2\u001b[49m\u001b[43m \u001b[49m\u001b[38;5;241;43m+\u001b[39;49m\u001b[43m \u001b[49m\u001b[38;5;124;43m\"\u001b[39;49m\u001b[38;5;124;43mAmit\u001b[39;49m\u001b[38;5;124;43m\"\u001b[39;49m   \u001b[38;5;66;03m#both should be in same data type\u001b[39;00m\n",
      "\u001b[0;31mTypeError\u001b[0m: can only concatenate list (not \"str\") to list"
     ]
    }
   ],
   "source": [
    "l2 + \"Amit\"   #both should be in same data type"
   ]
  },
  {
   "cell_type": "code",
   "execution_count": 18,
   "id": "b2e508f8-7597-45bd-9128-d66bde86f031",
   "metadata": {},
   "outputs": [
    {
     "data": {
      "text/plain": [
       "['A', 'm', 'i', 't']"
      ]
     },
     "execution_count": 18,
     "metadata": {},
     "output_type": "execute_result"
    }
   ],
   "source": [
    "list(\"Amit\")   #list required always string, and it split the string"
   ]
  },
  {
   "cell_type": "code",
   "execution_count": 19,
   "id": "95d6e75c-7c05-4df8-a4bc-845359917ffb",
   "metadata": {},
   "outputs": [
    {
     "ename": "TypeError",
     "evalue": "'int' object is not iterable",
     "output_type": "error",
     "traceback": [
      "\u001b[0;31m---------------------------------------------------------------------------\u001b[0m",
      "\u001b[0;31mTypeError\u001b[0m                                 Traceback (most recent call last)",
      "Cell \u001b[0;32mIn[19], line 1\u001b[0m\n\u001b[0;32m----> 1\u001b[0m \u001b[38;5;28;43mlist\u001b[39;49m\u001b[43m(\u001b[49m\u001b[38;5;241;43m234\u001b[39;49m\u001b[43m)\u001b[49m  \u001b[38;5;66;03m#list work over string only not integer\u001b[39;00m\n",
      "\u001b[0;31mTypeError\u001b[0m: 'int' object is not iterable"
     ]
    }
   ],
   "source": [
    "list(234)  #list work over string only not integer"
   ]
  },
  {
   "cell_type": "code",
   "execution_count": 20,
   "id": "ae868ebd-4f96-49de-b7bc-0f0e0762b528",
   "metadata": {},
   "outputs": [
    {
     "data": {
      "text/plain": [
       "[3, 4, 5, 'Pwskills', 'Amit', 3, 4, 5, 'Pwskills', 'Amit']"
      ]
     },
     "execution_count": 20,
     "metadata": {},
     "output_type": "execute_result"
    }
   ],
   "source": [
    "l2*2  #repeat the same data"
   ]
  },
  {
   "cell_type": "code",
   "execution_count": 21,
   "id": "831a8e65-f5ad-4a2d-8319-9e5aa3f94f81",
   "metadata": {},
   "outputs": [
    {
     "data": {
      "text/plain": [
       "3"
      ]
     },
     "execution_count": 21,
     "metadata": {},
     "output_type": "execute_result"
    }
   ],
   "source": [
    "l2[0]"
   ]
  },
  {
   "cell_type": "code",
   "execution_count": 22,
   "id": "f8418d94-ace1-4ade-8493-4856fcab4a44",
   "metadata": {},
   "outputs": [],
   "source": [
    "l2[0] = 300"
   ]
  },
  {
   "cell_type": "code",
   "execution_count": 23,
   "id": "042ad9fb-9f41-4f03-8399-0760e5be4359",
   "metadata": {},
   "outputs": [
    {
     "data": {
      "text/plain": [
       "[300, 4, 5, 'Pwskills', 'Amit']"
      ]
     },
     "execution_count": 23,
     "metadata": {},
     "output_type": "execute_result"
    }
   ],
   "source": [
    "l2"
   ]
  },
  {
   "cell_type": "code",
   "execution_count": null,
   "id": "ef23e6c7-78bb-4cb3-a716-486674ab7edb",
   "metadata": {},
   "outputs": [],
   "source": []
  },
  {
   "cell_type": "markdown",
   "id": "604f49a5-5d07-4923-8912-f30202e6a3d3",
   "metadata": {},
   "source": [
    "Tuples--> Immutable  using parenthesis\n",
    "Concatenation is possible with same data type\n",
    "Tuple to list conversion possible"
   ]
  },
  {
   "cell_type": "code",
   "execution_count": 24,
   "id": "7acbf803-88f9-4f9a-9615-ee4c7bcbb482",
   "metadata": {},
   "outputs": [],
   "source": [
    "t = (1,2,3,4,\"Amit\", \"Pwskills\", 4+5j, True, 54.5)"
   ]
  },
  {
   "cell_type": "code",
   "execution_count": 25,
   "id": "93178168-7189-480f-b4f8-b1499b84d1a6",
   "metadata": {},
   "outputs": [
    {
     "data": {
      "text/plain": [
       "(1, 2, 3, 4, 'Amit', 'Pwskills', (4+5j), True, 54.5)"
      ]
     },
     "execution_count": 25,
     "metadata": {},
     "output_type": "execute_result"
    }
   ],
   "source": [
    "t"
   ]
  },
  {
   "cell_type": "code",
   "execution_count": 26,
   "id": "cdfe57b3-8f87-4b84-b247-a534c6f99883",
   "metadata": {},
   "outputs": [
    {
     "data": {
      "text/plain": [
       "tuple"
      ]
     },
     "execution_count": 26,
     "metadata": {},
     "output_type": "execute_result"
    }
   ],
   "source": [
    "type(t)"
   ]
  },
  {
   "cell_type": "code",
   "execution_count": 27,
   "id": "b4624b5f-1e70-400a-bb85-d5a6be2ccd13",
   "metadata": {},
   "outputs": [
    {
     "data": {
      "text/plain": [
       "1"
      ]
     },
     "execution_count": 27,
     "metadata": {},
     "output_type": "execute_result"
    }
   ],
   "source": [
    "t[0]"
   ]
  },
  {
   "cell_type": "code",
   "execution_count": 28,
   "id": "138869d7-7ef3-41ef-b324-174cd6821689",
   "metadata": {},
   "outputs": [
    {
     "data": {
      "text/plain": [
       "54.5"
      ]
     },
     "execution_count": 28,
     "metadata": {},
     "output_type": "execute_result"
    }
   ],
   "source": [
    "t[-1]"
   ]
  },
  {
   "cell_type": "code",
   "execution_count": 29,
   "id": "2f3c37af-0989-4f8b-a8ee-33b6ac5966fb",
   "metadata": {},
   "outputs": [
    {
     "data": {
      "text/plain": [
       "(54.5, True, (4+5j), 'Pwskills', 'Amit', 4, 3, 2, 1)"
      ]
     },
     "execution_count": 29,
     "metadata": {},
     "output_type": "execute_result"
    }
   ],
   "source": [
    "t[::-1]"
   ]
  },
  {
   "cell_type": "code",
   "execution_count": 30,
   "id": "9991ee00-a221-4841-93ac-5ba3e3a2d3e0",
   "metadata": {},
   "outputs": [
    {
     "data": {
      "text/plain": [
       "1"
      ]
     },
     "execution_count": 30,
     "metadata": {},
     "output_type": "execute_result"
    }
   ],
   "source": [
    "t[0]"
   ]
  },
  {
   "cell_type": "code",
   "execution_count": 31,
   "id": "8eebfbc1-bf8e-450c-a447-858e2d1dcfd2",
   "metadata": {},
   "outputs": [
    {
     "ename": "TypeError",
     "evalue": "'tuple' object does not support item assignment",
     "output_type": "error",
     "traceback": [
      "\u001b[0;31m---------------------------------------------------------------------------\u001b[0m",
      "\u001b[0;31mTypeError\u001b[0m                                 Traceback (most recent call last)",
      "Cell \u001b[0;32mIn[31], line 1\u001b[0m\n\u001b[0;32m----> 1\u001b[0m \u001b[43mt\u001b[49m\u001b[43m[\u001b[49m\u001b[38;5;241;43m0\u001b[39;49m\u001b[43m]\u001b[49m \u001b[38;5;241m=\u001b[39m \u001b[38;5;124m\"\u001b[39m\u001b[38;5;124mRaj\u001b[39m\u001b[38;5;124m\"\u001b[39m  \u001b[38;5;66;03m#Can't re-assign the value---Immutable\u001b[39;00m\n",
      "\u001b[0;31mTypeError\u001b[0m: 'tuple' object does not support item assignment"
     ]
    }
   ],
   "source": [
    "t[0] = \"Raj\"  #Can't re-assign the value---Immutable"
   ]
  },
  {
   "cell_type": "code",
   "execution_count": 32,
   "id": "8783b1cc-0880-4542-b63c-2bf6e9586597",
   "metadata": {},
   "outputs": [],
   "source": [
    "t1 = (5,6,7,8,9)"
   ]
  },
  {
   "cell_type": "code",
   "execution_count": 33,
   "id": "bf4770e6-6155-40d4-9b45-5c4302646031",
   "metadata": {},
   "outputs": [
    {
     "data": {
      "text/plain": [
       "(1, 2, 3, 4, 'Amit', 'Pwskills', (4+5j), True, 54.5)"
      ]
     },
     "execution_count": 33,
     "metadata": {},
     "output_type": "execute_result"
    }
   ],
   "source": [
    "t"
   ]
  },
  {
   "cell_type": "code",
   "execution_count": 34,
   "id": "e7019b8e-ab71-47af-8028-552873a77d36",
   "metadata": {},
   "outputs": [
    {
     "data": {
      "text/plain": [
       "(1, 2, 3, 4, 'Amit', 'Pwskills', (4+5j), True, 54.5, 5, 6, 7, 8, 9)"
      ]
     },
     "execution_count": 34,
     "metadata": {},
     "output_type": "execute_result"
    }
   ],
   "source": [
    "t+t1"
   ]
  },
  {
   "cell_type": "code",
   "execution_count": 35,
   "id": "3adcc904-1d86-47ae-a1bc-a276d51cd75d",
   "metadata": {},
   "outputs": [
    {
     "data": {
      "text/plain": [
       "(1,\n",
       " 2,\n",
       " 3,\n",
       " 4,\n",
       " 'Amit',\n",
       " 'Pwskills',\n",
       " (4+5j),\n",
       " True,\n",
       " 54.5,\n",
       " 1,\n",
       " 2,\n",
       " 3,\n",
       " 4,\n",
       " 'Amit',\n",
       " 'Pwskills',\n",
       " (4+5j),\n",
       " True,\n",
       " 54.5)"
      ]
     },
     "execution_count": 35,
     "metadata": {},
     "output_type": "execute_result"
    }
   ],
   "source": [
    "t*2"
   ]
  },
  {
   "cell_type": "code",
   "execution_count": 36,
   "id": "8c0c8545-4fe8-40da-b2a0-d4db76cd34d9",
   "metadata": {},
   "outputs": [
    {
     "data": {
      "text/plain": [
       "(1, 2, 3, 4, 'Amit', 'Pwskills', (4+5j), True, 54.5)"
      ]
     },
     "execution_count": 36,
     "metadata": {},
     "output_type": "execute_result"
    }
   ],
   "source": [
    "t"
   ]
  },
  {
   "cell_type": "code",
   "execution_count": 37,
   "id": "bf60f581-f700-4d46-9187-739b8b65e9e1",
   "metadata": {},
   "outputs": [
    {
     "data": {
      "text/plain": [
       "[1, 2, 3, 4, 'Amit', 'Pwskills', (4+5j), True, 54.5]"
      ]
     },
     "execution_count": 37,
     "metadata": {},
     "output_type": "execute_result"
    }
   ],
   "source": [
    "list(t)"
   ]
  },
  {
   "cell_type": "code",
   "execution_count": 38,
   "id": "83384ed3-f05a-4746-9316-5b00ecb99238",
   "metadata": {},
   "outputs": [
    {
     "data": {
      "text/plain": [
       "[300, 4, 5, 'Pwskills', 'Amit']"
      ]
     },
     "execution_count": 38,
     "metadata": {},
     "output_type": "execute_result"
    }
   ],
   "source": [
    "l2"
   ]
  },
  {
   "cell_type": "code",
   "execution_count": 39,
   "id": "d581c8d4-e31b-41a1-807c-8e33900c63cb",
   "metadata": {},
   "outputs": [
    {
     "data": {
      "text/plain": [
       "(300, 4, 5, 'Pwskills', 'Amit')"
      ]
     },
     "execution_count": 39,
     "metadata": {},
     "output_type": "execute_result"
    }
   ],
   "source": [
    "tuple(l2)"
   ]
  },
  {
   "cell_type": "code",
   "execution_count": 40,
   "id": "81e3227b-99fb-4d08-bcae-66e877be0e83",
   "metadata": {},
   "outputs": [
    {
     "data": {
      "text/plain": [
       "9"
      ]
     },
     "execution_count": 40,
     "metadata": {},
     "output_type": "execute_result"
    }
   ],
   "source": [
    "len(t)"
   ]
  },
  {
   "cell_type": "code",
   "execution_count": 41,
   "id": "881ddf4b-2c8e-4f51-970b-3475945c9e1c",
   "metadata": {},
   "outputs": [
    {
     "data": {
      "text/plain": [
       "12"
      ]
     },
     "execution_count": 41,
     "metadata": {},
     "output_type": "execute_result"
    }
   ],
   "source": [
    "len(\"Amit      Ra\")"
   ]
  },
  {
   "cell_type": "code",
   "execution_count": 42,
   "id": "06adad40-d31b-4656-8654-f2daa19e14d1",
   "metadata": {},
   "outputs": [
    {
     "data": {
      "text/plain": [
       "[1, 2, 3, 4, 5, 'Amit', 'Raj', (3+6j), True, 45.7, [4, 7, 2, 8, 1]]"
      ]
     },
     "execution_count": 42,
     "metadata": {},
     "output_type": "execute_result"
    }
   ],
   "source": [
    "l1"
   ]
  },
  {
   "cell_type": "markdown",
   "id": "0bbcdcc3-fd4c-40a1-b28c-6520666ef234",
   "metadata": {},
   "source": [
    "SET -- Another collection of data\n",
    "s = {} - curly braces\n",
    "give unique value only"
   ]
  },
  {
   "cell_type": "markdown",
   "id": "8b3c9d0e-20c1-4eb1-b8ba-3939a0da9449",
   "metadata": {},
   "source": [
    "In SET no concept of mutability and immutability"
   ]
  },
  {
   "cell_type": "markdown",
   "id": "c86005a3-4fb2-4af5-863c-2c364039def1",
   "metadata": {},
   "source": [
    "SET never support slicing and indexing"
   ]
  },
  {
   "cell_type": "code",
   "execution_count": 43,
   "id": "029fd322-8078-4824-a9a0-fa7414537d9c",
   "metadata": {},
   "outputs": [],
   "source": [
    "s = {}   "
   ]
  },
  {
   "cell_type": "code",
   "execution_count": 44,
   "id": "172a1fc7-0b83-40b8-9203-a1c43936e927",
   "metadata": {},
   "outputs": [
    {
     "data": {
      "text/plain": [
       "dict"
      ]
     },
     "execution_count": 44,
     "metadata": {},
     "output_type": "execute_result"
    }
   ],
   "source": [
    "type(s)"
   ]
  },
  {
   "cell_type": "code",
   "execution_count": 45,
   "id": "b6bbd05b-cb65-4a2b-b7aa-42f5a83ee274",
   "metadata": {},
   "outputs": [],
   "source": [
    "s1 = {1,2,3,4,5,6,6,7,7}"
   ]
  },
  {
   "cell_type": "code",
   "execution_count": 46,
   "id": "02e67070-33d9-4d68-873a-b7bf1e9fdeb8",
   "metadata": {},
   "outputs": [
    {
     "data": {
      "text/plain": [
       "set"
      ]
     },
     "execution_count": 46,
     "metadata": {},
     "output_type": "execute_result"
    }
   ],
   "source": [
    "type(s1)"
   ]
  },
  {
   "cell_type": "code",
   "execution_count": 47,
   "id": "cbb67ae6-5d0b-4cbb-b09c-563c601db1db",
   "metadata": {},
   "outputs": [
    {
     "data": {
      "text/plain": [
       "{1, 2, 3, 4, 5, 6, 7}"
      ]
     },
     "execution_count": 47,
     "metadata": {},
     "output_type": "execute_result"
    }
   ],
   "source": [
    "s1"
   ]
  },
  {
   "cell_type": "code",
   "execution_count": 48,
   "id": "03b84752-1c64-42c3-ae00-aa8973a38764",
   "metadata": {},
   "outputs": [],
   "source": [
    "s2 = {\"Amit\",\"Amit\",\"aamit\",1,2,3,4,5,6,5,4,3,2,1}"
   ]
  },
  {
   "cell_type": "code",
   "execution_count": 49,
   "id": "ff4f1128-8117-443d-9015-82bdc7a13675",
   "metadata": {},
   "outputs": [
    {
     "data": {
      "text/plain": [
       "{1, 2, 3, 4, 5, 6, 'Amit', 'aamit'}"
      ]
     },
     "execution_count": 49,
     "metadata": {},
     "output_type": "execute_result"
    }
   ],
   "source": [
    "s2"
   ]
  },
  {
   "cell_type": "code",
   "execution_count": 50,
   "id": "8d3611a6-3c69-486e-937b-3a36a27d49ca",
   "metadata": {},
   "outputs": [
    {
     "data": {
      "text/plain": [
       "['Amit', 2, 3, 4, 1, 5, 6, 'aamit']"
      ]
     },
     "execution_count": 50,
     "metadata": {},
     "output_type": "execute_result"
    }
   ],
   "source": [
    "list(s2)  #typecasting"
   ]
  },
  {
   "cell_type": "code",
   "execution_count": 51,
   "id": "236b372b-50d8-41e1-880f-0980486271c0",
   "metadata": {},
   "outputs": [
    {
     "data": {
      "text/plain": [
       "{300, 4, 5, 'Amit', 'Pwskills'}"
      ]
     },
     "execution_count": 51,
     "metadata": {},
     "output_type": "execute_result"
    }
   ],
   "source": [
    "set(l2)  #typecasting"
   ]
  },
  {
   "cell_type": "code",
   "execution_count": 52,
   "id": "0706f1f2-904f-448c-b7ce-e59bfe5c11f4",
   "metadata": {},
   "outputs": [
    {
     "ename": "TypeError",
     "evalue": "unhashable type: 'list'",
     "output_type": "error",
     "traceback": [
      "\u001b[0;31m---------------------------------------------------------------------------\u001b[0m",
      "\u001b[0;31mTypeError\u001b[0m                                 Traceback (most recent call last)",
      "Cell \u001b[0;32mIn[52], line 1\u001b[0m\n\u001b[0;32m----> 1\u001b[0m \u001b[38;5;28;43mset\u001b[39;49m\u001b[43m(\u001b[49m\u001b[43ml1\u001b[49m\u001b[43m)\u001b[49m  \u001b[38;5;66;03m#l1 having list of list, so give us error\u001b[39;00m\n\u001b[1;32m      2\u001b[0m \u001b[38;5;66;03m#not able to create unique hashing\u001b[39;00m\n",
      "\u001b[0;31mTypeError\u001b[0m: unhashable type: 'list'"
     ]
    }
   ],
   "source": [
    "set(l1)  #l1 having list of list, so give us error\n",
    "#not able to create unique hashing"
   ]
  },
  {
   "cell_type": "code",
   "execution_count": 53,
   "id": "b3bea303-db08-4407-b9c3-1638041c922c",
   "metadata": {},
   "outputs": [
    {
     "data": {
      "text/plain": [
       "{1, 2, 3, 4, 5, 6, 'Amit', 'aamit'}"
      ]
     },
     "execution_count": 53,
     "metadata": {},
     "output_type": "execute_result"
    }
   ],
   "source": [
    "s2"
   ]
  },
  {
   "cell_type": "code",
   "execution_count": 54,
   "id": "cae5830f-8bc9-4c13-88e4-df627db74d3e",
   "metadata": {},
   "outputs": [
    {
     "ename": "TypeError",
     "evalue": "'set' object is not subscriptable",
     "output_type": "error",
     "traceback": [
      "\u001b[0;31m---------------------------------------------------------------------------\u001b[0m",
      "\u001b[0;31mTypeError\u001b[0m                                 Traceback (most recent call last)",
      "Cell \u001b[0;32mIn[54], line 1\u001b[0m\n\u001b[0;32m----> 1\u001b[0m \u001b[43ms2\u001b[49m\u001b[43m[\u001b[49m\u001b[38;5;241;43m0\u001b[39;49m\u001b[43m]\u001b[49m  \u001b[38;5;66;03m#not able to do indexing in set, but we can typecast it and then do indexing\u001b[39;00m\n",
      "\u001b[0;31mTypeError\u001b[0m: 'set' object is not subscriptable"
     ]
    }
   ],
   "source": [
    "s2[0]  #not able to do indexing in set, but we can typecast it and then do indexing"
   ]
  },
  {
   "cell_type": "markdown",
   "id": "7e2c9cfa-63e3-4de4-8805-202d14194cac",
   "metadata": {},
   "source": [
    "SET never sort the data, and it is neither mutable nor immutable"
   ]
  },
  {
   "cell_type": "markdown",
   "id": "2dd12400-58ff-48eb-af4e-9f64ac50ef6a",
   "metadata": {},
   "source": [
    "DICTIONARY data type\n",
    "Ket Value Pair"
   ]
  },
  {
   "cell_type": "code",
   "execution_count": 55,
   "id": "c3dd0d8c-c67f-4649-b13b-de3abf7ac822",
   "metadata": {},
   "outputs": [],
   "source": [
    "d = {}"
   ]
  },
  {
   "cell_type": "code",
   "execution_count": 56,
   "id": "fa357e3e-ac21-4869-8515-65ec650df654",
   "metadata": {},
   "outputs": [
    {
     "data": {
      "text/plain": [
       "dict"
      ]
     },
     "execution_count": 56,
     "metadata": {},
     "output_type": "execute_result"
    }
   ],
   "source": [
    "type(d)"
   ]
  },
  {
   "cell_type": "code",
   "execution_count": 57,
   "id": "e35522ed-8bae-4fe6-a563-0309fbd3cbb7",
   "metadata": {},
   "outputs": [],
   "source": [
    "d1 = {'name' : \"Amit\", \"Subject\" : [\"DS\", \"Big Data\", \"Data Analytics\"], \"number\" : 5898034}"
   ]
  },
  {
   "cell_type": "code",
   "execution_count": 58,
   "id": "8721859a-aaa0-4afe-aecb-29b7e1d719c3",
   "metadata": {},
   "outputs": [
    {
     "data": {
      "text/plain": [
       "{'name': 'Amit',\n",
       " 'Subject': ['DS', 'Big Data', 'Data Analytics'],\n",
       " 'number': 5898034}"
      ]
     },
     "execution_count": 58,
     "metadata": {},
     "output_type": "execute_result"
    }
   ],
   "source": [
    "d1"
   ]
  },
  {
   "cell_type": "code",
   "execution_count": 59,
   "id": "70901126-831e-4a3f-93d0-30ea6e424c24",
   "metadata": {},
   "outputs": [],
   "source": [
    "d2 = {\"name\": \"Amit\",\"name\": \"Raj\"}"
   ]
  },
  {
   "cell_type": "code",
   "execution_count": 60,
   "id": "7608ba88-554a-4e71-b884-2b4083336ff5",
   "metadata": {},
   "outputs": [
    {
     "data": {
      "text/plain": [
       "{'name': 'Raj'}"
      ]
     },
     "execution_count": 60,
     "metadata": {},
     "output_type": "execute_result"
    }
   ],
   "source": [
    "d2  #if key is not  unique, then value will be considered latest wala"
   ]
  },
  {
   "cell_type": "code",
   "execution_count": 61,
   "id": "bc60585d-30d3-4fb3-b734-903762d659d0",
   "metadata": {},
   "outputs": [],
   "source": [
    "d3 = {233: \"AMit\"}"
   ]
  },
  {
   "cell_type": "code",
   "execution_count": 62,
   "id": "d568b8da-633f-464d-8402-03f6a18129a2",
   "metadata": {},
   "outputs": [
    {
     "data": {
      "text/plain": [
       "{233: 'AMit'}"
      ]
     },
     "execution_count": 62,
     "metadata": {},
     "output_type": "execute_result"
    }
   ],
   "source": [
    "d3"
   ]
  },
  {
   "cell_type": "code",
   "execution_count": 63,
   "id": "723d093d-4399-468b-9f71-7298810293b6",
   "metadata": {},
   "outputs": [
    {
     "ename": "TypeError",
     "evalue": "unhashable type: 'list'",
     "output_type": "error",
     "traceback": [
      "\u001b[0;31m---------------------------------------------------------------------------\u001b[0m",
      "\u001b[0;31mTypeError\u001b[0m                                 Traceback (most recent call last)",
      "Cell \u001b[0;32mIn[63], line 1\u001b[0m\n\u001b[0;32m----> 1\u001b[0m d4 \u001b[38;5;241m=\u001b[39m {[\u001b[38;5;241m1\u001b[39m,\u001b[38;5;241m2\u001b[39m,\u001b[38;5;241m3\u001b[39m,\u001b[38;5;241m4\u001b[39m] : \u001b[38;5;124m\"\u001b[39m\u001b[38;5;124mAmit\u001b[39m\u001b[38;5;124m\"\u001b[39m}  \u001b[38;5;66;03m#key as a list not considerable\u001b[39;00m\n",
      "\u001b[0;31mTypeError\u001b[0m: unhashable type: 'list'"
     ]
    }
   ],
   "source": [
    "d4 = {[1,2,3,4] : \"Amit\"}  #key as a list not considerable"
   ]
  },
  {
   "cell_type": "code",
   "execution_count": 64,
   "id": "2be12335-5c8e-48e0-8008-11b73563beca",
   "metadata": {},
   "outputs": [
    {
     "ename": "TypeError",
     "evalue": "unhashable type: 'set'",
     "output_type": "error",
     "traceback": [
      "\u001b[0;31m---------------------------------------------------------------------------\u001b[0m",
      "\u001b[0;31mTypeError\u001b[0m                                 Traceback (most recent call last)",
      "Cell \u001b[0;32mIn[64], line 1\u001b[0m\n\u001b[0;32m----> 1\u001b[0m d5 \u001b[38;5;241m=\u001b[39m {{\u001b[38;5;241m1\u001b[39m,\u001b[38;5;241m2\u001b[39m,\u001b[38;5;241m3\u001b[39m,\u001b[38;5;241m4\u001b[39m} : \u001b[38;5;124m\"\u001b[39m\u001b[38;5;124mAMit\u001b[39m\u001b[38;5;124m\"\u001b[39m} \u001b[38;5;66;03m#set as a key not possible\u001b[39;00m\n",
      "\u001b[0;31mTypeError\u001b[0m: unhashable type: 'set'"
     ]
    }
   ],
   "source": [
    "d5 = {{1,2,3,4} : \"AMit\"} #set as a key not possible"
   ]
  },
  {
   "cell_type": "code",
   "execution_count": 65,
   "id": "1391e5d8-bb01-44d3-8636-7604484a560e",
   "metadata": {},
   "outputs": [],
   "source": [
    "d6 = {(1,2,3,4) : \"AMit\"}  #Key as a tuple possible"
   ]
  },
  {
   "cell_type": "code",
   "execution_count": 66,
   "id": "b5f4b868-d9de-457b-9d67-e2126e3c710a",
   "metadata": {},
   "outputs": [
    {
     "data": {
      "text/plain": [
       "{(1, 2, 3, 4): 'AMit'}"
      ]
     },
     "execution_count": 66,
     "metadata": {},
     "output_type": "execute_result"
    }
   ],
   "source": [
    "d6"
   ]
  },
  {
   "cell_type": "markdown",
   "id": "d63a5922-d455-47c1-8c53-277989f2c123",
   "metadata": {},
   "source": [
    "int,string, tuple allowed as a key in dictionary"
   ]
  },
  {
   "cell_type": "markdown",
   "id": "195320ba-d8a0-41fe-b7d9-46ad13b30563",
   "metadata": {},
   "source": [
    "specialcharacter not alloed as a key in dictionary"
   ]
  },
  {
   "cell_type": "code",
   "execution_count": 67,
   "id": "e74b4375-438c-4894-9f37-8f435b3af983",
   "metadata": {},
   "outputs": [],
   "source": [
    "d7 = {'course' : ['dsa', 'java','webdev','blockchain', 'cloud'], 'mentor': ('sudh', 'naik','vishwa','sunny'), 'price': {3000,400,5000,60000}, 'duration' : 1, 'acesss year' : 1, 'syllabus' : {'python' : ['core python', 'oops', 'pandas', 'numpy', 'db', 'mongodb'], 'ml' : ['supervised', 'unsupervised','reinforcement']}}"
   ]
  },
  {
   "cell_type": "code",
   "execution_count": 68,
   "id": "b699bd6a-c91f-4d2e-b1d2-16690e98ec66",
   "metadata": {},
   "outputs": [
    {
     "data": {
      "text/plain": [
       "{'course': ['dsa', 'java', 'webdev', 'blockchain', 'cloud'],\n",
       " 'mentor': ('sudh', 'naik', 'vishwa', 'sunny'),\n",
       " 'price': {400, 3000, 5000, 60000},\n",
       " 'duration': 1,\n",
       " 'acesss year': 1,\n",
       " 'syllabus': {'python': ['core python',\n",
       "   'oops',\n",
       "   'pandas',\n",
       "   'numpy',\n",
       "   'db',\n",
       "   'mongodb'],\n",
       "  'ml': ['supervised', 'unsupervised', 'reinforcement']}}"
      ]
     },
     "execution_count": 68,
     "metadata": {},
     "output_type": "execute_result"
    }
   ],
   "source": [
    "d7"
   ]
  },
  {
   "cell_type": "code",
   "execution_count": 69,
   "id": "7fbbc61b-e5b7-4190-af9a-daf05ae6d266",
   "metadata": {},
   "outputs": [
    {
     "data": {
      "text/plain": [
       "['dsa', 'java', 'webdev', 'blockchain', 'cloud']"
      ]
     },
     "execution_count": 69,
     "metadata": {},
     "output_type": "execute_result"
    }
   ],
   "source": [
    "d7['course']"
   ]
  },
  {
   "cell_type": "code",
   "execution_count": 70,
   "id": "ef63de10-408b-4c4a-a42c-32787e443909",
   "metadata": {},
   "outputs": [
    {
     "data": {
      "text/plain": [
       "('sudh', 'naik', 'vishwa', 'sunny')"
      ]
     },
     "execution_count": 70,
     "metadata": {},
     "output_type": "execute_result"
    }
   ],
   "source": [
    "d7['mentor']"
   ]
  },
  {
   "cell_type": "code",
   "execution_count": 71,
   "id": "c179fdd7-18fd-41e3-919e-d4e53c63c2f9",
   "metadata": {},
   "outputs": [
    {
     "data": {
      "text/plain": [
       "{400, 3000, 5000, 60000}"
      ]
     },
     "execution_count": 71,
     "metadata": {},
     "output_type": "execute_result"
    }
   ],
   "source": [
    "d7['price']"
   ]
  },
  {
   "cell_type": "code",
   "execution_count": 72,
   "id": "833389ac-1eeb-46c3-adb9-416ad81e8da8",
   "metadata": {},
   "outputs": [
    {
     "data": {
      "text/plain": [
       "{'python': ['core python', 'oops', 'pandas', 'numpy', 'db', 'mongodb'],\n",
       " 'ml': ['supervised', 'unsupervised', 'reinforcement']}"
      ]
     },
     "execution_count": 72,
     "metadata": {},
     "output_type": "execute_result"
    }
   ],
   "source": [
    "d7['syllabus']"
   ]
  },
  {
   "cell_type": "code",
   "execution_count": 73,
   "id": "647970f6-a659-486a-b73d-574b48c2f5f3",
   "metadata": {},
   "outputs": [
    {
     "data": {
      "text/plain": [
       "{'name': 'Raj'}"
      ]
     },
     "execution_count": 73,
     "metadata": {},
     "output_type": "execute_result"
    }
   ],
   "source": [
    "d2"
   ]
  },
  {
   "cell_type": "code",
   "execution_count": 74,
   "id": "bcb202da-643a-45df-85a3-9dbe0a860816",
   "metadata": {},
   "outputs": [],
   "source": [
    "d2['phone number'] = 784520265"
   ]
  },
  {
   "cell_type": "code",
   "execution_count": 75,
   "id": "db8c44ac-105a-45c6-aaae-3bc72b4844aa",
   "metadata": {},
   "outputs": [
    {
     "data": {
      "text/plain": [
       "{'name': 'Raj', 'phone number': 784520265}"
      ]
     },
     "execution_count": 75,
     "metadata": {},
     "output_type": "execute_result"
    }
   ],
   "source": [
    "d2"
   ]
  },
  {
   "cell_type": "code",
   "execution_count": 76,
   "id": "13b2895c-9163-4031-8930-12abda2abf8d",
   "metadata": {},
   "outputs": [],
   "source": [
    "d2['name'] = \"Aashu\""
   ]
  },
  {
   "cell_type": "code",
   "execution_count": 77,
   "id": "bf7d47ef-3ee1-4e3c-970d-4d884e430bc3",
   "metadata": {},
   "outputs": [
    {
     "data": {
      "text/plain": [
       "{'name': 'Aashu', 'phone number': 784520265}"
      ]
     },
     "execution_count": 77,
     "metadata": {},
     "output_type": "execute_result"
    }
   ],
   "source": [
    "d2"
   ]
  },
  {
   "cell_type": "markdown",
   "id": "c11f39b8-88e5-4927-8722-37b953f4ced0",
   "metadata": {},
   "source": [
    "Dictionary is mutable intentity"
   ]
  },
  {
   "cell_type": "markdown",
   "id": "cdadc6aa-fb10-4f48-90f3-76054912aff0",
   "metadata": {},
   "source": [
    "keep unique Key in dictionary"
   ]
  },
  {
   "cell_type": "code",
   "execution_count": null,
   "id": "335b3a68-3087-44e2-a574-1be21d6b4dbd",
   "metadata": {},
   "outputs": [],
   "source": []
  },
  {
   "cell_type": "markdown",
   "id": "1a1e721d-4941-498c-8797-a67e784acf3b",
   "metadata": {},
   "source": [
    "Inbuilt Function"
   ]
  },
  {
   "cell_type": "code",
   "execution_count": 78,
   "id": "80317c43-67d1-49d4-8460-65240677f79c",
   "metadata": {},
   "outputs": [],
   "source": [
    "s1 = \"Pwskills\""
   ]
  },
  {
   "cell_type": "code",
   "execution_count": 80,
   "id": "de5dbdfc-d204-4ef1-8261-80ac73371264",
   "metadata": {},
   "outputs": [
    {
     "data": {
      "text/plain": [
       "'Pwskills'"
      ]
     },
     "execution_count": 80,
     "metadata": {},
     "output_type": "execute_result"
    }
   ],
   "source": [
    "s1.capitalize()"
   ]
  },
  {
   "cell_type": "code",
   "execution_count": 81,
   "id": "7215a7db-8350-4181-85a1-97a1febb838a",
   "metadata": {},
   "outputs": [
    {
     "data": {
      "text/plain": [
       "2"
      ]
     },
     "execution_count": 81,
     "metadata": {},
     "output_type": "execute_result"
    }
   ],
   "source": [
    "s1.count('l')"
   ]
  },
  {
   "cell_type": "markdown",
   "id": "041374db-e24b-4f30-bbfa-5deea1020cc8",
   "metadata": {},
   "source": [
    "To know the function, after dot click on 'Tab'\n",
    "To know about the function, inside the bracket click 'shift+tab'"
   ]
  },
  {
   "cell_type": "code",
   "execution_count": 83,
   "id": "d3dd2c0f-a854-4322-a9ab-a7223ec4d607",
   "metadata": {},
   "outputs": [
    {
     "data": {
      "text/plain": [
       "'PWSKILLS'"
      ]
     },
     "execution_count": 83,
     "metadata": {},
     "output_type": "execute_result"
    }
   ],
   "source": [
    "s1.upper()"
   ]
  },
  {
   "cell_type": "code",
   "execution_count": 85,
   "id": "639a6b8d-98b0-4e26-8230-6db9c1125474",
   "metadata": {},
   "outputs": [
    {
     "data": {
      "text/plain": [
       "2"
      ]
     },
     "execution_count": 85,
     "metadata": {},
     "output_type": "execute_result"
    }
   ],
   "source": [
    "s1.find('s')  #give the lowest index of that string"
   ]
  },
  {
   "cell_type": "code",
   "execution_count": 86,
   "id": "dfc46ffa-48d9-4759-8239-5ff1c40149c0",
   "metadata": {},
   "outputs": [
    {
     "data": {
      "text/plain": [
       "0"
      ]
     },
     "execution_count": 86,
     "metadata": {},
     "output_type": "execute_result"
    }
   ],
   "source": [
    "s1.index('P')"
   ]
  },
  {
   "cell_type": "code",
   "execution_count": 89,
   "id": "7b2fe783-d578-416f-8965-79c806ddda4b",
   "metadata": {},
   "outputs": [
    {
     "data": {
      "text/plain": [
       "-1"
      ]
     },
     "execution_count": 89,
     "metadata": {},
     "output_type": "execute_result"
    }
   ],
   "source": [
    "s1.find('z')  #gives negative value not found in find function"
   ]
  },
  {
   "cell_type": "code",
   "execution_count": 90,
   "id": "bc392330-dd84-4703-9f03-f71df78cbdc6",
   "metadata": {},
   "outputs": [
    {
     "ename": "ValueError",
     "evalue": "substring not found",
     "output_type": "error",
     "traceback": [
      "\u001b[0;31m---------------------------------------------------------------------------\u001b[0m",
      "\u001b[0;31mValueError\u001b[0m                                Traceback (most recent call last)",
      "Cell \u001b[0;32mIn[90], line 1\u001b[0m\n\u001b[0;32m----> 1\u001b[0m \u001b[43ms1\u001b[49m\u001b[38;5;241;43m.\u001b[39;49m\u001b[43mindex\u001b[49m\u001b[43m(\u001b[49m\u001b[38;5;124;43m'\u001b[39;49m\u001b[38;5;124;43mz\u001b[39;49m\u001b[38;5;124;43m'\u001b[39;49m\u001b[43m)\u001b[49m  \u001b[38;5;66;03m#gives error if not found in index function\u001b[39;00m\n",
      "\u001b[0;31mValueError\u001b[0m: substring not found"
     ]
    }
   ],
   "source": [
    "s1.index('z')  #gives error if not found in index function"
   ]
  },
  {
   "cell_type": "code",
   "execution_count": 91,
   "id": "1321c405-84e8-438f-8df5-be512206811e",
   "metadata": {},
   "outputs": [
    {
     "data": {
      "text/plain": [
       "'pwskills'"
      ]
     },
     "execution_count": 91,
     "metadata": {},
     "output_type": "execute_result"
    }
   ],
   "source": [
    "s1.lower()"
   ]
  },
  {
   "cell_type": "code",
   "execution_count": 92,
   "id": "a5d5af16-a2bd-446d-b88b-f12d03ec3b9c",
   "metadata": {},
   "outputs": [
    {
     "data": {
      "text/plain": [
       "'Pwskills'"
      ]
     },
     "execution_count": 92,
     "metadata": {},
     "output_type": "execute_result"
    }
   ],
   "source": [
    "s1.title()"
   ]
  },
  {
   "cell_type": "code",
   "execution_count": 93,
   "id": "7ffb763f-c4a3-4c2b-bbe5-a0777ee073b9",
   "metadata": {},
   "outputs": [],
   "source": [
    "s2 = \"My name is Amit raj\""
   ]
  },
  {
   "cell_type": "code",
   "execution_count": 94,
   "id": "4fecf593-5823-4e6e-9755-b4cc1995e85b",
   "metadata": {},
   "outputs": [
    {
     "data": {
      "text/plain": [
       "'My name is Amit raj'"
      ]
     },
     "execution_count": 94,
     "metadata": {},
     "output_type": "execute_result"
    }
   ],
   "source": [
    "s2"
   ]
  },
  {
   "cell_type": "code",
   "execution_count": 95,
   "id": "4c9d6103-045d-4a47-9f92-02ff9f35a925",
   "metadata": {},
   "outputs": [
    {
     "data": {
      "text/plain": [
       "'My Name Is Amit Raj'"
      ]
     },
     "execution_count": 95,
     "metadata": {},
     "output_type": "execute_result"
    }
   ],
   "source": [
    "s2.title()"
   ]
  },
  {
   "cell_type": "code",
   "execution_count": 96,
   "id": "1624ece3-c7c2-450e-86b4-4a812e0df611",
   "metadata": {},
   "outputs": [
    {
     "data": {
      "text/plain": [
       "['Pwskills']"
      ]
     },
     "execution_count": 96,
     "metadata": {},
     "output_type": "execute_result"
    }
   ],
   "source": [
    "s1.split()"
   ]
  },
  {
   "cell_type": "code",
   "execution_count": 97,
   "id": "c25d023d-5c71-4d3d-866c-457811371104",
   "metadata": {},
   "outputs": [
    {
     "data": {
      "text/plain": [
       "['My', 'name', 'is', 'Amit', 'raj']"
      ]
     },
     "execution_count": 97,
     "metadata": {},
     "output_type": "execute_result"
    }
   ],
   "source": [
    "s2.split()"
   ]
  },
  {
   "cell_type": "code",
   "execution_count": 98,
   "id": "ea0bbd51-bd43-4ac3-b1ae-d7fc3731b6c1",
   "metadata": {},
   "outputs": [],
   "source": [
    "s3 = \"My , name, is, amit, raj\""
   ]
  },
  {
   "cell_type": "code",
   "execution_count": 99,
   "id": "13c26aa4-13e7-47f2-a422-250573dcf613",
   "metadata": {},
   "outputs": [
    {
     "data": {
      "text/plain": [
       "'My , name, is, amit, raj'"
      ]
     },
     "execution_count": 99,
     "metadata": {},
     "output_type": "execute_result"
    }
   ],
   "source": [
    "s3"
   ]
  },
  {
   "cell_type": "code",
   "execution_count": 100,
   "id": "ccd6055d-769d-4e6c-ba90-8fd87c5dd2cd",
   "metadata": {},
   "outputs": [
    {
     "data": {
      "text/plain": [
       "['My', ',', 'name,', 'is,', 'amit,', 'raj']"
      ]
     },
     "execution_count": 100,
     "metadata": {},
     "output_type": "execute_result"
    }
   ],
   "source": [
    "s3.split()"
   ]
  },
  {
   "cell_type": "code",
   "execution_count": 101,
   "id": "58848f44-8a22-4866-ba2b-8c8fe638fa8f",
   "metadata": {},
   "outputs": [
    {
     "data": {
      "text/plain": [
       "['My ', ' name', ' is', ' amit', ' raj']"
      ]
     },
     "execution_count": 101,
     "metadata": {},
     "output_type": "execute_result"
    }
   ],
   "source": [
    "s3.split(',')"
   ]
  },
  {
   "cell_type": "code",
   "execution_count": 102,
   "id": "232e8f04-c406-4788-afea-11e887295faf",
   "metadata": {},
   "outputs": [
    {
     "data": {
      "text/plain": [
       "['My , n', 'me, is, ', 'mit, r', 'j']"
      ]
     },
     "execution_count": 102,
     "metadata": {},
     "output_type": "execute_result"
    }
   ],
   "source": [
    "s3.split('a')"
   ]
  },
  {
   "cell_type": "code",
   "execution_count": 103,
   "id": "b9a67309-b69d-4909-8fad-d4f0ffde1efa",
   "metadata": {},
   "outputs": [],
   "source": [
    "s4 = \"This is my fsds class. i am attending this class for 4th time\""
   ]
  },
  {
   "cell_type": "code",
   "execution_count": 104,
   "id": "dbfd563d-864d-4c8b-a4dd-71b531374c7b",
   "metadata": {},
   "outputs": [
    {
     "data": {
      "text/plain": [
       "['This is my fsds class', ' i am attending this class for 4th time']"
      ]
     },
     "execution_count": 104,
     "metadata": {},
     "output_type": "execute_result"
    }
   ],
   "source": [
    "s4.split('.')"
   ]
  },
  {
   "cell_type": "code",
   "execution_count": 105,
   "id": "74685369-7fb6-4d2a-b3d2-940fe72c19f7",
   "metadata": {},
   "outputs": [
    {
     "data": {
      "text/plain": [
       "'This is my fsds class'"
      ]
     },
     "execution_count": 105,
     "metadata": {},
     "output_type": "execute_result"
    }
   ],
   "source": [
    "s4.split('.')[0]"
   ]
  },
  {
   "cell_type": "code",
   "execution_count": 106,
   "id": "a3b5be04-10fc-4a95-b330-e6e3fd97d2d9",
   "metadata": {},
   "outputs": [
    {
     "data": {
      "text/plain": [
       "' i am attending this class for 4th time'"
      ]
     },
     "execution_count": 106,
     "metadata": {},
     "output_type": "execute_result"
    }
   ],
   "source": [
    "s4.split('.')[1]"
   ]
  },
  {
   "cell_type": "code",
   "execution_count": 107,
   "id": "01e46d6e-80a5-4cb8-9314-5b2c6b190b97",
   "metadata": {},
   "outputs": [
    {
     "data": {
      "text/plain": [
       "'Pwskills'"
      ]
     },
     "execution_count": 107,
     "metadata": {},
     "output_type": "execute_result"
    }
   ],
   "source": [
    "s1"
   ]
  },
  {
   "cell_type": "code",
   "execution_count": 108,
   "id": "6cb8a3f1-62e5-4cc1-8db2-02d5ab4b790a",
   "metadata": {},
   "outputs": [
    {
     "data": {
      "text/plain": [
       "'My name is Amit raj'"
      ]
     },
     "execution_count": 108,
     "metadata": {},
     "output_type": "execute_result"
    }
   ],
   "source": [
    "s2"
   ]
  },
  {
   "cell_type": "code",
   "execution_count": 109,
   "id": "48c7b6fd-b6f0-4315-8198-7bd37507919d",
   "metadata": {},
   "outputs": [
    {
     "data": {
      "text/plain": [
       "'My , name, is, amit, raj'"
      ]
     },
     "execution_count": 109,
     "metadata": {},
     "output_type": "execute_result"
    }
   ],
   "source": [
    "s3"
   ]
  },
  {
   "cell_type": "code",
   "execution_count": 110,
   "id": "4e9c5482-b129-4d78-9a7d-7d040c8afc15",
   "metadata": {},
   "outputs": [
    {
     "data": {
      "text/plain": [
       "'Pwskills'"
      ]
     },
     "execution_count": 110,
     "metadata": {},
     "output_type": "execute_result"
    }
   ],
   "source": [
    "s1"
   ]
  },
  {
   "cell_type": "code",
   "execution_count": 111,
   "id": "f07d5f8d-51cc-48bd-9d4c-1fe503c3a07e",
   "metadata": {},
   "outputs": [
    {
     "data": {
      "text/plain": [
       "'Pwskills'"
      ]
     },
     "execution_count": 111,
     "metadata": {},
     "output_type": "execute_result"
    }
   ],
   "source": [
    "s1.capitalize()"
   ]
  },
  {
   "cell_type": "code",
   "execution_count": 112,
   "id": "b4af5a68-e4e2-469b-b531-b47b4816576c",
   "metadata": {},
   "outputs": [
    {
     "data": {
      "text/plain": [
       "'My name is amit raj'"
      ]
     },
     "execution_count": 112,
     "metadata": {},
     "output_type": "execute_result"
    }
   ],
   "source": [
    "s2.capitalize()"
   ]
  },
  {
   "cell_type": "code",
   "execution_count": 113,
   "id": "5677d1ed-7bdb-4185-ad3e-80a05076cf85",
   "metadata": {},
   "outputs": [
    {
     "data": {
      "text/plain": [
       "'Pwskills'"
      ]
     },
     "execution_count": 113,
     "metadata": {},
     "output_type": "execute_result"
    }
   ],
   "source": [
    "s1.title()"
   ]
  },
  {
   "cell_type": "code",
   "execution_count": 114,
   "id": "d65cc7dc-bca6-4e08-8c81-b6f3d216457b",
   "metadata": {},
   "outputs": [
    {
     "data": {
      "text/plain": [
       "'My Name Is Amit Raj'"
      ]
     },
     "execution_count": 114,
     "metadata": {},
     "output_type": "execute_result"
    }
   ],
   "source": [
    "s2.title()"
   ]
  },
  {
   "cell_type": "markdown",
   "id": "7e0ed508-d173-4b05-8d40-49d50ef086c3",
   "metadata": {},
   "source": [
    "Capitalize only turn 1st letter into capital letter, but title capital the all words of 1st letter"
   ]
  },
  {
   "cell_type": "code",
   "execution_count": 115,
   "id": "51ef56ab-6b90-45cb-8a82-0c9ddae4687d",
   "metadata": {},
   "outputs": [
    {
     "data": {
      "text/plain": [
       "'My name is Amit raj'"
      ]
     },
     "execution_count": 115,
     "metadata": {},
     "output_type": "execute_result"
    }
   ],
   "source": [
    "s2"
   ]
  },
  {
   "cell_type": "code",
   "execution_count": 118,
   "id": "f76d17f7-0639-4a2d-8acd-dcd9f9264e6b",
   "metadata": {},
   "outputs": [
    {
     "data": {
      "text/plain": [
       "'My aame is Amit raj'"
      ]
     },
     "execution_count": 118,
     "metadata": {},
     "output_type": "execute_result"
    }
   ],
   "source": [
    "s2.replace('n', 'a') #not change in original string, just try to create new reference"
   ]
  },
  {
   "cell_type": "code",
   "execution_count": 119,
   "id": "2ad075a0-5da2-4d09-b73b-6ae7b11c301b",
   "metadata": {},
   "outputs": [
    {
     "data": {
      "text/plain": [
       "'My name is Amit raj'"
      ]
     },
     "execution_count": 119,
     "metadata": {},
     "output_type": "execute_result"
    }
   ],
   "source": [
    "s2"
   ]
  },
  {
   "cell_type": "code",
   "execution_count": 120,
   "id": "c9698142-0b02-4a07-b3a8-05d0abd3804a",
   "metadata": {},
   "outputs": [
    {
     "data": {
      "text/plain": [
       "'                Pwskills                '"
      ]
     },
     "execution_count": 120,
     "metadata": {},
     "output_type": "execute_result"
    }
   ],
   "source": [
    "s1.center(40,' ')"
   ]
  },
  {
   "cell_type": "code",
   "execution_count": 121,
   "id": "4b38d479-0c77-4973-b2a1-0c48e5373908",
   "metadata": {},
   "outputs": [
    {
     "data": {
      "text/plain": [
       "'Pwskills'"
      ]
     },
     "execution_count": 121,
     "metadata": {},
     "output_type": "execute_result"
    }
   ],
   "source": [
    "s1"
   ]
  },
  {
   "cell_type": "code",
   "execution_count": 122,
   "id": "1986a466-4a8b-4b34-8b6c-f84397fa2a40",
   "metadata": {},
   "outputs": [
    {
     "data": {
      "text/plain": [
       "'Pwskills'"
      ]
     },
     "execution_count": 122,
     "metadata": {},
     "output_type": "execute_result"
    }
   ],
   "source": [
    "s1.rstrip()"
   ]
  },
  {
   "cell_type": "code",
   "execution_count": 123,
   "id": "518bd6d3-be3b-4d53-ad70-776988ae0f86",
   "metadata": {},
   "outputs": [],
   "source": [
    "s5 = \"       PwSkills      \""
   ]
  },
  {
   "cell_type": "code",
   "execution_count": 124,
   "id": "49419724-0727-4ada-b749-6c117b65ccf8",
   "metadata": {},
   "outputs": [
    {
     "data": {
      "text/plain": [
       "'       PwSkills      '"
      ]
     },
     "execution_count": 124,
     "metadata": {},
     "output_type": "execute_result"
    }
   ],
   "source": [
    "s5"
   ]
  },
  {
   "cell_type": "code",
   "execution_count": 126,
   "id": "81393b92-2d92-48d6-993c-ccf1024075b3",
   "metadata": {},
   "outputs": [
    {
     "data": {
      "text/plain": [
       "'       PwSkills'"
      ]
     },
     "execution_count": 126,
     "metadata": {},
     "output_type": "execute_result"
    }
   ],
   "source": [
    "s5.rstrip()  #remove the space of right hand side"
   ]
  },
  {
   "cell_type": "code",
   "execution_count": 128,
   "id": "b799175d-6d5d-47c0-bf7e-da78778805d2",
   "metadata": {},
   "outputs": [
    {
     "data": {
      "text/plain": [
       "'PwSkills      '"
      ]
     },
     "execution_count": 128,
     "metadata": {},
     "output_type": "execute_result"
    }
   ],
   "source": [
    "s5.lstrip()  #remove left hand side spaces"
   ]
  },
  {
   "cell_type": "code",
   "execution_count": 130,
   "id": "f6c1539e-609d-47c2-88ba-6c786f593a02",
   "metadata": {},
   "outputs": [
    {
     "data": {
      "text/plain": [
       "'PwSkills'"
      ]
     },
     "execution_count": 130,
     "metadata": {},
     "output_type": "execute_result"
    }
   ],
   "source": [
    "s5.strip()  #remove both side spaces"
   ]
  },
  {
   "cell_type": "code",
   "execution_count": 131,
   "id": "4e3cf92d-3da6-42e1-8649-a28fe143222d",
   "metadata": {},
   "outputs": [
    {
     "data": {
      "text/plain": [
       "'Pwskills'"
      ]
     },
     "execution_count": 131,
     "metadata": {},
     "output_type": "execute_result"
    }
   ],
   "source": [
    "s1"
   ]
  },
  {
   "cell_type": "code",
   "execution_count": 132,
   "id": "432d6e4b-8e0f-41ae-a300-86b863e94a9e",
   "metadata": {},
   "outputs": [
    {
     "data": {
      "text/plain": [
       "True"
      ]
     },
     "execution_count": 132,
     "metadata": {},
     "output_type": "execute_result"
    }
   ],
   "source": [
    "s1.isalnum()"
   ]
  },
  {
   "cell_type": "code",
   "execution_count": 134,
   "id": "ad2c626f-e3c7-4192-b71a-3f95e8107935",
   "metadata": {},
   "outputs": [
    {
     "data": {
      "text/plain": [
       "True"
      ]
     },
     "execution_count": 134,
     "metadata": {},
     "output_type": "execute_result"
    }
   ],
   "source": [
    "s1.isalpha()"
   ]
  },
  {
   "cell_type": "code",
   "execution_count": 135,
   "id": "662c89c6-aace-44d4-ac4c-da9284ebc64f",
   "metadata": {},
   "outputs": [
    {
     "data": {
      "text/plain": [
       "False"
      ]
     },
     "execution_count": 135,
     "metadata": {},
     "output_type": "execute_result"
    }
   ],
   "source": [
    "s1.isnumeric()"
   ]
  },
  {
   "cell_type": "code",
   "execution_count": 136,
   "id": "f4b419a0-be31-4203-970d-5c8d8036ef77",
   "metadata": {},
   "outputs": [
    {
     "data": {
      "text/plain": [
       "False"
      ]
     },
     "execution_count": 136,
     "metadata": {},
     "output_type": "execute_result"
    }
   ],
   "source": [
    "s1.islower()"
   ]
  },
  {
   "cell_type": "code",
   "execution_count": 137,
   "id": "2ac9a96d-0ef6-4fd9-a0aa-82c7d8f3247c",
   "metadata": {},
   "outputs": [
    {
     "data": {
      "text/plain": [
       "[1, 2, 3, 4, 5, 'Amit', 'Raj', (3+6j), True, 45.7, [4, 7, 2, 8, 1]]"
      ]
     },
     "execution_count": 137,
     "metadata": {},
     "output_type": "execute_result"
    }
   ],
   "source": [
    "l1"
   ]
  },
  {
   "cell_type": "code",
   "execution_count": 138,
   "id": "29ac6c53-9005-4556-83b0-34396b3c2f64",
   "metadata": {},
   "outputs": [],
   "source": [
    "l1.append(\"AMIT\")"
   ]
  },
  {
   "cell_type": "code",
   "execution_count": 139,
   "id": "9f2d063c-c1a2-4e65-9e03-99f36c16f04e",
   "metadata": {},
   "outputs": [
    {
     "data": {
      "text/plain": [
       "[1, 2, 3, 4, 5, 'Amit', 'Raj', (3+6j), True, 45.7, [4, 7, 2, 8, 1], 'AMIT']"
      ]
     },
     "execution_count": 139,
     "metadata": {},
     "output_type": "execute_result"
    }
   ],
   "source": [
    "l1"
   ]
  },
  {
   "cell_type": "code",
   "execution_count": 140,
   "id": "f098e084-a4fd-40a6-b206-aab9189c90be",
   "metadata": {},
   "outputs": [],
   "source": [
    "l1.insert(3, \"RAJ\")"
   ]
  },
  {
   "cell_type": "code",
   "execution_count": 141,
   "id": "784550ac-2983-415d-9f5e-d34ae008ad71",
   "metadata": {},
   "outputs": [
    {
     "data": {
      "text/plain": [
       "[1,\n",
       " 2,\n",
       " 3,\n",
       " 'RAJ',\n",
       " 4,\n",
       " 5,\n",
       " 'Amit',\n",
       " 'Raj',\n",
       " (3+6j),\n",
       " True,\n",
       " 45.7,\n",
       " [4, 7, 2, 8, 1],\n",
       " 'AMIT']"
      ]
     },
     "execution_count": 141,
     "metadata": {},
     "output_type": "execute_result"
    }
   ],
   "source": [
    "l1"
   ]
  },
  {
   "cell_type": "code",
   "execution_count": 142,
   "id": "05c97e8c-14a8-4639-a22e-500e1f994f16",
   "metadata": {},
   "outputs": [
    {
     "data": {
      "text/plain": [
       "[300, 4, 5, 'Pwskills', 'Amit']"
      ]
     },
     "execution_count": 142,
     "metadata": {},
     "output_type": "execute_result"
    }
   ],
   "source": [
    "l2"
   ]
  },
  {
   "cell_type": "code",
   "execution_count": 143,
   "id": "9ae49daf-595e-4d63-a776-057b36a51523",
   "metadata": {},
   "outputs": [],
   "source": [
    "l2.extend(\"amit\")  #split internally and then insert"
   ]
  },
  {
   "cell_type": "code",
   "execution_count": 144,
   "id": "b3fd987d-abf2-4525-bfce-56cc60e040b1",
   "metadata": {},
   "outputs": [
    {
     "data": {
      "text/plain": [
       "[300, 4, 5, 'Pwskills', 'Amit', 'a', 'm', 'i', 't']"
      ]
     },
     "execution_count": 144,
     "metadata": {},
     "output_type": "execute_result"
    }
   ],
   "source": [
    "l2"
   ]
  },
  {
   "cell_type": "code",
   "execution_count": 146,
   "id": "8019b8f4-a8f3-4090-a01c-ea7f6dfde481",
   "metadata": {},
   "outputs": [],
   "source": [
    "l3 = [1,2,4,4,5]"
   ]
  },
  {
   "cell_type": "code",
   "execution_count": 147,
   "id": "3c38e306-605f-4624-9d95-e88b425d871b",
   "metadata": {},
   "outputs": [],
   "source": [
    "l3.append([3,4,5,6])"
   ]
  },
  {
   "cell_type": "code",
   "execution_count": 148,
   "id": "add81266-cbd2-4150-854a-9fba4be43d28",
   "metadata": {},
   "outputs": [
    {
     "data": {
      "text/plain": [
       "[1, 2, 4, 4, 5, [3, 4, 5, 6]]"
      ]
     },
     "execution_count": 148,
     "metadata": {},
     "output_type": "execute_result"
    }
   ],
   "source": [
    "l3"
   ]
  },
  {
   "cell_type": "code",
   "execution_count": 150,
   "id": "d5be4e56-ba28-4ddf-b6b7-28c1032798d5",
   "metadata": {},
   "outputs": [],
   "source": [
    "l3.insert(1,[8,9,66])"
   ]
  },
  {
   "cell_type": "code",
   "execution_count": 151,
   "id": "2037d797-5fee-4c47-97b9-7ce3bd99bd8d",
   "metadata": {},
   "outputs": [
    {
     "data": {
      "text/plain": [
       "[1, [8, 9, 66], 2, 4, 4, 5, [3, 4, 5, 6]]"
      ]
     },
     "execution_count": 151,
     "metadata": {},
     "output_type": "execute_result"
    }
   ],
   "source": [
    "l3"
   ]
  },
  {
   "cell_type": "code",
   "execution_count": 154,
   "id": "1e28b0d0-d8bf-4513-b17f-27fa80f6adbc",
   "metadata": {},
   "outputs": [],
   "source": [
    "l3.extend([4,5,6])  #inserting value as a indivisual value"
   ]
  },
  {
   "cell_type": "code",
   "execution_count": 155,
   "id": "596079d9-4940-4edd-8efd-1af7d4830e6a",
   "metadata": {},
   "outputs": [
    {
     "data": {
      "text/plain": [
       "[1, [8, 9, 66], 2, 4, 4, 5, [3, 4, 5, 6], 4, 5, 6, 4, 5, 6]"
      ]
     },
     "execution_count": 155,
     "metadata": {},
     "output_type": "execute_result"
    }
   ],
   "source": [
    "l3"
   ]
  },
  {
   "cell_type": "code",
   "execution_count": 156,
   "id": "3ec19935-c1a8-4b4b-9db9-f7281657ee77",
   "metadata": {},
   "outputs": [
    {
     "data": {
      "text/plain": [
       "6"
      ]
     },
     "execution_count": 156,
     "metadata": {},
     "output_type": "execute_result"
    }
   ],
   "source": [
    "l3.pop()"
   ]
  },
  {
   "cell_type": "code",
   "execution_count": 157,
   "id": "66c225e8-403f-4bb9-8e4e-02ae2c26253d",
   "metadata": {},
   "outputs": [
    {
     "data": {
      "text/plain": [
       "[1, [8, 9, 66], 2, 4, 4, 5, [3, 4, 5, 6], 4, 5, 6, 4, 5]"
      ]
     },
     "execution_count": 157,
     "metadata": {},
     "output_type": "execute_result"
    }
   ],
   "source": [
    "l3"
   ]
  },
  {
   "cell_type": "code",
   "execution_count": 158,
   "id": "b18a3624-436e-4efb-995c-d06d56b0c1a4",
   "metadata": {},
   "outputs": [
    {
     "data": {
      "text/plain": [
       "[8, 9, 66]"
      ]
     },
     "execution_count": 158,
     "metadata": {},
     "output_type": "execute_result"
    }
   ],
   "source": [
    "l3.pop(1)"
   ]
  },
  {
   "cell_type": "code",
   "execution_count": 159,
   "id": "fcaf3191-785a-4c89-a7f1-c9d912453570",
   "metadata": {},
   "outputs": [
    {
     "data": {
      "text/plain": [
       "[1, 2, 4, 4, 5, [3, 4, 5, 6], 4, 5, 6, 4, 5]"
      ]
     },
     "execution_count": 159,
     "metadata": {},
     "output_type": "execute_result"
    }
   ],
   "source": [
    "l3"
   ]
  },
  {
   "cell_type": "code",
   "execution_count": null,
   "id": "1e5476cf-3f24-4e9b-96d9-6bdfe6787a2a",
   "metadata": {},
   "outputs": [],
   "source": []
  }
 ],
 "metadata": {
  "kernelspec": {
   "display_name": "Python 3 (ipykernel)",
   "language": "python",
   "name": "python3"
  },
  "language_info": {
   "codemirror_mode": {
    "name": "ipython",
    "version": 3
   },
   "file_extension": ".py",
   "mimetype": "text/x-python",
   "name": "python",
   "nbconvert_exporter": "python",
   "pygments_lexer": "ipython3",
   "version": "3.10.8"
  }
 },
 "nbformat": 4,
 "nbformat_minor": 5
}
