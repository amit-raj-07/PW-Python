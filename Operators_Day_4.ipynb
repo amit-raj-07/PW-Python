{
 "cells": [
  {
   "cell_type": "markdown",
   "id": "f297f046-13f4-4716-ab5c-b097d0131094",
   "metadata": {},
   "source": [
    "and \n",
    "or \n",
    "not\n",
    "\n",
    "#LOGICAL OPERATORS"
   ]
  },
  {
   "cell_type": "code",
   "execution_count": 1,
   "id": "f92fc8f3-ae9b-4a31-9915-422b94ec52d1",
   "metadata": {},
   "outputs": [],
   "source": [
    "a=10\n",
    "b=20"
   ]
  },
  {
   "cell_type": "code",
   "execution_count": 2,
   "id": "61ddc618-de77-4021-99e9-f70cbaff5835",
   "metadata": {},
   "outputs": [
    {
     "data": {
      "text/plain": [
       "False"
      ]
     },
     "execution_count": 2,
     "metadata": {},
     "output_type": "execute_result"
    }
   ],
   "source": [
    "((a>10) and (b>20))"
   ]
  },
  {
   "cell_type": "code",
   "execution_count": 3,
   "id": "3465a1eb-9b40-4a6c-9f5f-6dfcf75503d1",
   "metadata": {},
   "outputs": [
    {
     "data": {
      "text/plain": [
       "True"
      ]
     },
     "execution_count": 3,
     "metadata": {},
     "output_type": "execute_result"
    }
   ],
   "source": [
    "((a>7) and (b>9))"
   ]
  },
  {
   "cell_type": "code",
   "execution_count": 4,
   "id": "39f557ee-6720-4318-adc1-0ef020469da0",
   "metadata": {},
   "outputs": [
    {
     "data": {
      "text/plain": [
       "False"
      ]
     },
     "execution_count": 4,
     "metadata": {},
     "output_type": "execute_result"
    }
   ],
   "source": [
    "((a>10) and (b>10))"
   ]
  },
  {
   "cell_type": "code",
   "execution_count": 5,
   "id": "9d983d00-1451-4ece-97fc-0b1626ba4df6",
   "metadata": {},
   "outputs": [
    {
     "name": "stdout",
     "output_type": "stream",
     "text": [
      "False\n"
     ]
    }
   ],
   "source": [
    "print((False and True))"
   ]
  },
  {
   "cell_type": "markdown",
   "id": "df44f881-0107-465e-bf15-70737bf61ba8",
   "metadata": {},
   "source": [
    "OR"
   ]
  },
  {
   "cell_type": "code",
   "execution_count": 6,
   "id": "8742842c-f97e-49e6-876c-95f749444e90",
   "metadata": {},
   "outputs": [
    {
     "data": {
      "text/plain": [
       "False"
      ]
     },
     "execution_count": 6,
     "metadata": {},
     "output_type": "execute_result"
    }
   ],
   "source": [
    "((a>10) or (b>20))"
   ]
  },
  {
   "cell_type": "code",
   "execution_count": 8,
   "id": "b9a5fde8-fb11-42ee-965c-0a81371f0d9f",
   "metadata": {},
   "outputs": [
    {
     "data": {
      "text/plain": [
       "True"
      ]
     },
     "execution_count": 8,
     "metadata": {},
     "output_type": "execute_result"
    }
   ],
   "source": [
    "((a>8) or (b>20))"
   ]
  },
  {
   "cell_type": "markdown",
   "id": "605abef5-34dc-411c-98fa-c41958673ef8",
   "metadata": {},
   "source": [
    "NOT"
   ]
  },
  {
   "cell_type": "code",
   "execution_count": 9,
   "id": "ca9790bf-97f3-4a03-9c44-f1810d097c0c",
   "metadata": {},
   "outputs": [],
   "source": [
    "a = True"
   ]
  },
  {
   "cell_type": "code",
   "execution_count": 10,
   "id": "4270dabe-e7e3-447d-934c-f7e4eef3e047",
   "metadata": {},
   "outputs": [
    {
     "data": {
      "text/plain": [
       "False"
      ]
     },
     "execution_count": 10,
     "metadata": {},
     "output_type": "execute_result"
    }
   ],
   "source": [
    "not(a)"
   ]
  },
  {
   "cell_type": "markdown",
   "id": "3c599395-9db3-4280-b0f2-cfdd21175799",
   "metadata": {},
   "source": [
    "#BITWISE OPERATORS"
   ]
  },
  {
   "cell_type": "raw",
   "id": "7c88a02f-ce18-4d63-aaf2-8ccebee6d895",
   "metadata": {},
   "source": [
    "& -- and\n",
    "| -- or\n",
    "^ -- XOR\n",
    "~ -- Negation\n",
    "<< -- left shoft\n",
    ">> -- right shift"
   ]
  },
  {
   "cell_type": "code",
   "execution_count": 11,
   "id": "eb61638b-ed92-48da-a161-d137386858b5",
   "metadata": {},
   "outputs": [],
   "source": [
    "a=10\n",
    "b=4"
   ]
  },
  {
   "cell_type": "code",
   "execution_count": 12,
   "id": "d31ebc12-7ea8-4198-a2e3-1009da672028",
   "metadata": {},
   "outputs": [
    {
     "data": {
      "text/plain": [
       "'0b1010'"
      ]
     },
     "execution_count": 12,
     "metadata": {},
     "output_type": "execute_result"
    }
   ],
   "source": [
    "bin(a)"
   ]
  },
  {
   "cell_type": "code",
   "execution_count": 13,
   "id": "78fbc296-fb1f-4f2f-91a3-5bf8dd4772e1",
   "metadata": {},
   "outputs": [
    {
     "data": {
      "text/plain": [
       "'0b100'"
      ]
     },
     "execution_count": 13,
     "metadata": {},
     "output_type": "execute_result"
    }
   ],
   "source": [
    "bin(b)"
   ]
  },
  {
   "cell_type": "code",
   "execution_count": 14,
   "id": "6cf2a8bb-29fc-444a-9b26-37cc398b411c",
   "metadata": {},
   "outputs": [
    {
     "data": {
      "text/plain": [
       "0"
      ]
     },
     "execution_count": 14,
     "metadata": {},
     "output_type": "execute_result"
    }
   ],
   "source": [
    "a & b"
   ]
  },
  {
   "cell_type": "markdown",
   "id": "27b9d234-e15b-498b-9985-92afa89e9753",
   "metadata": {},
   "source": [
    "10 -- 1010\n",
    "4 ----0100\n",
    "------"
   ]
  },
  {
   "cell_type": "code",
   "execution_count": 16,
   "id": "af3c9dd4-491b-4d9d-a672-b641ee3a860d",
   "metadata": {},
   "outputs": [
    {
     "data": {
      "text/plain": [
       "14"
      ]
     },
     "execution_count": 16,
     "metadata": {},
     "output_type": "execute_result"
    }
   ],
   "source": [
    "a | b"
   ]
  },
  {
   "cell_type": "raw",
   "id": "cf3346eb-6f99-4620-92c0-b81f033ac3a0",
   "metadata": {},
   "source": [
    "a = 1010\n",
    "b = 0100\n",
    "  = 1110 === 14"
   ]
  },
  {
   "cell_type": "markdown",
   "id": "d39d2427-275d-45a9-9177-62363e9e607d",
   "metadata": {},
   "source": [
    "XOR"
   ]
  },
  {
   "cell_type": "code",
   "execution_count": 17,
   "id": "d73d4d04-4b72-48fd-8c2d-f76a02216926",
   "metadata": {},
   "outputs": [
    {
     "data": {
      "text/plain": [
       "14"
      ]
     },
     "execution_count": 17,
     "metadata": {},
     "output_type": "execute_result"
    }
   ],
   "source": [
    "a^b"
   ]
  },
  {
   "cell_type": "raw",
   "id": "a97577c1-ae39-4d0b-a2b5-c8038b79fee8",
   "metadata": {},
   "source": [
    "truth table\n",
    "0 0 - 0\n",
    "1 1 - 0\n",
    "1 0 - 1\n",
    "0 1 - 1\n",
    "\n",
    "# XOR"
   ]
  },
  {
   "cell_type": "code",
   "execution_count": 18,
   "id": "483aa743-a259-4078-93f5-fca2b5313710",
   "metadata": {},
   "outputs": [
    {
     "data": {
      "text/plain": [
       "-11"
      ]
     },
     "execution_count": 18,
     "metadata": {},
     "output_type": "execute_result"
    }
   ],
   "source": [
    "a = 10\n",
    "#negation of a\n",
    "~a"
   ]
  },
  {
   "cell_type": "raw",
   "id": "94711027-6ae8-4c80-9d23-e850eca2d688",
   "metadata": {},
   "source": [
    "a = 1010 \\n\n",
    "~a= ---1 add here \\n\n",
    "    1011 --- 11 (negative because of start with 1) 2's compliment \\n\n",
    "1's comliment is ~(of word)"
   ]
  },
  {
   "cell_type": "code",
   "execution_count": 19,
   "id": "50d7a54a-ccc7-449e-a168-54d822ac4a7b",
   "metadata": {},
   "outputs": [
    {
     "data": {
      "text/plain": [
       "-9"
      ]
     },
     "execution_count": 19,
     "metadata": {},
     "output_type": "execute_result"
    }
   ],
   "source": [
    "a = 8\n",
    "~a"
   ]
  },
  {
   "cell_type": "markdown",
   "id": "643d966a-78a9-4179-b541-d4f689593764",
   "metadata": {},
   "source": [
    "a = 1000\n",
    "~a=    1\n",
    "  = 1001 (-9) answer"
   ]
  },
  {
   "cell_type": "code",
   "execution_count": 20,
   "id": "1403ecc8-fef6-4417-9c88-fc806e3bbb7a",
   "metadata": {},
   "outputs": [
    {
     "data": {
      "text/plain": [
       "11"
      ]
     },
     "execution_count": 20,
     "metadata": {},
     "output_type": "execute_result"
    }
   ],
   "source": [
    "a = -12\n",
    "~a"
   ]
  },
  {
   "cell_type": "raw",
   "id": "105815cd-9381-4421-a35d-88217ea70c2c",
   "metadata": {},
   "source": [
    "a = 1100\n",
    "~a=    1\n",
    "    1101 "
   ]
  },
  {
   "cell_type": "code",
   "execution_count": null,
   "id": "1471f101-8449-4ed5-bfe5-e0469eb01124",
   "metadata": {},
   "outputs": [],
   "source": []
  },
  {
   "cell_type": "code",
   "execution_count": null,
   "id": "fe09c949-3037-43dc-a965-54ad6fb61ac0",
   "metadata": {},
   "outputs": [],
   "source": []
  },
  {
   "cell_type": "code",
   "execution_count": 21,
   "id": "0581f152-a2b3-483a-85fb-10845bb8a29a",
   "metadata": {},
   "outputs": [],
   "source": [
    "x = [1,2,3,4,5]"
   ]
  },
  {
   "cell_type": "code",
   "execution_count": 22,
   "id": "a4747ed6-9ce6-4775-a28e-7a6a94dee406",
   "metadata": {},
   "outputs": [
    {
     "data": {
      "text/plain": [
       "True"
      ]
     },
     "execution_count": 22,
     "metadata": {},
     "output_type": "execute_result"
    }
   ],
   "source": [
    "2 in x"
   ]
  },
  {
   "cell_type": "code",
   "execution_count": 23,
   "id": "75aa47e0-11e1-4a1c-9ac4-58b28dd84121",
   "metadata": {},
   "outputs": [
    {
     "data": {
      "text/plain": [
       "False"
      ]
     },
     "execution_count": 23,
     "metadata": {},
     "output_type": "execute_result"
    }
   ],
   "source": [
    "7 in x"
   ]
  },
  {
   "cell_type": "code",
   "execution_count": 24,
   "id": "872ac509-3de4-4e62-a26b-427540795ded",
   "metadata": {},
   "outputs": [],
   "source": [
    "a = 10"
   ]
  },
  {
   "cell_type": "code",
   "execution_count": 25,
   "id": "4acf2f5f-8bb4-4885-8aea-f4a7d2b1a933",
   "metadata": {},
   "outputs": [
    {
     "data": {
      "text/plain": [
       "20"
      ]
     },
     "execution_count": 25,
     "metadata": {},
     "output_type": "execute_result"
    }
   ],
   "source": [
    "a << 1"
   ]
  },
  {
   "cell_type": "raw",
   "id": "9b4be96f-c701-48b6-894b-8cf0229ff2c9",
   "metadata": {},
   "source": [
    "a = 1010\n",
    "left shift == \n",
    "     1010\n",
    "    1010- == 10100 ==> 20"
   ]
  },
  {
   "cell_type": "markdown",
   "id": "376bcfff-96f6-421a-b28a-d3d7b5c9c0d4",
   "metadata": {},
   "source": [
    "left shift is mulltiplicstion of 2"
   ]
  },
  {
   "cell_type": "code",
   "execution_count": 26,
   "id": "79cf92d1-9575-4b0a-a4d6-91fc46df6011",
   "metadata": {},
   "outputs": [
    {
     "data": {
      "text/plain": [
       "40"
      ]
     },
     "execution_count": 26,
     "metadata": {},
     "output_type": "execute_result"
    }
   ],
   "source": [
    "a<<2"
   ]
  },
  {
   "cell_type": "raw",
   "id": "be2bea8a-1db2-4ae6-b006-a10538199c8d",
   "metadata": {},
   "source": [
    "a == 1010\n",
    "    1010--   --=> 32 16 8 4 2 1\n",
    "                   1  0 1 0 0 0 ==> 40"
   ]
  },
  {
   "cell_type": "code",
   "execution_count": 27,
   "id": "72b01a43-8018-4ece-86ff-4da98fe1168b",
   "metadata": {},
   "outputs": [
    {
     "data": {
      "text/plain": [
       "5"
      ]
     },
     "execution_count": 27,
     "metadata": {},
     "output_type": "execute_result"
    }
   ],
   "source": [
    "a>>1"
   ]
  },
  {
   "cell_type": "raw",
   "id": "f9e317b4-0404-486f-9937-b51a0bdfce29",
   "metadata": {},
   "source": [
    "right shift is division of 2\n",
    "R---D\n",
    "L---M"
   ]
  },
  {
   "cell_type": "raw",
   "id": "caa53b79-0050-45c2-ae07-f4e3977342db",
   "metadata": {},
   "source": [
    "a == 1010\n",
    "rshift ===\n",
    "   1010\n",
    "   0101===>5 (1st bit deleted)"
   ]
  },
  {
   "cell_type": "raw",
   "id": "ba9392db-b84e-4eff-8bdb-9fc58359f2d0",
   "metadata": {},
   "source": [
    "\n",
    "\n",
    "CONTROL FLOWS"
   ]
  },
  {
   "cell_type": "code",
   "execution_count": null,
   "id": "3624ace6-ba98-44d9-855a-5beea5037b6e",
   "metadata": {},
   "outputs": [],
   "source": [
    "if\n",
    "if else\n",
    "elif"
   ]
  }
 ],
 "metadata": {
  "kernelspec": {
   "display_name": "Python 3 (ipykernel)",
   "language": "python",
   "name": "python3"
  },
  "language_info": {
   "codemirror_mode": {
    "name": "ipython",
    "version": 3
   },
   "file_extension": ".py",
   "mimetype": "text/x-python",
   "name": "python",
   "nbconvert_exporter": "python",
   "pygments_lexer": "ipython3",
   "version": "3.10.8"
  }
 },
 "nbformat": 4,
 "nbformat_minor": 5
}
