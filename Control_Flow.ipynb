{
 "cells": [
  {
   "cell_type": "raw",
   "id": "09654812-4cb9-49a1-820b-1071ff08de70",
   "metadata": {},
   "source": [
    "Control Flow ->\n",
    "if\n",
    "else\n",
    "if elif else"
   ]
  },
  {
   "cell_type": "code",
   "execution_count": 1,
   "id": "7ba9525e-0ccf-4106-b3f6-e08d10793fb2",
   "metadata": {},
   "outputs": [],
   "source": [
    "age = 17"
   ]
  },
  {
   "cell_type": "code",
   "execution_count": 3,
   "id": "1dedbfad-9a84-400d-98d8-e6554b70e52a",
   "metadata": {},
   "outputs": [
    {
     "name": "stdout",
     "output_type": "stream",
     "text": [
      "You are not eligible to give vote\n"
     ]
    }
   ],
   "source": [
    "if age >= 18:\n",
    "    print(\"You can give vote\")\n",
    "else:\n",
    "    print(\"You are not eligible to give vote\")"
   ]
  },
  {
   "cell_type": "code",
   "execution_count": 4,
   "id": "8526bad6-827b-4c60-8556-d24c6bc1c270",
   "metadata": {},
   "outputs": [
    {
     "name": "stdout",
     "output_type": "stream",
     "text": [
      "You can give vote\n"
     ]
    }
   ],
   "source": [
    "age = 19\n",
    "if age >= 18:\n",
    "    print(\"You can give vote\")\n",
    "else:\n",
    "    print(\"You are not eligible to give vote\")"
   ]
  },
  {
   "cell_type": "code",
   "execution_count": 5,
   "id": "5d8774b2-b9a0-4e2e-ade8-234abf8148dc",
   "metadata": {},
   "outputs": [
    {
     "name": "stdout",
     "output_type": "stream",
     "text": [
      "Good marks grade B\n"
     ]
    }
   ],
   "source": [
    "score = 75\n",
    "if score >= 90:\n",
    "    print(\"Excellent marks grade A+\")\n",
    "elif score>=80:\n",
    "    print(\"Excellent marks grade A\")\n",
    "elif score>=70:\n",
    "    print(\"Good marks grade B\")\n",
    "    \n",
    "else:\n",
    "    print(\"Not Excellent marks grade C\")"
   ]
  },
  {
   "cell_type": "code",
   "execution_count": 7,
   "id": "9cb30273-de0f-4499-89d9-8ae7d00c374f",
   "metadata": {},
   "outputs": [
    {
     "name": "stdin",
     "output_type": "stream",
     "text": [
      "Enter value 20\n"
     ]
    },
    {
     "name": "stdout",
     "output_type": "stream",
     "text": [
      "Evening\n"
     ]
    }
   ],
   "source": [
    "T=int(input(\"Enter value\"))\n",
    "if T<0:\n",
    "    print(\"Invalid\")\n",
    "elif T>=0 and T<=5:\n",
    "    print(\"Night\")\n",
    "elif T>=6 and T<=11:\n",
    "    print(\"Morning\")\n",
    "elif T>=12 and T<=17:\n",
    "    print(\"Afternoon\")\n",
    "elif T>=18 and T<=23:\n",
    "    print(\"Evening\")\n",
    "else:\n",
    "    print(\"Invalid\")"
   ]
  },
  {
   "cell_type": "code",
   "execution_count": 9,
   "id": "92842533-ffcb-4bf4-ad45-80273c595231",
   "metadata": {},
   "outputs": [
    {
     "name": "stdout",
     "output_type": "stream",
     "text": [
      "largest number is  30\n"
     ]
    }
   ],
   "source": [
    "#Find largest number\n",
    "num1=10\n",
    "num2=20\n",
    "num3=30\n",
    "\n",
    "if (num1>=num2) and (num1>=num3):\n",
    "    largest=num1\n",
    "    print(\"largest number is \", largest)\n",
    "    \n",
    "elif (num2>=num1) and (num2>=num3):\n",
    "    largest=num2\n",
    "    print(\"largest number is \", largest)\n",
    "\n",
    "else:\n",
    "    largest=num3\n",
    "    print(\"largest number is \", largest)"
   ]
  },
  {
   "cell_type": "markdown",
   "id": "b45e91e9-cf39-4eea-815f-a98966bc247f",
   "metadata": {},
   "source": [
    "+,*,-,/"
   ]
  },
  {
   "cell_type": "code",
   "execution_count": 13,
   "id": "90b4a86e-4da8-4f8b-bdf2-3c1e206e8fe7",
   "metadata": {},
   "outputs": [
    {
     "name": "stdin",
     "output_type": "stream",
     "text": [
      "Enter value1 :  30\n",
      "Enter value1 :  20\n",
      "Enter operation :  /\n"
     ]
    },
    {
     "name": "stdout",
     "output_type": "stream",
     "text": [
      "1.5\n"
     ]
    }
   ],
   "source": [
    "num1 = int(input(\"Enter value1 : \"))\n",
    "num2 = int(input(\"Enter value1 : \")) \n",
    "operator = input(\"Enter operation : \")\n",
    "\n",
    "if operator == \"+\":\n",
    "           print(num1+num2)\n",
    "elif operator == \"-\":\n",
    "           print(num1-num2)\n",
    "elif operator == \"*\":\n",
    "           print(num1*num2)\n",
    "elif operator == \"/\":\n",
    "           print(num1/num2)\n",
    "else:\n",
    "    print(\"Please Enter Valid Input\")\n",
    "           "
   ]
  },
  {
   "cell_type": "code",
   "execution_count": 16,
   "id": "e2489ab7-3d91-457a-ad37-41379a6dff04",
   "metadata": {},
   "outputs": [
    {
     "name": "stdout",
     "output_type": "stream",
     "text": [
      "Number is 0\n"
     ]
    }
   ],
   "source": [
    "num=0\n",
    "\n",
    "if (num>=0):\n",
    "    if num == 0:\n",
    "        print(\"Number is 0\")\n",
    "    else:\n",
    "        print(\"Number is positive\")\n",
    "else:\n",
    "    print(\"Number is negative\")"
   ]
  },
  {
   "cell_type": "raw",
   "id": "03b077a2-8a23-4b36-914e-9659317c988a",
   "metadata": {},
   "source": [
    "#Range Function"
   ]
  },
  {
   "cell_type": "code",
   "execution_count": 17,
   "id": "eb4bb188-2689-4c85-9e74-eb66f5f5d701",
   "metadata": {},
   "outputs": [
    {
     "data": {
      "text/plain": [
       "range(0, 5)"
      ]
     },
     "execution_count": 17,
     "metadata": {},
     "output_type": "execute_result"
    }
   ],
   "source": [
    "range(5)"
   ]
  },
  {
   "cell_type": "raw",
   "id": "743f5e60-9163-437f-9e32-2cc96b9b8c8e",
   "metadata": {},
   "source": [
    "#Range (start, stop, step) end not included"
   ]
  },
  {
   "cell_type": "code",
   "execution_count": 19,
   "id": "5ad42f62-bdc5-4321-8689-4a4f83126bcc",
   "metadata": {},
   "outputs": [
    {
     "data": {
      "text/plain": [
       "[0, 1, 2, 3, 4]"
      ]
     },
     "execution_count": 19,
     "metadata": {},
     "output_type": "execute_result"
    }
   ],
   "source": [
    "list(range(5))"
   ]
  },
  {
   "cell_type": "code",
   "execution_count": 20,
   "id": "36c2107f-5624-4dc0-aaad-c022d92aba2c",
   "metadata": {},
   "outputs": [
    {
     "data": {
      "text/plain": [
       "[0, 1, 2, 3, 4, 5, 6, 7, 8]"
      ]
     },
     "execution_count": 20,
     "metadata": {},
     "output_type": "execute_result"
    }
   ],
   "source": [
    "list(range(9))"
   ]
  },
  {
   "cell_type": "code",
   "execution_count": 21,
   "id": "915adf3a-aeac-4e2f-bad4-89b0d1706b4b",
   "metadata": {},
   "outputs": [
    {
     "data": {
      "text/plain": [
       "[2, 3, 4, 5, 6, 7, 8, 9]"
      ]
     },
     "execution_count": 21,
     "metadata": {},
     "output_type": "execute_result"
    }
   ],
   "source": [
    "list(range(2,10))"
   ]
  },
  {
   "cell_type": "code",
   "execution_count": 22,
   "id": "a8e6f41c-27dc-49ad-a732-cbc686b6daf3",
   "metadata": {},
   "outputs": [
    {
     "data": {
      "text/plain": [
       "[2, 4, 6, 8]"
      ]
     },
     "execution_count": 22,
     "metadata": {},
     "output_type": "execute_result"
    }
   ],
   "source": [
    "list(range(2,10,2))"
   ]
  },
  {
   "cell_type": "raw",
   "id": "316d7201-4ba7-4f57-9361-5588e4aadd67",
   "metadata": {},
   "source": [
    "#Looping- Iteration"
   ]
  },
  {
   "cell_type": "code",
   "execution_count": 23,
   "id": "89baee21-62f8-4193-9449-1bffc666f191",
   "metadata": {},
   "outputs": [
    {
     "name": "stdout",
     "output_type": "stream",
     "text": [
      "0\n",
      "1\n",
      "2\n",
      "3\n",
      "4\n"
     ]
    }
   ],
   "source": [
    "for i in range(5):\n",
    "    print(i)"
   ]
  },
  {
   "cell_type": "code",
   "execution_count": 24,
   "id": "7602bf7e-d352-47d5-b9cb-b424b35aab36",
   "metadata": {},
   "outputs": [
    {
     "name": "stdout",
     "output_type": "stream",
     "text": [
      "0\n",
      "1\n",
      "2\n"
     ]
    }
   ],
   "source": [
    "for i in range(3):\n",
    "    print(i)"
   ]
  },
  {
   "cell_type": "code",
   "execution_count": 25,
   "id": "ca65ee88-943d-474d-bea6-003593c01d0e",
   "metadata": {},
   "outputs": [
    {
     "name": "stdout",
     "output_type": "stream",
     "text": [
      "a\n",
      "b\n",
      "c\n",
      "d\n"
     ]
    }
   ],
   "source": [
    "for i in [\"a\", \"b\", \"c\", \"d\"]:\n",
    "    print(i)"
   ]
  },
  {
   "cell_type": "code",
   "execution_count": 26,
   "id": "33067a08-d8d6-443f-9e00-28c4ccbaaa8f",
   "metadata": {},
   "outputs": [
    {
     "name": "stdout",
     "output_type": "stream",
     "text": [
      "P\n",
      "w\n",
      "S\n",
      "k\n",
      "i\n",
      "l\n",
      "l\n",
      "s\n"
     ]
    }
   ],
   "source": [
    "for i in \"PwSkills\":\n",
    "    print(i)"
   ]
  },
  {
   "cell_type": "code",
   "execution_count": 28,
   "id": "3517ee64-7573-4735-80b9-28e2baef2e0b",
   "metadata": {},
   "outputs": [
    {
     "name": "stdout",
     "output_type": "stream",
     "text": [
      "2\n",
      "3\n"
     ]
    }
   ],
   "source": [
    "for i in \"23\":\n",
    "    print(i)"
   ]
  },
  {
   "cell_type": "code",
   "execution_count": 41,
   "id": "5bb642a1-6e63-4c99-a44f-fa8497db45e3",
   "metadata": {},
   "outputs": [],
   "source": [
    "x = {\"name\": \"imran\", \"city\":\"Bangalore\"}"
   ]
  },
  {
   "cell_type": "code",
   "execution_count": 42,
   "id": "162ea03a-be1e-41d0-a65f-ec9f20ab163d",
   "metadata": {},
   "outputs": [
    {
     "name": "stdout",
     "output_type": "stream",
     "text": [
      "imran\n",
      "Bangalore\n"
     ]
    }
   ],
   "source": [
    "for i in x.values():\n",
    "    print(i)"
   ]
  },
  {
   "cell_type": "code",
   "execution_count": 38,
   "id": "51149167-de2e-491c-b2fa-c00de8dc33c9",
   "metadata": {},
   "outputs": [
    {
     "name": "stdout",
     "output_type": "stream",
     "text": [
      "india\n",
      "uk\n",
      "pk\n",
      "ck\n"
     ]
    }
   ],
   "source": [
    "country = [\"india\",\"uk\",\"pk\",\"ck\"]\n",
    "\n",
    "for ct in country:\n",
    "    print(ct)"
   ]
  },
  {
   "cell_type": "code",
   "execution_count": 39,
   "id": "19f6b26c-0c57-4b6b-a054-dd27f0e40c85",
   "metadata": {},
   "outputs": [
    {
     "name": "stdout",
     "output_type": "stream",
     "text": [
      "india\n",
      "uk\n",
      "pk\n",
      "ck\n"
     ]
    }
   ],
   "source": [
    "for index in range(len(country)):\n",
    "    print(country[index])"
   ]
  },
  {
   "cell_type": "code",
   "execution_count": 47,
   "id": "55fa2fc1-77b7-4e6c-8029-6c7ca5e2055a",
   "metadata": {},
   "outputs": [],
   "source": [
    "dict1={\"X1\": 1, \"x2\":2, \"x3\":3,\"x4\":4}"
   ]
  },
  {
   "cell_type": "code",
   "execution_count": 49,
   "id": "f9a1ab34-7070-4f14-a8c5-3df288c0bbe0",
   "metadata": {},
   "outputs": [
    {
     "data": {
      "text/plain": [
       "dict_keys(['X1', 'x2', 'x3', 'x4'])"
      ]
     },
     "execution_count": 49,
     "metadata": {},
     "output_type": "execute_result"
    }
   ],
   "source": [
    "dict1.keys()"
   ]
  },
  {
   "cell_type": "code",
   "execution_count": 50,
   "id": "9a1cd2ea-8b75-4eb1-bfe3-63da3f036a68",
   "metadata": {},
   "outputs": [
    {
     "data": {
      "text/plain": [
       "dict_values([1, 2, 3, 4])"
      ]
     },
     "execution_count": 50,
     "metadata": {},
     "output_type": "execute_result"
    }
   ],
   "source": [
    "dict1.values()"
   ]
  },
  {
   "cell_type": "code",
   "execution_count": 51,
   "id": "c2bd524a-6da5-4ee8-b320-58a6e62682ee",
   "metadata": {},
   "outputs": [
    {
     "name": "stdout",
     "output_type": "stream",
     "text": [
      "X1 1\n",
      "x2 2\n",
      "x3 3\n",
      "x4 4\n"
     ]
    }
   ],
   "source": [
    "for key in dict1:\n",
    "    print(key, dict1[key])"
   ]
  },
  {
   "cell_type": "code",
   "execution_count": 53,
   "id": "4f59afbe-f386-4c3c-93f9-23cb66b35aae",
   "metadata": {},
   "outputs": [
    {
     "data": {
      "text/plain": [
       "2"
      ]
     },
     "execution_count": 53,
     "metadata": {},
     "output_type": "execute_result"
    }
   ],
   "source": [
    "dict1['x2']"
   ]
  },
  {
   "cell_type": "code",
   "execution_count": 55,
   "id": "9785317b-cd93-4512-8d57-bba81d78f860",
   "metadata": {},
   "outputs": [
    {
     "name": "stdout",
     "output_type": "stream",
     "text": [
      "X1 1\n",
      "x2 2\n",
      "x3 3\n",
      "x4 4\n"
     ]
    }
   ],
   "source": [
    "for i in dict1:\n",
    "    print(i, dict1[i])"
   ]
  },
  {
   "cell_type": "code",
   "execution_count": 57,
   "id": "8ed5a9a8-3829-4db9-804c-c33a828fb46b",
   "metadata": {},
   "outputs": [
    {
     "name": "stdout",
     "output_type": "stream",
     "text": [
      "1\n",
      "2\n",
      "3\n",
      "4\n"
     ]
    }
   ],
   "source": [
    "for i in dict1.values():\n",
    "    print(i)"
   ]
  },
  {
   "cell_type": "code",
   "execution_count": 58,
   "id": "4372c842-b7d9-4300-8018-db491aa61a4a",
   "metadata": {},
   "outputs": [
    {
     "name": "stdout",
     "output_type": "stream",
     "text": [
      "1\n",
      "2\n",
      "3\n"
     ]
    }
   ],
   "source": [
    "for i in (1,2,3):\n",
    "    print(i)"
   ]
  },
  {
   "cell_type": "code",
   "execution_count": 59,
   "id": "1d926dd7-ad1f-4899-bcba-b448b9eba904",
   "metadata": {},
   "outputs": [
    {
     "name": "stdout",
     "output_type": "stream",
     "text": [
      "1\n",
      "2\n",
      "3\n"
     ]
    }
   ],
   "source": [
    "for i in {1,2,3}:\n",
    "    print(i)"
   ]
  },
  {
   "cell_type": "code",
   "execution_count": 60,
   "id": "0a7e644a-2128-4664-bcd2-8b68c4f52973",
   "metadata": {},
   "outputs": [
    {
     "name": "stdout",
     "output_type": "stream",
     "text": [
      "P\n",
      "W\n",
      "S\n",
      "k\n",
      "i\n",
      "l\n",
      "l\n",
      "s\n"
     ]
    }
   ],
   "source": [
    "x = \"PWSkills\"\n",
    "for i in x:\n",
    "    print(i)"
   ]
  },
  {
   "cell_type": "code",
   "execution_count": 61,
   "id": "fc1c900f-cfc7-4df5-b54b-779175012615",
   "metadata": {},
   "outputs": [
    {
     "name": "stdout",
     "output_type": "stream",
     "text": [
      "[0, 1, 2, 3, 4, 5, 6, 7, 8, 9]\n"
     ]
    }
   ],
   "source": [
    "print(list(range(10)))"
   ]
  },
  {
   "cell_type": "code",
   "execution_count": 64,
   "id": "8700cc3e-45f9-4663-9fbb-f6b58334d1bb",
   "metadata": {},
   "outputs": [
    {
     "name": "stdout",
     "output_type": "stream",
     "text": [
      "Hii\n",
      "Amit\n",
      "Raj\n",
      "Kumar\n"
     ]
    }
   ],
   "source": [
    "print(\"Hii\")\n",
    "print(\"Amit\")\n",
    "print(\"Raj\")\n",
    "print(\"Kumar\")"
   ]
  },
  {
   "cell_type": "code",
   "execution_count": 66,
   "id": "7d085ce4-5e6f-4c39-bc11-76f010dea43c",
   "metadata": {},
   "outputs": [
    {
     "name": "stdout",
     "output_type": "stream",
     "text": [
      "Hii Amit Raj Kumar "
     ]
    }
   ],
   "source": [
    "print(\"Hii\", end = \" \")\n",
    "print(\"Amit\", end = \" \")\n",
    "print(\"Raj\", end = \" \")\n",
    "print(\"Kumar\", end = \" \")"
   ]
  },
  {
   "cell_type": "code",
   "execution_count": 69,
   "id": "af509f21-54ee-4480-a5b1-2556d02afe58",
   "metadata": {},
   "outputs": [
    {
     "name": "stdout",
     "output_type": "stream",
     "text": [
      "0! 1! 2! 3! 4! 5! 6! 7! 8! 9! "
     ]
    }
   ],
   "source": [
    "for i in range(10):\n",
    "    print(i,end=\"! \")"
   ]
  },
  {
   "cell_type": "code",
   "execution_count": 70,
   "id": "a0b7bceb-dc4d-4e85-ac13-cfeb247e548b",
   "metadata": {},
   "outputs": [
    {
     "name": "stdout",
     "output_type": "stream",
     "text": [
      "0\n",
      "1\n",
      "2\n",
      "3\n",
      "4\n"
     ]
    }
   ],
   "source": [
    "for i in range(5):\n",
    "    print(i)"
   ]
  },
  {
   "cell_type": "code",
   "execution_count": 72,
   "id": "9f8df8f5-3608-4870-8acd-a494adbf47e6",
   "metadata": {},
   "outputs": [
    {
     "name": "stdout",
     "output_type": "stream",
     "text": [
      "0 1 2 3 4 Done!\n"
     ]
    }
   ],
   "source": [
    "for i in range(5):\n",
    "    print(i, end=\" \")\n",
    "\n",
    "else:\n",
    "    print(\"Done!\")"
   ]
  },
  {
   "cell_type": "raw",
   "id": "87e3ea4f-6933-4b5c-8588-eaa17ae1298c",
   "metadata": {},
   "source": [
    "\n",
    "#Pattern"
   ]
  },
  {
   "cell_type": "code",
   "execution_count": 75,
   "id": "a20b499f-80ab-4578-ad9e-7899c08f3db4",
   "metadata": {},
   "outputs": [
    {
     "name": "stdout",
     "output_type": "stream",
     "text": [
      "* \n",
      "* * \n",
      "* * * \n",
      "* * * * \n",
      "* * * * * \n"
     ]
    }
   ],
   "source": [
    "for i in range(5):\n",
    "    for j in range(i+1):\n",
    "        print(\"*\", end = ' ')\n",
    "    print()"
   ]
  },
  {
   "cell_type": "code",
   "execution_count": 77,
   "id": "9a8392b7-892d-4ebe-9a5a-cf0e7b435246",
   "metadata": {},
   "outputs": [
    {
     "name": "stdout",
     "output_type": "stream",
     "text": [
      "* * * * * \n",
      "* * * * \n",
      "* * * \n",
      "* * \n",
      "* \n"
     ]
    }
   ],
   "source": [
    "for i in range(5,0,-1):\n",
    "    for j in range(i,0,-1):\n",
    "        print(\"*\", end = ' ')\n",
    "    print()"
   ]
  },
  {
   "cell_type": "code",
   "execution_count": 79,
   "id": "7e10fbfa-34f2-4136-9c11-d30874f9a25a",
   "metadata": {},
   "outputs": [
    {
     "name": "stdout",
     "output_type": "stream",
     "text": [
      "1 2 3 4 5 \n",
      "2 4 6 8 10 \n",
      "3 6 9 12 15 \n",
      "4 8 12 16 20 \n",
      "5 10 15 20 25 \n"
     ]
    }
   ],
   "source": [
    "for i in range(1,6):\n",
    "    for j in range(1,6):\n",
    "        print(i*j, end = \" \")\n",
    "    print()"
   ]
  },
  {
   "cell_type": "markdown",
   "id": "004e2f00-a53e-47dc-9772-2da9208eaa13",
   "metadata": {},
   "source": [
    "#While Loop"
   ]
  },
  {
   "cell_type": "code",
   "execution_count": 81,
   "id": "7162da35-01cc-4794-8edd-57615c1b4096",
   "metadata": {},
   "outputs": [
    {
     "name": "stdout",
     "output_type": "stream",
     "text": [
      "1 2 3 4 5 "
     ]
    }
   ],
   "source": [
    "count=1\n",
    "\n",
    "while count<=5:\n",
    "    print(count, end = \" \")\n",
    "    count += 1"
   ]
  },
  {
   "cell_type": "code",
   "execution_count": 82,
   "id": "90333d1d-fce3-4e10-b635-81d490c06677",
   "metadata": {},
   "outputs": [
    {
     "name": "stdin",
     "output_type": "stream",
     "text": [
      "Enter a word Amit\n"
     ]
    },
    {
     "name": "stdout",
     "output_type": "stream",
     "text": [
      "You entered  Amit\n"
     ]
    },
    {
     "name": "stdin",
     "output_type": "stream",
     "text": [
      "Enter a word Pw\n"
     ]
    },
    {
     "name": "stdout",
     "output_type": "stream",
     "text": [
      "You entered  Pw\n"
     ]
    },
    {
     "name": "stdin",
     "output_type": "stream",
     "text": [
      "Enter a word skills\n"
     ]
    },
    {
     "name": "stdout",
     "output_type": "stream",
     "text": [
      "You entered  skills\n"
     ]
    },
    {
     "name": "stdin",
     "output_type": "stream",
     "text": [
      "Enter a word quit\n"
     ]
    },
    {
     "name": "stdout",
     "output_type": "stream",
     "text": [
      "You entered  quit\n"
     ]
    }
   ],
   "source": [
    "text = \" \"\n",
    "while text != \"quit\":\n",
    "    text = input(\"Enter a word\")\n",
    "    print(\"You entered \", text)\n",
    "    "
   ]
  },
  {
   "cell_type": "raw",
   "id": "347c4882-0852-402c-817b-2ac97a2b6cff",
   "metadata": {},
   "source": [
    "if you know how many times you will iterate go with for loop\n",
    "if you don't know how many times you will iterate go with while loop"
   ]
  },
  {
   "cell_type": "code",
   "execution_count": 85,
   "id": "c80973e8-1182-4d35-b5c2-9a3a45702372",
   "metadata": {},
   "outputs": [
    {
     "name": "stdin",
     "output_type": "stream",
     "text": [
      "Enterr your age 23\n"
     ]
    },
    {
     "name": "stdout",
     "output_type": "stream",
     "text": [
      "Invalid Age\n"
     ]
    },
    {
     "name": "stdin",
     "output_type": "stream",
     "text": [
      "Enterr your age 26\n"
     ]
    },
    {
     "name": "stdout",
     "output_type": "stream",
     "text": [
      "Invalid Age\n"
     ]
    },
    {
     "name": "stdin",
     "output_type": "stream",
     "text": [
      "Enterr your age 56\n"
     ]
    },
    {
     "name": "stdout",
     "output_type": "stream",
     "text": [
      "Invalid Age\n"
     ]
    },
    {
     "name": "stdin",
     "output_type": "stream",
     "text": [
      "Enterr your age 54\n"
     ]
    },
    {
     "name": "stdout",
     "output_type": "stream",
     "text": [
      "Invalid Age\n",
      "Age is from List\n"
     ]
    }
   ],
   "source": [
    "list1 = [32,54,67,87]\n",
    "age=0\n",
    "while age not in list1:\n",
    "         age = int(input(\"Enterr your age\"))\n",
    "         print(\"Invalid Age\")\n",
    "else:\n",
    "    print(\"Age is from List\")\n",
    "        "
   ]
  },
  {
   "cell_type": "code",
   "execution_count": null,
   "id": "7aa30fc3-53d9-46e0-9213-890d5db0af89",
   "metadata": {},
   "outputs": [],
   "source": []
  }
 ],
 "metadata": {
  "kernelspec": {
   "display_name": "Python 3 (ipykernel)",
   "language": "python",
   "name": "python3"
  },
  "language_info": {
   "codemirror_mode": {
    "name": "ipython",
    "version": 3
   },
   "file_extension": ".py",
   "mimetype": "text/x-python",
   "name": "python",
   "nbconvert_exporter": "python",
   "pygments_lexer": "ipython3",
   "version": "3.10.8"
  }
 },
 "nbformat": 4,
 "nbformat_minor": 5
}
