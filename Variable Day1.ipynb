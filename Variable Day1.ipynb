{
 "cells": [
  {
   "cell_type": "code",
   "execution_count": 1,
   "id": "2bceb83e-d561-46cb-b194-52adb9464ed2",
   "metadata": {},
   "outputs": [
    {
     "data": {
      "text/plain": [
       "3"
      ]
     },
     "execution_count": 1,
     "metadata": {},
     "output_type": "execute_result"
    }
   ],
   "source": [
    "1+2"
   ]
  },
  {
   "cell_type": "code",
   "execution_count": 2,
   "id": "ed50518b-852e-4d53-b835-8b68893314d0",
   "metadata": {},
   "outputs": [
    {
     "name": "stdout",
     "output_type": "stream",
     "text": [
      "10\n"
     ]
    }
   ],
   "source": [
    "a=10\n",
    "print(a)"
   ]
  },
  {
   "cell_type": "code",
   "execution_count": 3,
   "id": "79b57248-3a9c-400e-9c63-a5499ab23deb",
   "metadata": {},
   "outputs": [],
   "source": [
    "Amit = 3478982"
   ]
  },
  {
   "cell_type": "code",
   "execution_count": 4,
   "id": "ce1c37c0-7eb0-4610-95e1-0f1e366c269e",
   "metadata": {},
   "outputs": [
    {
     "data": {
      "text/plain": [
       "int"
      ]
     },
     "execution_count": 4,
     "metadata": {},
     "output_type": "execute_result"
    }
   ],
   "source": [
    "type(Amit)"
   ]
  },
  {
   "cell_type": "code",
   "execution_count": 5,
   "id": "d6a2c4f7-97da-47d0-ab17-4bf8607ac5de",
   "metadata": {},
   "outputs": [
    {
     "data": {
      "text/plain": [
       "int"
      ]
     },
     "execution_count": 5,
     "metadata": {},
     "output_type": "execute_result"
    }
   ],
   "source": [
    "type(a)"
   ]
  },
  {
   "cell_type": "code",
   "execution_count": 6,
   "id": "3404c965-513f-405a-87a9-668c5c6b9776",
   "metadata": {},
   "outputs": [
    {
     "data": {
      "text/plain": [
       "3478982"
      ]
     },
     "execution_count": 6,
     "metadata": {},
     "output_type": "execute_result"
    }
   ],
   "source": [
    "Amit"
   ]
  },
  {
   "cell_type": "code",
   "execution_count": 7,
   "id": "d55fd45f-32a0-4490-a89f-a7ca8e023d0c",
   "metadata": {},
   "outputs": [],
   "source": [
    "s = \"PWSkills\""
   ]
  },
  {
   "cell_type": "code",
   "execution_count": 8,
   "id": "ae55cd70-f0ed-414c-9391-a9306ed3a60c",
   "metadata": {},
   "outputs": [
    {
     "data": {
      "text/plain": [
       "'PWSkills'"
      ]
     },
     "execution_count": 8,
     "metadata": {},
     "output_type": "execute_result"
    }
   ],
   "source": [
    "s"
   ]
  },
  {
   "cell_type": "code",
   "execution_count": 9,
   "id": "aaef3801-96b2-4d46-aafa-4ae477b98fcc",
   "metadata": {},
   "outputs": [
    {
     "data": {
      "text/plain": [
       "str"
      ]
     },
     "execution_count": 9,
     "metadata": {},
     "output_type": "execute_result"
    }
   ],
   "source": [
    "type(s)"
   ]
  },
  {
   "cell_type": "code",
   "execution_count": 10,
   "id": "09867a6c-4667-48f3-9467-f0ae7d7da872",
   "metadata": {},
   "outputs": [],
   "source": [
    "s1 = 'This is my first python lecture'"
   ]
  },
  {
   "cell_type": "code",
   "execution_count": 11,
   "id": "87e888a0-12b1-4fb5-a867-603792355595",
   "metadata": {},
   "outputs": [
    {
     "data": {
      "text/plain": [
       "'This is my first python lecture'"
      ]
     },
     "execution_count": 11,
     "metadata": {},
     "output_type": "execute_result"
    }
   ],
   "source": [
    "s1"
   ]
  },
  {
   "cell_type": "code",
   "execution_count": 12,
   "id": "969bf7c3-8bdc-424c-8a8c-dbe8bf304974",
   "metadata": {},
   "outputs": [
    {
     "data": {
      "text/plain": [
       "str"
      ]
     },
     "execution_count": 12,
     "metadata": {},
     "output_type": "execute_result"
    }
   ],
   "source": [
    "type(s1)"
   ]
  },
  {
   "cell_type": "code",
   "execution_count": 13,
   "id": "c2c68c38-130e-4fc9-bf7c-8ee0d6ffbd8a",
   "metadata": {},
   "outputs": [],
   "source": [
    "f = 934.93"
   ]
  },
  {
   "cell_type": "code",
   "execution_count": 14,
   "id": "42a53b6f-f6c8-46bd-934d-16312ca4a111",
   "metadata": {},
   "outputs": [
    {
     "data": {
      "text/plain": [
       "934.93"
      ]
     },
     "execution_count": 14,
     "metadata": {},
     "output_type": "execute_result"
    }
   ],
   "source": [
    "f"
   ]
  },
  {
   "cell_type": "code",
   "execution_count": 15,
   "id": "3ad817db-e1fb-405a-a0a4-556590baf742",
   "metadata": {},
   "outputs": [
    {
     "data": {
      "text/plain": [
       "float"
      ]
     },
     "execution_count": 15,
     "metadata": {},
     "output_type": "execute_result"
    }
   ],
   "source": [
    "type(f)"
   ]
  },
  {
   "cell_type": "code",
   "execution_count": 18,
   "id": "91464390-7447-4dc4-89f8-8bcd6fab58aa",
   "metadata": {},
   "outputs": [],
   "source": [
    "c = 5 + 6j #J is iota here not i"
   ]
  },
  {
   "cell_type": "code",
   "execution_count": 19,
   "id": "ea3e4d5a-9c9b-4542-be38-6226f249e4e5",
   "metadata": {},
   "outputs": [
    {
     "data": {
      "text/plain": [
       "(5+6j)"
      ]
     },
     "execution_count": 19,
     "metadata": {},
     "output_type": "execute_result"
    }
   ],
   "source": [
    "c"
   ]
  },
  {
   "cell_type": "code",
   "execution_count": 20,
   "id": "f864b9aa-1e19-44f8-aed3-a021e564f28a",
   "metadata": {},
   "outputs": [
    {
     "data": {
      "text/plain": [
       "complex"
      ]
     },
     "execution_count": 20,
     "metadata": {},
     "output_type": "execute_result"
    }
   ],
   "source": [
    "type(c)"
   ]
  },
  {
   "cell_type": "code",
   "execution_count": 21,
   "id": "9e2c1f6c-4b7a-46d4-994c-2885c451bce6",
   "metadata": {},
   "outputs": [
    {
     "data": {
      "text/plain": [
       "5.0"
      ]
     },
     "execution_count": 21,
     "metadata": {},
     "output_type": "execute_result"
    }
   ],
   "source": [
    "c.real"
   ]
  },
  {
   "cell_type": "code",
   "execution_count": 22,
   "id": "f5d3407e-5e7f-430a-b4a4-de7d1d0160ae",
   "metadata": {},
   "outputs": [
    {
     "data": {
      "text/plain": [
       "6.0"
      ]
     },
     "execution_count": 22,
     "metadata": {},
     "output_type": "execute_result"
    }
   ],
   "source": [
    "c.imag"
   ]
  },
  {
   "cell_type": "code",
   "execution_count": 23,
   "id": "4da48193-0e99-4e33-9b91-9e0c08de409e",
   "metadata": {},
   "outputs": [],
   "source": [
    "b = True"
   ]
  },
  {
   "cell_type": "code",
   "execution_count": 24,
   "id": "893f3971-ea9c-4f20-9478-07377b4b1cf0",
   "metadata": {},
   "outputs": [
    {
     "data": {
      "text/plain": [
       "True"
      ]
     },
     "execution_count": 24,
     "metadata": {},
     "output_type": "execute_result"
    }
   ],
   "source": [
    "b"
   ]
  },
  {
   "cell_type": "code",
   "execution_count": 25,
   "id": "9c0f3f44-2e8a-413b-96ad-8f27654c8464",
   "metadata": {},
   "outputs": [
    {
     "data": {
      "text/plain": [
       "bool"
      ]
     },
     "execution_count": 25,
     "metadata": {},
     "output_type": "execute_result"
    }
   ],
   "source": [
    "type(b)"
   ]
  },
  {
   "cell_type": "code",
   "execution_count": 26,
   "id": "7cabf547-ae72-4ffc-aaf8-4cf7c4e0ec81",
   "metadata": {},
   "outputs": [],
   "source": [
    "b1 = False"
   ]
  },
  {
   "cell_type": "code",
   "execution_count": 27,
   "id": "e11a712f-425a-4b11-a6a1-737720af79c9",
   "metadata": {},
   "outputs": [
    {
     "data": {
      "text/plain": [
       "False"
      ]
     },
     "execution_count": 27,
     "metadata": {},
     "output_type": "execute_result"
    }
   ],
   "source": [
    "b1"
   ]
  },
  {
   "cell_type": "code",
   "execution_count": 28,
   "id": "5d8aae11-4773-4582-99cf-7a7fbfac1c5e",
   "metadata": {},
   "outputs": [
    {
     "data": {
      "text/plain": [
       "bool"
      ]
     },
     "execution_count": 28,
     "metadata": {},
     "output_type": "execute_result"
    }
   ],
   "source": [
    "type(b1)"
   ]
  },
  {
   "cell_type": "code",
   "execution_count": 29,
   "id": "80369b7d-be96-478f-bb18-b3a56d24394b",
   "metadata": {},
   "outputs": [],
   "source": [
    "a1 = 45\n",
    "a2 = 34"
   ]
  },
  {
   "cell_type": "code",
   "execution_count": 30,
   "id": "93587895-8e24-4bf9-b4e8-ab069789d5a2",
   "metadata": {},
   "outputs": [
    {
     "data": {
      "text/plain": [
       "79"
      ]
     },
     "execution_count": 30,
     "metadata": {},
     "output_type": "execute_result"
    }
   ],
   "source": [
    "a1+a2"
   ]
  },
  {
   "cell_type": "code",
   "execution_count": 31,
   "id": "811105f6-8f30-4eb5-80d4-05983eb78ab7",
   "metadata": {},
   "outputs": [
    {
     "data": {
      "text/plain": [
       "1530"
      ]
     },
     "execution_count": 31,
     "metadata": {},
     "output_type": "execute_result"
    }
   ],
   "source": [
    "a1*a2"
   ]
  },
  {
   "cell_type": "code",
   "execution_count": 32,
   "id": "5c010867-6869-4b8a-b721-4e8eb9d8ffe5",
   "metadata": {},
   "outputs": [
    {
     "data": {
      "text/plain": [
       "1.3235294117647058"
      ]
     },
     "execution_count": 32,
     "metadata": {},
     "output_type": "execute_result"
    }
   ],
   "source": [
    "a1/a2"
   ]
  },
  {
   "cell_type": "code",
   "execution_count": 33,
   "id": "6eee3961-6135-4cbb-a2c3-fb2b2afc61ac",
   "metadata": {},
   "outputs": [
    {
     "data": {
      "text/plain": [
       "11"
      ]
     },
     "execution_count": 33,
     "metadata": {},
     "output_type": "execute_result"
    }
   ],
   "source": [
    "a1-a2"
   ]
  },
  {
   "cell_type": "markdown",
   "id": "91e2e5de-56e2-48ed-ba7d-77cc09043993",
   "metadata": {},
   "source": [
    "#use variable to reuse the variable and for future reference"
   ]
  },
  {
   "cell_type": "code",
   "execution_count": 38,
   "id": "4e89227a-14b9-4dcc-b4f7-efccbcfaedf5",
   "metadata": {},
   "outputs": [],
   "source": [
    "a1, a2 = 46,67 #we can use like this also"
   ]
  },
  {
   "cell_type": "code",
   "execution_count": 36,
   "id": "8ad38020-f193-4848-9ebd-54da358e4a5f",
   "metadata": {},
   "outputs": [
    {
     "data": {
      "text/plain": [
       "46"
      ]
     },
     "execution_count": 36,
     "metadata": {},
     "output_type": "execute_result"
    }
   ],
   "source": [
    "a1"
   ]
  },
  {
   "cell_type": "code",
   "execution_count": 37,
   "id": "60d191cf-44d0-428f-88b1-8befada21bb0",
   "metadata": {},
   "outputs": [
    {
     "data": {
      "text/plain": [
       "67"
      ]
     },
     "execution_count": 37,
     "metadata": {},
     "output_type": "execute_result"
    }
   ],
   "source": [
    "a2"
   ]
  },
  {
   "cell_type": "code",
   "execution_count": 41,
   "id": "6b21aacd-b5b9-4028-a4ca-36269a03bc87",
   "metadata": {},
   "outputs": [],
   "source": [
    "a, b,c,d = 34, \"Amit\", 43.43, True"
   ]
  },
  {
   "cell_type": "code",
   "execution_count": 42,
   "id": "f2e495e6-9b62-4d1d-9209-ec36a182f4ed",
   "metadata": {},
   "outputs": [
    {
     "data": {
      "text/plain": [
       "34"
      ]
     },
     "execution_count": 42,
     "metadata": {},
     "output_type": "execute_result"
    }
   ],
   "source": [
    "a"
   ]
  },
  {
   "cell_type": "code",
   "execution_count": 43,
   "id": "173b6374-2569-44eb-ac4e-d695e8635d99",
   "metadata": {},
   "outputs": [
    {
     "data": {
      "text/plain": [
       "'Amit'"
      ]
     },
     "execution_count": 43,
     "metadata": {},
     "output_type": "execute_result"
    }
   ],
   "source": [
    "b"
   ]
  },
  {
   "cell_type": "code",
   "execution_count": 44,
   "id": "3255ee7f-7874-4c7b-ac3b-e77de34d5cba",
   "metadata": {},
   "outputs": [
    {
     "data": {
      "text/plain": [
       "43.43"
      ]
     },
     "execution_count": 44,
     "metadata": {},
     "output_type": "execute_result"
    }
   ],
   "source": [
    "c"
   ]
  },
  {
   "cell_type": "code",
   "execution_count": 45,
   "id": "76289389-5a4d-4b64-824e-5cc53c3643bd",
   "metadata": {},
   "outputs": [
    {
     "data": {
      "text/plain": [
       "True"
      ]
     },
     "execution_count": 45,
     "metadata": {},
     "output_type": "execute_result"
    }
   ],
   "source": [
    "d"
   ]
  },
  {
   "cell_type": "code",
   "execution_count": 47,
   "id": "38469aaa-70b7-4c56-94c8-d0e8695d7863",
   "metadata": {},
   "outputs": [
    {
     "name": "stderr",
     "output_type": "stream",
     "text": [
      "UsageError: Line magic function `%a` not found.\n"
     ]
    }
   ],
   "source": [
    "%a = 435 #ca't use % as a variable name"
   ]
  },
  {
   "cell_type": "code",
   "execution_count": 48,
   "id": "9d5c9c04-1310-4d0e-92f4-34f4a76e97a2",
   "metadata": {},
   "outputs": [
    {
     "ename": "SyntaxError",
     "evalue": "invalid binary literal (3045554880.py, line 1)",
     "output_type": "error",
     "traceback": [
      "\u001b[0;36m  Cell \u001b[0;32mIn[48], line 1\u001b[0;36m\u001b[0m\n\u001b[0;31m    0b  = 343\u001b[0m\n\u001b[0m     ^\u001b[0m\n\u001b[0;31mSyntaxError\u001b[0m\u001b[0;31m:\u001b[0m invalid binary literal\n"
     ]
    }
   ],
   "source": [
    "0b  = 343"
   ]
  },
  {
   "cell_type": "code",
   "execution_count": 49,
   "id": "e3d3bc22-0da3-4b1a-9cf8-5a82c0b6a0af",
   "metadata": {},
   "outputs": [],
   "source": [
    "b0 = 4353"
   ]
  },
  {
   "cell_type": "code",
   "execution_count": 50,
   "id": "843e1cad-d6c1-4756-98dc-c88d13dc0ed9",
   "metadata": {},
   "outputs": [
    {
     "ename": "SyntaxError",
     "evalue": "invalid syntax. Maybe you meant '==' or ':=' instead of '='? (3607841965.py, line 1)",
     "output_type": "error",
     "traceback": [
      "\u001b[0;36m  Cell \u001b[0;32mIn[50], line 1\u001b[0;36m\u001b[0m\n\u001b[0;31m    @h = 53\u001b[0m\n\u001b[0m     ^\u001b[0m\n\u001b[0;31mSyntaxError\u001b[0m\u001b[0;31m:\u001b[0m invalid syntax. Maybe you meant '==' or ':=' instead of '='?\n"
     ]
    }
   ],
   "source": [
    "@h = 53"
   ]
  },
  {
   "cell_type": "code",
   "execution_count": 51,
   "id": "bcfc36aa-de9d-4826-bc5b-9dbf0f20060e",
   "metadata": {},
   "outputs": [],
   "source": [
    "_a = 34"
   ]
  },
  {
   "cell_type": "code",
   "execution_count": 52,
   "id": "763c1e25-5987-4a2d-b012-4f5022c4ddcc",
   "metadata": {},
   "outputs": [
    {
     "data": {
      "text/plain": [
       "34"
      ]
     },
     "execution_count": 52,
     "metadata": {},
     "output_type": "execute_result"
    }
   ],
   "source": [
    "a"
   ]
  },
  {
   "cell_type": "code",
   "execution_count": 53,
   "id": "24ee0db2-7a95-45fe-8081-e1f4927bc90a",
   "metadata": {},
   "outputs": [
    {
     "ename": "SyntaxError",
     "evalue": "cannot assign to expression here. Maybe you meant '==' instead of '='? (1448900991.py, line 1)",
     "output_type": "error",
     "traceback": [
      "\u001b[0;36m  Cell \u001b[0;32mIn[53], line 1\u001b[0;36m\u001b[0m\n\u001b[0;31m    -b = 345\u001b[0m\n\u001b[0m    ^\u001b[0m\n\u001b[0;31mSyntaxError\u001b[0m\u001b[0;31m:\u001b[0m cannot assign to expression here. Maybe you meant '==' instead of '='?\n"
     ]
    }
   ],
   "source": [
    "-b = 345"
   ]
  },
  {
   "cell_type": "code",
   "execution_count": 54,
   "id": "fab134e2-781b-4651-a5b1-feecb1172de2",
   "metadata": {},
   "outputs": [
    {
     "ename": "SyntaxError",
     "evalue": "cannot assign to True (2326135287.py, line 1)",
     "output_type": "error",
     "traceback": [
      "\u001b[0;36m  Cell \u001b[0;32mIn[54], line 1\u001b[0;36m\u001b[0m\n\u001b[0;31m    True  =65\u001b[0m\n\u001b[0m    ^\u001b[0m\n\u001b[0;31mSyntaxError\u001b[0m\u001b[0;31m:\u001b[0m cannot assign to True\n"
     ]
    }
   ],
   "source": [
    "True  =65"
   ]
  },
  {
   "cell_type": "code",
   "execution_count": 55,
   "id": "b535f6a3-0f57-43d7-9e9a-c93fa5445434",
   "metadata": {},
   "outputs": [],
   "source": [
    "int = 453"
   ]
  },
  {
   "cell_type": "code",
   "execution_count": 56,
   "id": "8fd67df0-2daf-41d6-8139-7caf32fcc8e7",
   "metadata": {},
   "outputs": [
    {
     "data": {
      "text/plain": [
       "453"
      ]
     },
     "execution_count": 56,
     "metadata": {},
     "output_type": "execute_result"
    }
   ],
   "source": [
    "int"
   ]
  },
  {
   "cell_type": "code",
   "execution_count": 57,
   "id": "bde849f5-156b-4dcf-876b-1ca192904f83",
   "metadata": {},
   "outputs": [],
   "source": [
    "b1  = True"
   ]
  },
  {
   "cell_type": "code",
   "execution_count": 58,
   "id": "94c4b7f7-561d-49d7-a984-07fa44d646f3",
   "metadata": {},
   "outputs": [],
   "source": [
    "b2 = False"
   ]
  },
  {
   "cell_type": "code",
   "execution_count": 59,
   "id": "b98194c1-f654-4b68-bdbc-db0894e19376",
   "metadata": {},
   "outputs": [
    {
     "data": {
      "text/plain": [
       "1"
      ]
     },
     "execution_count": 59,
     "metadata": {},
     "output_type": "execute_result"
    }
   ],
   "source": [
    "b1-b2"
   ]
  },
  {
   "cell_type": "code",
   "execution_count": 60,
   "id": "b4cd52b3-2ecf-4e9e-b06e-a297bd29b23b",
   "metadata": {},
   "outputs": [
    {
     "data": {
      "text/plain": [
       "0"
      ]
     },
     "execution_count": 60,
     "metadata": {},
     "output_type": "execute_result"
    }
   ],
   "source": [
    "b1*b2"
   ]
  },
  {
   "cell_type": "code",
   "execution_count": 63,
   "id": "f7ccf8b3-7a21-4df8-ac2d-dc00814e5e00",
   "metadata": {},
   "outputs": [
    {
     "ename": "ZeroDivisionError",
     "evalue": "division by zero",
     "output_type": "error",
     "traceback": [
      "\u001b[0;31m---------------------------------------------------------------------------\u001b[0m",
      "\u001b[0;31mZeroDivisionError\u001b[0m                         Traceback (most recent call last)",
      "Cell \u001b[0;32mIn[63], line 1\u001b[0m\n\u001b[0;32m----> 1\u001b[0m \u001b[43mb1\u001b[49m\u001b[38;5;241;43m/\u001b[39;49m\u001b[43mb2\u001b[49m  \u001b[38;5;66;03m#ZeroDivisionError\u001b[39;00m\n",
      "\u001b[0;31mZeroDivisionError\u001b[0m: division by zero"
     ]
    }
   ],
   "source": [
    "b1/b2  #ZeroDivisionError"
   ]
  },
  {
   "cell_type": "code",
   "execution_count": 64,
   "id": "76c9d98f-1596-4abb-a16d-164e6366f7a6",
   "metadata": {},
   "outputs": [
    {
     "data": {
      "text/plain": [
       "0.0"
      ]
     },
     "execution_count": 64,
     "metadata": {},
     "output_type": "execute_result"
    }
   ],
   "source": [
    "b2/b1"
   ]
  },
  {
   "cell_type": "code",
   "execution_count": 65,
   "id": "32e628d0-cc10-4430-94df-5e68238bf0cd",
   "metadata": {},
   "outputs": [],
   "source": [
    "s1 = \"My name is Amit Raj\""
   ]
  },
  {
   "cell_type": "code",
   "execution_count": 66,
   "id": "0f97f32b-5744-4804-b066-973f9144bda4",
   "metadata": {},
   "outputs": [
    {
     "data": {
      "text/plain": [
       "'My name is Amit Raj'"
      ]
     },
     "execution_count": 66,
     "metadata": {},
     "output_type": "execute_result"
    }
   ],
   "source": [
    "s1"
   ]
  },
  {
   "cell_type": "code",
   "execution_count": 67,
   "id": "ffc14e98-4b91-453f-9f63-32f3d45ca191",
   "metadata": {},
   "outputs": [
    {
     "data": {
      "text/plain": [
       "str"
      ]
     },
     "execution_count": 67,
     "metadata": {},
     "output_type": "execute_result"
    }
   ],
   "source": [
    "type(s1)"
   ]
  },
  {
   "cell_type": "code",
   "execution_count": 68,
   "id": "823b6d7e-1c6b-4ea3-9caf-450ca52ed16d",
   "metadata": {},
   "outputs": [],
   "source": [
    "s2 = \"This is my first python lecture for data mmaster's\""
   ]
  },
  {
   "cell_type": "code",
   "execution_count": 69,
   "id": "ca110f17-0db9-4d45-b3cb-bf7e66377536",
   "metadata": {},
   "outputs": [
    {
     "data": {
      "text/plain": [
       "\"This is my first python lecture for data mmaster's\""
      ]
     },
     "execution_count": 69,
     "metadata": {},
     "output_type": "execute_result"
    }
   ],
   "source": [
    "s2"
   ]
  },
  {
   "cell_type": "code",
   "execution_count": 70,
   "id": "f7ef5fc9-29ce-408d-a299-e65f4cf7c427",
   "metadata": {},
   "outputs": [
    {
     "ename": "SyntaxError",
     "evalue": "unterminated string literal (detected at line 1) (2885815068.py, line 1)",
     "output_type": "error",
     "traceback": [
      "\u001b[0;36m  Cell \u001b[0;32mIn[70], line 1\u001b[0;36m\u001b[0m\n\u001b[0;31m    s3 = 'This is my first python lecture for data mmaster's'\u001b[0m\n\u001b[0m                                                            ^\u001b[0m\n\u001b[0;31mSyntaxError\u001b[0m\u001b[0;31m:\u001b[0m unterminated string literal (detected at line 1)\n"
     ]
    }
   ],
   "source": [
    "s3 = 'This is my first python lecture for data mmaster's'"
   ]
  },
  {
   "cell_type": "raw",
   "id": "42c10443-e129-4f11-a241-82a444707088",
   "metadata": {},
   "source": [
    "Error due to quote, it's confused"
   ]
  },
  {
   "cell_type": "code",
   "execution_count": 71,
   "id": "5ee610e4-21c1-4d34-8955-93caa98da645",
   "metadata": {},
   "outputs": [],
   "source": [
    "#This is my code to create a string variable with quotes\n",
    "#above is comment, sigle line comment\n",
    "s3 = \"This is my first python lecture for data mmaster's\""
   ]
  },
  {
   "cell_type": "code",
   "execution_count": 76,
   "id": "40b050eb-49cf-4905-9914-78e746404334",
   "metadata": {},
   "outputs": [
    {
     "data": {
      "text/plain": [
       "'This is my first python class, \\ni am tring to learn variable declaration\\nlike int,boolean,sting,complex number'"
      ]
     },
     "execution_count": 76,
     "metadata": {},
     "output_type": "execute_result"
    }
   ],
   "source": [
    "'''This is my first python class, \n",
    "i am tring to learn variable declaration\n",
    "like int,boolean,sting,complex number'''\n",
    "\n",
    "#multiple line comment above"
   ]
  },
  {
   "cell_type": "code",
   "execution_count": 77,
   "id": "33f920ed-160d-43e3-8d29-7ac5333b9c7c",
   "metadata": {},
   "outputs": [],
   "source": [
    "s1 = \"Amit\""
   ]
  },
  {
   "cell_type": "code",
   "execution_count": 78,
   "id": "01012343-d218-4e0b-8b23-28f7ac7e5da0",
   "metadata": {},
   "outputs": [],
   "source": [
    "a = 10"
   ]
  },
  {
   "cell_type": "code",
   "execution_count": 80,
   "id": "95247c73-7cf4-468e-8105-5f2f5208a38d",
   "metadata": {},
   "outputs": [
    {
     "ename": "TypeError",
     "evalue": "can only concatenate str (not \"int\") to str",
     "output_type": "error",
     "traceback": [
      "\u001b[0;31m---------------------------------------------------------------------------\u001b[0m",
      "\u001b[0;31mTypeError\u001b[0m                                 Traceback (most recent call last)",
      "Cell \u001b[0;32mIn[80], line 1\u001b[0m\n\u001b[0;32m----> 1\u001b[0m \u001b[43ms1\u001b[49m\u001b[38;5;241;43m+\u001b[39;49m\u001b[43ma\u001b[49m  \u001b[38;5;66;03m#can't concate int to str\u001b[39;00m\n",
      "\u001b[0;31mTypeError\u001b[0m: can only concatenate str (not \"int\") to str"
     ]
    }
   ],
   "source": [
    "s1+a  #can't concate int to str"
   ]
  },
  {
   "cell_type": "code",
   "execution_count": 81,
   "id": "44e2559b-9d95-4c4a-9e57-e478bc70a701",
   "metadata": {},
   "outputs": [],
   "source": [
    "a='10'"
   ]
  },
  {
   "cell_type": "code",
   "execution_count": 83,
   "id": "b19ed048-7050-433b-ad6a-6aabe90a8a0c",
   "metadata": {},
   "outputs": [
    {
     "data": {
      "text/plain": [
       "'Amit10'"
      ]
     },
     "execution_count": 83,
     "metadata": {},
     "output_type": "execute_result"
    }
   ],
   "source": [
    "s1+a  #here both are string so we can concatenate"
   ]
  },
  {
   "cell_type": "code",
   "execution_count": 84,
   "id": "e843edb4-f7cb-4054-afc4-5bb1a6004dfe",
   "metadata": {},
   "outputs": [],
   "source": [
    "s1=\"Amit\""
   ]
  },
  {
   "cell_type": "code",
   "execution_count": 85,
   "id": "ea1ecbd4-eba9-43dd-b5bc-97d0ed56662a",
   "metadata": {},
   "outputs": [],
   "source": [
    "s2=\" Raj\""
   ]
  },
  {
   "cell_type": "code",
   "execution_count": 86,
   "id": "8b489bd5-d02d-4431-b7cb-e4b471e6c01c",
   "metadata": {},
   "outputs": [
    {
     "data": {
      "text/plain": [
       "'Amit Raj'"
      ]
     },
     "execution_count": 86,
     "metadata": {},
     "output_type": "execute_result"
    }
   ],
   "source": [
    "s1+s2"
   ]
  },
  {
   "cell_type": "raw",
   "id": "461819b3-d08f-483a-9365-33aef924cb4d",
   "metadata": {},
   "source": [
    "#can't concatenate string and int, it should be same data type"
   ]
  },
  {
   "cell_type": "code",
   "execution_count": 88,
   "id": "2b6357f9-a496-451b-82ab-ef5018451020",
   "metadata": {},
   "outputs": [
    {
     "data": {
      "text/plain": [
       "'10'"
      ]
     },
     "execution_count": 88,
     "metadata": {},
     "output_type": "execute_result"
    }
   ],
   "source": [
    "#type casting\n",
    "str(a)"
   ]
  },
  {
   "cell_type": "code",
   "execution_count": 89,
   "id": "103a2b73-39f7-41e0-bd05-b06d2d8fda4f",
   "metadata": {},
   "outputs": [
    {
     "data": {
      "text/plain": [
       "'10'"
      ]
     },
     "execution_count": 89,
     "metadata": {},
     "output_type": "execute_result"
    }
   ],
   "source": [
    "'10'"
   ]
  },
  {
   "cell_type": "code",
   "execution_count": 90,
   "id": "9f9cde53-a411-4408-bbc6-17b5aaff78b7",
   "metadata": {},
   "outputs": [
    {
     "data": {
      "text/plain": [
       "'1010'"
      ]
     },
     "execution_count": 90,
     "metadata": {},
     "output_type": "execute_result"
    }
   ],
   "source": [
    "a+'10'"
   ]
  },
  {
   "cell_type": "code",
   "execution_count": 91,
   "id": "e7f9257b-acdd-459b-b432-5a1cf0f13edc",
   "metadata": {},
   "outputs": [
    {
     "data": {
      "text/plain": [
       "'1010'"
      ]
     },
     "execution_count": 91,
     "metadata": {},
     "output_type": "execute_result"
    }
   ],
   "source": [
    "'10' + str(a)"
   ]
  },
  {
   "cell_type": "code",
   "execution_count": 92,
   "id": "14d8bd7d-c229-4f0b-9717-1c9275766d71",
   "metadata": {},
   "outputs": [
    {
     "data": {
      "text/plain": [
       "'Amit10'"
      ]
     },
     "execution_count": 92,
     "metadata": {},
     "output_type": "execute_result"
    }
   ],
   "source": [
    "'Amit' + str(a)"
   ]
  },
  {
   "cell_type": "code",
   "execution_count": 93,
   "id": "62960045-0d2c-4e7e-8541-e097c8b6c232",
   "metadata": {},
   "outputs": [],
   "source": [
    "b = str(a)"
   ]
  },
  {
   "cell_type": "code",
   "execution_count": 94,
   "id": "71a33890-d35a-468c-85d0-d749cc2d514f",
   "metadata": {},
   "outputs": [
    {
     "data": {
      "text/plain": [
       "'10'"
      ]
     },
     "execution_count": 94,
     "metadata": {},
     "output_type": "execute_result"
    }
   ],
   "source": [
    "b"
   ]
  },
  {
   "cell_type": "code",
   "execution_count": 95,
   "id": "6d3696df-a23f-4315-ba3f-1a069773b40f",
   "metadata": {},
   "outputs": [
    {
     "ename": "TypeError",
     "evalue": "'int' object is not callable",
     "output_type": "error",
     "traceback": [
      "\u001b[0;31m---------------------------------------------------------------------------\u001b[0m",
      "\u001b[0;31mTypeError\u001b[0m                                 Traceback (most recent call last)",
      "Cell \u001b[0;32mIn[95], line 1\u001b[0m\n\u001b[0;32m----> 1\u001b[0m \u001b[38;5;28;43mint\u001b[39;49m\u001b[43m(\u001b[49m\u001b[43mb\u001b[49m\u001b[43m)\u001b[49m\n",
      "\u001b[0;31mTypeError\u001b[0m: 'int' object is not callable"
     ]
    }
   ],
   "source": [
    "int(b)"
   ]
  },
  {
   "cell_type": "code",
   "execution_count": 96,
   "id": "1301015e-62d4-4ec4-9f12-d8fe14976396",
   "metadata": {},
   "outputs": [],
   "source": [
    "s = \"Amit\""
   ]
  },
  {
   "cell_type": "code",
   "execution_count": 97,
   "id": "4eb6ee13-84f2-497b-9a6d-f1f76b9213db",
   "metadata": {},
   "outputs": [
    {
     "ename": "TypeError",
     "evalue": "'int' object is not callable",
     "output_type": "error",
     "traceback": [
      "\u001b[0;31m---------------------------------------------------------------------------\u001b[0m",
      "\u001b[0;31mTypeError\u001b[0m                                 Traceback (most recent call last)",
      "Cell \u001b[0;32mIn[97], line 1\u001b[0m\n\u001b[0;32m----> 1\u001b[0m \u001b[38;5;28;43mint\u001b[39;49m\u001b[43m(\u001b[49m\u001b[43ms\u001b[49m\u001b[43m)\u001b[49m\n",
      "\u001b[0;31mTypeError\u001b[0m: 'int' object is not callable"
     ]
    }
   ],
   "source": [
    "int(s)"
   ]
  },
  {
   "cell_type": "code",
   "execution_count": 98,
   "id": "14491e7f-8ba6-4a96-9575-6eda96c3468d",
   "metadata": {},
   "outputs": [],
   "source": [
    "a = 4532553"
   ]
  },
  {
   "cell_type": "markdown",
   "id": "f738d4b1-6979-4a76-a449-0a8256b0b289",
   "metadata": {},
   "source": [
    "Take input from User"
   ]
  },
  {
   "cell_type": "code",
   "execution_count": 99,
   "id": "a7abf0a0-31b4-45c3-86c8-fbb3d39a0e60",
   "metadata": {},
   "outputs": [
    {
     "name": "stdin",
     "output_type": "stream",
     "text": [
      " jkgfggfbvg\n"
     ]
    }
   ],
   "source": [
    "b= input()"
   ]
  },
  {
   "cell_type": "code",
   "execution_count": 100,
   "id": "069a8242-4327-4abb-be0a-50de3ad817b6",
   "metadata": {},
   "outputs": [
    {
     "data": {
      "text/plain": [
       "'jkgfggfbvg'"
      ]
     },
     "execution_count": 100,
     "metadata": {},
     "output_type": "execute_result"
    }
   ],
   "source": [
    "b"
   ]
  },
  {
   "cell_type": "code",
   "execution_count": 101,
   "id": "9fa236d7-ba02-4ada-91fa-d30eb45e78e0",
   "metadata": {},
   "outputs": [
    {
     "name": "stdin",
     "output_type": "stream",
     "text": [
      " 234\n"
     ]
    }
   ],
   "source": [
    "b = input()"
   ]
  },
  {
   "cell_type": "code",
   "execution_count": 102,
   "id": "c075202d-7e8f-4134-9505-dee62b8544fa",
   "metadata": {},
   "outputs": [
    {
     "data": {
      "text/plain": [
       "'234'"
      ]
     },
     "execution_count": 102,
     "metadata": {},
     "output_type": "execute_result"
    }
   ],
   "source": [
    "b"
   ]
  },
  {
   "cell_type": "code",
   "execution_count": 103,
   "id": "71cae70a-db39-430a-acff-6d93ab89dd11",
   "metadata": {},
   "outputs": [
    {
     "data": {
      "text/plain": [
       "str"
      ]
     },
     "execution_count": 103,
     "metadata": {},
     "output_type": "execute_result"
    }
   ],
   "source": [
    "type(b)"
   ]
  },
  {
   "cell_type": "code",
   "execution_count": 109,
   "id": "8be3ee81-c83d-4987-81f3-155311dbd8d2",
   "metadata": {},
   "outputs": [
    {
     "name": "stdin",
     "output_type": "stream",
     "text": [
      " True\n"
     ]
    }
   ],
   "source": [
    "c = bool(input())"
   ]
  },
  {
   "cell_type": "code",
   "execution_count": 110,
   "id": "275acb09-cd36-4beb-a8ea-78c2b8ffbe2a",
   "metadata": {},
   "outputs": [
    {
     "data": {
      "text/plain": [
       "bool"
      ]
     },
     "execution_count": 110,
     "metadata": {},
     "output_type": "execute_result"
    }
   ],
   "source": [
    "type(c)"
   ]
  },
  {
   "cell_type": "code",
   "execution_count": 112,
   "id": "a5fa946a-8ea6-4476-9d9d-fed50bcf1f13",
   "metadata": {},
   "outputs": [
    {
     "name": "stdin",
     "output_type": "stream",
     "text": [
      " 899\n"
     ]
    }
   ],
   "source": [
    "d = input()"
   ]
  },
  {
   "cell_type": "code",
   "execution_count": 113,
   "id": "f3c69143-e6b1-4d47-9a4f-ebb4e6ae9324",
   "metadata": {},
   "outputs": [
    {
     "data": {
      "text/plain": [
       "'899'"
      ]
     },
     "execution_count": 113,
     "metadata": {},
     "output_type": "execute_result"
    }
   ],
   "source": [
    "d"
   ]
  },
  {
   "cell_type": "code",
   "execution_count": 1,
   "id": "d5c1c4cb-21d6-400b-91ab-6f4159104baf",
   "metadata": {},
   "outputs": [
    {
     "name": "stdin",
     "output_type": "stream",
     "text": [
      " 6556\n"
     ]
    }
   ],
   "source": [
    "d = int(input())"
   ]
  },
  {
   "cell_type": "code",
   "execution_count": 2,
   "id": "20d1613d-c4df-470f-bdc1-0a19c84f2e12",
   "metadata": {},
   "outputs": [
    {
     "data": {
      "text/plain": [
       "int"
      ]
     },
     "execution_count": 2,
     "metadata": {},
     "output_type": "execute_result"
    }
   ],
   "source": [
    "type(d)"
   ]
  },
  {
   "cell_type": "code",
   "execution_count": 3,
   "id": "613c7de2-5508-4e61-be98-59c38203518a",
   "metadata": {},
   "outputs": [
    {
     "name": "stdin",
     "output_type": "stream",
     "text": [
      " 236.65\n"
     ]
    }
   ],
   "source": [
    "d = float(input())"
   ]
  },
  {
   "cell_type": "code",
   "execution_count": 4,
   "id": "0b869b84-b0d7-4364-a9ca-cf2e04733914",
   "metadata": {},
   "outputs": [
    {
     "data": {
      "text/plain": [
       "float"
      ]
     },
     "execution_count": 4,
     "metadata": {},
     "output_type": "execute_result"
    }
   ],
   "source": [
    "type(d)"
   ]
  },
  {
   "cell_type": "code",
   "execution_count": 5,
   "id": "df66d040-88d3-47a5-91e1-5ee62dcd6dc3",
   "metadata": {},
   "outputs": [],
   "source": [
    "s = \"Amit\""
   ]
  },
  {
   "cell_type": "code",
   "execution_count": 6,
   "id": "fd05ccad-f92e-479d-b678-4e23c1ef4852",
   "metadata": {},
   "outputs": [
    {
     "data": {
      "text/plain": [
       "'Amit'"
      ]
     },
     "execution_count": 6,
     "metadata": {},
     "output_type": "execute_result"
    }
   ],
   "source": [
    "s"
   ]
  },
  {
   "cell_type": "markdown",
   "id": "c2198e65-9cb7-4cec-8a99-4793f831a10b",
   "metadata": {},
   "source": [
    "Forward and Backward Indexing"
   ]
  },
  {
   "cell_type": "code",
   "execution_count": 7,
   "id": "5334e71b-f7ee-4387-bb78-0bf2f0fb8b88",
   "metadata": {},
   "outputs": [
    {
     "data": {
      "text/plain": [
       "'m'"
      ]
     },
     "execution_count": 7,
     "metadata": {},
     "output_type": "execute_result"
    }
   ],
   "source": [
    "s[1]"
   ]
  },
  {
   "cell_type": "code",
   "execution_count": 8,
   "id": "fc6728b1-8aa5-44b2-9e59-09ececadef7a",
   "metadata": {},
   "outputs": [
    {
     "data": {
      "text/plain": [
       "'t'"
      ]
     },
     "execution_count": 8,
     "metadata": {},
     "output_type": "execute_result"
    }
   ],
   "source": [
    "s[-1]"
   ]
  },
  {
   "cell_type": "code",
   "execution_count": 9,
   "id": "00fb13ae-0b73-4edd-9f8a-27fffe479ec4",
   "metadata": {},
   "outputs": [
    {
     "ename": "IndexError",
     "evalue": "string index out of range",
     "output_type": "error",
     "traceback": [
      "\u001b[0;31m---------------------------------------------------------------------------\u001b[0m",
      "\u001b[0;31mIndexError\u001b[0m                                Traceback (most recent call last)",
      "Cell \u001b[0;32mIn[9], line 1\u001b[0m\n\u001b[0;32m----> 1\u001b[0m \u001b[43ms\u001b[49m\u001b[43m[\u001b[49m\u001b[38;5;241;43m100\u001b[39;49m\u001b[43m]\u001b[49m\n",
      "\u001b[0;31mIndexError\u001b[0m: string index out of range"
     ]
    }
   ],
   "source": [
    "s[100]"
   ]
  },
  {
   "cell_type": "code",
   "execution_count": 10,
   "id": "6e787f2f-b316-40d5-9383-a3cd9561c0af",
   "metadata": {},
   "outputs": [
    {
     "data": {
      "text/plain": [
       "'m'"
      ]
     },
     "execution_count": 10,
     "metadata": {},
     "output_type": "execute_result"
    }
   ],
   "source": [
    "s[-3]"
   ]
  },
  {
   "cell_type": "code",
   "execution_count": 12,
   "id": "fd46a328-f6c5-4f28-8b10-9d6cf6435bca",
   "metadata": {},
   "outputs": [],
   "source": [
    "s1 = \"PwSkills\""
   ]
  },
  {
   "cell_type": "markdown",
   "id": "998487d5-4440-4536-956a-6fed5d8c49b4",
   "metadata": {},
   "source": [
    "Slicing"
   ]
  },
  {
   "cell_type": "code",
   "execution_count": 15,
   "id": "a641d1ad-7c21-4a44-b6c4-f77d7e303e8f",
   "metadata": {},
   "outputs": [
    {
     "data": {
      "text/plain": [
       "'Pw'"
      ]
     },
     "execution_count": 15,
     "metadata": {},
     "output_type": "execute_result"
    }
   ],
   "source": [
    "s1[0:2]  #indexing [starting, Need+1(end+1)]"
   ]
  },
  {
   "cell_type": "code",
   "execution_count": 16,
   "id": "72026990-ae1c-4c01-9bfb-252a4080a9da",
   "metadata": {},
   "outputs": [
    {
     "data": {
      "text/plain": [
       "'wSk'"
      ]
     },
     "execution_count": 16,
     "metadata": {},
     "output_type": "execute_result"
    }
   ],
   "source": [
    "s1[-7: -4]"
   ]
  },
  {
   "cell_type": "code",
   "execution_count": 17,
   "id": "3d6901ed-5ffd-424d-8f51-24a89cad4d88",
   "metadata": {},
   "outputs": [
    {
     "data": {
      "text/plain": [
       "''"
      ]
     },
     "execution_count": 17,
     "metadata": {},
     "output_type": "execute_result"
    }
   ],
   "source": [
    "s1[-4:-7]"
   ]
  },
  {
   "cell_type": "code",
   "execution_count": 18,
   "id": "416e0f81-934e-449c-8374-aff35953adb4",
   "metadata": {},
   "outputs": [
    {
     "data": {
      "text/plain": [
       "'Skill'"
      ]
     },
     "execution_count": 18,
     "metadata": {},
     "output_type": "execute_result"
    }
   ],
   "source": [
    "s1[2:7]"
   ]
  },
  {
   "cell_type": "code",
   "execution_count": 19,
   "id": "5d4d3939-7c34-4ca1-9274-5ab94ec80f01",
   "metadata": {},
   "outputs": [
    {
     "data": {
      "text/plain": [
       "'Skills'"
      ]
     },
     "execution_count": 19,
     "metadata": {},
     "output_type": "execute_result"
    }
   ],
   "source": [
    "s1[2:5454]"
   ]
  },
  {
   "cell_type": "code",
   "execution_count": 24,
   "id": "a057db83-fb54-4aaf-9da5-acb403925ca1",
   "metadata": {},
   "outputs": [
    {
     "data": {
      "text/plain": [
       "'kills'"
      ]
     },
     "execution_count": 24,
     "metadata": {},
     "output_type": "execute_result"
    }
   ],
   "source": [
    "s1[3:8]"
   ]
  },
  {
   "cell_type": "markdown",
   "id": "2d133d98-22a0-4e80-a775-f92aaed3b55b",
   "metadata": {},
   "source": [
    "Give only Starting index"
   ]
  },
  {
   "cell_type": "code",
   "execution_count": 21,
   "id": "d77b5714-3b29-4fa1-b61f-58a0a4e05473",
   "metadata": {},
   "outputs": [
    {
     "data": {
      "text/plain": [
       "'PwSkill'"
      ]
     },
     "execution_count": 21,
     "metadata": {},
     "output_type": "execute_result"
    }
   ],
   "source": [
    "s1[0:7]"
   ]
  },
  {
   "cell_type": "code",
   "execution_count": 22,
   "id": "09646d9e-5a6d-4531-b146-1c6e116179e5",
   "metadata": {},
   "outputs": [
    {
     "data": {
      "text/plain": [
       "'PSil'"
      ]
     },
     "execution_count": 22,
     "metadata": {},
     "output_type": "execute_result"
    }
   ],
   "source": [
    "s1[0:7:2]"
   ]
  },
  {
   "cell_type": "markdown",
   "id": "f9196580-7fe1-4efa-a5bc-64367aaf4841",
   "metadata": {},
   "source": [
    "s1[staring,ending,steps to jump indexes]"
   ]
  },
  {
   "cell_type": "code",
   "execution_count": 25,
   "id": "d097023c-b7b0-4fce-b3d6-28d16fa18e81",
   "metadata": {},
   "outputs": [
    {
     "data": {
      "text/plain": [
       "'kills'"
      ]
     },
     "execution_count": 25,
     "metadata": {},
     "output_type": "execute_result"
    }
   ],
   "source": [
    "s1[3:8]"
   ]
  },
  {
   "cell_type": "code",
   "execution_count": 26,
   "id": "6eeea6c1-e80b-45a8-a977-71a60308c0d4",
   "metadata": {},
   "outputs": [
    {
     "data": {
      "text/plain": [
       "'Skills'"
      ]
     },
     "execution_count": 26,
     "metadata": {},
     "output_type": "execute_result"
    }
   ],
   "source": [
    "s1[2:8]"
   ]
  },
  {
   "cell_type": "code",
   "execution_count": 27,
   "id": "bcc7a4d1-4232-4d83-a6ca-d8ef43c9e693",
   "metadata": {},
   "outputs": [
    {
     "data": {
      "text/plain": [
       "''"
      ]
     },
     "execution_count": 27,
     "metadata": {},
     "output_type": "execute_result"
    }
   ],
   "source": [
    "s1[7:2]"
   ]
  },
  {
   "cell_type": "code",
   "execution_count": 28,
   "id": "a0a62a2c-5907-4158-840b-3ec9e474aeeb",
   "metadata": {},
   "outputs": [
    {
     "data": {
      "text/plain": [
       "''"
      ]
     },
     "execution_count": 28,
     "metadata": {},
     "output_type": "execute_result"
    }
   ],
   "source": [
    "s1[7:3]"
   ]
  },
  {
   "cell_type": "code",
   "execution_count": 29,
   "id": "2f1ad800-1fc0-4161-84ee-232321e9ea91",
   "metadata": {},
   "outputs": [
    {
     "data": {
      "text/plain": [
       "'wSki'"
      ]
     },
     "execution_count": 29,
     "metadata": {},
     "output_type": "execute_result"
    }
   ],
   "source": [
    "s1[-7:-3]"
   ]
  },
  {
   "cell_type": "code",
   "execution_count": 30,
   "id": "505d9bef-bf4b-4e7b-a2d1-da1919936153",
   "metadata": {},
   "outputs": [
    {
     "data": {
      "text/plain": [
       "'slli'"
      ]
     },
     "execution_count": 30,
     "metadata": {},
     "output_type": "execute_result"
    }
   ],
   "source": [
    "s1[7:3:-1]"
   ]
  },
  {
   "cell_type": "code",
   "execution_count": 31,
   "id": "46e7c5b3-76aa-41d9-9a7f-c0867ba5e547",
   "metadata": {},
   "outputs": [
    {
     "data": {
      "text/plain": [
       "'PwSkills'"
      ]
     },
     "execution_count": 31,
     "metadata": {},
     "output_type": "execute_result"
    }
   ],
   "source": [
    "s1[0:8]"
   ]
  },
  {
   "cell_type": "code",
   "execution_count": 32,
   "id": "624b7869-98bd-4f68-83e6-78ef096a83cc",
   "metadata": {},
   "outputs": [
    {
     "data": {
      "text/plain": [
       "'slli'"
      ]
     },
     "execution_count": 32,
     "metadata": {},
     "output_type": "execute_result"
    }
   ],
   "source": [
    "s1[-1:-5:-1]"
   ]
  },
  {
   "cell_type": "code",
   "execution_count": 33,
   "id": "1ebcda14-822a-4f45-9d5e-87ad1f336574",
   "metadata": {},
   "outputs": [
    {
     "data": {
      "text/plain": [
       "'Skill'"
      ]
     },
     "execution_count": 33,
     "metadata": {},
     "output_type": "execute_result"
    }
   ],
   "source": [
    "s1[-6:-1]"
   ]
  },
  {
   "cell_type": "markdown",
   "id": "d4509450-9ae5-48f1-8586-ca9fe5a1bc65",
   "metadata": {},
   "source": [
    "If in increasing order it is in forward\n",
    "if it is in negative direction then opposite "
   ]
  },
  {
   "cell_type": "code",
   "execution_count": 34,
   "id": "edf6854c-eab3-411b-8983-3bd7015988f5",
   "metadata": {},
   "outputs": [
    {
     "data": {
      "text/plain": [
       "'s'"
      ]
     },
     "execution_count": 34,
     "metadata": {},
     "output_type": "execute_result"
    }
   ],
   "source": [
    "s1[-1:]"
   ]
  },
  {
   "cell_type": "code",
   "execution_count": 35,
   "id": "85c9d779-8844-415c-a717-265077d173fc",
   "metadata": {},
   "outputs": [
    {
     "data": {
      "text/plain": [
       "'wSkills'"
      ]
     },
     "execution_count": 35,
     "metadata": {},
     "output_type": "execute_result"
    }
   ],
   "source": [
    "s1[-7:]"
   ]
  },
  {
   "cell_type": "code",
   "execution_count": 36,
   "id": "2fcbe23f-a1b7-4c26-95d1-4618ac83452b",
   "metadata": {},
   "outputs": [
    {
     "data": {
      "text/plain": [
       "'PwSkills'"
      ]
     },
     "execution_count": 36,
     "metadata": {},
     "output_type": "execute_result"
    }
   ],
   "source": [
    "s1[-8:]"
   ]
  },
  {
   "cell_type": "code",
   "execution_count": 37,
   "id": "c0ab5826-b756-4648-a6b9-32e30c3d7ae5",
   "metadata": {},
   "outputs": [
    {
     "data": {
      "text/plain": [
       "''"
      ]
     },
     "execution_count": 37,
     "metadata": {},
     "output_type": "execute_result"
    }
   ],
   "source": [
    "s1[-8:0:-1]"
   ]
  },
  {
   "cell_type": "code",
   "execution_count": 38,
   "id": "2bd4824e-ad2c-43a1-b756-454fa4a1cb2f",
   "metadata": {},
   "outputs": [
    {
     "data": {
      "text/plain": [
       "''"
      ]
     },
     "execution_count": 38,
     "metadata": {},
     "output_type": "execute_result"
    }
   ],
   "source": [
    "s1[0:8:-1]"
   ]
  },
  {
   "cell_type": "code",
   "execution_count": 39,
   "id": "b0da4b9b-d098-4fc9-a76e-6f1f7b806c7d",
   "metadata": {},
   "outputs": [
    {
     "data": {
      "text/plain": [
       "''"
      ]
     },
     "execution_count": 39,
     "metadata": {},
     "output_type": "execute_result"
    }
   ],
   "source": [
    "s1[0:7:-1]"
   ]
  },
  {
   "cell_type": "code",
   "execution_count": 40,
   "id": "3c3accd3-b767-4b0e-9acf-3e4c668e0cd6",
   "metadata": {},
   "outputs": [
    {
     "data": {
      "text/plain": [
       "'sllikSw'"
      ]
     },
     "execution_count": 40,
     "metadata": {},
     "output_type": "execute_result"
    }
   ],
   "source": [
    "s1[7:0:-1]"
   ]
  },
  {
   "cell_type": "code",
   "execution_count": 41,
   "id": "2e991ffe-01df-491e-9989-90f0d6a51e6e",
   "metadata": {},
   "outputs": [
    {
     "data": {
      "text/plain": [
       "'sllikSw'"
      ]
     },
     "execution_count": 41,
     "metadata": {},
     "output_type": "execute_result"
    }
   ],
   "source": [
    "s1[8:0:-1]"
   ]
  },
  {
   "cell_type": "code",
   "execution_count": 42,
   "id": "b539900d-c543-488e-bc9f-906e84295957",
   "metadata": {},
   "outputs": [
    {
     "data": {
      "text/plain": [
       "''"
      ]
     },
     "execution_count": 42,
     "metadata": {},
     "output_type": "execute_result"
    }
   ],
   "source": [
    "s1[8:-1:-1]"
   ]
  },
  {
   "cell_type": "code",
   "execution_count": 43,
   "id": "ce193e34-f572-4442-b522-02ef388d183b",
   "metadata": {},
   "outputs": [
    {
     "data": {
      "text/plain": [
       "'sllikSw'"
      ]
     },
     "execution_count": 43,
     "metadata": {},
     "output_type": "execute_result"
    }
   ],
   "source": [
    "s1[9:0:-1]"
   ]
  },
  {
   "cell_type": "code",
   "execution_count": 44,
   "id": "4f34ecdd-dea1-464d-a2bb-1f1b9507732c",
   "metadata": {},
   "outputs": [
    {
     "data": {
      "text/plain": [
       "'sllikSwP'"
      ]
     },
     "execution_count": 44,
     "metadata": {},
     "output_type": "execute_result"
    }
   ],
   "source": [
    "s1[8:-9:-1]"
   ]
  },
  {
   "cell_type": "code",
   "execution_count": 45,
   "id": "90d2b9c7-3fd9-4514-b829-283d543ae0a7",
   "metadata": {},
   "outputs": [
    {
     "data": {
      "text/plain": [
       "'sllikSwP'"
      ]
     },
     "execution_count": 45,
     "metadata": {},
     "output_type": "execute_result"
    }
   ],
   "source": [
    "s1[8::-1]"
   ]
  },
  {
   "cell_type": "code",
   "execution_count": 46,
   "id": "281bd40d-5cdd-46f2-911e-2caf968e74e6",
   "metadata": {},
   "outputs": [
    {
     "data": {
      "text/plain": [
       "'sllikSwP'"
      ]
     },
     "execution_count": 46,
     "metadata": {},
     "output_type": "execute_result"
    }
   ],
   "source": [
    "s1[::-1]"
   ]
  },
  {
   "cell_type": "markdown",
   "id": "15006f28-f5d7-4e88-8bb9-b8e21dc199aa",
   "metadata": {},
   "source": [
    "String slicing and indexing"
   ]
  },
  {
   "cell_type": "code",
   "execution_count": 47,
   "id": "95071fce-2430-4071-a98c-c88b04daff24",
   "metadata": {},
   "outputs": [
    {
     "data": {
      "text/plain": [
       "'PwSkills'"
      ]
     },
     "execution_count": 47,
     "metadata": {},
     "output_type": "execute_result"
    }
   ],
   "source": [
    "s1"
   ]
  },
  {
   "cell_type": "code",
   "execution_count": 48,
   "id": "e57b19d4-66ad-4d84-ba69-cd414636353c",
   "metadata": {},
   "outputs": [
    {
     "data": {
      "text/plain": [
       "'P'"
      ]
     },
     "execution_count": 48,
     "metadata": {},
     "output_type": "execute_result"
    }
   ],
   "source": [
    "s1[0]"
   ]
  },
  {
   "cell_type": "code",
   "execution_count": 49,
   "id": "7e7c73d9-80a3-470a-b38d-855bc5f3f0a2",
   "metadata": {},
   "outputs": [],
   "source": [
    "a=10"
   ]
  },
  {
   "cell_type": "code",
   "execution_count": 50,
   "id": "2d5df218-074f-4bf2-9ad6-58142eddb885",
   "metadata": {},
   "outputs": [],
   "source": [
    "a=20"
   ]
  },
  {
   "cell_type": "code",
   "execution_count": 51,
   "id": "f72b3db3-46b9-4196-9f1f-1e4679e51673",
   "metadata": {},
   "outputs": [
    {
     "ename": "TypeError",
     "evalue": "'str' object does not support item assignment",
     "output_type": "error",
     "traceback": [
      "\u001b[0;31m---------------------------------------------------------------------------\u001b[0m",
      "\u001b[0;31mTypeError\u001b[0m                                 Traceback (most recent call last)",
      "Cell \u001b[0;32mIn[51], line 1\u001b[0m\n\u001b[0;32m----> 1\u001b[0m \u001b[43ms1\u001b[49m\u001b[43m[\u001b[49m\u001b[38;5;241;43m0\u001b[39;49m\u001b[43m]\u001b[49m  \u001b[38;5;241m=\u001b[39m \u001b[38;5;124m'\u001b[39m\u001b[38;5;124ms\u001b[39m\u001b[38;5;124m'\u001b[39m\n",
      "\u001b[0;31mTypeError\u001b[0m: 'str' object does not support item assignment"
     ]
    }
   ],
   "source": [
    "s1[0]  = 's'"
   ]
  },
  {
   "cell_type": "markdown",
   "id": "dd5b4ca9-2464-410e-80d2-44839a28d098",
   "metadata": {},
   "source": [
    "In string, reassignment is not permit"
   ]
  },
  {
   "cell_type": "markdown",
   "id": "37e488a1-b948-422c-9e72-e33b3de83aa1",
   "metadata": {},
   "source": [
    "String is Immutable, not reassign"
   ]
  },
  {
   "cell_type": "markdown",
   "id": "c5790f4a-05ef-46cd-9544-eabf1a8d9df2",
   "metadata": {},
   "source": [
    "At particular index, not changeing-- it is string"
   ]
  },
  {
   "cell_type": "code",
   "execution_count": null,
   "id": "4d476536-f868-4afd-97f8-1c6f9acfb4b8",
   "metadata": {},
   "outputs": [],
   "source": []
  }
 ],
 "metadata": {
  "kernelspec": {
   "display_name": "Python 3 (ipykernel)",
   "language": "python",
   "name": "python3"
  },
  "language_info": {
   "codemirror_mode": {
    "name": "ipython",
    "version": 3
   },
   "file_extension": ".py",
   "mimetype": "text/x-python",
   "name": "python",
   "nbconvert_exporter": "python",
   "pygments_lexer": "ipython3",
   "version": "3.10.8"
  }
 },
 "nbformat": 4,
 "nbformat_minor": 5
}
