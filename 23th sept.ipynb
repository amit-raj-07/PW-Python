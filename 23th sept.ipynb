{
 "cells": [
  {
   "cell_type": "markdown",
   "id": "7b3def10-8a6a-487b-afdd-15fbb7dc65a8",
   "metadata": {},
   "source": [
    "#while loop"
   ]
  },
  {
   "cell_type": "markdown",
   "id": "a84911bb-fa93-4dd5-8573-970c01531fcb",
   "metadata": {},
   "source": [
    "#while uiversaly True"
   ]
  },
  {
   "cell_type": "code",
   "execution_count": 1,
   "id": "2677fe16-bfd8-4dd1-b1c9-3fbb6896a0d3",
   "metadata": {},
   "outputs": [
    {
     "name": "stdout",
     "output_type": "stream",
     "text": [
      "10\n",
      "9\n",
      "8\n",
      "7\n",
      "6\n",
      "5\n",
      "4\n",
      "3\n",
      "2\n",
      "1\n"
     ]
    }
   ],
   "source": [
    "a=10\n",
    "while a>=1:\n",
    "    print(a)\n",
    "    a = a-1"
   ]
  },
  {
   "cell_type": "code",
   "execution_count": 2,
   "id": "208d69ef-54ed-4d3a-b895-e9f97f3b9a26",
   "metadata": {},
   "outputs": [
    {
     "name": "stdout",
     "output_type": "stream",
     "text": [
      "55\n"
     ]
    }
   ],
   "source": [
    "s=0\n",
    "n=1\n",
    "t=10\n",
    "while n<=t:\n",
    "    s = s+n\n",
    "    n = n+1\n",
    "print(s)"
   ]
  },
  {
   "cell_type": "code",
   "execution_count": 3,
   "id": "95e642f8-b166-42a1-920f-7d0c7638c2ec",
   "metadata": {},
   "outputs": [
    {
     "name": "stdout",
     "output_type": "stream",
     "text": [
      "120\n"
     ]
    }
   ],
   "source": [
    "s=1\n",
    "n=1\n",
    "t=5\n",
    "while n<=t:\n",
    "    s = s*n\n",
    "    n = n+1\n",
    "print(s)"
   ]
  },
  {
   "cell_type": "code",
   "execution_count": 4,
   "id": "968a8833-cd4d-434c-8db3-51d90d507376",
   "metadata": {},
   "outputs": [
    {
     "name": "stdin",
     "output_type": "stream",
     "text": [
      "Enter num :  2\n"
     ]
    },
    {
     "name": "stdout",
     "output_type": "stream",
     "text": [
      "2 * 1 = 2\n",
      "2 * 2 = 4\n",
      "2 * 3 = 6\n",
      "2 * 4 = 8\n",
      "2 * 5 = 10\n",
      "2 * 6 = 12\n",
      "2 * 7 = 14\n",
      "2 * 8 = 16\n",
      "2 * 9 = 18\n",
      "2 * 10 = 20\n"
     ]
    }
   ],
   "source": [
    "a = int(input(\"Enter num : \"))\n",
    "b=1\n",
    "while b<=10:\n",
    "    result = a * b\n",
    "    #print(f\"{a} * {b} = {result}\")\n",
    "    print(a, '*', b, '=', result)\n",
    "    b = b+1\n",
    "    \n",
    "    "
   ]
  },
  {
   "cell_type": "code",
   "execution_count": 5,
   "id": "7efaf3e0-e930-4f62-a1bd-b1025699dff2",
   "metadata": {},
   "outputs": [
    {
     "name": "stdout",
     "output_type": "stream",
     "text": [
      "5\n",
      "4\n",
      "3\n",
      "2\n",
      "1\n",
      "Break time is over\n"
     ]
    }
   ],
   "source": [
    "import time\n",
    "s=5\n",
    "\n",
    "while s>0:\n",
    "    print(s)\n",
    "    time.sleep(1)\n",
    "    s = s-1\n",
    "    \n",
    "print(\"Break time is over\")"
   ]
  },
  {
   "cell_type": "code",
   "execution_count": 6,
   "id": "86b1f111-73af-4495-8f59-81c92f15bdca",
   "metadata": {},
   "outputs": [
    {
     "name": "stdout",
     "output_type": "stream",
     "text": [
      "Money_in_hand\n"
     ]
    },
    {
     "name": "stdin",
     "output_type": "stream",
     "text": [
      "Enter your choice(1.Biscuits. 2. chips, 3. redbull, 4. coke) 1\n"
     ]
    },
    {
     "name": "stdout",
     "output_type": "stream",
     "text": [
      "Take your bicuit\n",
      "Money_in_hand\n"
     ]
    },
    {
     "name": "stdin",
     "output_type": "stream",
     "text": [
      "Enter your choice(1.Biscuits. 2. chips, 3. redbull, 4. coke) 2\n"
     ]
    },
    {
     "name": "stdout",
     "output_type": "stream",
     "text": [
      "Take your chips\n",
      "Money_in_hand\n"
     ]
    },
    {
     "name": "stdin",
     "output_type": "stream",
     "text": [
      "Enter your choice(1.Biscuits. 2. chips, 3. redbull, 4. coke) 2\n"
     ]
    },
    {
     "name": "stdout",
     "output_type": "stream",
     "text": [
      "Take your chips\n",
      "Money_in_hand\n"
     ]
    },
    {
     "name": "stdin",
     "output_type": "stream",
     "text": [
      "Enter your choice(1.Biscuits. 2. chips, 3. redbull, 4. coke) 2\n"
     ]
    },
    {
     "name": "stdout",
     "output_type": "stream",
     "text": [
      "Take your chips\n",
      "You don't have balance\n"
     ]
    }
   ],
   "source": [
    "money_in_hand = 20\n",
    "\n",
    "while money_in_hand>=5:\n",
    "    print(\"Money_in_hand\")\n",
    "    \n",
    "    choice = int(input(\"Enter your choice(1.Biscuits. 2. chips, 3. redbull, 4. coke)\"))\n",
    "    if choice == 1:\n",
    "        print(\"Take your bicuit\")\n",
    "        money_in_hand = money_in_hand-4\n",
    "        \n",
    "    elif choice == 2:\n",
    "        print(\"Take your chips\")\n",
    "        money_in_hand = money_in_hand-5\n",
    "        \n",
    "    elif choice == 3:\n",
    "        print(\"Take your redbull\")\n",
    "        money_in_hand = money_in_hand-10\n",
    "    elif choice == 4:\n",
    "        print(\"Take your coke\")\n",
    "        money_in_hand = money_in_hand-8\n",
    "        \n",
    "    else:\n",
    "        print(\"Please enter correct choice\")\n",
    "\n",
    "print(\"You don't have balance\")\n",
    "        "
   ]
  },
  {
   "cell_type": "code",
   "execution_count": 7,
   "id": "e0eb83c9-9dd5-4f9a-8224-aef05fdc5ea3",
   "metadata": {},
   "outputs": [
    {
     "name": "stdout",
     "output_type": "stream",
     "text": [
      "10\n",
      "9\n",
      "8\n",
      "7\n",
      "Break time is over\n"
     ]
    }
   ],
   "source": [
    "import time\n",
    "s=10\n",
    "\n",
    "while s>0:\n",
    "    print(s)\n",
    "    if s == 7:\n",
    "        break\n",
    "    time.sleep(1)\n",
    "    s = s-1\n",
    "    \n",
    "print(\"Break time is over\")"
   ]
  },
  {
   "cell_type": "code",
   "execution_count": 8,
   "id": "7c657e9c-e13e-441d-9455-081437296b4d",
   "metadata": {},
   "outputs": [
    {
     "name": "stdout",
     "output_type": "stream",
     "text": [
      "Enter s to stop the timer\n"
     ]
    },
    {
     "name": "stdin",
     "output_type": "stream",
     "text": [
      "Enter s for stop s\n"
     ]
    },
    {
     "name": "stdout",
     "output_type": "stream",
     "text": [
      "Start the class break is over\n"
     ]
    }
   ],
   "source": [
    "import time\n",
    "stop = False\n",
    "\n",
    "while not stop:\n",
    "    print(\"Enter s to stop the timer\")\n",
    "    time.sleep(1)\n",
    "    press_stop = input(\"Enter s for stop\")\n",
    "    \n",
    "    if press_stop.lower() == 's':\n",
    "        stop = True\n",
    "print(\"Start the class break is over\")"
   ]
  },
  {
   "cell_type": "code",
   "execution_count": 9,
   "id": "9b5e6302-9ed6-4d47-b522-1a8d60ff2263",
   "metadata": {},
   "outputs": [
    {
     "name": "stdout",
     "output_type": "stream",
     "text": [
      "10\n",
      "9\n",
      "8\n",
      "7\n",
      "6\n",
      "5\n",
      "4\n",
      "3\n",
      "2\n",
      "1\n",
      "Break time is over\n"
     ]
    }
   ],
   "source": [
    "import time\n",
    "s=10\n",
    "\n",
    "while s>0:\n",
    "    print(s)\n",
    "    # i = input(\"Enter to stop : \")\n",
    "    # if i:\n",
    "    #     break\n",
    "    time.sleep(1)\n",
    "    s = s-1\n",
    "    \n",
    "print(\"Break time is over\")"
   ]
  },
  {
   "cell_type": "code",
   "execution_count": 14,
   "id": "9e59a15d-e4f0-48bc-a831-9a90a450b2ac",
   "metadata": {},
   "outputs": [
    {
     "name": "stdin",
     "output_type": "stream",
     "text": [
      "Enter user id for account Amit\n",
      "Enter your password Amit@123\n"
     ]
    },
    {
     "name": "stdout",
     "output_type": "stream",
     "text": [
      "You have loggged in successsfully\n"
     ]
    }
   ],
   "source": [
    "user_id = \"Amit\"\n",
    "password = \"Amit@123\"\n",
    "counter = 1\n",
    "user_id_check = False\n",
    "userid = input(\"Enter user id for account\")\n",
    "while counter <=3:\n",
    "    \n",
    "    if userid == user_id:\n",
    "        user_id_check = True\n",
    "    else:\n",
    "        print(\"Please enter valid id\")\n",
    "        break\n",
    "    if user_id_check == True:\n",
    "        pswd = input(\"Enter your password\")\n",
    "        \n",
    "        if pswd == password:\n",
    "            print(\"You have loggged in successsfully\")\n",
    "            break\n",
    "        counter += 1\n",
    "if counter > 3:\n",
    "    print(\"You have attempted maximum time, account blocked\")"
   ]
  },
  {
   "cell_type": "code",
   "execution_count": 18,
   "id": "b78ab551-97ef-4fe1-b669-f672014447b6",
   "metadata": {},
   "outputs": [
    {
     "name": "stdin",
     "output_type": "stream",
     "text": [
      "Enter your todo task class\n",
      "Enter n if you want to add in todo list or enter y to continue n\n",
      "Enter your todo task eat\n",
      "Enter n if you want to add in todo list or enter y to continue n\n",
      "Enter your todo task talk\n",
      "Enter n if you want to add in todo list or enter y to continue y\n"
     ]
    },
    {
     "name": "stdout",
     "output_type": "stream",
     "text": [
      "My todo list is :  ['class', 'eat', 'talk']\n"
     ]
    }
   ],
   "source": [
    "#Todo List\n",
    "todo_list = []\n",
    "end_of_todo = 'n'\n",
    "\n",
    "while end_of_todo != 'y':\n",
    "    todo_item = input(\"Enter your todo task\")\n",
    "    add_todo = todo_list.append(todo_item)\n",
    "    end_of_todo = input(\"Enter n if you want to add in todo list or enter y to continue\")\n",
    "    \n",
    "print(\"My todo list is : \", todo_list)"
   ]
  },
  {
   "cell_type": "code",
   "execution_count": 19,
   "id": "92f4b7cb-7ffd-440b-8fc3-e0adc35c33a2",
   "metadata": {},
   "outputs": [],
   "source": [
    "#Recursive call"
   ]
  },
  {
   "cell_type": "code",
   "execution_count": 20,
   "id": "3ef06a28-2553-47c5-bd46-d47afa8a0637",
   "metadata": {},
   "outputs": [
    {
     "data": {
      "text/plain": [
       "120"
      ]
     },
     "execution_count": 20,
     "metadata": {},
     "output_type": "execute_result"
    }
   ],
   "source": [
    "#factorial of qa number\n",
    "def fact(n):\n",
    "    if n==0:\n",
    "        return 1\n",
    "    else:\n",
    "        return n*fact(n-1)\n",
    "fact(5)"
   ]
  },
  {
   "cell_type": "code",
   "execution_count": 24,
   "id": "8fe00cff-1aaa-47b6-8e1f-2bf837b43592",
   "metadata": {},
   "outputs": [
    {
     "data": {
      "text/plain": [
       "13"
      ]
     },
     "execution_count": 24,
     "metadata": {},
     "output_type": "execute_result"
    }
   ],
   "source": [
    "#fibonacci number\n",
    "\n",
    "def fibo(n):\n",
    "    if n<=1:\n",
    "        return n\n",
    "    else:\n",
    "        return fibo(n-2)+fibo(n-1)\n",
    "    \n",
    "fibo(7)   "
   ]
  },
  {
   "cell_type": "code",
   "execution_count": 26,
   "id": "9f4350ff-62d7-4b08-8c55-69dc3f0f739a",
   "metadata": {},
   "outputs": [
    {
     "data": {
      "text/plain": [
       "16"
      ]
     },
     "execution_count": 26,
     "metadata": {},
     "output_type": "execute_result"
    }
   ],
   "source": [
    "#sum of digit\n",
    "\n",
    "def sum_of_digit(n):\n",
    "    sum=0\n",
    "    while n!=0:\n",
    "        d=n%10\n",
    "        sum+=d\n",
    "        n = n//10  #giving floor value== floor division\n",
    "    return sum\n",
    "sum_of_digit(2365)"
   ]
  },
  {
   "cell_type": "code",
   "execution_count": 27,
   "id": "87525235-e6f3-4115-bf41-baa447b1880d",
   "metadata": {},
   "outputs": [
    {
     "data": {
      "text/plain": [
       "15"
      ]
     },
     "execution_count": 27,
     "metadata": {},
     "output_type": "execute_result"
    }
   ],
   "source": [
    "#sum of digit\n",
    "def sum_of_digit(n):\n",
    "    sum=0\n",
    "    for digit in str(n):\n",
    "        sum += int(digit)\n",
    "    return sum\n",
    "sum_of_digit(212334)"
   ]
  },
  {
   "cell_type": "code",
   "execution_count": 31,
   "id": "6a6463aa-ac79-4876-9adf-8f304ebd1570",
   "metadata": {},
   "outputs": [
    {
     "data": {
      "text/plain": [
       "8"
      ]
     },
     "execution_count": 31,
     "metadata": {},
     "output_type": "execute_result"
    }
   ],
   "source": [
    "#by recursion\n",
    "def sum1_digit(n):\n",
    "    if n<10:\n",
    "        return n\n",
    "    else:\n",
    "        return n%10 + sum1_digit(n//10)\n",
    "sum1_digit(1223)"
   ]
  },
  {
   "cell_type": "code",
   "execution_count": 32,
   "id": "eff132a3-57e0-472d-a4ad-488980800635",
   "metadata": {},
   "outputs": [],
   "source": [
    "l = [3,4,6,7,8,9]"
   ]
  },
  {
   "cell_type": "code",
   "execution_count": 33,
   "id": "0eaefe67-33ca-4e56-a58f-e18c69571c09",
   "metadata": {},
   "outputs": [
    {
     "data": {
      "text/plain": [
       "9"
      ]
     },
     "execution_count": 33,
     "metadata": {},
     "output_type": "execute_result"
    }
   ],
   "source": [
    "max(l)"
   ]
  },
  {
   "cell_type": "code",
   "execution_count": 34,
   "id": "189ff34c-5f74-48f6-951b-5a6cc3d4f02b",
   "metadata": {},
   "outputs": [],
   "source": [
    "def max_find(l):\n",
    "    if len(l) == 1:\n",
    "        return l[0]\n",
    "    else:\n",
    "        return max(l[0], max_find(l[1::]))"
   ]
  },
  {
   "cell_type": "code",
   "execution_count": 37,
   "id": "9cb74ded-66ec-4b08-91b1-85bd5f9b7021",
   "metadata": {},
   "outputs": [
    {
     "data": {
      "text/plain": [
       "655"
      ]
     },
     "execution_count": 37,
     "metadata": {},
     "output_type": "execute_result"
    }
   ],
   "source": [
    "max_find([45,65,655,12,32,78,98,0])"
   ]
  },
  {
   "cell_type": "code",
   "execution_count": 38,
   "id": "8a131127-424f-416a-b343-43f03adea7a6",
   "metadata": {},
   "outputs": [
    {
     "data": {
      "text/plain": [
       "16"
      ]
     },
     "execution_count": 38,
     "metadata": {},
     "output_type": "execute_result"
    }
   ],
   "source": [
    "#power\n",
    "\n",
    "def power_fun(n,k):\n",
    "    if k==0:\n",
    "        return 1\n",
    "    else:\n",
    "        return n * power_fun(n,k-1)\n",
    "power_fun(2,4)"
   ]
  },
  {
   "cell_type": "code",
   "execution_count": null,
   "id": "22d712e2-c85f-4f95-aab4-baf3e70bc1bb",
   "metadata": {},
   "outputs": [],
   "source": []
  }
 ],
 "metadata": {
  "kernelspec": {
   "display_name": "Python 3 (ipykernel)",
   "language": "python",
   "name": "python3"
  },
  "language_info": {
   "codemirror_mode": {
    "name": "ipython",
    "version": 3
   },
   "file_extension": ".py",
   "mimetype": "text/x-python",
   "name": "python",
   "nbconvert_exporter": "python",
   "pygments_lexer": "ipython3",
   "version": "3.10.8"
  }
 },
 "nbformat": 4,
 "nbformat_minor": 5
}
