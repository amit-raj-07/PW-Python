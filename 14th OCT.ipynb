{
 "cells": [
  {
   "cell_type": "code",
   "execution_count": 4,
   "id": "68cda7b2-04d3-4263-906d-39625f2e5fe8",
   "metadata": {},
   "outputs": [],
   "source": [
    "class pwskills:\n",
    "    def __init__(self, mentor):\n",
    "        self.mentor = mentor\n",
    "        \n",
    "    def mentor_name(self):\n",
    "        print(self.mentor)\n",
    "        \n",
    "class datascience(pwskills):\n",
    "    def __init__(self, mentor, mentor_email_id):\n",
    "        self.mentor = mentor\n",
    "        self.mentor_email_id = mentor_email_id\n",
    "        \n",
    "    def show_info(self):\n",
    "        print(self.mentor, self.mentor_email_id)"
   ]
  },
  {
   "cell_type": "code",
   "execution_count": 5,
   "id": "839d02a9-b078-46b8-8366-011227a59352",
   "metadata": {},
   "outputs": [],
   "source": [
    "python_basics = datascience(\"Amit\", \"sudh@gmail.com\")"
   ]
  },
  {
   "cell_type": "code",
   "execution_count": 6,
   "id": "d1754791-0e19-4a82-a90c-ad06b06f0da8",
   "metadata": {},
   "outputs": [
    {
     "name": "stdout",
     "output_type": "stream",
     "text": [
      "Amit sudh@gmail.com\n"
     ]
    }
   ],
   "source": [
    "python_basics.show_info()"
   ]
  },
  {
   "cell_type": "code",
   "execution_count": 7,
   "id": "dc62dc71-2c2c-4f5c-8741-55c3504ccad5",
   "metadata": {},
   "outputs": [
    {
     "name": "stdout",
     "output_type": "stream",
     "text": [
      "Amit\n"
     ]
    }
   ],
   "source": [
    "python_basics.mentor_name()"
   ]
  },
  {
   "cell_type": "code",
   "execution_count": 27,
   "id": "cf5441ba-3cea-47db-ae7c-c7569a370d35",
   "metadata": {},
   "outputs": [],
   "source": [
    "class pwskills:\n",
    "    def __init__(self, mentor):\n",
    "        self.mentor = mentor\n",
    "        \n",
    "    def mentor_name(self):\n",
    "        print(self.mentor)\n",
    "        \n",
    "class datascience(pwskills):\n",
    "    def __init__(self, mentor, mentor_email_id):\n",
    "        ##important point using super\n",
    "        #self.mentor = mentor\n",
    "        super().__init__(mentor)\n",
    "        self.mentor_email_id = mentor_email_id\n",
    "        \n",
    "    def show_info(self):\n",
    "        ##below both sre working\n",
    "        #self.mentor_name()\n",
    "        super().mentor_name()\n",
    "        print(self.mentor, self.mentor_email_id)"
   ]
  },
  {
   "cell_type": "code",
   "execution_count": 28,
   "id": "60ae98f9-80be-473d-bb07-0267c8b555e1",
   "metadata": {},
   "outputs": [],
   "source": [
    "python_basics = datascience(\"Amit\", \"sudh@gmail.com\")"
   ]
  },
  {
   "cell_type": "code",
   "execution_count": 29,
   "id": "5ed9282c-9722-4b4a-ad77-8804d117822a",
   "metadata": {},
   "outputs": [
    {
     "name": "stdout",
     "output_type": "stream",
     "text": [
      "Amit\n"
     ]
    }
   ],
   "source": [
    "python_basics.mentor_name()"
   ]
  },
  {
   "cell_type": "code",
   "execution_count": 30,
   "id": "becd63a1-0fef-4062-9d80-1648eb55a8e7",
   "metadata": {},
   "outputs": [
    {
     "name": "stdout",
     "output_type": "stream",
     "text": [
      "Amit\n",
      "Amit sudh@gmail.com\n"
     ]
    }
   ],
   "source": [
    "python_basics.show_info()"
   ]
  },
  {
   "cell_type": "code",
   "execution_count": 56,
   "id": "9ea348be-f6cd-46ed-8079-e645901d89c7",
   "metadata": {},
   "outputs": [],
   "source": [
    "class human:\n",
    "    def __init__(self):\n",
    "        pass\n",
    "    def eat(self):\n",
    "        print(\"Print the eat method from human\")"
   ]
  },
  {
   "cell_type": "code",
   "execution_count": 64,
   "id": "0902ac2d-c123-4a90-9cc2-b1122d92df64",
   "metadata": {},
   "outputs": [],
   "source": [
    "class male(human):\n",
    "    def __init__(self,name):\n",
    "        self.name = name\n",
    "        \n",
    "    def eat(self):\n",
    "        #self.eat()  -> not possible\n",
    "        super().eat()\n",
    "        print(self.name)"
   ]
  },
  {
   "cell_type": "code",
   "execution_count": 65,
   "id": "05135eff-ce16-42d1-8f7e-4809a85892f4",
   "metadata": {},
   "outputs": [],
   "source": [
    "AMIT = male(\"Aashu\")"
   ]
  },
  {
   "cell_type": "code",
   "execution_count": 66,
   "id": "54ec0a05-12d8-4c7f-9b21-2ef0b4d2ee84",
   "metadata": {},
   "outputs": [
    {
     "name": "stdout",
     "output_type": "stream",
     "text": [
      "Print the eat method from human\n",
      "Aashu\n"
     ]
    }
   ],
   "source": [
    "AMIT.eat()"
   ]
  },
  {
   "cell_type": "code",
   "execution_count": 67,
   "id": "5bec1fb9-f44a-4265-864c-28ee3d9f3f1a",
   "metadata": {},
   "outputs": [
    {
     "data": {
      "text/plain": [
       "'Aashu'"
      ]
     },
     "execution_count": 67,
     "metadata": {},
     "output_type": "execute_result"
    }
   ],
   "source": [
    "AMIT.name"
   ]
  },
  {
   "cell_type": "code",
   "execution_count": 72,
   "id": "ffcabd1e-f8d0-4685-bb19-fcb25fc99600",
   "metadata": {},
   "outputs": [],
   "source": [
    "class fileopener:\n",
    "    \n",
    "    ##init call automatically\n",
    "    def __init__(self, filename):\n",
    "        self.filename = filename\n",
    "        \n",
    "    def open_file(self):\n",
    "        print(\"This will open the file \", self.filename)\n",
    "    \n",
    "    #del call automatically\n",
    "    def __del__(self):\n",
    "        self.filename\n",
    "        print(\"Close my file\")"
   ]
  },
  {
   "cell_type": "code",
   "execution_count": 73,
   "id": "d5bacc4e-e381-4986-8273-be42a17aaa9b",
   "metadata": {},
   "outputs": [
    {
     "name": "stdout",
     "output_type": "stream",
     "text": [
      "Close my file\n"
     ]
    }
   ],
   "source": [
    "f1 = fileopener(\"f1.txt\")"
   ]
  },
  {
   "cell_type": "code",
   "execution_count": 74,
   "id": "ddb5670e-46b9-4cc9-a611-549e5928a79e",
   "metadata": {
    "jp-MarkdownHeadingCollapsed": true,
    "tags": []
   },
   "outputs": [
    {
     "name": "stdout",
     "output_type": "stream",
     "text": [
      "This will open the file  f1.txt\n"
     ]
    }
   ],
   "source": [
    "f1.open_file()"
   ]
  },
  {
   "cell_type": "code",
   "execution_count": 88,
   "id": "865d528f-c693-4f9c-9b6c-b2969f32ebda",
   "metadata": {},
   "outputs": [],
   "source": [
    "import time\n",
    "class timer:\n",
    "    def __init__(self):\n",
    "        self.start_time = time.time()\n",
    "        \n",
    "    def task(self):\n",
    "        time_spent = time.time() - self.start_time\n",
    "        print(time_spent)\n",
    "    \n",
    "    #By default str will call \n",
    "    def __del__(self):\n",
    "        print(\"\")\n",
    "     \n",
    "    #By default str will call \n",
    "    def __str__(self):\n",
    "        return \"This is my class timer\"\n",
    "        "
   ]
  },
  {
   "cell_type": "code",
   "execution_count": 89,
   "id": "e0830282-78c9-4dbf-bdd6-39335e6b06b1",
   "metadata": {},
   "outputs": [
    {
     "name": "stdout",
     "output_type": "stream",
     "text": [
      "\n"
     ]
    }
   ],
   "source": [
    "t1 = timer()"
   ]
  },
  {
   "cell_type": "code",
   "execution_count": 90,
   "id": "b6dd013d-1f58-4c54-930e-c406587025f5",
   "metadata": {},
   "outputs": [
    {
     "data": {
      "text/plain": [
       "1697257775.1136777"
      ]
     },
     "execution_count": 90,
     "metadata": {},
     "output_type": "execute_result"
    }
   ],
   "source": [
    "t1.start_time"
   ]
  },
  {
   "cell_type": "code",
   "execution_count": 91,
   "id": "d8661f8a-d06a-4fa5-a2fb-cc6d533e3178",
   "metadata": {},
   "outputs": [
    {
     "name": "stdout",
     "output_type": "stream",
     "text": [
      "0.4294002056121826\n"
     ]
    }
   ],
   "source": [
    "t1.task()"
   ]
  },
  {
   "cell_type": "code",
   "execution_count": 92,
   "id": "d102621b-3dd1-43a1-92c9-7da38913ecec",
   "metadata": {},
   "outputs": [
    {
     "name": "stdout",
     "output_type": "stream",
     "text": [
      "This is my class timer\n"
     ]
    }
   ],
   "source": [
    "print(t1)"
   ]
  },
  {
   "cell_type": "code",
   "execution_count": null,
   "id": "a68c7335-5062-495a-a919-662888e8aa9e",
   "metadata": {},
   "outputs": [],
   "source": []
  },
  {
   "cell_type": "markdown",
   "id": "323b8ff3-0c84-4455-b505-0deefa287cc5",
   "metadata": {},
   "source": [
    "###Decorator"
   ]
  },
  {
   "cell_type": "code",
   "execution_count": 95,
   "id": "dde7d463-5422-4903-b598-76e1c530669b",
   "metadata": {},
   "outputs": [],
   "source": [
    "def test(func):\n",
    "    def inner_test():\n",
    "        print(\"This is start of my inner test\")\n",
    "        func()\n",
    "        print(\"This is end of my inner test\")\n",
    "    \n",
    "    return inner_test\n",
    "\n",
    "\n",
    "#this is important\n",
    "@test\n",
    "#@test\n",
    "def test1():\n",
    "    print(\"This is my test1\")"
   ]
  },
  {
   "cell_type": "code",
   "execution_count": 96,
   "id": "ebdd3615-2146-4373-b0a9-fd5459ecec04",
   "metadata": {},
   "outputs": [
    {
     "name": "stdout",
     "output_type": "stream",
     "text": [
      "This is start of my inner test\n",
      "This is my test1\n",
      "This is end of my inner test\n"
     ]
    }
   ],
   "source": [
    "test1()"
   ]
  },
  {
   "cell_type": "code",
   "execution_count": 97,
   "id": "8e8d8cf6-9634-48b3-87e4-a85537489a5b",
   "metadata": {},
   "outputs": [
    {
     "data": {
      "text/plain": [
       "<function __main__.test.<locals>.inner_test()>"
      ]
     },
     "execution_count": 97,
     "metadata": {},
     "output_type": "execute_result"
    }
   ],
   "source": [
    "test(test1)"
   ]
  },
  {
   "cell_type": "code",
   "execution_count": 99,
   "id": "3c0e7e80-dfc9-48ec-ae23-3f7b105f5f62",
   "metadata": {},
   "outputs": [],
   "source": [
    "import time\n",
    "def print_list(l):\n",
    "    start_time = time.time()\n",
    "    for i in l:\n",
    "        print(i)\n",
    "    end_time = time.time()\n",
    "    total_time = end_time-start_time\n",
    "    print(total_time)"
   ]
  },
  {
   "cell_type": "code",
   "execution_count": 101,
   "id": "6204533c-fea6-45ca-97ff-0a159536c89e",
   "metadata": {},
   "outputs": [],
   "source": [
    "def print_key(d):\n",
    "    start_time = time.time()\n",
    "    print(d.keys())\n",
    "    end_time = time.time()\n",
    "    total_time = end_time-start_time\n",
    "    print(total_time)"
   ]
  },
  {
   "cell_type": "code",
   "execution_count": 110,
   "id": "d055e1fc-8f52-431a-9dcc-3c0b2498795a",
   "metadata": {},
   "outputs": [],
   "source": [
    "def find_time(func):\n",
    "    def cal_time(*args):\n",
    "        start_time = time.time()\n",
    "        func(*args)\n",
    "        end_time = time.time()\n",
    "        total_time = end_time-start_time\n",
    "        print(total_time)\n",
    "    return cal_time"
   ]
  },
  {
   "cell_type": "code",
   "execution_count": 111,
   "id": "de10b56a-b428-477b-8314-e6286ecb9fc3",
   "metadata": {},
   "outputs": [],
   "source": [
    "@find_time\n",
    "def print_key(d):\n",
    "    print(d.keys())"
   ]
  },
  {
   "cell_type": "code",
   "execution_count": 112,
   "id": "bcfe5a85-6b3c-4bca-8aaf-7220ff9fa3df",
   "metadata": {},
   "outputs": [
    {
     "name": "stdout",
     "output_type": "stream",
     "text": [
      "dict_keys(['key', 'name'])\n",
      "5.3882598876953125e-05\n"
     ]
    }
   ],
   "source": [
    "print_key({\"key\": \"value\", \"name\" : \"Amit\"})"
   ]
  },
  {
   "cell_type": "code",
   "execution_count": 113,
   "id": "8ba981de-9c0d-4579-a1fa-ef63eff81c7a",
   "metadata": {},
   "outputs": [],
   "source": [
    "@find_time\n",
    "def print_list(l):\n",
    "    for i in l:\n",
    "        print(i)"
   ]
  },
  {
   "cell_type": "code",
   "execution_count": 114,
   "id": "8106b7b8-9d08-4535-bfb4-8d882d4440d1",
   "metadata": {},
   "outputs": [
    {
     "name": "stdout",
     "output_type": "stream",
     "text": [
      "2\n",
      "3\n",
      "4\n",
      "5\n",
      "6\n",
      "7\n",
      "8\n",
      "54\n",
      "67\n",
      "87\n",
      "0.00016927719116210938\n"
     ]
    }
   ],
   "source": [
    "print_list([2,3,4,5,6,7,8,54,67,87])"
   ]
  },
  {
   "cell_type": "code",
   "execution_count": 124,
   "id": "25f2c8e6-8fe0-4943-8e67-412b5a0c04c5",
   "metadata": {},
   "outputs": [],
   "source": [
    "import logging\n",
    "def log_fun(func):\n",
    "    def log_inner(*args):\n",
    "        logging.basicConfig(filename = \"test.log\",level = logging.INFO)\n",
    "        logging.info(\"This is a start of my func\")\n",
    "        func(*args)\n",
    "        logging.info(\"This is the end of my func\")\n",
    "    return log_inner"
   ]
  },
  {
   "cell_type": "code",
   "execution_count": 125,
   "id": "1c8384dc-5df9-4e80-ae56-f824f3c44f78",
   "metadata": {},
   "outputs": [],
   "source": [
    "@log_fun\n",
    "def print_list(l):\n",
    "    for i in l:\n",
    "        print(i)"
   ]
  },
  {
   "cell_type": "code",
   "execution_count": 126,
   "id": "19981865-902f-4bcd-9906-c3cc49152384",
   "metadata": {},
   "outputs": [
    {
     "name": "stdout",
     "output_type": "stream",
     "text": [
      "2\n",
      "3\n",
      "4\n",
      "5\n",
      "6\n",
      "7\n",
      "8\n",
      "54\n",
      "67\n",
      "87\n"
     ]
    }
   ],
   "source": [
    "print_list([2,3,4,5,6,7,8,54,67,87])"
   ]
  },
  {
   "cell_type": "code",
   "execution_count": 127,
   "id": "eec14ba5-3064-49ad-8c3e-2dbf56f639ad",
   "metadata": {},
   "outputs": [],
   "source": [
    "class sudh:\n",
    "    def __init__(self, subject):\n",
    "        ##this is public\n",
    "        self.subject = subject"
   ]
  },
  {
   "cell_type": "code",
   "execution_count": 128,
   "id": "b786ec7b-6bdd-4d7c-8508-01af8db3135c",
   "metadata": {},
   "outputs": [],
   "source": [
    "s1 = sudh(\"Data Science\")"
   ]
  },
  {
   "cell_type": "code",
   "execution_count": 129,
   "id": "0c565808-f9cf-4d1d-9837-eadb745115c3",
   "metadata": {},
   "outputs": [
    {
     "data": {
      "text/plain": [
       "'Data Science'"
      ]
     },
     "execution_count": 129,
     "metadata": {},
     "output_type": "execute_result"
    }
   ],
   "source": [
    "s1.subject"
   ]
  },
  {
   "cell_type": "code",
   "execution_count": 131,
   "id": "0d749201-9ef4-4cdf-b3c3-e508d51ed006",
   "metadata": {},
   "outputs": [],
   "source": [
    "class sudh:\n",
    "    def __init__(self, subject):\n",
    "        ##here this is protected variable with single underscore\n",
    "        self._subject = subject"
   ]
  },
  {
   "cell_type": "code",
   "execution_count": 132,
   "id": "017850b7-9487-4c56-b17e-30350db9b1ea",
   "metadata": {},
   "outputs": [],
   "source": [
    "s2 = sudh(\"Data\")"
   ]
  },
  {
   "cell_type": "code",
   "execution_count": 133,
   "id": "4f075537-a3b6-4b76-8017-e41e0683174b",
   "metadata": {},
   "outputs": [
    {
     "data": {
      "text/plain": [
       "'Data'"
      ]
     },
     "execution_count": 133,
     "metadata": {},
     "output_type": "execute_result"
    }
   ],
   "source": [
    "s2._subject"
   ]
  },
  {
   "cell_type": "code",
   "execution_count": 137,
   "id": "3e322cb1-aee0-4f6e-8a8c-16dfa578e765",
   "metadata": {},
   "outputs": [],
   "source": [
    "class sudh:\n",
    "    def __init__(self, subject):\n",
    "        ##here this is private by double underscore\n",
    "        self.__subject = subject"
   ]
  },
  {
   "cell_type": "code",
   "execution_count": 138,
   "id": "bfd07704-cf07-4e26-9234-470f0f2b63d5",
   "metadata": {},
   "outputs": [],
   "source": [
    "s3 = sudh(\"Science\")"
   ]
  },
  {
   "cell_type": "code",
   "execution_count": 141,
   "id": "e6a1259e-912c-4587-8ca9-a97f7cb60e0d",
   "metadata": {},
   "outputs": [
    {
     "data": {
      "text/plain": [
       "'Science'"
      ]
     },
     "execution_count": 141,
     "metadata": {},
     "output_type": "execute_result"
    }
   ],
   "source": [
    "##with class name and then with object name and underscire\n",
    "s3._sudh__subject"
   ]
  },
  {
   "cell_type": "code",
   "execution_count": 142,
   "id": "d764b820-de4a-4268-8ea4-6dfba39b33ca",
   "metadata": {},
   "outputs": [],
   "source": [
    "s3._sudh__subject = \"Big data\""
   ]
  },
  {
   "cell_type": "code",
   "execution_count": 143,
   "id": "eb9ae64a-6f65-4171-8c1e-17e1c5183e17",
   "metadata": {},
   "outputs": [
    {
     "data": {
      "text/plain": [
       "'Big data'"
      ]
     },
     "execution_count": 143,
     "metadata": {},
     "output_type": "execute_result"
    }
   ],
   "source": [
    "s3._sudh__subject"
   ]
  },
  {
   "cell_type": "code",
   "execution_count": 148,
   "id": "954d2dd1-0f07-4fd6-b4b9-e17c0af24e44",
   "metadata": {},
   "outputs": [],
   "source": [
    "class sudh:\n",
    "    def __init__(self, subject):\n",
    "        self.__subject = subject\n",
    "        \n",
    "    \n",
    "    @property\n",
    "    def subject1(self):\n",
    "        return self.__subject\n",
    "    \n",
    "    @subject1.setter\n",
    "    def subject1(self, subject):\n",
    "        self.__subject = subject\n",
    "        \n",
    "    @subject1.getter\n",
    "    def subject1(self):\n",
    "        return self.__subject\n",
    "        "
   ]
  },
  {
   "cell_type": "code",
   "execution_count": 149,
   "id": "77fd4033-8d00-42eb-8a4f-dc4dcbc92398",
   "metadata": {},
   "outputs": [],
   "source": [
    "s2 = sudh(\"Data Analytics\")"
   ]
  },
  {
   "cell_type": "code",
   "execution_count": 151,
   "id": "df696491-f83e-43f4-9037-55abb211df32",
   "metadata": {},
   "outputs": [
    {
     "data": {
      "text/plain": [
       "'Data Analytics'"
      ]
     },
     "execution_count": 151,
     "metadata": {},
     "output_type": "execute_result"
    }
   ],
   "source": [
    "s2.subject1"
   ]
  },
  {
   "cell_type": "code",
   "execution_count": null,
   "id": "2aec2907-eb23-47cf-80e7-9da9ff9f1b01",
   "metadata": {},
   "outputs": [],
   "source": []
  },
  {
   "cell_type": "code",
   "execution_count": 152,
   "id": "14e773ed-247b-4802-83fe-965fef5e84aa",
   "metadata": {},
   "outputs": [],
   "source": [
    "#A"
   ]
  },
  {
   "cell_type": "code",
   "execution_count": null,
   "id": "df01e521-23f7-4348-8fa0-adb7900cb81c",
   "metadata": {},
   "outputs": [],
   "source": []
  }
 ],
 "metadata": {
  "kernelspec": {
   "display_name": "Python 3 (ipykernel)",
   "language": "python",
   "name": "python3"
  },
  "language_info": {
   "codemirror_mode": {
    "name": "ipython",
    "version": 3
   },
   "file_extension": ".py",
   "mimetype": "text/x-python",
   "name": "python",
   "nbconvert_exporter": "python",
   "pygments_lexer": "ipython3",
   "version": "3.10.8"
  }
 },
 "nbformat": 4,
 "nbformat_minor": 5
}
