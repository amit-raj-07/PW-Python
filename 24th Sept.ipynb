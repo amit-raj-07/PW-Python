{
 "cells": [
  {
   "cell_type": "markdown",
   "id": "3acdd7de-0bfe-4b51-936a-eaa9c35cc7b1",
   "metadata": {},
   "source": [
    "#Recursion and Exception handling"
   ]
  },
  {
   "cell_type": "markdown",
   "id": "5af45303-0536-45b2-ba35-c15c8d28c71d",
   "metadata": {},
   "source": [
    "###Recursion Problems"
   ]
  },
  {
   "cell_type": "code",
   "execution_count": 1,
   "id": "ae344d97-5027-4f90-9a88-dbe9bb916957",
   "metadata": {},
   "outputs": [
    {
     "data": {
      "text/plain": [
       "4"
      ]
     },
     "execution_count": 1,
     "metadata": {},
     "output_type": "execute_result"
    }
   ],
   "source": [
    "s = \"Amit\"\n",
    "#find length if string\n",
    "len(s)"
   ]
  },
  {
   "cell_type": "code",
   "execution_count": 3,
   "id": "70b625c1-8664-41de-8158-22a8efa8d5b7",
   "metadata": {},
   "outputs": [
    {
     "data": {
      "text/plain": [
       "4"
      ]
     },
     "execution_count": 3,
     "metadata": {},
     "output_type": "execute_result"
    }
   ],
   "source": [
    "#Base Case\n",
    "\n",
    "def find_len(s):\n",
    "    if s==\"\":\n",
    "        return 0\n",
    "    else:\n",
    "        return 1 + find_len(s[1:])\n",
    "find_len(s)"
   ]
  },
  {
   "cell_type": "code",
   "execution_count": 4,
   "id": "99a854cb-9578-4022-833f-0d02ad828d27",
   "metadata": {},
   "outputs": [
    {
     "data": {
      "text/plain": [
       "8"
      ]
     },
     "execution_count": 4,
     "metadata": {},
     "output_type": "execute_result"
    }
   ],
   "source": [
    "find_len(\"PwSkills\")"
   ]
  },
  {
   "cell_type": "code",
   "execution_count": 5,
   "id": "e5ec1598-cc40-49c7-a41c-3a73e85b6ed5",
   "metadata": {},
   "outputs": [
    {
     "data": {
      "text/plain": [
       "'timA'"
      ]
     },
     "execution_count": 5,
     "metadata": {},
     "output_type": "execute_result"
    }
   ],
   "source": [
    "s[::-1]"
   ]
  },
  {
   "cell_type": "code",
   "execution_count": 10,
   "id": "7592bde7-d9ab-4eda-8e49-3ac13cc29990",
   "metadata": {},
   "outputs": [],
   "source": [
    "#reversal of string\n",
    "\n",
    "def reverse_string(s):\n",
    "    if s == \"\":\n",
    "        return \"\"\n",
    "    else:\n",
    "        return reverse_string(s[1:]) + s[0]"
   ]
  },
  {
   "cell_type": "code",
   "execution_count": 11,
   "id": "5cafcdce-9012-4dcc-b64f-24224d09d884",
   "metadata": {},
   "outputs": [
    {
     "data": {
      "text/plain": [
       "'timA'"
      ]
     },
     "execution_count": 11,
     "metadata": {},
     "output_type": "execute_result"
    }
   ],
   "source": [
    "reverse_string(\"Amit\")"
   ]
  },
  {
   "cell_type": "code",
   "execution_count": 12,
   "id": "3c3943a4-9838-443d-b6ef-65660d377444",
   "metadata": {},
   "outputs": [
    {
     "data": {
      "text/plain": [
       "'sllikSwP'"
      ]
     },
     "execution_count": 12,
     "metadata": {},
     "output_type": "execute_result"
    }
   ],
   "source": [
    "reverse_string(\"PwSkills\")"
   ]
  },
  {
   "cell_type": "code",
   "execution_count": 13,
   "id": "e9d637e3-c931-4644-b760-495bdf864586",
   "metadata": {},
   "outputs": [],
   "source": [
    "s = \"sjhkjhskhkjhdfskjkhfd\""
   ]
  },
  {
   "cell_type": "code",
   "execution_count": 14,
   "id": "af1a5d72-8d02-4abd-aa84-8bb7c9bcf53f",
   "metadata": {},
   "outputs": [],
   "source": [
    "#how many times the particular alphabet come, count it\n",
    "\n",
    "def char_count(s,c):\n",
    "    if s == \"\":\n",
    "        return 0\n",
    "    elif s[0] == c:\n",
    "        return 1+char_count(s[1:],c)\n",
    "    else:\n",
    "        return char_count(s[1:],c)"
   ]
  },
  {
   "cell_type": "code",
   "execution_count": 16,
   "id": "647d3671-5f6f-4bd0-8079-6e1b86d2171c",
   "metadata": {},
   "outputs": [
    {
     "data": {
      "text/plain": [
       "5"
      ]
     },
     "execution_count": 16,
     "metadata": {},
     "output_type": "execute_result"
    }
   ],
   "source": [
    "char_count(s, 'h')"
   ]
  },
  {
   "cell_type": "code",
   "execution_count": 17,
   "id": "ae64d6d0-acec-4932-b4d5-97f09aa9672c",
   "metadata": {},
   "outputs": [
    {
     "data": {
      "text/plain": [
       "0"
      ]
     },
     "execution_count": 17,
     "metadata": {},
     "output_type": "execute_result"
    }
   ],
   "source": [
    "char_count(s, 'z')"
   ]
  },
  {
   "cell_type": "code",
   "execution_count": 18,
   "id": "767fc38c-7e46-4486-a6ec-4c6aaa593c2d",
   "metadata": {},
   "outputs": [],
   "source": [
    "l=[4,5,6,3,4,5,6,6,7]"
   ]
  },
  {
   "cell_type": "code",
   "execution_count": 20,
   "id": "208822b1-5020-4ad3-967d-a1cba8fd6b5c",
   "metadata": {},
   "outputs": [],
   "source": [
    "def check_sort_list(l):\n",
    "    if len(l)<=1:\n",
    "        return True\n",
    "    elif l[0]>l[1]:\n",
    "                return False\n",
    "    else:\n",
    "        return check_sort_list(l[1:])"
   ]
  },
  {
   "cell_type": "code",
   "execution_count": 21,
   "id": "6195eea9-5f5a-4a17-ad78-9b1b181f8087",
   "metadata": {},
   "outputs": [
    {
     "data": {
      "text/plain": [
       "False"
      ]
     },
     "execution_count": 21,
     "metadata": {},
     "output_type": "execute_result"
    }
   ],
   "source": [
    "check_sort_list(l)"
   ]
  },
  {
   "cell_type": "code",
   "execution_count": 22,
   "id": "07478677-079a-41c7-a5b5-4aa2f8a7872a",
   "metadata": {},
   "outputs": [],
   "source": [
    "l = [2,3,4,5]"
   ]
  },
  {
   "cell_type": "code",
   "execution_count": 23,
   "id": "97748738-f757-49e4-b9a9-0ff956e633c4",
   "metadata": {},
   "outputs": [
    {
     "data": {
      "text/plain": [
       "True"
      ]
     },
     "execution_count": 23,
     "metadata": {},
     "output_type": "execute_result"
    }
   ],
   "source": [
    "check_sort_list(l)"
   ]
  },
  {
   "cell_type": "code",
   "execution_count": 26,
   "id": "52343a67-bffc-4ae7-83a0-353972d81346",
   "metadata": {},
   "outputs": [
    {
     "data": {
      "text/plain": [
       "False"
      ]
     },
     "execution_count": 26,
     "metadata": {},
     "output_type": "execute_result"
    }
   ],
   "source": [
    "#Perfect square or not\n",
    "def check_perfect_square(n,start=1):\n",
    "    if n == start**2:\n",
    "        return True\n",
    "    elif n<start**2:\n",
    "        return False\n",
    "    else:\n",
    "        return check_perfect_square(n,start+1)\n",
    "    \n",
    "check_perfect_square(12)\n",
    "        "
   ]
  },
  {
   "cell_type": "code",
   "execution_count": 27,
   "id": "18386be6-548e-435b-9cf3-bad4039fcb28",
   "metadata": {},
   "outputs": [
    {
     "data": {
      "text/plain": [
       "True"
      ]
     },
     "execution_count": 27,
     "metadata": {},
     "output_type": "execute_result"
    }
   ],
   "source": [
    "check_perfect_square(25)"
   ]
  },
  {
   "cell_type": "markdown",
   "id": "85c57c14-b232-432b-b2fc-d47744b3ce71",
   "metadata": {},
   "source": [
    "### iterator and iterable"
   ]
  },
  {
   "cell_type": "code",
   "execution_count": 28,
   "id": "03ddc474-a0e4-485f-9bca-1febb655e1b9",
   "metadata": {},
   "outputs": [],
   "source": [
    "l=[2,3,4,5,6]\n",
    "a = 10\n",
    "s = \"Amit\""
   ]
  },
  {
   "cell_type": "code",
   "execution_count": 31,
   "id": "744c44af-c152-4a02-8c09-4d473c4ad50b",
   "metadata": {},
   "outputs": [
    {
     "name": "stdout",
     "output_type": "stream",
     "text": [
      "2 3 4 5 6 "
     ]
    }
   ],
   "source": [
    "for i in l:\n",
    "    print(i,end=\" \" )"
   ]
  },
  {
   "cell_type": "code",
   "execution_count": 33,
   "id": "9bed9503-bd7b-4e1d-a4e7-ab4363cfe1cc",
   "metadata": {},
   "outputs": [
    {
     "ename": "TypeError",
     "evalue": "'int' object is not iterable",
     "output_type": "error",
     "traceback": [
      "\u001b[0;31m---------------------------------------------------------------------------\u001b[0m",
      "\u001b[0;31mTypeError\u001b[0m                                 Traceback (most recent call last)",
      "Cell \u001b[0;32mIn[33], line 1\u001b[0m\n\u001b[0;32m----> 1\u001b[0m \u001b[38;5;28;01mfor\u001b[39;00m i \u001b[38;5;129;01min\u001b[39;00m a:\n\u001b[1;32m      2\u001b[0m     \u001b[38;5;28mprint\u001b[39m(i,end\u001b[38;5;241m=\u001b[39m\u001b[38;5;124m\"\u001b[39m\u001b[38;5;124m \u001b[39m\u001b[38;5;124m\"\u001b[39m)   \u001b[38;5;66;03m#int is not iterable but list is\u001b[39;00m\n",
      "\u001b[0;31mTypeError\u001b[0m: 'int' object is not iterable"
     ]
    }
   ],
   "source": [
    "for i in a:\n",
    "    print(i,end=\" \")   #int is not iterable but list is"
   ]
  },
  {
   "cell_type": "code",
   "execution_count": 34,
   "id": "0615bed7-eb57-4275-a4c0-3ec3cd9ea3ee",
   "metadata": {},
   "outputs": [
    {
     "ename": "TypeError",
     "evalue": "'int' object is not iterable",
     "output_type": "error",
     "traceback": [
      "\u001b[0;31m---------------------------------------------------------------------------\u001b[0m",
      "\u001b[0;31mTypeError\u001b[0m                                 Traceback (most recent call last)",
      "Cell \u001b[0;32mIn[34], line 1\u001b[0m\n\u001b[0;32m----> 1\u001b[0m \u001b[38;5;28;43miter\u001b[39;49m\u001b[43m(\u001b[49m\u001b[38;5;241;43m10\u001b[39;49m\u001b[43m)\u001b[49m\n",
      "\u001b[0;31mTypeError\u001b[0m: 'int' object is not iterable"
     ]
    }
   ],
   "source": [
    "iter(10)"
   ]
  },
  {
   "cell_type": "code",
   "execution_count": 35,
   "id": "6fb80549-b340-4673-94ba-cdac90e55ea5",
   "metadata": {},
   "outputs": [
    {
     "data": {
      "text/plain": [
       "<str_iterator at 0x7fb894559f00>"
      ]
     },
     "execution_count": 35,
     "metadata": {},
     "output_type": "execute_result"
    }
   ],
   "source": [
    "iter(\"Amit\")"
   ]
  },
  {
   "cell_type": "code",
   "execution_count": 36,
   "id": "c3808114-bdf5-4f9c-aa7e-3d483da1b682",
   "metadata": {},
   "outputs": [
    {
     "ename": "NameError",
     "evalue": "name 'A' is not defined",
     "output_type": "error",
     "traceback": [
      "\u001b[0;31m---------------------------------------------------------------------------\u001b[0m",
      "\u001b[0;31mNameError\u001b[0m                                 Traceback (most recent call last)",
      "Cell \u001b[0;32mIn[36], line 1\u001b[0m\n\u001b[0;32m----> 1\u001b[0m \u001b[38;5;28mnext\u001b[39m(\u001b[43mA\u001b[49m)\n",
      "\u001b[0;31mNameError\u001b[0m: name 'A' is not defined"
     ]
    }
   ],
   "source": [
    "next(A)"
   ]
  },
  {
   "cell_type": "code",
   "execution_count": 37,
   "id": "3c215867-7275-46c1-9b40-89e672cb209d",
   "metadata": {},
   "outputs": [],
   "source": [
    "s1 = iter(\"Amit\")"
   ]
  },
  {
   "cell_type": "code",
   "execution_count": 39,
   "id": "8f9421c2-bf86-471f-824a-30c35eff3f6b",
   "metadata": {},
   "outputs": [
    {
     "ename": "TypeError",
     "evalue": "'str' object is not an iterator",
     "output_type": "error",
     "traceback": [
      "\u001b[0;31m---------------------------------------------------------------------------\u001b[0m",
      "\u001b[0;31mTypeError\u001b[0m                                 Traceback (most recent call last)",
      "Cell \u001b[0;32mIn[39], line 1\u001b[0m\n\u001b[0;32m----> 1\u001b[0m \u001b[38;5;28;43mnext\u001b[39;49m\u001b[43m(\u001b[49m\u001b[38;5;124;43m\"\u001b[39;49m\u001b[38;5;124;43mA\u001b[39;49m\u001b[38;5;124;43m\"\u001b[39;49m\u001b[43m)\u001b[49m\n",
      "\u001b[0;31mTypeError\u001b[0m: 'str' object is not an iterator"
     ]
    }
   ],
   "source": [
    "next(\"A\")"
   ]
  },
  {
   "cell_type": "code",
   "execution_count": 62,
   "id": "2017afea-d647-4621-a0d3-4bfb1fbfa1eb",
   "metadata": {},
   "outputs": [],
   "source": [
    "s2 = iter(\"pwskills\")"
   ]
  },
  {
   "cell_type": "code",
   "execution_count": 63,
   "id": "89eb2eb2-05ff-462c-9c95-0cd3c34532b1",
   "metadata": {},
   "outputs": [
    {
     "data": {
      "text/plain": [
       "'p'"
      ]
     },
     "execution_count": 63,
     "metadata": {},
     "output_type": "execute_result"
    }
   ],
   "source": [
    "next(s2)"
   ]
  },
  {
   "cell_type": "code",
   "execution_count": 64,
   "id": "6a14d241-464c-4024-94a5-8ac8011b7d7b",
   "metadata": {},
   "outputs": [
    {
     "data": {
      "text/plain": [
       "'w'"
      ]
     },
     "execution_count": 64,
     "metadata": {},
     "output_type": "execute_result"
    }
   ],
   "source": [
    "next(s2)"
   ]
  },
  {
   "cell_type": "code",
   "execution_count": 44,
   "id": "9c90f5d7-e6e0-4369-8f1d-e58888fa4eff",
   "metadata": {},
   "outputs": [],
   "source": [
    "####iterable then iterator only"
   ]
  },
  {
   "cell_type": "code",
   "execution_count": 65,
   "id": "cead0957-36c0-4814-8afc-ba26942b8d5b",
   "metadata": {},
   "outputs": [
    {
     "data": {
      "text/plain": [
       "'s'"
      ]
     },
     "execution_count": 65,
     "metadata": {},
     "output_type": "execute_result"
    }
   ],
   "source": [
    "next(s2)"
   ]
  },
  {
   "cell_type": "code",
   "execution_count": 66,
   "id": "f3689e77-144a-4925-abf8-ed192b05f3c9",
   "metadata": {},
   "outputs": [
    {
     "data": {
      "text/plain": [
       "'k'"
      ]
     },
     "execution_count": 66,
     "metadata": {},
     "output_type": "execute_result"
    }
   ],
   "source": [
    "next(s2)"
   ]
  },
  {
   "cell_type": "code",
   "execution_count": 67,
   "id": "795caa4a-c605-420a-9220-b75cc756151c",
   "metadata": {},
   "outputs": [
    {
     "data": {
      "text/plain": [
       "'i'"
      ]
     },
     "execution_count": 67,
     "metadata": {},
     "output_type": "execute_result"
    }
   ],
   "source": [
    "next(s2)"
   ]
  },
  {
   "cell_type": "code",
   "execution_count": 68,
   "id": "e0b3b55c-2808-46e0-a0cb-638143136e76",
   "metadata": {},
   "outputs": [
    {
     "data": {
      "text/plain": [
       "'l'"
      ]
     },
     "execution_count": 68,
     "metadata": {},
     "output_type": "execute_result"
    }
   ],
   "source": [
    "next(s2)"
   ]
  },
  {
   "cell_type": "code",
   "execution_count": 69,
   "id": "d461454f-6ab8-4730-b4e5-0b64daead3f7",
   "metadata": {},
   "outputs": [
    {
     "data": {
      "text/plain": [
       "'l'"
      ]
     },
     "execution_count": 69,
     "metadata": {},
     "output_type": "execute_result"
    }
   ],
   "source": [
    "next(s2)\n"
   ]
  },
  {
   "cell_type": "code",
   "execution_count": 70,
   "id": "0dbcf17e-251e-4749-a392-85f7af3bd239",
   "metadata": {},
   "outputs": [
    {
     "data": {
      "text/plain": [
       "'s'"
      ]
     },
     "execution_count": 70,
     "metadata": {},
     "output_type": "execute_result"
    }
   ],
   "source": [
    "next(s2)"
   ]
  },
  {
   "cell_type": "code",
   "execution_count": 71,
   "id": "ecc50cab-dbbd-41be-9e02-838907176a9f",
   "metadata": {},
   "outputs": [
    {
     "ename": "StopIteration",
     "evalue": "",
     "output_type": "error",
     "traceback": [
      "\u001b[0;31m---------------------------------------------------------------------------\u001b[0m",
      "\u001b[0;31mStopIteration\u001b[0m                             Traceback (most recent call last)",
      "Cell \u001b[0;32mIn[71], line 1\u001b[0m\n\u001b[0;32m----> 1\u001b[0m \u001b[38;5;28;43mnext\u001b[39;49m\u001b[43m(\u001b[49m\u001b[43ms2\u001b[49m\u001b[43m)\u001b[49m\n",
      "\u001b[0;31mStopIteration\u001b[0m: "
     ]
    }
   ],
   "source": [
    "next(s2)"
   ]
  },
  {
   "cell_type": "code",
   "execution_count": 45,
   "id": "a3e47be4-4537-4d3f-b350-f2554253fe76",
   "metadata": {},
   "outputs": [
    {
     "name": "stdout",
     "output_type": "stream",
     "text": [
      "p w s k i l l s "
     ]
    }
   ],
   "source": [
    "for i in s2:\n",
    "    print(i,end=\" \")"
   ]
  },
  {
   "cell_type": "code",
   "execution_count": 46,
   "id": "c213a080-6403-4aff-938e-a780687c7271",
   "metadata": {},
   "outputs": [],
   "source": [
    "###string is a iterable object"
   ]
  },
  {
   "cell_type": "code",
   "execution_count": 47,
   "id": "51fd8d5c-ba27-423d-b57d-63a113f412a7",
   "metadata": {},
   "outputs": [
    {
     "ename": "TypeError",
     "evalue": "'int' object is not iterable",
     "output_type": "error",
     "traceback": [
      "\u001b[0;31m---------------------------------------------------------------------------\u001b[0m",
      "\u001b[0;31mTypeError\u001b[0m                                 Traceback (most recent call last)",
      "Cell \u001b[0;32mIn[47], line 1\u001b[0m\n\u001b[0;32m----> 1\u001b[0m \u001b[38;5;28;43miter\u001b[39;49m\u001b[43m(\u001b[49m\u001b[38;5;241;43m20\u001b[39;49m\u001b[43m)\u001b[49m\n",
      "\u001b[0;31mTypeError\u001b[0m: 'int' object is not iterable"
     ]
    }
   ],
   "source": [
    "iter(20)"
   ]
  },
  {
   "cell_type": "code",
   "execution_count": 48,
   "id": "86718598-be1e-4f37-a9a2-83f260f034a9",
   "metadata": {},
   "outputs": [],
   "source": [
    "### here int is not iteable then not possbile to convert into iterator"
   ]
  },
  {
   "cell_type": "code",
   "execution_count": 49,
   "id": "c6779f2e-9ae7-4a3e-8986-361ecccd71b7",
   "metadata": {},
   "outputs": [],
   "source": [
    "###iterable then iterator only"
   ]
  },
  {
   "cell_type": "code",
   "execution_count": 50,
   "id": "3e835542-af83-4678-8ec1-fbad3bd91632",
   "metadata": {},
   "outputs": [
    {
     "data": {
      "text/plain": [
       "<list_iterator at 0x7fb894562800>"
      ]
     },
     "execution_count": 50,
     "metadata": {},
     "output_type": "execute_result"
    }
   ],
   "source": [
    "iter([1,2,3,4,5])"
   ]
  },
  {
   "cell_type": "code",
   "execution_count": 52,
   "id": "ac2e9de8-bf0a-44e5-bf7a-5c0ba0e0a26a",
   "metadata": {},
   "outputs": [],
   "source": [
    "###list is a iterable so can be convert into iterator"
   ]
  },
  {
   "cell_type": "code",
   "execution_count": 53,
   "id": "e7b83a2a-04ae-4205-b4f0-19f049086d6a",
   "metadata": {},
   "outputs": [
    {
     "name": "stdout",
     "output_type": "stream",
     "text": [
      "2\n",
      "3\n",
      "4\n",
      "45\n"
     ]
    }
   ],
   "source": [
    "for i in [2,3,4,45]:\n",
    "    print(i)"
   ]
  },
  {
   "cell_type": "code",
   "execution_count": 54,
   "id": "50dcee67-7b39-4241-80c4-246b5249e8e7",
   "metadata": {},
   "outputs": [
    {
     "data": {
      "text/plain": [
       "<list_iterator at 0x7fb894562380>"
      ]
     },
     "execution_count": 54,
     "metadata": {},
     "output_type": "execute_result"
    }
   ],
   "source": [
    "iter([2,3,4,5,6])"
   ]
  },
  {
   "cell_type": "code",
   "execution_count": 55,
   "id": "a2e809e9-f6c9-4216-b75a-0812d73f1c33",
   "metadata": {},
   "outputs": [],
   "source": [
    "l = iter([2,3,4,5,6])"
   ]
  },
  {
   "cell_type": "code",
   "execution_count": 56,
   "id": "3839e61e-e187-46b8-ba72-73ae8d13787d",
   "metadata": {},
   "outputs": [
    {
     "data": {
      "text/plain": [
       "2"
      ]
     },
     "execution_count": 56,
     "metadata": {},
     "output_type": "execute_result"
    }
   ],
   "source": [
    "next(l)"
   ]
  },
  {
   "cell_type": "code",
   "execution_count": 57,
   "id": "1e7faee4-daa0-45cd-bd6e-8851c5e9d745",
   "metadata": {},
   "outputs": [
    {
     "data": {
      "text/plain": [
       "3"
      ]
     },
     "execution_count": 57,
     "metadata": {},
     "output_type": "execute_result"
    }
   ],
   "source": [
    "next(l)"
   ]
  },
  {
   "cell_type": "code",
   "execution_count": 58,
   "id": "12ac7193-4e73-4372-bc50-c89d18ac0ecc",
   "metadata": {},
   "outputs": [
    {
     "data": {
      "text/plain": [
       "4"
      ]
     },
     "execution_count": 58,
     "metadata": {},
     "output_type": "execute_result"
    }
   ],
   "source": [
    "next(l)"
   ]
  },
  {
   "cell_type": "code",
   "execution_count": 59,
   "id": "4a229d3e-de89-4ab9-ae99-56923ad18efb",
   "metadata": {},
   "outputs": [
    {
     "data": {
      "text/plain": [
       "5"
      ]
     },
     "execution_count": 59,
     "metadata": {},
     "output_type": "execute_result"
    }
   ],
   "source": [
    "next(l)"
   ]
  },
  {
   "cell_type": "code",
   "execution_count": 60,
   "id": "f8c88b02-9670-4cec-aa98-579e599bf243",
   "metadata": {},
   "outputs": [
    {
     "data": {
      "text/plain": [
       "6"
      ]
     },
     "execution_count": 60,
     "metadata": {},
     "output_type": "execute_result"
    }
   ],
   "source": [
    "next(l)"
   ]
  },
  {
   "cell_type": "code",
   "execution_count": 61,
   "id": "1127c19e-f4ce-4457-b506-4c86d4240ee5",
   "metadata": {},
   "outputs": [
    {
     "ename": "StopIteration",
     "evalue": "",
     "output_type": "error",
     "traceback": [
      "\u001b[0;31m---------------------------------------------------------------------------\u001b[0m",
      "\u001b[0;31mStopIteration\u001b[0m                             Traceback (most recent call last)",
      "Cell \u001b[0;32mIn[61], line 1\u001b[0m\n\u001b[0;32m----> 1\u001b[0m \u001b[38;5;28;43mnext\u001b[39;49m\u001b[43m(\u001b[49m\u001b[43ml\u001b[49m\u001b[43m)\u001b[49m\n",
      "\u001b[0;31mStopIteration\u001b[0m: "
     ]
    }
   ],
   "source": [
    "next(l)"
   ]
  },
  {
   "cell_type": "code",
   "execution_count": 72,
   "id": "e2e916c8-8c40-49ad-b0ef-53de75493414",
   "metadata": {},
   "outputs": [
    {
     "name": "stdout",
     "output_type": "stream",
     "text": [
      "2\n",
      "3\n",
      "4\n",
      "5\n",
      "6\n",
      "7\n",
      "8\n"
     ]
    }
   ],
   "source": [
    "for i in {2,3,4,5,6,7,8}:\n",
    "    print(i)"
   ]
  },
  {
   "cell_type": "code",
   "execution_count": 73,
   "id": "4444104d-3f65-4024-a41a-e2950a44e79c",
   "metadata": {},
   "outputs": [
    {
     "data": {
      "text/plain": [
       "<set_iterator at 0x7fb8941fa9c0>"
      ]
     },
     "execution_count": 73,
     "metadata": {},
     "output_type": "execute_result"
    }
   ],
   "source": [
    "iter({2,3,4,5,6,7,8})"
   ]
  },
  {
   "cell_type": "code",
   "execution_count": 74,
   "id": "b0170511-8d54-4d50-b8b7-1892c29db249",
   "metadata": {},
   "outputs": [
    {
     "ename": "TypeError",
     "evalue": "'bool' object is not iterable",
     "output_type": "error",
     "traceback": [
      "\u001b[0;31m---------------------------------------------------------------------------\u001b[0m",
      "\u001b[0;31mTypeError\u001b[0m                                 Traceback (most recent call last)",
      "Cell \u001b[0;32mIn[74], line 1\u001b[0m\n\u001b[0;32m----> 1\u001b[0m \u001b[38;5;28;43miter\u001b[39;49m\u001b[43m(\u001b[49m\u001b[38;5;28;43;01mTrue\u001b[39;49;00m\u001b[43m)\u001b[49m\n",
      "\u001b[0;31mTypeError\u001b[0m: 'bool' object is not iterable"
     ]
    }
   ],
   "source": [
    "iter(True)"
   ]
  },
  {
   "cell_type": "code",
   "execution_count": 75,
   "id": "db230dfe-a2a7-48d1-8a78-7aaa38e2184e",
   "metadata": {},
   "outputs": [],
   "source": [
    "### if not iterable then not able to convert it is in iteration"
   ]
  },
  {
   "cell_type": "code",
   "execution_count": 76,
   "id": "a3cf2cf0-6bfc-4647-b6c4-2f530f602f6a",
   "metadata": {},
   "outputs": [
    {
     "data": {
      "text/plain": [
       "<dict_keyiterator at 0x7fb89434cf40>"
      ]
     },
     "execution_count": 76,
     "metadata": {},
     "output_type": "execute_result"
    }
   ],
   "source": [
    "iter({'key': \"value\"})"
   ]
  },
  {
   "cell_type": "code",
   "execution_count": 77,
   "id": "9498dacf-b990-4c8a-a18f-118be6fa43b5",
   "metadata": {},
   "outputs": [],
   "source": [
    "d = iter({'key': \"value\"})"
   ]
  },
  {
   "cell_type": "code",
   "execution_count": 78,
   "id": "8e13ee6e-4cf1-404d-a309-88beadd071de",
   "metadata": {},
   "outputs": [
    {
     "data": {
      "text/plain": [
       "'key'"
      ]
     },
     "execution_count": 78,
     "metadata": {},
     "output_type": "execute_result"
    }
   ],
   "source": [
    "next(d)"
   ]
  },
  {
   "cell_type": "code",
   "execution_count": 79,
   "id": "35dd5a18-a74f-43fa-8978-ccc28fc6fcc6",
   "metadata": {},
   "outputs": [
    {
     "ename": "StopIteration",
     "evalue": "",
     "output_type": "error",
     "traceback": [
      "\u001b[0;31m---------------------------------------------------------------------------\u001b[0m",
      "\u001b[0;31mStopIteration\u001b[0m                             Traceback (most recent call last)",
      "Cell \u001b[0;32mIn[79], line 1\u001b[0m\n\u001b[0;32m----> 1\u001b[0m \u001b[38;5;28;43mnext\u001b[39;49m\u001b[43m(\u001b[49m\u001b[43md\u001b[49m\u001b[43m)\u001b[49m\n",
      "\u001b[0;31mStopIteration\u001b[0m: "
     ]
    }
   ],
   "source": [
    "next(d)"
   ]
  },
  {
   "cell_type": "markdown",
   "id": "078bd3a8-c0a2-4f0d-8390-799ab99e5f82",
   "metadata": {},
   "source": [
    "###Generator Function"
   ]
  },
  {
   "cell_type": "code",
   "execution_count": 80,
   "id": "3143a614-9d76-46d2-a0fe-930452862e1d",
   "metadata": {},
   "outputs": [
    {
     "data": {
      "text/plain": [
       "range(0, 5)"
      ]
     },
     "execution_count": 80,
     "metadata": {},
     "output_type": "execute_result"
    }
   ],
   "source": [
    "range(0,5)"
   ]
  },
  {
   "cell_type": "code",
   "execution_count": 81,
   "id": "0e7898fc-3ce6-46c2-9e23-3535b7c44dd4",
   "metadata": {},
   "outputs": [
    {
     "data": {
      "text/plain": [
       "[0, 1, 2, 3, 4]"
      ]
     },
     "execution_count": 81,
     "metadata": {},
     "output_type": "execute_result"
    }
   ],
   "source": [
    "list(range(0,5))"
   ]
  },
  {
   "cell_type": "code",
   "execution_count": 82,
   "id": "f635397b-92c8-4134-bfea-ecd0ce3faac8",
   "metadata": {},
   "outputs": [
    {
     "name": "stdout",
     "output_type": "stream",
     "text": [
      "0\n",
      "1\n",
      "2\n",
      "3\n",
      "4\n"
     ]
    }
   ],
   "source": [
    "for i in range(0,5):\n",
    "    print(i)"
   ]
  },
  {
   "cell_type": "code",
   "execution_count": 84,
   "id": "67a37e4f-197e-4b40-b3a9-ca4e9ae362a5",
   "metadata": {},
   "outputs": [],
   "source": [
    "i = iter(range(0,5))"
   ]
  },
  {
   "cell_type": "code",
   "execution_count": 85,
   "id": "0ef432d2-8ff4-4364-88f0-1d20b730c733",
   "metadata": {},
   "outputs": [
    {
     "data": {
      "text/plain": [
       "0"
      ]
     },
     "execution_count": 85,
     "metadata": {},
     "output_type": "execute_result"
    }
   ],
   "source": [
    "next(i)"
   ]
  },
  {
   "cell_type": "code",
   "execution_count": 86,
   "id": "ab7ba490-d9aa-4318-a791-969f08565c9f",
   "metadata": {},
   "outputs": [
    {
     "data": {
      "text/plain": [
       "1"
      ]
     },
     "execution_count": 86,
     "metadata": {},
     "output_type": "execute_result"
    }
   ],
   "source": [
    "next(i)"
   ]
  },
  {
   "cell_type": "code",
   "execution_count": 87,
   "id": "a20c1463-6db7-4d87-b0ad-a572b68e5d66",
   "metadata": {},
   "outputs": [
    {
     "data": {
      "text/plain": [
       "2"
      ]
     },
     "execution_count": 87,
     "metadata": {},
     "output_type": "execute_result"
    }
   ],
   "source": [
    "next(i)"
   ]
  },
  {
   "cell_type": "code",
   "execution_count": 88,
   "id": "7fa1fc0a-5e45-4367-89a0-72d9e297593d",
   "metadata": {},
   "outputs": [
    {
     "data": {
      "text/plain": [
       "3"
      ]
     },
     "execution_count": 88,
     "metadata": {},
     "output_type": "execute_result"
    }
   ],
   "source": [
    "next(i)"
   ]
  },
  {
   "cell_type": "code",
   "execution_count": 89,
   "id": "c0f00f07-fc9b-47d4-81bc-29debcabf127",
   "metadata": {},
   "outputs": [
    {
     "data": {
      "text/plain": [
       "4"
      ]
     },
     "execution_count": 89,
     "metadata": {},
     "output_type": "execute_result"
    }
   ],
   "source": [
    "next(i)"
   ]
  },
  {
   "cell_type": "code",
   "execution_count": 90,
   "id": "cdd6e176-3cac-4601-844c-c98ecef231d3",
   "metadata": {},
   "outputs": [
    {
     "ename": "StopIteration",
     "evalue": "",
     "output_type": "error",
     "traceback": [
      "\u001b[0;31m---------------------------------------------------------------------------\u001b[0m",
      "\u001b[0;31mStopIteration\u001b[0m                             Traceback (most recent call last)",
      "Cell \u001b[0;32mIn[90], line 1\u001b[0m\n\u001b[0;32m----> 1\u001b[0m \u001b[38;5;28;43mnext\u001b[39;49m\u001b[43m(\u001b[49m\u001b[43mi\u001b[49m\u001b[43m)\u001b[49m\n",
      "\u001b[0;31mStopIteration\u001b[0m: "
     ]
    }
   ],
   "source": [
    "next(i)"
   ]
  },
  {
   "cell_type": "code",
   "execution_count": 91,
   "id": "a57b036c-7e04-4d37-81d3-e7231fab73e4",
   "metadata": {},
   "outputs": [
    {
     "data": {
      "text/plain": [
       "range(0, 5)"
      ]
     },
     "execution_count": 91,
     "metadata": {},
     "output_type": "execute_result"
    }
   ],
   "source": [
    "range(0,5)"
   ]
  },
  {
   "cell_type": "code",
   "execution_count": 92,
   "id": "3cd84b1b-2554-4215-9722-b221f1ee8009",
   "metadata": {},
   "outputs": [
    {
     "data": {
      "text/plain": [
       "4"
      ]
     },
     "execution_count": 92,
     "metadata": {},
     "output_type": "execute_result"
    }
   ],
   "source": [
    "len(\"Amit\")"
   ]
  },
  {
   "cell_type": "code",
   "execution_count": 98,
   "id": "9e68ca32-ce9b-4d56-b43f-a3e6e8edd894",
   "metadata": {},
   "outputs": [],
   "source": [
    "def count_fun(n):\n",
    "    i=1\n",
    "    while i<=n:\n",
    "        yield i   #yield means producing something\n",
    "        i = i+1"
   ]
  },
  {
   "cell_type": "code",
   "execution_count": 99,
   "id": "4e36eabc-eff4-4087-a752-2e7c64097754",
   "metadata": {},
   "outputs": [
    {
     "data": {
      "text/plain": [
       "<generator object count_fun at 0x7fb89428bc30>"
      ]
     },
     "execution_count": 99,
     "metadata": {},
     "output_type": "execute_result"
    }
   ],
   "source": [
    "count_fun(9)"
   ]
  },
  {
   "cell_type": "code",
   "execution_count": 100,
   "id": "f5b899cb-d10e-41fa-b9ec-8b73c0628f10",
   "metadata": {},
   "outputs": [
    {
     "name": "stdout",
     "output_type": "stream",
     "text": [
      "1\n",
      "2\n",
      "3\n",
      "4\n",
      "5\n",
      "6\n",
      "7\n",
      "8\n",
      "9\n"
     ]
    }
   ],
   "source": [
    "for i in count_fun(9):\n",
    "    print(i)"
   ]
  },
  {
   "cell_type": "code",
   "execution_count": 101,
   "id": "f9489260-a3ba-463d-98b1-734e7fd9aec6",
   "metadata": {},
   "outputs": [],
   "source": [
    "j = iter(count_fun(9))"
   ]
  },
  {
   "cell_type": "code",
   "execution_count": 102,
   "id": "a7f46f1c-b320-4578-a439-985f1ee39787",
   "metadata": {},
   "outputs": [
    {
     "data": {
      "text/plain": [
       "1"
      ]
     },
     "execution_count": 102,
     "metadata": {},
     "output_type": "execute_result"
    }
   ],
   "source": [
    "next(j)"
   ]
  },
  {
   "cell_type": "code",
   "execution_count": 103,
   "id": "700ae16e-f056-48f1-ac27-6069ef3ab91f",
   "metadata": {},
   "outputs": [],
   "source": [
    "##print -- nontype data"
   ]
  },
  {
   "cell_type": "code",
   "execution_count": 104,
   "id": "956360d4-b000-4299-b318-ed31f39fbe24",
   "metadata": {},
   "outputs": [],
   "source": [
    "def count_fun(n):\n",
    "    i=1\n",
    "    while i<=n:\n",
    "        return i   #yield means producing something\n",
    "        i = i+1"
   ]
  },
  {
   "cell_type": "code",
   "execution_count": 106,
   "id": "f97445fe-22c3-42a0-884b-d73ba6725235",
   "metadata": {},
   "outputs": [],
   "source": [
    "def count_fun(n):\n",
    "    i=1\n",
    "    while i<=n:\n",
    "        print(i)   #yield means producing something\n",
    "        i = i+1"
   ]
  },
  {
   "cell_type": "code",
   "execution_count": 107,
   "id": "1168f42f-20dd-4f3e-abb9-ea7a2f6bd4a1",
   "metadata": {},
   "outputs": [
    {
     "name": "stdout",
     "output_type": "stream",
     "text": [
      "1\n",
      "2\n",
      "3\n",
      "4\n",
      "5\n"
     ]
    }
   ],
   "source": [
    "count_fun(5)"
   ]
  },
  {
   "cell_type": "code",
   "execution_count": 110,
   "id": "e940e8ce-fa16-4b81-8254-decdb0c120b3",
   "metadata": {},
   "outputs": [],
   "source": [
    "def count_fun(n):\n",
    "    i=1\n",
    "    l=[]\n",
    "    while i<=n:\n",
    "        l.append(i)   #yield means producing something\n",
    "        i = i+1\n",
    "    return l"
   ]
  },
  {
   "cell_type": "code",
   "execution_count": 111,
   "id": "8583e5c1-3475-4d1f-b7e6-a539b8c18594",
   "metadata": {},
   "outputs": [
    {
     "data": {
      "text/plain": [
       "[1, 2, 3, 4, 5]"
      ]
     },
     "execution_count": 111,
     "metadata": {},
     "output_type": "execute_result"
    }
   ],
   "source": [
    "count_fun(5)"
   ]
  },
  {
   "cell_type": "code",
   "execution_count": 112,
   "id": "4dd4dcd5-c7fd-4967-9883-06260b5baa5b",
   "metadata": {},
   "outputs": [],
   "source": [
    "def count_fun(n):\n",
    "    i=1\n",
    "    while i<=n:\n",
    "        yield i   #yield means producing something\n",
    "        i = i+1"
   ]
  },
  {
   "cell_type": "code",
   "execution_count": 113,
   "id": "6708c095-2766-48af-a709-011511b9eefb",
   "metadata": {},
   "outputs": [
    {
     "data": {
      "text/plain": [
       "<generator object count_fun at 0x7fb894240510>"
      ]
     },
     "execution_count": 113,
     "metadata": {},
     "output_type": "execute_result"
    }
   ],
   "source": [
    "count_fun(59)"
   ]
  },
  {
   "cell_type": "code",
   "execution_count": 114,
   "id": "034fec15-a66a-472d-ad3d-e9e5f6633e54",
   "metadata": {},
   "outputs": [
    {
     "name": "stdout",
     "output_type": "stream",
     "text": [
      "1\n",
      "2\n",
      "3\n",
      "4\n",
      "5\n",
      "6\n",
      "7\n",
      "8\n",
      "9\n",
      "10\n",
      "11\n",
      "12\n",
      "13\n",
      "14\n",
      "15\n",
      "16\n",
      "17\n",
      "18\n",
      "19\n",
      "20\n",
      "21\n",
      "22\n",
      "23\n",
      "24\n",
      "25\n",
      "26\n",
      "27\n",
      "28\n",
      "29\n",
      "30\n",
      "31\n",
      "32\n",
      "33\n",
      "34\n",
      "35\n",
      "36\n",
      "37\n",
      "38\n",
      "39\n",
      "40\n",
      "41\n",
      "42\n",
      "43\n",
      "44\n",
      "45\n",
      "46\n",
      "47\n",
      "48\n",
      "49\n",
      "50\n",
      "51\n",
      "52\n",
      "53\n",
      "54\n",
      "55\n",
      "56\n",
      "57\n",
      "58\n",
      "59\n"
     ]
    }
   ],
   "source": [
    "for i in count_fun(59):\n",
    "    print(i)"
   ]
  },
  {
   "cell_type": "code",
   "execution_count": 115,
   "id": "fc9119ca-e34e-457a-9a3f-def002dc20f2",
   "metadata": {},
   "outputs": [],
   "source": [
    "###yield always in work and continuously show the output.. but in print it can't see the data  one by one amd in return it always return 1 time data"
   ]
  },
  {
   "cell_type": "code",
   "execution_count": 116,
   "id": "83fba1f2-1dd4-4d67-be68-55dc6bd0a1dd",
   "metadata": {},
   "outputs": [],
   "source": [
    "###yield is waaterfall and print is agile"
   ]
  },
  {
   "cell_type": "code",
   "execution_count": 118,
   "id": "941e98b5-7ab9-471b-bddf-26825fff5a69",
   "metadata": {},
   "outputs": [],
   "source": [
    "def fib(n):\n",
    "    a,b = 0,1\n",
    "    for i in range(n):\n",
    "        yield a\n",
    "        a,b = b,a+b"
   ]
  },
  {
   "cell_type": "code",
   "execution_count": 119,
   "id": "7dd20df7-a523-4751-ac55-9cfae41e1941",
   "metadata": {},
   "outputs": [
    {
     "data": {
      "text/plain": [
       "<generator object fib at 0x7fb894240820>"
      ]
     },
     "execution_count": 119,
     "metadata": {},
     "output_type": "execute_result"
    }
   ],
   "source": [
    "fib(9)"
   ]
  },
  {
   "cell_type": "code",
   "execution_count": 120,
   "id": "86bf4b20-cb8a-4f91-8312-10eb514554fa",
   "metadata": {},
   "outputs": [
    {
     "name": "stdout",
     "output_type": "stream",
     "text": [
      "0\n",
      "1\n",
      "1\n",
      "2\n",
      "3\n",
      "5\n",
      "8\n",
      "13\n",
      "21\n"
     ]
    }
   ],
   "source": [
    "for i in fib(9):\n",
    "    print(i)"
   ]
  },
  {
   "cell_type": "code",
   "execution_count": 121,
   "id": "58ca46ff-b0de-4871-9b55-927639a56605",
   "metadata": {},
   "outputs": [],
   "source": [
    "def fib(n):\n",
    "    a,b = 0,1\n",
    "    for i in range(n):\n",
    "        print(a)\n",
    "        a,b = b,a+b"
   ]
  },
  {
   "cell_type": "code",
   "execution_count": 122,
   "id": "ee23118c-2adc-4bf1-ac95-c22c1f728812",
   "metadata": {},
   "outputs": [
    {
     "name": "stdout",
     "output_type": "stream",
     "text": [
      "0\n",
      "1\n",
      "1\n",
      "2\n",
      "3\n",
      "5\n",
      "8\n",
      "13\n",
      "21\n"
     ]
    }
   ],
   "source": [
    "fib(9)"
   ]
  },
  {
   "cell_type": "code",
   "execution_count": 123,
   "id": "761bc182-a669-45da-b002-f81e4f275370",
   "metadata": {},
   "outputs": [
    {
     "name": "stdout",
     "output_type": "stream",
     "text": [
      "'17th Sept.ipynb'    'Data Types Day 2.ipynb'\n",
      "'23th sept.ipynb'    'Function and control flow.ipynb'\n",
      "'24th Sept.ipynb'    'Local Global.ipynb'\n",
      " \u001b[0m\u001b[01;34mAssignments\u001b[0m/         Operators_Day_4.ipynb\n",
      " a.txt                Python_Basics_Day_3.ipynb\n",
      " Control_Flow.ipynb  'Variable Day1.ipynb'\n"
     ]
    }
   ],
   "source": [
    "ls"
   ]
  },
  {
   "cell_type": "code",
   "execution_count": 125,
   "id": "d8efb4b4-aa75-4fb3-a201-e0fb709936ac",
   "metadata": {},
   "outputs": [
    {
     "name": "stdout",
     "output_type": "stream",
     "text": [
      "dghdhgsghdshgdhdshg\n",
      "\n",
      "sjjjjjjjjjjjjjsda\n",
      "\n",
      "uuuuuuuuuuuuuuuuuu\n",
      "\n",
      "bsxn7yqewuiwequidiu\n",
      "\n",
      "\n",
      "\n",
      "\n",
      "\n",
      "September 24: Heritage Day in South Africa; Independence Day in Guinea-Bissau (1973)\n",
      "\n",
      "\n",
      "\n",
      "Norodom Sihanouk\n",
      "\n",
      "Norodom Sihanouk\n",
      "\n",
      "1645 – English Civil War: Royalists commanded by King Charles I suffered a significant defeat at the Battle of Rowton Heath.\n",
      "\n",
      "1869 – Jay Gould, James Fisk, and other speculators plotted but failed to control the United States gold market, causing prices to plummet.\n",
      "\n",
      "1890 – Wilford Woodruff, the president of the Church of Jesus Christ of Latter-day Saints, wrote the first draft of a manifesto that officially disavowed the future practice of plural marriage.\n",
      "\n",
      "1941 – Operation Barbarossa: A Wehrmacht training event known as the Mogilev Conference began, marking an increase in violence against Jews and other civilians in the areas under General Max von Schenckendorff's command.\n",
      "\n",
      "1993 – Norodom Sihanouk (pictured) became King of Cambodia with the restoration of the monarchy after a 23-year interregnum.\n",
      "\n",
      "Pope Liberius (d. 366)Howard Florey (b. 1898)Esther Eng (b. 1914)Princess Victoria of Hesse\n"
     ]
    }
   ],
   "source": [
    "for i in open('a.txt'):\n",
    "    print(i)"
   ]
  },
  {
   "cell_type": "code",
   "execution_count": 132,
   "id": "3876aaca-8d17-47f8-9e26-57416e27285f",
   "metadata": {},
   "outputs": [],
   "source": [
    "def read_file(file_name):\n",
    "    with open(file_name) as file:\n",
    "        for i in file:\n",
    "            yield i\n",
    "            "
   ]
  },
  {
   "cell_type": "code",
   "execution_count": 133,
   "id": "a8894fad-3e59-417a-8554-fb1d165a9bda",
   "metadata": {},
   "outputs": [
    {
     "data": {
      "text/plain": [
       "<generator object read_file at 0x7fb894241690>"
      ]
     },
     "execution_count": 133,
     "metadata": {},
     "output_type": "execute_result"
    }
   ],
   "source": [
    "read_file('a.txt')"
   ]
  },
  {
   "cell_type": "code",
   "execution_count": 134,
   "id": "441058ab-70d4-462e-9460-4fc643834687",
   "metadata": {},
   "outputs": [
    {
     "name": "stdout",
     "output_type": "stream",
     "text": [
      "dghdhgsghdshgdhdshg\n",
      "\n",
      "sjjjjjjjjjjjjjsda\n",
      "\n",
      "uuuuuuuuuuuuuuuuuu\n",
      "\n",
      "bsxn7yqewuiwequidiu\n",
      "\n",
      "\n",
      "\n",
      "\n",
      "\n",
      "September 24: Heritage Day in South Africa; Independence Day in Guinea-Bissau (1973)\n",
      "\n",
      "\n",
      "\n",
      "Norodom Sihanouk\n",
      "\n",
      "Norodom Sihanouk\n",
      "\n",
      "1645 – English Civil War: Royalists commanded by King Charles I suffered a significant defeat at the Battle of Rowton Heath.\n",
      "\n",
      "1869 – Jay Gould, James Fisk, and other speculators plotted but failed to control the United States gold market, causing prices to plummet.\n",
      "\n",
      "1890 – Wilford Woodruff, the president of the Church of Jesus Christ of Latter-day Saints, wrote the first draft of a manifesto that officially disavowed the future practice of plural marriage.\n",
      "\n",
      "1941 – Operation Barbarossa: A Wehrmacht training event known as the Mogilev Conference began, marking an increase in violence against Jews and other civilians in the areas under General Max von Schenckendorff's command.\n",
      "\n",
      "1993 – Norodom Sihanouk (pictured) became King of Cambodia with the restoration of the monarchy after a 23-year interregnum.\n",
      "\n",
      "Pope Liberius (d. 366)Howard Florey (b. 1898)Esther Eng (b. 1914)Princess Victoria of Hesse\n"
     ]
    }
   ],
   "source": [
    "for i in read_file('a.txt'):\n",
    "    print(i)"
   ]
  },
  {
   "cell_type": "code",
   "execution_count": 135,
   "id": "16a570a4-8cde-4e7c-86e7-2c967fcdb8c9",
   "metadata": {},
   "outputs": [],
   "source": [
    "##Reading some amount of book or management"
   ]
  },
  {
   "cell_type": "code",
   "execution_count": null,
   "id": "accd24cc-f881-47d3-8071-2b34d34da60a",
   "metadata": {},
   "outputs": [],
   "source": []
  }
 ],
 "metadata": {
  "kernelspec": {
   "display_name": "Python 3 (ipykernel)",
   "language": "python",
   "name": "python3"
  },
  "language_info": {
   "codemirror_mode": {
    "name": "ipython",
    "version": 3
   },
   "file_extension": ".py",
   "mimetype": "text/x-python",
   "name": "python",
   "nbconvert_exporter": "python",
   "pygments_lexer": "ipython3",
   "version": "3.10.8"
  }
 },
 "nbformat": 4,
 "nbformat_minor": 5
}
