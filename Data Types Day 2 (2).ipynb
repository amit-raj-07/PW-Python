{
 "cells": [
  {
   "cell_type": "markdown",
   "id": "554ebd38-a264-4feb-9bac-8ab6a78a7775",
   "metadata": {},
   "source": [
    "List -> It hold multiple heterogenous data\n",
    "l = [], using square bracket\n",
    "list is mutable, value re-assignment is possible\n",
    "List is collection of everything,\n",
    "int,float,string,bool,--- different kind of data together\n",
    "\n",
    "In list Contenation is possible. (Both are in same data type then only \n",
    "concatenation is possible)\n",
    "\n",
    "Type-Casting possible-- tuple to list and vice-versa"
   ]
  },
  {
   "cell_type": "code",
   "execution_count": 1,
   "id": "48329c7d-e728-4dc3-966c-10901442cce2",
   "metadata": {},
   "outputs": [],
   "source": [
    "l = []"
   ]
  },
  {
   "cell_type": "code",
   "execution_count": 2,
   "id": "e81da994-f97a-4497-bf8a-b8ed1a21739e",
   "metadata": {},
   "outputs": [
    {
     "data": {
      "text/plain": [
       "list"
      ]
     },
     "execution_count": 2,
     "metadata": {},
     "output_type": "execute_result"
    }
   ],
   "source": [
    "type(l)"
   ]
  },
  {
   "cell_type": "code",
   "execution_count": 3,
   "id": "18cb89f6-8eed-4586-8787-a22403e9b73a",
   "metadata": {},
   "outputs": [],
   "source": [
    "l1 = [1,2,3,4,5, \"Amit\", 'Raj', 3+6j, True, 45.7, [4,7,2,8,1]]"
   ]
  },
  {
   "cell_type": "code",
   "execution_count": 4,
   "id": "8b273efd-8cbc-4c02-a4e2-864689e3ce84",
   "metadata": {},
   "outputs": [
    {
     "data": {
      "text/plain": [
       "[1, 2, 3, 4, 5, 'Amit', 'Raj', (3+6j), True, 45.7, [4, 7, 2, 8, 1]]"
      ]
     },
     "execution_count": 4,
     "metadata": {},
     "output_type": "execute_result"
    }
   ],
   "source": [
    "l1"
   ]
  },
  {
   "cell_type": "code",
   "execution_count": 5,
   "id": "bba403dc-10ce-4708-bfec-d7667ca67f08",
   "metadata": {},
   "outputs": [],
   "source": [
    "s = \"3dgfxjnkvx^$^$#\""
   ]
  },
  {
   "cell_type": "code",
   "execution_count": 6,
   "id": "64712c76-a6b8-45d3-9ce2-6f332b5b06cc",
   "metadata": {},
   "outputs": [
    {
     "data": {
      "text/plain": [
       "'3dgfxjnkvx^$^$#'"
      ]
     },
     "execution_count": 6,
     "metadata": {},
     "output_type": "execute_result"
    }
   ],
   "source": [
    "s"
   ]
  },
  {
   "cell_type": "code",
   "execution_count": 7,
   "id": "dad91063-cead-4fd5-8f07-5b7c01936d71",
   "metadata": {},
   "outputs": [
    {
     "data": {
      "text/plain": [
       "list"
      ]
     },
     "execution_count": 7,
     "metadata": {},
     "output_type": "execute_result"
    }
   ],
   "source": [
    "type(l1)"
   ]
  },
  {
   "cell_type": "code",
   "execution_count": 8,
   "id": "f79ce5bf-dca1-4ca7-8584-faa135e30e1c",
   "metadata": {},
   "outputs": [
    {
     "data": {
      "text/plain": [
       "[1, 2, 3, 4, 5, 'Amit', 'Raj', (3+6j), True, 45.7, [4, 7, 2, 8, 1]]"
      ]
     },
     "execution_count": 8,
     "metadata": {},
     "output_type": "execute_result"
    }
   ],
   "source": [
    "l1"
   ]
  },
  {
   "cell_type": "code",
   "execution_count": 9,
   "id": "65ba0228-c4ac-45f7-b9c9-ef6b4e8ba412",
   "metadata": {},
   "outputs": [
    {
     "data": {
      "text/plain": [
       "'Amit'"
      ]
     },
     "execution_count": 9,
     "metadata": {},
     "output_type": "execute_result"
    }
   ],
   "source": [
    "l1[5]"
   ]
  },
  {
   "cell_type": "code",
   "execution_count": 10,
   "id": "2cd43836-aeb7-46dc-b504-1d7d54cc1ca5",
   "metadata": {},
   "outputs": [
    {
     "data": {
      "text/plain": [
       "[4, 7, 2, 8, 1]"
      ]
     },
     "execution_count": 10,
     "metadata": {},
     "output_type": "execute_result"
    }
   ],
   "source": [
    "l1[-1]"
   ]
  },
  {
   "cell_type": "code",
   "execution_count": 11,
   "id": "6209a23f-4497-42ad-ab1c-637e3052e1cd",
   "metadata": {},
   "outputs": [
    {
     "data": {
      "text/plain": [
       "1"
      ]
     },
     "execution_count": 11,
     "metadata": {},
     "output_type": "execute_result"
    }
   ],
   "source": [
    "l1[-1][-1]"
   ]
  },
  {
   "cell_type": "code",
   "execution_count": 12,
   "id": "f4d3ac8e-1a9b-4713-8a5d-337a8826809f",
   "metadata": {},
   "outputs": [
    {
     "data": {
      "text/plain": [
       "1"
      ]
     },
     "execution_count": 12,
     "metadata": {},
     "output_type": "execute_result"
    }
   ],
   "source": [
    "l1[-1][4]"
   ]
  },
  {
   "cell_type": "code",
   "execution_count": 13,
   "id": "bcf6c951-0ce8-4561-9d72-18a9f110d165",
   "metadata": {},
   "outputs": [
    {
     "data": {
      "text/plain": [
       "[1, 2, 3, 4, 5]"
      ]
     },
     "execution_count": 13,
     "metadata": {},
     "output_type": "execute_result"
    }
   ],
   "source": [
    "l1[0:5]"
   ]
  },
  {
   "cell_type": "code",
   "execution_count": 14,
   "id": "23c4908b-40db-40fc-9238-ab080acc5fa4",
   "metadata": {},
   "outputs": [],
   "source": [
    "l2 = [3,4,5,\"Pwskills\", \"Amit\"]"
   ]
  },
  {
   "cell_type": "code",
   "execution_count": 15,
   "id": "6658377e-7a32-4a90-abe4-58382a54a2ed",
   "metadata": {},
   "outputs": [
    {
     "data": {
      "text/plain": [
       "[1,\n",
       " 2,\n",
       " 3,\n",
       " 4,\n",
       " 5,\n",
       " 'Amit',\n",
       " 'Raj',\n",
       " (3+6j),\n",
       " True,\n",
       " 45.7,\n",
       " [4, 7, 2, 8, 1],\n",
       " 3,\n",
       " 4,\n",
       " 5,\n",
       " 'Pwskills',\n",
       " 'Amit']"
      ]
     },
     "execution_count": 15,
     "metadata": {},
     "output_type": "execute_result"
    }
   ],
   "source": [
    "l1+l2"
   ]
  },
  {
   "cell_type": "code",
   "execution_count": 17,
   "id": "3b90bd4d-f635-4e63-a4b9-26ad4af4519f",
   "metadata": {},
   "outputs": [
    {
     "ename": "TypeError",
     "evalue": "can only concatenate list (not \"str\") to list",
     "output_type": "error",
     "traceback": [
      "\u001b[0;31m---------------------------------------------------------------------------\u001b[0m",
      "\u001b[0;31mTypeError\u001b[0m                                 Traceback (most recent call last)",
      "Cell \u001b[0;32mIn[17], line 1\u001b[0m\n\u001b[0;32m----> 1\u001b[0m \u001b[43ml2\u001b[49m\u001b[43m \u001b[49m\u001b[38;5;241;43m+\u001b[39;49m\u001b[43m \u001b[49m\u001b[38;5;124;43m\"\u001b[39;49m\u001b[38;5;124;43mAmit\u001b[39;49m\u001b[38;5;124;43m\"\u001b[39;49m   \u001b[38;5;66;03m#both should be in same data type\u001b[39;00m\n",
      "\u001b[0;31mTypeError\u001b[0m: can only concatenate list (not \"str\") to list"
     ]
    }
   ],
   "source": [
    "l2 + \"Amit\"   #both should be in same data type"
   ]
  },
  {
   "cell_type": "code",
   "execution_count": 18,
   "id": "b2e508f8-7597-45bd-9128-d66bde86f031",
   "metadata": {},
   "outputs": [
    {
     "data": {
      "text/plain": [
       "['A', 'm', 'i', 't']"
      ]
     },
     "execution_count": 18,
     "metadata": {},
     "output_type": "execute_result"
    }
   ],
   "source": [
    "list(\"Amit\")   #list required always string, and it split the string"
   ]
  },
  {
   "cell_type": "code",
   "execution_count": 19,
   "id": "95d6e75c-7c05-4df8-a4bc-845359917ffb",
   "metadata": {},
   "outputs": [
    {
     "ename": "TypeError",
     "evalue": "'int' object is not iterable",
     "output_type": "error",
     "traceback": [
      "\u001b[0;31m---------------------------------------------------------------------------\u001b[0m",
      "\u001b[0;31mTypeError\u001b[0m                                 Traceback (most recent call last)",
      "Cell \u001b[0;32mIn[19], line 1\u001b[0m\n\u001b[0;32m----> 1\u001b[0m \u001b[38;5;28;43mlist\u001b[39;49m\u001b[43m(\u001b[49m\u001b[38;5;241;43m234\u001b[39;49m\u001b[43m)\u001b[49m  \u001b[38;5;66;03m#list work over string only not integer\u001b[39;00m\n",
      "\u001b[0;31mTypeError\u001b[0m: 'int' object is not iterable"
     ]
    }
   ],
   "source": [
    "list(234)  #list work over string only not integer"
   ]
  },
  {
   "cell_type": "code",
   "execution_count": 20,
   "id": "ae868ebd-4f96-49de-b7bc-0f0e0762b528",
   "metadata": {},
   "outputs": [
    {
     "data": {
      "text/plain": [
       "[3, 4, 5, 'Pwskills', 'Amit', 3, 4, 5, 'Pwskills', 'Amit']"
      ]
     },
     "execution_count": 20,
     "metadata": {},
     "output_type": "execute_result"
    }
   ],
   "source": [
    "l2*2  #repeat the same data"
   ]
  },
  {
   "cell_type": "code",
   "execution_count": 21,
   "id": "831a8e65-f5ad-4a2d-8319-9e5aa3f94f81",
   "metadata": {},
   "outputs": [
    {
     "data": {
      "text/plain": [
       "3"
      ]
     },
     "execution_count": 21,
     "metadata": {},
     "output_type": "execute_result"
    }
   ],
   "source": [
    "l2[0]"
   ]
  },
  {
   "cell_type": "code",
   "execution_count": 22,
   "id": "f8418d94-ace1-4ade-8493-4856fcab4a44",
   "metadata": {},
   "outputs": [],
   "source": [
    "l2[0] = 300"
   ]
  },
  {
   "cell_type": "code",
   "execution_count": 23,
   "id": "042ad9fb-9f41-4f03-8399-0760e5be4359",
   "metadata": {},
   "outputs": [
    {
     "data": {
      "text/plain": [
       "[300, 4, 5, 'Pwskills', 'Amit']"
      ]
     },
     "execution_count": 23,
     "metadata": {},
     "output_type": "execute_result"
    }
   ],
   "source": [
    "l2"
   ]
  },
  {
   "cell_type": "code",
   "execution_count": null,
   "id": "ef23e6c7-78bb-4cb3-a716-486674ab7edb",
   "metadata": {},
   "outputs": [],
   "source": []
  },
  {
   "cell_type": "markdown",
   "id": "604f49a5-5d07-4923-8912-f30202e6a3d3",
   "metadata": {},
   "source": [
    "Tuples--> Immutable  using parenthesis\n",
    "Concatenation is possible with same data type\n",
    "Tuple to list conversion possible"
   ]
  },
  {
   "cell_type": "code",
   "execution_count": 24,
   "id": "7acbf803-88f9-4f9a-9615-ee4c7bcbb482",
   "metadata": {},
   "outputs": [],
   "source": [
    "t = (1,2,3,4,\"Amit\", \"Pwskills\", 4+5j, True, 54.5)"
   ]
  },
  {
   "cell_type": "code",
   "execution_count": 25,
   "id": "93178168-7189-480f-b4f8-b1499b84d1a6",
   "metadata": {},
   "outputs": [
    {
     "data": {
      "text/plain": [
       "(1, 2, 3, 4, 'Amit', 'Pwskills', (4+5j), True, 54.5)"
      ]
     },
     "execution_count": 25,
     "metadata": {},
     "output_type": "execute_result"
    }
   ],
   "source": [
    "t"
   ]
  },
  {
   "cell_type": "code",
   "execution_count": 26,
   "id": "cdfe57b3-8f87-4b84-b247-a534c6f99883",
   "metadata": {},
   "outputs": [
    {
     "data": {
      "text/plain": [
       "tuple"
      ]
     },
     "execution_count": 26,
     "metadata": {},
     "output_type": "execute_result"
    }
   ],
   "source": [
    "type(t)"
   ]
  },
  {
   "cell_type": "code",
   "execution_count": 27,
   "id": "b4624b5f-1e70-400a-bb85-d5a6be2ccd13",
   "metadata": {},
   "outputs": [
    {
     "data": {
      "text/plain": [
       "1"
      ]
     },
     "execution_count": 27,
     "metadata": {},
     "output_type": "execute_result"
    }
   ],
   "source": [
    "t[0]"
   ]
  },
  {
   "cell_type": "code",
   "execution_count": 28,
   "id": "138869d7-7ef3-41ef-b324-174cd6821689",
   "metadata": {},
   "outputs": [
    {
     "data": {
      "text/plain": [
       "54.5"
      ]
     },
     "execution_count": 28,
     "metadata": {},
     "output_type": "execute_result"
    }
   ],
   "source": [
    "t[-1]"
   ]
  },
  {
   "cell_type": "code",
   "execution_count": 29,
   "id": "2f3c37af-0989-4f8b-a8ee-33b6ac5966fb",
   "metadata": {},
   "outputs": [
    {
     "data": {
      "text/plain": [
       "(54.5, True, (4+5j), 'Pwskills', 'Amit', 4, 3, 2, 1)"
      ]
     },
     "execution_count": 29,
     "metadata": {},
     "output_type": "execute_result"
    }
   ],
   "source": [
    "t[::-1]"
   ]
  },
  {
   "cell_type": "code",
   "execution_count": 30,
   "id": "9991ee00-a221-4841-93ac-5ba3e3a2d3e0",
   "metadata": {},
   "outputs": [
    {
     "data": {
      "text/plain": [
       "1"
      ]
     },
     "execution_count": 30,
     "metadata": {},
     "output_type": "execute_result"
    }
   ],
   "source": [
    "t[0]"
   ]
  },
  {
   "cell_type": "code",
   "execution_count": 31,
   "id": "8eebfbc1-bf8e-450c-a447-858e2d1dcfd2",
   "metadata": {},
   "outputs": [
    {
     "ename": "TypeError",
     "evalue": "'tuple' object does not support item assignment",
     "output_type": "error",
     "traceback": [
      "\u001b[0;31m---------------------------------------------------------------------------\u001b[0m",
      "\u001b[0;31mTypeError\u001b[0m                                 Traceback (most recent call last)",
      "Cell \u001b[0;32mIn[31], line 1\u001b[0m\n\u001b[0;32m----> 1\u001b[0m \u001b[43mt\u001b[49m\u001b[43m[\u001b[49m\u001b[38;5;241;43m0\u001b[39;49m\u001b[43m]\u001b[49m \u001b[38;5;241m=\u001b[39m \u001b[38;5;124m\"\u001b[39m\u001b[38;5;124mRaj\u001b[39m\u001b[38;5;124m\"\u001b[39m  \u001b[38;5;66;03m#Can't re-assign the value---Immutable\u001b[39;00m\n",
      "\u001b[0;31mTypeError\u001b[0m: 'tuple' object does not support item assignment"
     ]
    }
   ],
   "source": [
    "t[0] = \"Raj\"  #Can't re-assign the value---Immutable"
   ]
  },
  {
   "cell_type": "code",
   "execution_count": 32,
   "id": "8783b1cc-0880-4542-b63c-2bf6e9586597",
   "metadata": {},
   "outputs": [],
   "source": [
    "t1 = (5,6,7,8,9)"
   ]
  },
  {
   "cell_type": "code",
   "execution_count": 33,
   "id": "bf4770e6-6155-40d4-9b45-5c4302646031",
   "metadata": {},
   "outputs": [
    {
     "data": {
      "text/plain": [
       "(1, 2, 3, 4, 'Amit', 'Pwskills', (4+5j), True, 54.5)"
      ]
     },
     "execution_count": 33,
     "metadata": {},
     "output_type": "execute_result"
    }
   ],
   "source": [
    "t"
   ]
  },
  {
   "cell_type": "code",
   "execution_count": 34,
   "id": "e7019b8e-ab71-47af-8028-552873a77d36",
   "metadata": {},
   "outputs": [
    {
     "data": {
      "text/plain": [
       "(1, 2, 3, 4, 'Amit', 'Pwskills', (4+5j), True, 54.5, 5, 6, 7, 8, 9)"
      ]
     },
     "execution_count": 34,
     "metadata": {},
     "output_type": "execute_result"
    }
   ],
   "source": [
    "t+t1"
   ]
  },
  {
   "cell_type": "code",
   "execution_count": 35,
   "id": "3adcc904-1d86-47ae-a1bc-a276d51cd75d",
   "metadata": {},
   "outputs": [
    {
     "data": {
      "text/plain": [
       "(1,\n",
       " 2,\n",
       " 3,\n",
       " 4,\n",
       " 'Amit',\n",
       " 'Pwskills',\n",
       " (4+5j),\n",
       " True,\n",
       " 54.5,\n",
       " 1,\n",
       " 2,\n",
       " 3,\n",
       " 4,\n",
       " 'Amit',\n",
       " 'Pwskills',\n",
       " (4+5j),\n",
       " True,\n",
       " 54.5)"
      ]
     },
     "execution_count": 35,
     "metadata": {},
     "output_type": "execute_result"
    }
   ],
   "source": [
    "t*2"
   ]
  },
  {
   "cell_type": "code",
   "execution_count": 36,
   "id": "8c0c8545-4fe8-40da-b2a0-d4db76cd34d9",
   "metadata": {},
   "outputs": [
    {
     "data": {
      "text/plain": [
       "(1, 2, 3, 4, 'Amit', 'Pwskills', (4+5j), True, 54.5)"
      ]
     },
     "execution_count": 36,
     "metadata": {},
     "output_type": "execute_result"
    }
   ],
   "source": [
    "t"
   ]
  },
  {
   "cell_type": "code",
   "execution_count": 37,
   "id": "bf60f581-f700-4d46-9187-739b8b65e9e1",
   "metadata": {},
   "outputs": [
    {
     "data": {
      "text/plain": [
       "[1, 2, 3, 4, 'Amit', 'Pwskills', (4+5j), True, 54.5]"
      ]
     },
     "execution_count": 37,
     "metadata": {},
     "output_type": "execute_result"
    }
   ],
   "source": [
    "list(t)"
   ]
  },
  {
   "cell_type": "code",
   "execution_count": 38,
   "id": "83384ed3-f05a-4746-9316-5b00ecb99238",
   "metadata": {},
   "outputs": [
    {
     "data": {
      "text/plain": [
       "[300, 4, 5, 'Pwskills', 'Amit']"
      ]
     },
     "execution_count": 38,
     "metadata": {},
     "output_type": "execute_result"
    }
   ],
   "source": [
    "l2"
   ]
  },
  {
   "cell_type": "code",
   "execution_count": 39,
   "id": "d581c8d4-e31b-41a1-807c-8e33900c63cb",
   "metadata": {},
   "outputs": [
    {
     "data": {
      "text/plain": [
       "(300, 4, 5, 'Pwskills', 'Amit')"
      ]
     },
     "execution_count": 39,
     "metadata": {},
     "output_type": "execute_result"
    }
   ],
   "source": [
    "tuple(l2)"
   ]
  },
  {
   "cell_type": "code",
   "execution_count": 40,
   "id": "81e3227b-99fb-4d08-bcae-66e877be0e83",
   "metadata": {},
   "outputs": [
    {
     "data": {
      "text/plain": [
       "9"
      ]
     },
     "execution_count": 40,
     "metadata": {},
     "output_type": "execute_result"
    }
   ],
   "source": [
    "len(t)"
   ]
  },
  {
   "cell_type": "code",
   "execution_count": 41,
   "id": "881ddf4b-2c8e-4f51-970b-3475945c9e1c",
   "metadata": {},
   "outputs": [
    {
     "data": {
      "text/plain": [
       "12"
      ]
     },
     "execution_count": 41,
     "metadata": {},
     "output_type": "execute_result"
    }
   ],
   "source": [
    "len(\"Amit      Ra\")"
   ]
  },
  {
   "cell_type": "code",
   "execution_count": 42,
   "id": "06adad40-d31b-4656-8654-f2daa19e14d1",
   "metadata": {},
   "outputs": [
    {
     "data": {
      "text/plain": [
       "[1, 2, 3, 4, 5, 'Amit', 'Raj', (3+6j), True, 45.7, [4, 7, 2, 8, 1]]"
      ]
     },
     "execution_count": 42,
     "metadata": {},
     "output_type": "execute_result"
    }
   ],
   "source": [
    "l1"
   ]
  },
  {
   "cell_type": "markdown",
   "id": "0bbcdcc3-fd4c-40a1-b28c-6520666ef234",
   "metadata": {},
   "source": [
    "SET -- Another collection of data\n",
    "s = {} - curly braces\n",
    "give unique value only"
   ]
  },
  {
   "cell_type": "markdown",
   "id": "8b3c9d0e-20c1-4eb1-b8ba-3939a0da9449",
   "metadata": {},
   "source": [
    "In SET no concept of mutability and immutability"
   ]
  },
  {
   "cell_type": "markdown",
   "id": "c86005a3-4fb2-4af5-863c-2c364039def1",
   "metadata": {},
   "source": [
    "SET never support slicing and indexing"
   ]
  },
  {
   "cell_type": "code",
   "execution_count": 43,
   "id": "029fd322-8078-4824-a9a0-fa7414537d9c",
   "metadata": {},
   "outputs": [],
   "source": [
    "s = {}   "
   ]
  },
  {
   "cell_type": "code",
   "execution_count": 44,
   "id": "172a1fc7-0b83-40b8-9203-a1c43936e927",
   "metadata": {},
   "outputs": [
    {
     "data": {
      "text/plain": [
       "dict"
      ]
     },
     "execution_count": 44,
     "metadata": {},
     "output_type": "execute_result"
    }
   ],
   "source": [
    "type(s)"
   ]
  },
  {
   "cell_type": "code",
   "execution_count": 45,
   "id": "b6bbd05b-cb65-4a2b-b7aa-42f5a83ee274",
   "metadata": {},
   "outputs": [],
   "source": [
    "s1 = {1,2,3,4,5,6,6,7,7}"
   ]
  },
  {
   "cell_type": "code",
   "execution_count": 46,
   "id": "02e67070-33d9-4d68-873a-b7bf1e9fdeb8",
   "metadata": {},
   "outputs": [
    {
     "data": {
      "text/plain": [
       "set"
      ]
     },
     "execution_count": 46,
     "metadata": {},
     "output_type": "execute_result"
    }
   ],
   "source": [
    "type(s1)"
   ]
  },
  {
   "cell_type": "code",
   "execution_count": 47,
   "id": "cbb67ae6-5d0b-4cbb-b09c-563c601db1db",
   "metadata": {},
   "outputs": [
    {
     "data": {
      "text/plain": [
       "{1, 2, 3, 4, 5, 6, 7}"
      ]
     },
     "execution_count": 47,
     "metadata": {},
     "output_type": "execute_result"
    }
   ],
   "source": [
    "s1"
   ]
  },
  {
   "cell_type": "code",
   "execution_count": 48,
   "id": "03b84752-1c64-42c3-ae00-aa8973a38764",
   "metadata": {},
   "outputs": [],
   "source": [
    "s2 = {\"Amit\",\"Amit\",\"aamit\",1,2,3,4,5,6,5,4,3,2,1}"
   ]
  },
  {
   "cell_type": "code",
   "execution_count": 49,
   "id": "ff4f1128-8117-443d-9015-82bdc7a13675",
   "metadata": {},
   "outputs": [
    {
     "data": {
      "text/plain": [
       "{1, 2, 3, 4, 5, 6, 'Amit', 'aamit'}"
      ]
     },
     "execution_count": 49,
     "metadata": {},
     "output_type": "execute_result"
    }
   ],
   "source": [
    "s2"
   ]
  },
  {
   "cell_type": "code",
   "execution_count": 50,
   "id": "8d3611a6-3c69-486e-937b-3a36a27d49ca",
   "metadata": {},
   "outputs": [
    {
     "data": {
      "text/plain": [
       "['aamit', 1, 2, 3, 4, 5, 6, 'Amit']"
      ]
     },
     "execution_count": 50,
     "metadata": {},
     "output_type": "execute_result"
    }
   ],
   "source": [
    "list(s2)  #typecasting"
   ]
  },
  {
   "cell_type": "code",
   "execution_count": 51,
   "id": "236b372b-50d8-41e1-880f-0980486271c0",
   "metadata": {},
   "outputs": [
    {
     "data": {
      "text/plain": [
       "{300, 4, 5, 'Amit', 'Pwskills'}"
      ]
     },
     "execution_count": 51,
     "metadata": {},
     "output_type": "execute_result"
    }
   ],
   "source": [
    "set(l2)  #typecasting"
   ]
  },
  {
   "cell_type": "code",
   "execution_count": 52,
   "id": "0706f1f2-904f-448c-b7ce-e59bfe5c11f4",
   "metadata": {},
   "outputs": [
    {
     "ename": "TypeError",
     "evalue": "unhashable type: 'list'",
     "output_type": "error",
     "traceback": [
      "\u001b[0;31m---------------------------------------------------------------------------\u001b[0m",
      "\u001b[0;31mTypeError\u001b[0m                                 Traceback (most recent call last)",
      "Cell \u001b[0;32mIn[52], line 1\u001b[0m\n\u001b[0;32m----> 1\u001b[0m \u001b[38;5;28;43mset\u001b[39;49m\u001b[43m(\u001b[49m\u001b[43ml1\u001b[49m\u001b[43m)\u001b[49m  \u001b[38;5;66;03m#l1 having list of list, so give us error\u001b[39;00m\n\u001b[1;32m      2\u001b[0m \u001b[38;5;66;03m#not able to create unique hashing\u001b[39;00m\n",
      "\u001b[0;31mTypeError\u001b[0m: unhashable type: 'list'"
     ]
    }
   ],
   "source": [
    "set(l1)  #l1 having list of list, so give us error\n",
    "#not able to create unique hashing"
   ]
  },
  {
   "cell_type": "code",
   "execution_count": 53,
   "id": "b3bea303-db08-4407-b9c3-1638041c922c",
   "metadata": {},
   "outputs": [
    {
     "data": {
      "text/plain": [
       "{1, 2, 3, 4, 5, 6, 'Amit', 'aamit'}"
      ]
     },
     "execution_count": 53,
     "metadata": {},
     "output_type": "execute_result"
    }
   ],
   "source": [
    "s2"
   ]
  },
  {
   "cell_type": "code",
   "execution_count": 54,
   "id": "cae5830f-8bc9-4c13-88e4-df627db74d3e",
   "metadata": {},
   "outputs": [
    {
     "ename": "TypeError",
     "evalue": "'set' object is not subscriptable",
     "output_type": "error",
     "traceback": [
      "\u001b[0;31m---------------------------------------------------------------------------\u001b[0m",
      "\u001b[0;31mTypeError\u001b[0m                                 Traceback (most recent call last)",
      "Cell \u001b[0;32mIn[54], line 1\u001b[0m\n\u001b[0;32m----> 1\u001b[0m \u001b[43ms2\u001b[49m\u001b[43m[\u001b[49m\u001b[38;5;241;43m0\u001b[39;49m\u001b[43m]\u001b[49m  \u001b[38;5;66;03m#not able to do indexing in set, but we can typecast it and then do indexing\u001b[39;00m\n",
      "\u001b[0;31mTypeError\u001b[0m: 'set' object is not subscriptable"
     ]
    }
   ],
   "source": [
    "s2[0]  #not able to do indexing in set, but we can typecast it and then do indexing"
   ]
  },
  {
   "cell_type": "markdown",
   "id": "7e2c9cfa-63e3-4de4-8805-202d14194cac",
   "metadata": {},
   "source": [
    "SET never sort the data, and it is neither mutable nor immutable"
   ]
  },
  {
   "cell_type": "markdown",
   "id": "2dd12400-58ff-48eb-af4e-9f64ac50ef6a",
   "metadata": {},
   "source": [
    "DICTIONARY data type\n",
    "Ket Value Pair"
   ]
  },
  {
   "cell_type": "code",
   "execution_count": 55,
   "id": "c3dd0d8c-c67f-4649-b13b-de3abf7ac822",
   "metadata": {},
   "outputs": [],
   "source": [
    "d = {}"
   ]
  },
  {
   "cell_type": "code",
   "execution_count": 56,
   "id": "fa357e3e-ac21-4869-8515-65ec650df654",
   "metadata": {},
   "outputs": [
    {
     "data": {
      "text/plain": [
       "dict"
      ]
     },
     "execution_count": 56,
     "metadata": {},
     "output_type": "execute_result"
    }
   ],
   "source": [
    "type(d)"
   ]
  },
  {
   "cell_type": "code",
   "execution_count": 57,
   "id": "e35522ed-8bae-4fe6-a563-0309fbd3cbb7",
   "metadata": {},
   "outputs": [],
   "source": [
    "d1 = {'name' : \"Amit\", \"Subject\" : [\"DS\", \"Big Data\", \"Data Analytics\"], \"number\" : 5898034}"
   ]
  },
  {
   "cell_type": "code",
   "execution_count": 58,
   "id": "8721859a-aaa0-4afe-aecb-29b7e1d719c3",
   "metadata": {},
   "outputs": [
    {
     "data": {
      "text/plain": [
       "{'name': 'Amit',\n",
       " 'Subject': ['DS', 'Big Data', 'Data Analytics'],\n",
       " 'number': 5898034}"
      ]
     },
     "execution_count": 58,
     "metadata": {},
     "output_type": "execute_result"
    }
   ],
   "source": [
    "d1"
   ]
  },
  {
   "cell_type": "code",
   "execution_count": 59,
   "id": "70901126-831e-4a3f-93d0-30ea6e424c24",
   "metadata": {},
   "outputs": [],
   "source": [
    "d2 = {\"name\": \"Amit\",\"name\": \"Raj\"}"
   ]
  },
  {
   "cell_type": "code",
   "execution_count": 60,
   "id": "7608ba88-554a-4e71-b884-2b4083336ff5",
   "metadata": {},
   "outputs": [
    {
     "data": {
      "text/plain": [
       "{'name': 'Raj'}"
      ]
     },
     "execution_count": 60,
     "metadata": {},
     "output_type": "execute_result"
    }
   ],
   "source": [
    "d2  #if key is not  unique, then value will be considered latest wala"
   ]
  },
  {
   "cell_type": "code",
   "execution_count": 61,
   "id": "bc60585d-30d3-4fb3-b734-903762d659d0",
   "metadata": {},
   "outputs": [],
   "source": [
    "d3 = {233: \"AMit\"}"
   ]
  },
  {
   "cell_type": "code",
   "execution_count": 62,
   "id": "d568b8da-633f-464d-8402-03f6a18129a2",
   "metadata": {},
   "outputs": [
    {
     "data": {
      "text/plain": [
       "{233: 'AMit'}"
      ]
     },
     "execution_count": 62,
     "metadata": {},
     "output_type": "execute_result"
    }
   ],
   "source": [
    "d3"
   ]
  },
  {
   "cell_type": "code",
   "execution_count": 63,
   "id": "723d093d-4399-468b-9f71-7298810293b6",
   "metadata": {},
   "outputs": [
    {
     "ename": "TypeError",
     "evalue": "unhashable type: 'list'",
     "output_type": "error",
     "traceback": [
      "\u001b[0;31m---------------------------------------------------------------------------\u001b[0m",
      "\u001b[0;31mTypeError\u001b[0m                                 Traceback (most recent call last)",
      "Cell \u001b[0;32mIn[63], line 1\u001b[0m\n\u001b[0;32m----> 1\u001b[0m d4 \u001b[38;5;241m=\u001b[39m {[\u001b[38;5;241m1\u001b[39m,\u001b[38;5;241m2\u001b[39m,\u001b[38;5;241m3\u001b[39m,\u001b[38;5;241m4\u001b[39m] : \u001b[38;5;124m\"\u001b[39m\u001b[38;5;124mAmit\u001b[39m\u001b[38;5;124m\"\u001b[39m}  \u001b[38;5;66;03m#key as a list not considerable\u001b[39;00m\n",
      "\u001b[0;31mTypeError\u001b[0m: unhashable type: 'list'"
     ]
    }
   ],
   "source": [
    "d4 = {[1,2,3,4] : \"Amit\"}  #key as a list not considerable"
   ]
  },
  {
   "cell_type": "code",
   "execution_count": 64,
   "id": "2be12335-5c8e-48e0-8008-11b73563beca",
   "metadata": {},
   "outputs": [
    {
     "ename": "TypeError",
     "evalue": "unhashable type: 'set'",
     "output_type": "error",
     "traceback": [
      "\u001b[0;31m---------------------------------------------------------------------------\u001b[0m",
      "\u001b[0;31mTypeError\u001b[0m                                 Traceback (most recent call last)",
      "Cell \u001b[0;32mIn[64], line 1\u001b[0m\n\u001b[0;32m----> 1\u001b[0m d5 \u001b[38;5;241m=\u001b[39m {{\u001b[38;5;241m1\u001b[39m,\u001b[38;5;241m2\u001b[39m,\u001b[38;5;241m3\u001b[39m,\u001b[38;5;241m4\u001b[39m} : \u001b[38;5;124m\"\u001b[39m\u001b[38;5;124mAMit\u001b[39m\u001b[38;5;124m\"\u001b[39m} \u001b[38;5;66;03m#set as a key not possible\u001b[39;00m\n",
      "\u001b[0;31mTypeError\u001b[0m: unhashable type: 'set'"
     ]
    }
   ],
   "source": [
    "d5 = {{1,2,3,4} : \"AMit\"} #set as a key not possible"
   ]
  },
  {
   "cell_type": "code",
   "execution_count": 65,
   "id": "1391e5d8-bb01-44d3-8636-7604484a560e",
   "metadata": {},
   "outputs": [],
   "source": [
    "d6 = {(1,2,3,4) : \"AMit\"}  #Key as a tuple possible"
   ]
  },
  {
   "cell_type": "code",
   "execution_count": 66,
   "id": "b5f4b868-d9de-457b-9d67-e2126e3c710a",
   "metadata": {},
   "outputs": [
    {
     "data": {
      "text/plain": [
       "{(1, 2, 3, 4): 'AMit'}"
      ]
     },
     "execution_count": 66,
     "metadata": {},
     "output_type": "execute_result"
    }
   ],
   "source": [
    "d6"
   ]
  },
  {
   "cell_type": "markdown",
   "id": "d63a5922-d455-47c1-8c53-277989f2c123",
   "metadata": {},
   "source": [
    "int,string, tuple allowed as a key in dictionary"
   ]
  },
  {
   "cell_type": "markdown",
   "id": "195320ba-d8a0-41fe-b7d9-46ad13b30563",
   "metadata": {},
   "source": [
    "specialcharacter not alloed as a key in dictionary"
   ]
  },
  {
   "cell_type": "code",
   "execution_count": 67,
   "id": "e74b4375-438c-4894-9f37-8f435b3af983",
   "metadata": {},
   "outputs": [],
   "source": [
    "d7 = {'course' : ['dsa', 'java','webdev','blockchain', 'cloud'], 'mentor': ('sudh', 'naik','vishwa','sunny'), 'price': {3000,400,5000,60000}, 'duration' : 1, 'acesss year' : 1, 'syllabus' : {'python' : ['core python', 'oops', 'pandas', 'numpy', 'db', 'mongodb'], 'ml' : ['supervised', 'unsupervised','reinforcement']}}"
   ]
  },
  {
   "cell_type": "code",
   "execution_count": 68,
   "id": "b699bd6a-c91f-4d2e-b1d2-16690e98ec66",
   "metadata": {},
   "outputs": [
    {
     "data": {
      "text/plain": [
       "{'course': ['dsa', 'java', 'webdev', 'blockchain', 'cloud'],\n",
       " 'mentor': ('sudh', 'naik', 'vishwa', 'sunny'),\n",
       " 'price': {400, 3000, 5000, 60000},\n",
       " 'duration': 1,\n",
       " 'acesss year': 1,\n",
       " 'syllabus': {'python': ['core python',\n",
       "   'oops',\n",
       "   'pandas',\n",
       "   'numpy',\n",
       "   'db',\n",
       "   'mongodb'],\n",
       "  'ml': ['supervised', 'unsupervised', 'reinforcement']}}"
      ]
     },
     "execution_count": 68,
     "metadata": {},
     "output_type": "execute_result"
    }
   ],
   "source": [
    "d7"
   ]
  },
  {
   "cell_type": "code",
   "execution_count": 69,
   "id": "7fbbc61b-e5b7-4190-af9a-daf05ae6d266",
   "metadata": {},
   "outputs": [
    {
     "data": {
      "text/plain": [
       "['dsa', 'java', 'webdev', 'blockchain', 'cloud']"
      ]
     },
     "execution_count": 69,
     "metadata": {},
     "output_type": "execute_result"
    }
   ],
   "source": [
    "d7['course']"
   ]
  },
  {
   "cell_type": "code",
   "execution_count": 70,
   "id": "ef63de10-408b-4c4a-a42c-32787e443909",
   "metadata": {},
   "outputs": [
    {
     "data": {
      "text/plain": [
       "('sudh', 'naik', 'vishwa', 'sunny')"
      ]
     },
     "execution_count": 70,
     "metadata": {},
     "output_type": "execute_result"
    }
   ],
   "source": [
    "d7['mentor']"
   ]
  },
  {
   "cell_type": "code",
   "execution_count": 71,
   "id": "c179fdd7-18fd-41e3-919e-d4e53c63c2f9",
   "metadata": {},
   "outputs": [
    {
     "data": {
      "text/plain": [
       "{400, 3000, 5000, 60000}"
      ]
     },
     "execution_count": 71,
     "metadata": {},
     "output_type": "execute_result"
    }
   ],
   "source": [
    "d7['price']"
   ]
  },
  {
   "cell_type": "code",
   "execution_count": 72,
   "id": "833389ac-1eeb-46c3-adb9-416ad81e8da8",
   "metadata": {},
   "outputs": [
    {
     "data": {
      "text/plain": [
       "{'python': ['core python', 'oops', 'pandas', 'numpy', 'db', 'mongodb'],\n",
       " 'ml': ['supervised', 'unsupervised', 'reinforcement']}"
      ]
     },
     "execution_count": 72,
     "metadata": {},
     "output_type": "execute_result"
    }
   ],
   "source": [
    "d7['syllabus']"
   ]
  },
  {
   "cell_type": "code",
   "execution_count": 73,
   "id": "647970f6-a659-486a-b73d-574b48c2f5f3",
   "metadata": {},
   "outputs": [
    {
     "data": {
      "text/plain": [
       "{'name': 'Raj'}"
      ]
     },
     "execution_count": 73,
     "metadata": {},
     "output_type": "execute_result"
    }
   ],
   "source": [
    "d2"
   ]
  },
  {
   "cell_type": "code",
   "execution_count": 74,
   "id": "bcb202da-643a-45df-85a3-9dbe0a860816",
   "metadata": {},
   "outputs": [],
   "source": [
    "d2['phone number'] = 784520265"
   ]
  },
  {
   "cell_type": "code",
   "execution_count": 75,
   "id": "db8c44ac-105a-45c6-aaae-3bc72b4844aa",
   "metadata": {},
   "outputs": [
    {
     "data": {
      "text/plain": [
       "{'name': 'Raj', 'phone number': 784520265}"
      ]
     },
     "execution_count": 75,
     "metadata": {},
     "output_type": "execute_result"
    }
   ],
   "source": [
    "d2"
   ]
  },
  {
   "cell_type": "code",
   "execution_count": 76,
   "id": "13b2895c-9163-4031-8930-12abda2abf8d",
   "metadata": {},
   "outputs": [],
   "source": [
    "d2['name'] = \"Aashu\""
   ]
  },
  {
   "cell_type": "code",
   "execution_count": 77,
   "id": "bf7d47ef-3ee1-4e3c-970d-4d884e430bc3",
   "metadata": {},
   "outputs": [
    {
     "data": {
      "text/plain": [
       "{'name': 'Aashu', 'phone number': 784520265}"
      ]
     },
     "execution_count": 77,
     "metadata": {},
     "output_type": "execute_result"
    }
   ],
   "source": [
    "d2"
   ]
  },
  {
   "cell_type": "markdown",
   "id": "c11f39b8-88e5-4927-8722-37b953f4ced0",
   "metadata": {},
   "source": [
    "Dictionary is mutable intentity"
   ]
  },
  {
   "cell_type": "markdown",
   "id": "cdadc6aa-fb10-4f48-90f3-76054912aff0",
   "metadata": {},
   "source": [
    "keep unique Key in dictionary"
   ]
  },
  {
   "cell_type": "code",
   "execution_count": null,
   "id": "335b3a68-3087-44e2-a574-1be21d6b4dbd",
   "metadata": {},
   "outputs": [],
   "source": []
  },
  {
   "cell_type": "markdown",
   "id": "1a1e721d-4941-498c-8797-a67e784acf3b",
   "metadata": {},
   "source": [
    "Inbuilt Function"
   ]
  },
  {
   "cell_type": "code",
   "execution_count": 78,
   "id": "80317c43-67d1-49d4-8460-65240677f79c",
   "metadata": {},
   "outputs": [],
   "source": [
    "s1 = \"Pwskills\""
   ]
  },
  {
   "cell_type": "code",
   "execution_count": 79,
   "id": "de5dbdfc-d204-4ef1-8261-80ac73371264",
   "metadata": {},
   "outputs": [
    {
     "data": {
      "text/plain": [
       "'Pwskills'"
      ]
     },
     "execution_count": 79,
     "metadata": {},
     "output_type": "execute_result"
    }
   ],
   "source": [
    "s1.capitalize()"
   ]
  },
  {
   "cell_type": "code",
   "execution_count": 80,
   "id": "7215a7db-8350-4181-85a1-97a1febb838a",
   "metadata": {},
   "outputs": [
    {
     "data": {
      "text/plain": [
       "2"
      ]
     },
     "execution_count": 80,
     "metadata": {},
     "output_type": "execute_result"
    }
   ],
   "source": [
    "s1.count('l')"
   ]
  },
  {
   "cell_type": "markdown",
   "id": "041374db-e24b-4f30-bbfa-5deea1020cc8",
   "metadata": {},
   "source": [
    "To know the function, after dot click on 'Tab'\n",
    "To know about the function, inside the bracket click 'shift+tab'"
   ]
  },
  {
   "cell_type": "code",
   "execution_count": 81,
   "id": "d3dd2c0f-a854-4322-a9ab-a7223ec4d607",
   "metadata": {},
   "outputs": [
    {
     "data": {
      "text/plain": [
       "'PWSKILLS'"
      ]
     },
     "execution_count": 81,
     "metadata": {},
     "output_type": "execute_result"
    }
   ],
   "source": [
    "s1.upper()"
   ]
  },
  {
   "cell_type": "code",
   "execution_count": 82,
   "id": "639a6b8d-98b0-4e26-8230-6db9c1125474",
   "metadata": {},
   "outputs": [
    {
     "data": {
      "text/plain": [
       "2"
      ]
     },
     "execution_count": 82,
     "metadata": {},
     "output_type": "execute_result"
    }
   ],
   "source": [
    "s1.find('s')  #give the lowest index of that string"
   ]
  },
  {
   "cell_type": "code",
   "execution_count": 83,
   "id": "dfc46ffa-48d9-4759-8239-5ff1c40149c0",
   "metadata": {},
   "outputs": [
    {
     "data": {
      "text/plain": [
       "0"
      ]
     },
     "execution_count": 83,
     "metadata": {},
     "output_type": "execute_result"
    }
   ],
   "source": [
    "s1.index('P')"
   ]
  },
  {
   "cell_type": "code",
   "execution_count": 84,
   "id": "7b2fe783-d578-416f-8965-79c806ddda4b",
   "metadata": {},
   "outputs": [
    {
     "data": {
      "text/plain": [
       "-1"
      ]
     },
     "execution_count": 84,
     "metadata": {},
     "output_type": "execute_result"
    }
   ],
   "source": [
    "s1.find('z')  #gives negative value not found in find function"
   ]
  },
  {
   "cell_type": "code",
   "execution_count": 85,
   "id": "bc392330-dd84-4703-9f03-f71df78cbdc6",
   "metadata": {},
   "outputs": [
    {
     "ename": "ValueError",
     "evalue": "substring not found",
     "output_type": "error",
     "traceback": [
      "\u001b[0;31m---------------------------------------------------------------------------\u001b[0m",
      "\u001b[0;31mValueError\u001b[0m                                Traceback (most recent call last)",
      "Cell \u001b[0;32mIn[85], line 1\u001b[0m\n\u001b[0;32m----> 1\u001b[0m \u001b[43ms1\u001b[49m\u001b[38;5;241;43m.\u001b[39;49m\u001b[43mindex\u001b[49m\u001b[43m(\u001b[49m\u001b[38;5;124;43m'\u001b[39;49m\u001b[38;5;124;43mz\u001b[39;49m\u001b[38;5;124;43m'\u001b[39;49m\u001b[43m)\u001b[49m  \u001b[38;5;66;03m#gives error if not found in index function\u001b[39;00m\n",
      "\u001b[0;31mValueError\u001b[0m: substring not found"
     ]
    }
   ],
   "source": [
    "s1.index('z')  #gives error if not found in index function"
   ]
  },
  {
   "cell_type": "code",
   "execution_count": 86,
   "id": "1321c405-84e8-438f-8df5-be512206811e",
   "metadata": {},
   "outputs": [
    {
     "data": {
      "text/plain": [
       "'pwskills'"
      ]
     },
     "execution_count": 86,
     "metadata": {},
     "output_type": "execute_result"
    }
   ],
   "source": [
    "s1.lower()"
   ]
  },
  {
   "cell_type": "code",
   "execution_count": 87,
   "id": "a5d5af16-a2bd-446d-b88b-f12d03ec3b9c",
   "metadata": {},
   "outputs": [
    {
     "data": {
      "text/plain": [
       "'Pwskills'"
      ]
     },
     "execution_count": 87,
     "metadata": {},
     "output_type": "execute_result"
    }
   ],
   "source": [
    "s1.title()"
   ]
  },
  {
   "cell_type": "code",
   "execution_count": 88,
   "id": "7ffb763f-c4a3-4c2b-bbe5-a0777ee073b9",
   "metadata": {},
   "outputs": [],
   "source": [
    "s2 = \"My name is Amit raj\""
   ]
  },
  {
   "cell_type": "code",
   "execution_count": 89,
   "id": "4fecf593-5823-4e6e-9755-b4cc1995e85b",
   "metadata": {},
   "outputs": [
    {
     "data": {
      "text/plain": [
       "'My name is Amit raj'"
      ]
     },
     "execution_count": 89,
     "metadata": {},
     "output_type": "execute_result"
    }
   ],
   "source": [
    "s2"
   ]
  },
  {
   "cell_type": "code",
   "execution_count": 90,
   "id": "4c9d6103-045d-4a47-9f92-02ff9f35a925",
   "metadata": {},
   "outputs": [
    {
     "data": {
      "text/plain": [
       "'My Name Is Amit Raj'"
      ]
     },
     "execution_count": 90,
     "metadata": {},
     "output_type": "execute_result"
    }
   ],
   "source": [
    "s2.title()"
   ]
  },
  {
   "cell_type": "code",
   "execution_count": 91,
   "id": "1624ece3-c7c2-450e-86b4-4a812e0df611",
   "metadata": {},
   "outputs": [
    {
     "data": {
      "text/plain": [
       "['Pwskills']"
      ]
     },
     "execution_count": 91,
     "metadata": {},
     "output_type": "execute_result"
    }
   ],
   "source": [
    "s1.split()"
   ]
  },
  {
   "cell_type": "code",
   "execution_count": 92,
   "id": "c25d023d-5c71-4d3d-866c-457811371104",
   "metadata": {},
   "outputs": [
    {
     "data": {
      "text/plain": [
       "['My', 'name', 'is', 'Amit', 'raj']"
      ]
     },
     "execution_count": 92,
     "metadata": {},
     "output_type": "execute_result"
    }
   ],
   "source": [
    "s2.split()"
   ]
  },
  {
   "cell_type": "code",
   "execution_count": 93,
   "id": "ea0bbd51-bd43-4ac3-b1ae-d7fc3731b6c1",
   "metadata": {},
   "outputs": [],
   "source": [
    "s3 = \"My , name, is, amit, raj\""
   ]
  },
  {
   "cell_type": "code",
   "execution_count": 94,
   "id": "13c26aa4-13e7-47f2-a422-250573dcf613",
   "metadata": {},
   "outputs": [
    {
     "data": {
      "text/plain": [
       "'My , name, is, amit, raj'"
      ]
     },
     "execution_count": 94,
     "metadata": {},
     "output_type": "execute_result"
    }
   ],
   "source": [
    "s3"
   ]
  },
  {
   "cell_type": "code",
   "execution_count": 95,
   "id": "ccd6055d-769d-4e6c-ba90-8fd87c5dd2cd",
   "metadata": {},
   "outputs": [
    {
     "data": {
      "text/plain": [
       "['My', ',', 'name,', 'is,', 'amit,', 'raj']"
      ]
     },
     "execution_count": 95,
     "metadata": {},
     "output_type": "execute_result"
    }
   ],
   "source": [
    "s3.split()"
   ]
  },
  {
   "cell_type": "code",
   "execution_count": 96,
   "id": "58848f44-8a22-4866-ba2b-8c8fe638fa8f",
   "metadata": {},
   "outputs": [
    {
     "data": {
      "text/plain": [
       "['My ', ' name', ' is', ' amit', ' raj']"
      ]
     },
     "execution_count": 96,
     "metadata": {},
     "output_type": "execute_result"
    }
   ],
   "source": [
    "s3.split(',')"
   ]
  },
  {
   "cell_type": "code",
   "execution_count": 97,
   "id": "232e8f04-c406-4788-afea-11e887295faf",
   "metadata": {},
   "outputs": [
    {
     "data": {
      "text/plain": [
       "['My , n', 'me, is, ', 'mit, r', 'j']"
      ]
     },
     "execution_count": 97,
     "metadata": {},
     "output_type": "execute_result"
    }
   ],
   "source": [
    "s3.split('a')"
   ]
  },
  {
   "cell_type": "code",
   "execution_count": 98,
   "id": "b9a67309-b69d-4909-8fad-d4f0ffde1efa",
   "metadata": {},
   "outputs": [],
   "source": [
    "s4 = \"This is my fsds class. i am attending this class for 4th time\""
   ]
  },
  {
   "cell_type": "code",
   "execution_count": 99,
   "id": "dbfd563d-864d-4c8b-a4dd-71b531374c7b",
   "metadata": {},
   "outputs": [
    {
     "data": {
      "text/plain": [
       "['This is my fsds class', ' i am attending this class for 4th time']"
      ]
     },
     "execution_count": 99,
     "metadata": {},
     "output_type": "execute_result"
    }
   ],
   "source": [
    "s4.split('.')"
   ]
  },
  {
   "cell_type": "code",
   "execution_count": 100,
   "id": "74685369-7fb6-4d2a-b3d2-940fe72c19f7",
   "metadata": {},
   "outputs": [
    {
     "data": {
      "text/plain": [
       "'This is my fsds class'"
      ]
     },
     "execution_count": 100,
     "metadata": {},
     "output_type": "execute_result"
    }
   ],
   "source": [
    "s4.split('.')[0]"
   ]
  },
  {
   "cell_type": "code",
   "execution_count": 101,
   "id": "a3b5be04-10fc-4a95-b330-e6e3fd97d2d9",
   "metadata": {},
   "outputs": [
    {
     "data": {
      "text/plain": [
       "' i am attending this class for 4th time'"
      ]
     },
     "execution_count": 101,
     "metadata": {},
     "output_type": "execute_result"
    }
   ],
   "source": [
    "s4.split('.')[1]"
   ]
  },
  {
   "cell_type": "code",
   "execution_count": 102,
   "id": "01e46d6e-80a5-4cb8-9314-5b2c6b190b97",
   "metadata": {},
   "outputs": [
    {
     "data": {
      "text/plain": [
       "'Pwskills'"
      ]
     },
     "execution_count": 102,
     "metadata": {},
     "output_type": "execute_result"
    }
   ],
   "source": [
    "s1"
   ]
  },
  {
   "cell_type": "code",
   "execution_count": 103,
   "id": "6cb8a3f1-62e5-4cc1-8db2-02d5ab4b790a",
   "metadata": {},
   "outputs": [
    {
     "data": {
      "text/plain": [
       "'My name is Amit raj'"
      ]
     },
     "execution_count": 103,
     "metadata": {},
     "output_type": "execute_result"
    }
   ],
   "source": [
    "s2"
   ]
  },
  {
   "cell_type": "code",
   "execution_count": 104,
   "id": "48c7b6fd-b6f0-4315-8198-7bd37507919d",
   "metadata": {},
   "outputs": [
    {
     "data": {
      "text/plain": [
       "'My , name, is, amit, raj'"
      ]
     },
     "execution_count": 104,
     "metadata": {},
     "output_type": "execute_result"
    }
   ],
   "source": [
    "s3"
   ]
  },
  {
   "cell_type": "code",
   "execution_count": 105,
   "id": "4e9c5482-b129-4d78-9a7d-7d040c8afc15",
   "metadata": {},
   "outputs": [
    {
     "data": {
      "text/plain": [
       "'Pwskills'"
      ]
     },
     "execution_count": 105,
     "metadata": {},
     "output_type": "execute_result"
    }
   ],
   "source": [
    "s1"
   ]
  },
  {
   "cell_type": "code",
   "execution_count": 106,
   "id": "f07d5f8d-51cc-48bd-9d4c-1fe503c3a07e",
   "metadata": {},
   "outputs": [
    {
     "data": {
      "text/plain": [
       "'Pwskills'"
      ]
     },
     "execution_count": 106,
     "metadata": {},
     "output_type": "execute_result"
    }
   ],
   "source": [
    "s1.capitalize()"
   ]
  },
  {
   "cell_type": "code",
   "execution_count": 107,
   "id": "b4af5a68-e4e2-469b-b531-b47b4816576c",
   "metadata": {},
   "outputs": [
    {
     "data": {
      "text/plain": [
       "'My name is amit raj'"
      ]
     },
     "execution_count": 107,
     "metadata": {},
     "output_type": "execute_result"
    }
   ],
   "source": [
    "s2.capitalize()"
   ]
  },
  {
   "cell_type": "code",
   "execution_count": 108,
   "id": "5677d1ed-7bdb-4185-ad3e-80a05076cf85",
   "metadata": {},
   "outputs": [
    {
     "data": {
      "text/plain": [
       "'Pwskills'"
      ]
     },
     "execution_count": 108,
     "metadata": {},
     "output_type": "execute_result"
    }
   ],
   "source": [
    "s1.title()"
   ]
  },
  {
   "cell_type": "code",
   "execution_count": 109,
   "id": "d65cc7dc-bca6-4e08-8c81-b6f3d216457b",
   "metadata": {},
   "outputs": [
    {
     "data": {
      "text/plain": [
       "'My Name Is Amit Raj'"
      ]
     },
     "execution_count": 109,
     "metadata": {},
     "output_type": "execute_result"
    }
   ],
   "source": [
    "s2.title()"
   ]
  },
  {
   "cell_type": "markdown",
   "id": "7e0ed508-d173-4b05-8d40-49d50ef086c3",
   "metadata": {},
   "source": [
    "Capitalize only turn 1st letter into capital letter, but title capital the all words of 1st letter"
   ]
  },
  {
   "cell_type": "code",
   "execution_count": 110,
   "id": "51ef56ab-6b90-45cb-8a82-0c9ddae4687d",
   "metadata": {},
   "outputs": [
    {
     "data": {
      "text/plain": [
       "'My name is Amit raj'"
      ]
     },
     "execution_count": 110,
     "metadata": {},
     "output_type": "execute_result"
    }
   ],
   "source": [
    "s2"
   ]
  },
  {
   "cell_type": "code",
   "execution_count": 111,
   "id": "f76d17f7-0639-4a2d-8acd-dcd9f9264e6b",
   "metadata": {},
   "outputs": [
    {
     "data": {
      "text/plain": [
       "'My aame is Amit raj'"
      ]
     },
     "execution_count": 111,
     "metadata": {},
     "output_type": "execute_result"
    }
   ],
   "source": [
    "s2.replace('n', 'a') #not change in original string, just try to create new reference"
   ]
  },
  {
   "cell_type": "code",
   "execution_count": 112,
   "id": "2ad075a0-5da2-4d09-b73b-6ae7b11c301b",
   "metadata": {},
   "outputs": [
    {
     "data": {
      "text/plain": [
       "'My name is Amit raj'"
      ]
     },
     "execution_count": 112,
     "metadata": {},
     "output_type": "execute_result"
    }
   ],
   "source": [
    "s2"
   ]
  },
  {
   "cell_type": "code",
   "execution_count": 113,
   "id": "c9698142-0b02-4a07-b3a8-05d0abd3804a",
   "metadata": {},
   "outputs": [
    {
     "data": {
      "text/plain": [
       "'                Pwskills                '"
      ]
     },
     "execution_count": 113,
     "metadata": {},
     "output_type": "execute_result"
    }
   ],
   "source": [
    "s1.center(40,' ')"
   ]
  },
  {
   "cell_type": "code",
   "execution_count": 114,
   "id": "4b38d479-0c77-4973-b2a1-0c48e5373908",
   "metadata": {},
   "outputs": [
    {
     "data": {
      "text/plain": [
       "'Pwskills'"
      ]
     },
     "execution_count": 114,
     "metadata": {},
     "output_type": "execute_result"
    }
   ],
   "source": [
    "s1"
   ]
  },
  {
   "cell_type": "code",
   "execution_count": 115,
   "id": "1986a466-4a8b-4b34-8b6c-f84397fa2a40",
   "metadata": {},
   "outputs": [
    {
     "data": {
      "text/plain": [
       "'Pwskills'"
      ]
     },
     "execution_count": 115,
     "metadata": {},
     "output_type": "execute_result"
    }
   ],
   "source": [
    "s1.rstrip()"
   ]
  },
  {
   "cell_type": "code",
   "execution_count": 116,
   "id": "518bd6d3-be3b-4d53-ad70-776988ae0f86",
   "metadata": {},
   "outputs": [],
   "source": [
    "s5 = \"       PwSkills      \""
   ]
  },
  {
   "cell_type": "code",
   "execution_count": 117,
   "id": "49419724-0727-4ada-b749-6c117b65ccf8",
   "metadata": {},
   "outputs": [
    {
     "data": {
      "text/plain": [
       "'       PwSkills      '"
      ]
     },
     "execution_count": 117,
     "metadata": {},
     "output_type": "execute_result"
    }
   ],
   "source": [
    "s5"
   ]
  },
  {
   "cell_type": "code",
   "execution_count": 118,
   "id": "81393b92-2d92-48d6-993c-ccf1024075b3",
   "metadata": {},
   "outputs": [
    {
     "data": {
      "text/plain": [
       "'       PwSkills'"
      ]
     },
     "execution_count": 118,
     "metadata": {},
     "output_type": "execute_result"
    }
   ],
   "source": [
    "s5.rstrip()  #remove the space of right hand side"
   ]
  },
  {
   "cell_type": "code",
   "execution_count": 119,
   "id": "b799175d-6d5d-47c0-bf7e-da78778805d2",
   "metadata": {},
   "outputs": [
    {
     "data": {
      "text/plain": [
       "'PwSkills      '"
      ]
     },
     "execution_count": 119,
     "metadata": {},
     "output_type": "execute_result"
    }
   ],
   "source": [
    "s5.lstrip()  #remove left hand side spaces"
   ]
  },
  {
   "cell_type": "code",
   "execution_count": 120,
   "id": "f6c1539e-609d-47c2-88ba-6c786f593a02",
   "metadata": {},
   "outputs": [
    {
     "data": {
      "text/plain": [
       "'PwSkills'"
      ]
     },
     "execution_count": 120,
     "metadata": {},
     "output_type": "execute_result"
    }
   ],
   "source": [
    "s5.strip()  #remove both side spaces"
   ]
  },
  {
   "cell_type": "code",
   "execution_count": 121,
   "id": "4e3cf92d-3da6-42e1-8649-a28fe143222d",
   "metadata": {},
   "outputs": [
    {
     "data": {
      "text/plain": [
       "'Pwskills'"
      ]
     },
     "execution_count": 121,
     "metadata": {},
     "output_type": "execute_result"
    }
   ],
   "source": [
    "s1"
   ]
  },
  {
   "cell_type": "code",
   "execution_count": 122,
   "id": "432d6e4b-8e0f-41ae-a300-86b863e94a9e",
   "metadata": {},
   "outputs": [
    {
     "data": {
      "text/plain": [
       "True"
      ]
     },
     "execution_count": 122,
     "metadata": {},
     "output_type": "execute_result"
    }
   ],
   "source": [
    "s1.isalnum()"
   ]
  },
  {
   "cell_type": "code",
   "execution_count": 123,
   "id": "ad2c626f-e3c7-4192-b71a-3f95e8107935",
   "metadata": {},
   "outputs": [
    {
     "data": {
      "text/plain": [
       "True"
      ]
     },
     "execution_count": 123,
     "metadata": {},
     "output_type": "execute_result"
    }
   ],
   "source": [
    "s1.isalpha()"
   ]
  },
  {
   "cell_type": "code",
   "execution_count": 124,
   "id": "662c89c6-aace-44d4-ac4c-da9284ebc64f",
   "metadata": {},
   "outputs": [
    {
     "data": {
      "text/plain": [
       "False"
      ]
     },
     "execution_count": 124,
     "metadata": {},
     "output_type": "execute_result"
    }
   ],
   "source": [
    "s1.isnumeric()"
   ]
  },
  {
   "cell_type": "code",
   "execution_count": 125,
   "id": "f4b419a0-be31-4203-970d-5c8d8036ef77",
   "metadata": {},
   "outputs": [
    {
     "data": {
      "text/plain": [
       "False"
      ]
     },
     "execution_count": 125,
     "metadata": {},
     "output_type": "execute_result"
    }
   ],
   "source": [
    "s1.islower()"
   ]
  },
  {
   "cell_type": "code",
   "execution_count": 126,
   "id": "2ac9a96d-0ef6-4fd9-a0aa-82c7d8f3247c",
   "metadata": {},
   "outputs": [
    {
     "data": {
      "text/plain": [
       "[1, 2, 3, 4, 5, 'Amit', 'Raj', (3+6j), True, 45.7, [4, 7, 2, 8, 1]]"
      ]
     },
     "execution_count": 126,
     "metadata": {},
     "output_type": "execute_result"
    }
   ],
   "source": [
    "l1"
   ]
  },
  {
   "cell_type": "code",
   "execution_count": 127,
   "id": "29ac6c53-9005-4556-83b0-34396b3c2f64",
   "metadata": {},
   "outputs": [],
   "source": [
    "l1.append(\"AMIT\")"
   ]
  },
  {
   "cell_type": "code",
   "execution_count": 128,
   "id": "9f2d063c-c1a2-4e65-9e03-99f36c16f04e",
   "metadata": {},
   "outputs": [
    {
     "data": {
      "text/plain": [
       "[1, 2, 3, 4, 5, 'Amit', 'Raj', (3+6j), True, 45.7, [4, 7, 2, 8, 1], 'AMIT']"
      ]
     },
     "execution_count": 128,
     "metadata": {},
     "output_type": "execute_result"
    }
   ],
   "source": [
    "l1"
   ]
  },
  {
   "cell_type": "code",
   "execution_count": 129,
   "id": "f098e084-a4fd-40a6-b206-aab9189c90be",
   "metadata": {},
   "outputs": [],
   "source": [
    "l1.insert(3, \"RAJ\")"
   ]
  },
  {
   "cell_type": "code",
   "execution_count": 130,
   "id": "784550ac-2983-415d-9f5e-d34ae008ad71",
   "metadata": {},
   "outputs": [
    {
     "data": {
      "text/plain": [
       "[1,\n",
       " 2,\n",
       " 3,\n",
       " 'RAJ',\n",
       " 4,\n",
       " 5,\n",
       " 'Amit',\n",
       " 'Raj',\n",
       " (3+6j),\n",
       " True,\n",
       " 45.7,\n",
       " [4, 7, 2, 8, 1],\n",
       " 'AMIT']"
      ]
     },
     "execution_count": 130,
     "metadata": {},
     "output_type": "execute_result"
    }
   ],
   "source": [
    "l1"
   ]
  },
  {
   "cell_type": "code",
   "execution_count": 131,
   "id": "05c97e8c-14a8-4639-a22e-500e1f994f16",
   "metadata": {},
   "outputs": [
    {
     "data": {
      "text/plain": [
       "[300, 4, 5, 'Pwskills', 'Amit']"
      ]
     },
     "execution_count": 131,
     "metadata": {},
     "output_type": "execute_result"
    }
   ],
   "source": [
    "l2"
   ]
  },
  {
   "cell_type": "code",
   "execution_count": 132,
   "id": "9ae49daf-595e-4d63-a776-057b36a51523",
   "metadata": {},
   "outputs": [],
   "source": [
    "l2.extend(\"amit\")  #split internally and then insert"
   ]
  },
  {
   "cell_type": "code",
   "execution_count": 133,
   "id": "b3fd987d-abf2-4525-bfce-56cc60e040b1",
   "metadata": {},
   "outputs": [
    {
     "data": {
      "text/plain": [
       "[300, 4, 5, 'Pwskills', 'Amit', 'a', 'm', 'i', 't']"
      ]
     },
     "execution_count": 133,
     "metadata": {},
     "output_type": "execute_result"
    }
   ],
   "source": [
    "l2"
   ]
  },
  {
   "cell_type": "code",
   "execution_count": 134,
   "id": "8019b8f4-a8f3-4090-a01c-ea7f6dfde481",
   "metadata": {},
   "outputs": [],
   "source": [
    "l3 = [1,2,4,4,5]"
   ]
  },
  {
   "cell_type": "code",
   "execution_count": 135,
   "id": "3c38e306-605f-4624-9d95-e88b425d871b",
   "metadata": {},
   "outputs": [],
   "source": [
    "l3.append([3,4,5,6])"
   ]
  },
  {
   "cell_type": "code",
   "execution_count": 136,
   "id": "add81266-cbd2-4150-854a-9fba4be43d28",
   "metadata": {},
   "outputs": [
    {
     "data": {
      "text/plain": [
       "[1, 2, 4, 4, 5, [3, 4, 5, 6]]"
      ]
     },
     "execution_count": 136,
     "metadata": {},
     "output_type": "execute_result"
    }
   ],
   "source": [
    "l3"
   ]
  },
  {
   "cell_type": "code",
   "execution_count": 137,
   "id": "d5be4e56-ba28-4ddf-b6b7-28c1032798d5",
   "metadata": {},
   "outputs": [],
   "source": [
    "l3.insert(1,[8,9,66])"
   ]
  },
  {
   "cell_type": "code",
   "execution_count": 138,
   "id": "2037d797-5fee-4c47-97b9-7ce3bd99bd8d",
   "metadata": {},
   "outputs": [
    {
     "data": {
      "text/plain": [
       "[1, [8, 9, 66], 2, 4, 4, 5, [3, 4, 5, 6]]"
      ]
     },
     "execution_count": 138,
     "metadata": {},
     "output_type": "execute_result"
    }
   ],
   "source": [
    "l3"
   ]
  },
  {
   "cell_type": "code",
   "execution_count": 139,
   "id": "1e28b0d0-d8bf-4513-b17f-27fa80f6adbc",
   "metadata": {},
   "outputs": [],
   "source": [
    "l3.extend([4,5,6])  #inserting value as a indivisual value"
   ]
  },
  {
   "cell_type": "code",
   "execution_count": 140,
   "id": "596079d9-4940-4edd-8efd-1af7d4830e6a",
   "metadata": {},
   "outputs": [
    {
     "data": {
      "text/plain": [
       "[1, [8, 9, 66], 2, 4, 4, 5, [3, 4, 5, 6], 4, 5, 6]"
      ]
     },
     "execution_count": 140,
     "metadata": {},
     "output_type": "execute_result"
    }
   ],
   "source": [
    "l3"
   ]
  },
  {
   "cell_type": "code",
   "execution_count": 141,
   "id": "3ec19935-c1a8-4b4b-9db9-f7281657ee77",
   "metadata": {},
   "outputs": [
    {
     "data": {
      "text/plain": [
       "6"
      ]
     },
     "execution_count": 141,
     "metadata": {},
     "output_type": "execute_result"
    }
   ],
   "source": [
    "l3.pop()  #delete last index"
   ]
  },
  {
   "cell_type": "code",
   "execution_count": 142,
   "id": "66c225e8-403f-4bb9-8e4e-02ae2c26253d",
   "metadata": {},
   "outputs": [
    {
     "data": {
      "text/plain": [
       "[1, [8, 9, 66], 2, 4, 4, 5, [3, 4, 5, 6], 4, 5]"
      ]
     },
     "execution_count": 142,
     "metadata": {},
     "output_type": "execute_result"
    }
   ],
   "source": [
    "l3"
   ]
  },
  {
   "cell_type": "code",
   "execution_count": 143,
   "id": "b18a3624-436e-4efb-995c-d06d56b0c1a4",
   "metadata": {},
   "outputs": [
    {
     "data": {
      "text/plain": [
       "[8, 9, 66]"
      ]
     },
     "execution_count": 143,
     "metadata": {},
     "output_type": "execute_result"
    }
   ],
   "source": [
    "l3.pop(1)  #index 1 deleted"
   ]
  },
  {
   "cell_type": "code",
   "execution_count": 144,
   "id": "fcaf3191-785a-4c89-a7f1-c9d912453570",
   "metadata": {},
   "outputs": [
    {
     "data": {
      "text/plain": [
       "[1, 2, 4, 4, 5, [3, 4, 5, 6], 4, 5]"
      ]
     },
     "execution_count": 144,
     "metadata": {},
     "output_type": "execute_result"
    }
   ],
   "source": [
    "l3"
   ]
  },
  {
   "cell_type": "code",
   "execution_count": 145,
   "id": "1e5476cf-3f24-4e9b-96d9-6bdfe6787a2a",
   "metadata": {},
   "outputs": [],
   "source": [
    "del l3 #delete entire list "
   ]
  },
  {
   "cell_type": "code",
   "execution_count": 146,
   "id": "e4c43f3d-5f9d-4c4b-a053-ca8c0561acae",
   "metadata": {},
   "outputs": [
    {
     "ename": "NameError",
     "evalue": "name 'l3' is not defined",
     "output_type": "error",
     "traceback": [
      "\u001b[0;31m---------------------------------------------------------------------------\u001b[0m",
      "\u001b[0;31mNameError\u001b[0m                                 Traceback (most recent call last)",
      "Cell \u001b[0;32mIn[146], line 1\u001b[0m\n\u001b[0;32m----> 1\u001b[0m \u001b[43ml3\u001b[49m\n",
      "\u001b[0;31mNameError\u001b[0m: name 'l3' is not defined"
     ]
    }
   ],
   "source": [
    "l3"
   ]
  },
  {
   "cell_type": "code",
   "execution_count": 147,
   "id": "84d218ae-6bcf-4c18-8a8a-ce276ce22e0d",
   "metadata": {},
   "outputs": [
    {
     "data": {
      "text/plain": [
       "'My name is Amit raj'"
      ]
     },
     "execution_count": 147,
     "metadata": {},
     "output_type": "execute_result"
    }
   ],
   "source": [
    "s2"
   ]
  },
  {
   "cell_type": "code",
   "execution_count": 148,
   "id": "6d3796c5-2e57-44b2-8680-509deefb788d",
   "metadata": {},
   "outputs": [],
   "source": [
    "del s2"
   ]
  },
  {
   "cell_type": "code",
   "execution_count": 149,
   "id": "5a38c867-62f6-48cc-b1b6-1497ec86c12d",
   "metadata": {},
   "outputs": [
    {
     "ename": "NameError",
     "evalue": "name 's2' is not defined",
     "output_type": "error",
     "traceback": [
      "\u001b[0;31m---------------------------------------------------------------------------\u001b[0m",
      "\u001b[0;31mNameError\u001b[0m                                 Traceback (most recent call last)",
      "Cell \u001b[0;32mIn[149], line 1\u001b[0m\n\u001b[0;32m----> 1\u001b[0m \u001b[43ms2\u001b[49m\n",
      "\u001b[0;31mNameError\u001b[0m: name 's2' is not defined"
     ]
    }
   ],
   "source": [
    "s2"
   ]
  },
  {
   "cell_type": "code",
   "execution_count": 154,
   "id": "5903b5bd-a4ab-4a07-9a92-6add3fb9e735",
   "metadata": {},
   "outputs": [],
   "source": [
    "l2 = [300, 4, 5, 'Pwskills', 'Amit', 'a', 'm', 'i', 't']"
   ]
  },
  {
   "cell_type": "code",
   "execution_count": 155,
   "id": "3e653575-fdd0-481e-ba7b-b6c5401aa794",
   "metadata": {},
   "outputs": [
    {
     "data": {
      "text/plain": [
       "[300, 4, 5, 'Pwskills', 'Amit', 'a', 'm', 'i', 't']"
      ]
     },
     "execution_count": 155,
     "metadata": {},
     "output_type": "execute_result"
    }
   ],
   "source": [
    "l2"
   ]
  },
  {
   "cell_type": "code",
   "execution_count": 156,
   "id": "43208362-b4af-4f5c-917c-83456129a05a",
   "metadata": {},
   "outputs": [],
   "source": [
    "l2.remove('a') #remove 1st 'a'"
   ]
  },
  {
   "cell_type": "code",
   "execution_count": 157,
   "id": "088d9652-bed8-4c4d-a758-3cf2f53a8241",
   "metadata": {},
   "outputs": [
    {
     "data": {
      "text/plain": [
       "[300, 4, 5, 'Pwskills', 'Amit', 'm', 'i', 't']"
      ]
     },
     "execution_count": 157,
     "metadata": {},
     "output_type": "execute_result"
    }
   ],
   "source": [
    "l2"
   ]
  },
  {
   "cell_type": "code",
   "execution_count": 160,
   "id": "bf0347fb-a3ee-4058-bab4-56ee92732461",
   "metadata": {},
   "outputs": [
    {
     "ename": "ValueError",
     "evalue": "list.remove(x): x not in list",
     "output_type": "error",
     "traceback": [
      "\u001b[0;31m---------------------------------------------------------------------------\u001b[0m",
      "\u001b[0;31mValueError\u001b[0m                                Traceback (most recent call last)",
      "Cell \u001b[0;32mIn[160], line 1\u001b[0m\n\u001b[0;32m----> 1\u001b[0m \u001b[43ml2\u001b[49m\u001b[38;5;241;43m.\u001b[39;49m\u001b[43mremove\u001b[49m\u001b[43m(\u001b[49m\u001b[38;5;124;43m'\u001b[39;49m\u001b[38;5;124;43mz\u001b[39;49m\u001b[38;5;124;43m'\u001b[39;49m\u001b[43m)\u001b[49m \u001b[38;5;66;03m#not available\u001b[39;00m\n",
      "\u001b[0;31mValueError\u001b[0m: list.remove(x): x not in list"
     ]
    }
   ],
   "source": [
    "l2.remove('z') #not available"
   ]
  },
  {
   "cell_type": "code",
   "execution_count": 161,
   "id": "26f31961-bcee-4277-b2ce-d1494fa17a31",
   "metadata": {},
   "outputs": [
    {
     "ename": "IndexError",
     "evalue": "pop index out of range",
     "output_type": "error",
     "traceback": [
      "\u001b[0;31m---------------------------------------------------------------------------\u001b[0m",
      "\u001b[0;31mIndexError\u001b[0m                                Traceback (most recent call last)",
      "Cell \u001b[0;32mIn[161], line 1\u001b[0m\n\u001b[0;32m----> 1\u001b[0m \u001b[43ml2\u001b[49m\u001b[38;5;241;43m.\u001b[39;49m\u001b[43mpop\u001b[49m\u001b[43m(\u001b[49m\u001b[38;5;241;43m10000\u001b[39;49m\u001b[43m)\u001b[49m\n",
      "\u001b[0;31mIndexError\u001b[0m: pop index out of range"
     ]
    }
   ],
   "source": [
    "l2.pop(10000)"
   ]
  },
  {
   "cell_type": "code",
   "execution_count": 162,
   "id": "4df7ddf4-7efe-4707-b11a-f5ca6977e9e4",
   "metadata": {},
   "outputs": [
    {
     "data": {
      "text/plain": [
       "[1,\n",
       " 2,\n",
       " 3,\n",
       " 'RAJ',\n",
       " 4,\n",
       " 5,\n",
       " 'Amit',\n",
       " 'Raj',\n",
       " (3+6j),\n",
       " True,\n",
       " 45.7,\n",
       " [4, 7, 2, 8, 1],\n",
       " 'AMIT']"
      ]
     },
     "execution_count": 162,
     "metadata": {},
     "output_type": "execute_result"
    }
   ],
   "source": [
    "l1"
   ]
  },
  {
   "cell_type": "code",
   "execution_count": 165,
   "id": "7e9ce667-c042-4085-9101-bf465ad13f3a",
   "metadata": {},
   "outputs": [],
   "source": [
    "l1.clear() #body not deleted only content deleted"
   ]
  },
  {
   "cell_type": "code",
   "execution_count": 166,
   "id": "e47f2ccd-40d1-4eaf-851d-20b86b081ac6",
   "metadata": {},
   "outputs": [
    {
     "data": {
      "text/plain": [
       "[]"
      ]
     },
     "execution_count": 166,
     "metadata": {},
     "output_type": "execute_result"
    }
   ],
   "source": [
    "l1"
   ]
  },
  {
   "cell_type": "code",
   "execution_count": 167,
   "id": "ee3b20eb-4bd7-4c8f-82f6-4b358c198132",
   "metadata": {},
   "outputs": [
    {
     "data": {
      "text/plain": [
       "[300, 4, 5, 'Pwskills', 'Amit', 'm', 'i', 't']"
      ]
     },
     "execution_count": 167,
     "metadata": {},
     "output_type": "execute_result"
    }
   ],
   "source": [
    "l2"
   ]
  },
  {
   "cell_type": "code",
   "execution_count": 168,
   "id": "78b30bfa-e2b7-4a8b-ad86-308abf4695ab",
   "metadata": {},
   "outputs": [
    {
     "data": {
      "text/plain": [
       "0"
      ]
     },
     "execution_count": 168,
     "metadata": {},
     "output_type": "execute_result"
    }
   ],
   "source": [
    "l2.count('s')"
   ]
  },
  {
   "cell_type": "code",
   "execution_count": 169,
   "id": "df3e85b8-9f7a-497f-ac8a-8d4da8e2c2a8",
   "metadata": {},
   "outputs": [
    {
     "data": {
      "text/plain": [
       "5"
      ]
     },
     "execution_count": 169,
     "metadata": {},
     "output_type": "execute_result"
    }
   ],
   "source": [
    "l2.index('m')"
   ]
  },
  {
   "cell_type": "code",
   "execution_count": 170,
   "id": "36bdc960-6588-4338-a00d-0465a25b14fd",
   "metadata": {},
   "outputs": [
    {
     "data": {
      "text/plain": [
       "[300, 4, 5, 'Pwskills', 'Amit', 'm', 'i', 't']"
      ]
     },
     "execution_count": 170,
     "metadata": {},
     "output_type": "execute_result"
    }
   ],
   "source": [
    "l2"
   ]
  },
  {
   "cell_type": "code",
   "execution_count": 171,
   "id": "98315b7d-e669-437f-b66e-dab5e39b2680",
   "metadata": {},
   "outputs": [],
   "source": [
    "l2.reverse()"
   ]
  },
  {
   "cell_type": "code",
   "execution_count": 172,
   "id": "de809b8f-ced6-43bd-a2d2-1b012259b000",
   "metadata": {},
   "outputs": [
    {
     "data": {
      "text/plain": [
       "['t', 'i', 'm', 'Amit', 'Pwskills', 5, 4, 300]"
      ]
     },
     "execution_count": 172,
     "metadata": {},
     "output_type": "execute_result"
    }
   ],
   "source": [
    "l2"
   ]
  },
  {
   "cell_type": "markdown",
   "id": "3f2dec09-ec28-473a-8203-ab7bf025e115",
   "metadata": {},
   "source": [
    "#to use sort() need simimlar kind of daya"
   ]
  },
  {
   "cell_type": "code",
   "execution_count": 174,
   "id": "63a6d481-5aee-4fbf-9f27-2c86c8552ce2",
   "metadata": {},
   "outputs": [],
   "source": [
    "l3 = [3,6,9,7,6,4,2,1]"
   ]
  },
  {
   "cell_type": "code",
   "execution_count": 175,
   "id": "04f09f54-a51f-4b4b-b785-275f73cc914e",
   "metadata": {},
   "outputs": [
    {
     "data": {
      "text/plain": [
       "[3, 6, 9, 7, 6, 4, 2, 1]"
      ]
     },
     "execution_count": 175,
     "metadata": {},
     "output_type": "execute_result"
    }
   ],
   "source": [
    "l3"
   ]
  },
  {
   "cell_type": "code",
   "execution_count": 176,
   "id": "64d92544-162d-4923-8c31-ff1427f64912",
   "metadata": {},
   "outputs": [],
   "source": [
    "l3.sort()"
   ]
  },
  {
   "cell_type": "code",
   "execution_count": 177,
   "id": "bec6ae6e-05c4-4d27-933b-1bebdabfec19",
   "metadata": {},
   "outputs": [
    {
     "data": {
      "text/plain": [
       "[1, 2, 3, 4, 6, 6, 7, 9]"
      ]
     },
     "execution_count": 177,
     "metadata": {},
     "output_type": "execute_result"
    }
   ],
   "source": [
    "l3"
   ]
  },
  {
   "cell_type": "code",
   "execution_count": 178,
   "id": "1df8e3d5-240d-4c3b-8703-edeea9ef464b",
   "metadata": {},
   "outputs": [],
   "source": [
    "l4 = [\"asd\",\"mit\",\"kumar\",\"raj\"]"
   ]
  },
  {
   "cell_type": "code",
   "execution_count": 179,
   "id": "67a1bf54-2d75-425c-b62e-8e8948017fe8",
   "metadata": {},
   "outputs": [],
   "source": [
    "l4.sort()"
   ]
  },
  {
   "cell_type": "code",
   "execution_count": 180,
   "id": "2fb3f222-e0f0-450e-8f64-340e1be93c40",
   "metadata": {},
   "outputs": [
    {
     "data": {
      "text/plain": [
       "['asd', 'kumar', 'mit', 'raj']"
      ]
     },
     "execution_count": 180,
     "metadata": {},
     "output_type": "execute_result"
    }
   ],
   "source": [
    "l4"
   ]
  },
  {
   "cell_type": "code",
   "execution_count": 181,
   "id": "289a5786-b1de-4620-a687-df267ee4388a",
   "metadata": {},
   "outputs": [],
   "source": [
    "l4.sort(reverse=True)"
   ]
  },
  {
   "cell_type": "code",
   "execution_count": 182,
   "id": "235c4244-c969-4d84-ac4a-758b9e677491",
   "metadata": {},
   "outputs": [
    {
     "data": {
      "text/plain": [
       "['raj', 'mit', 'kumar', 'asd']"
      ]
     },
     "execution_count": 182,
     "metadata": {},
     "output_type": "execute_result"
    }
   ],
   "source": [
    "l4"
   ]
  },
  {
   "cell_type": "code",
   "execution_count": 183,
   "id": "e964ae5b-d3ec-4719-8f2f-8853f455ad42",
   "metadata": {},
   "outputs": [
    {
     "data": {
      "text/plain": [
       "[1, 2, 3, 4, 6, 6, 7, 9]"
      ]
     },
     "execution_count": 183,
     "metadata": {},
     "output_type": "execute_result"
    }
   ],
   "source": [
    "l3"
   ]
  },
  {
   "cell_type": "code",
   "execution_count": 184,
   "id": "3c65d384-d5ca-4ba7-8c33-dff936b49d76",
   "metadata": {},
   "outputs": [],
   "source": [
    "l6 = [8,6,4,3,1,5,7,0]"
   ]
  },
  {
   "cell_type": "code",
   "execution_count": 185,
   "id": "3bcc4b12-7975-489a-ab66-0b6639d7f3d1",
   "metadata": {},
   "outputs": [
    {
     "data": {
      "text/plain": [
       "[8, 6, 4, 3, 1, 5, 7, 0]"
      ]
     },
     "execution_count": 185,
     "metadata": {},
     "output_type": "execute_result"
    }
   ],
   "source": [
    "l6"
   ]
  },
  {
   "cell_type": "code",
   "execution_count": 186,
   "id": "dcd1a6bd-4600-4207-b883-96754f998ea7",
   "metadata": {},
   "outputs": [],
   "source": [
    "list(set(l6)).sort()"
   ]
  },
  {
   "cell_type": "code",
   "execution_count": 188,
   "id": "6efe769b-dbf3-403d-94d5-ea3ee16c4e2b",
   "metadata": {},
   "outputs": [
    {
     "data": {
      "text/plain": [
       "[1, 2, 3, 4, 6, 6, 7, 9]"
      ]
     },
     "execution_count": 188,
     "metadata": {},
     "output_type": "execute_result"
    }
   ],
   "source": [
    "l3"
   ]
  },
  {
   "cell_type": "code",
   "execution_count": 189,
   "id": "43f5cfb3-7967-414d-a96e-00be79e08a8d",
   "metadata": {},
   "outputs": [],
   "source": [
    "l7 = set(l6)"
   ]
  },
  {
   "cell_type": "code",
   "execution_count": 190,
   "id": "4335af84-a220-427a-98bc-b4ee9bd31fbd",
   "metadata": {},
   "outputs": [
    {
     "data": {
      "text/plain": [
       "{0, 1, 3, 4, 5, 6, 7, 8}"
      ]
     },
     "execution_count": 190,
     "metadata": {},
     "output_type": "execute_result"
    }
   ],
   "source": [
    "l7"
   ]
  },
  {
   "cell_type": "code",
   "execution_count": 191,
   "id": "bce0daf6-67d3-429e-8af2-4362d889088e",
   "metadata": {},
   "outputs": [],
   "source": [
    "l8 = list(l7)"
   ]
  },
  {
   "cell_type": "code",
   "execution_count": 192,
   "id": "fac6d7d4-61da-4ceb-ad19-aff19357df6c",
   "metadata": {},
   "outputs": [
    {
     "data": {
      "text/plain": [
       "[0, 1, 3, 4, 5, 6, 7, 8]"
      ]
     },
     "execution_count": 192,
     "metadata": {},
     "output_type": "execute_result"
    }
   ],
   "source": [
    "l8"
   ]
  },
  {
   "cell_type": "code",
   "execution_count": 193,
   "id": "f4c146f4-037b-4641-b761-407fe98b09b7",
   "metadata": {},
   "outputs": [],
   "source": [
    "l0 = [2,3,4,5]"
   ]
  },
  {
   "cell_type": "code",
   "execution_count": 194,
   "id": "280dc125-8749-4210-aa8a-0fc4188e95fd",
   "metadata": {},
   "outputs": [
    {
     "data": {
      "text/plain": [
       "[2, 3, 4, 5]"
      ]
     },
     "execution_count": 194,
     "metadata": {},
     "output_type": "execute_result"
    }
   ],
   "source": [
    "l0"
   ]
  },
  {
   "cell_type": "markdown",
   "id": "aa7d1826-9ae0-44d7-b343-fbd97e1a6886",
   "metadata": {},
   "source": [
    "Malking reference, if i change in l0 it reflect on l1 also"
   ]
  },
  {
   "cell_type": "code",
   "execution_count": 201,
   "id": "36deba24-57f9-4029-a40d-1c16ff392766",
   "metadata": {},
   "outputs": [],
   "source": [
    "l1 = l0  "
   ]
  },
  {
   "cell_type": "code",
   "execution_count": 202,
   "id": "51596335-f56b-4a4e-ae6e-e8df64f874b7",
   "metadata": {},
   "outputs": [
    {
     "data": {
      "text/plain": [
       "[200, 3, 4, 5]"
      ]
     },
     "execution_count": 202,
     "metadata": {},
     "output_type": "execute_result"
    }
   ],
   "source": [
    "l1"
   ]
  },
  {
   "cell_type": "code",
   "execution_count": 203,
   "id": "a3d456b7-28e4-4766-8ff3-ac63034586c2",
   "metadata": {},
   "outputs": [
    {
     "data": {
      "text/plain": [
       "[200, 3, 4, 5]"
      ]
     },
     "execution_count": 203,
     "metadata": {},
     "output_type": "execute_result"
    }
   ],
   "source": [
    "l0"
   ]
  },
  {
   "cell_type": "code",
   "execution_count": 204,
   "id": "2cfa8787-2121-4f83-8f40-df4f400ea657",
   "metadata": {},
   "outputs": [],
   "source": [
    "l0[0] = 200"
   ]
  },
  {
   "cell_type": "code",
   "execution_count": 205,
   "id": "b2041b9f-5022-4129-82f3-37afb6714613",
   "metadata": {},
   "outputs": [
    {
     "data": {
      "text/plain": [
       "[200, 3, 4, 5]"
      ]
     },
     "execution_count": 205,
     "metadata": {},
     "output_type": "execute_result"
    }
   ],
   "source": [
    "l0"
   ]
  },
  {
   "cell_type": "code",
   "execution_count": 206,
   "id": "299db813-9800-4ffb-9965-1aaf76a6cbf1",
   "metadata": {},
   "outputs": [
    {
     "data": {
      "text/plain": [
       "[200, 3, 4, 5]"
      ]
     },
     "execution_count": 206,
     "metadata": {},
     "output_type": "execute_result"
    }
   ],
   "source": [
    "l1"
   ]
  },
  {
   "cell_type": "code",
   "execution_count": 207,
   "id": "ad1cb7e5-112e-4bbb-8efe-f907572111f3",
   "metadata": {},
   "outputs": [],
   "source": [
    "l2 = l0.copy()"
   ]
  },
  {
   "cell_type": "code",
   "execution_count": 208,
   "id": "a75488bd-7f40-4823-8543-b62a73af5fbb",
   "metadata": {},
   "outputs": [
    {
     "data": {
      "text/plain": [
       "[200, 3, 4, 5]"
      ]
     },
     "execution_count": 208,
     "metadata": {},
     "output_type": "execute_result"
    }
   ],
   "source": [
    "l2"
   ]
  },
  {
   "cell_type": "code",
   "execution_count": 209,
   "id": "a142fb81-6f80-4ec8-addf-dc68643b6987",
   "metadata": {},
   "outputs": [
    {
     "data": {
      "text/plain": [
       "[200, 3, 4, 5]"
      ]
     },
     "execution_count": 209,
     "metadata": {},
     "output_type": "execute_result"
    }
   ],
   "source": [
    "l1"
   ]
  },
  {
   "cell_type": "code",
   "execution_count": 210,
   "id": "7c0636be-1341-429b-b93d-651b0deb167b",
   "metadata": {},
   "outputs": [
    {
     "data": {
      "text/plain": [
       "[200, 3, 4, 5]"
      ]
     },
     "execution_count": 210,
     "metadata": {},
     "output_type": "execute_result"
    }
   ],
   "source": [
    "l0"
   ]
  },
  {
   "cell_type": "code",
   "execution_count": 211,
   "id": "8aec5a24-76e8-4991-99a6-05beca8ed9bd",
   "metadata": {},
   "outputs": [],
   "source": [
    "l0[1] = 300"
   ]
  },
  {
   "cell_type": "code",
   "execution_count": 212,
   "id": "8d2c3593-9665-4fdd-a09b-e7de1b0a0747",
   "metadata": {},
   "outputs": [
    {
     "data": {
      "text/plain": [
       "[200, 300, 4, 5]"
      ]
     },
     "execution_count": 212,
     "metadata": {},
     "output_type": "execute_result"
    }
   ],
   "source": [
    "l0"
   ]
  },
  {
   "cell_type": "code",
   "execution_count": 213,
   "id": "2c03af9e-14b7-4b13-9bd8-3ad951d30430",
   "metadata": {},
   "outputs": [
    {
     "data": {
      "text/plain": [
       "[200, 300, 4, 5]"
      ]
     },
     "execution_count": 213,
     "metadata": {},
     "output_type": "execute_result"
    }
   ],
   "source": [
    "l1"
   ]
  },
  {
   "cell_type": "code",
   "execution_count": 214,
   "id": "8f3cdcf1-faf3-4f96-8362-d5d3b6f0efcf",
   "metadata": {},
   "outputs": [
    {
     "data": {
      "text/plain": [
       "[200, 3, 4, 5]"
      ]
     },
     "execution_count": 214,
     "metadata": {},
     "output_type": "execute_result"
    }
   ],
   "source": [
    "l2"
   ]
  },
  {
   "cell_type": "markdown",
   "id": "b4193acc-b182-4760-a46c-bc42deb7718b",
   "metadata": {},
   "source": [
    "l2 is making copy of l0 and it is not referencing"
   ]
  },
  {
   "cell_type": "markdown",
   "id": "72a9fed9-e2ed-4a99-aee6-d56f937d71a4",
   "metadata": {},
   "source": [
    "l2 = l0.copy(), it is DEEP COPY, not affect others data...\n",
    "l1 = l0  this is Shallow copy - affect others data"
   ]
  },
  {
   "cell_type": "code",
   "execution_count": 215,
   "id": "1f69ebb0-d050-42f6-9768-69870c51538c",
   "metadata": {},
   "outputs": [
    {
     "data": {
      "text/plain": [
       "(1, 2, 3, 4, 'Amit', 'Pwskills', (4+5j), True, 54.5)"
      ]
     },
     "execution_count": 215,
     "metadata": {},
     "output_type": "execute_result"
    }
   ],
   "source": [
    "t"
   ]
  },
  {
   "cell_type": "code",
   "execution_count": 216,
   "id": "5534d36c-c799-4917-adfa-261a6fa2d9bf",
   "metadata": {},
   "outputs": [
    {
     "data": {
      "text/plain": [
       "0"
      ]
     },
     "execution_count": 216,
     "metadata": {},
     "output_type": "execute_result"
    }
   ],
   "source": [
    "t.count('t')"
   ]
  },
  {
   "cell_type": "code",
   "execution_count": 217,
   "id": "46a5cd8c-9726-4b0b-89cc-7e5cc6f20cd4",
   "metadata": {},
   "outputs": [
    {
     "data": {
      "text/plain": [
       "1"
      ]
     },
     "execution_count": 217,
     "metadata": {},
     "output_type": "execute_result"
    }
   ],
   "source": [
    "t.count(4)"
   ]
  },
  {
   "cell_type": "code",
   "execution_count": 218,
   "id": "f0b18a7e-627a-4f1a-9c9d-03d346fe1037",
   "metadata": {},
   "outputs": [
    {
     "data": {
      "text/plain": [
       "4"
      ]
     },
     "execution_count": 218,
     "metadata": {},
     "output_type": "execute_result"
    }
   ],
   "source": [
    "t.index('Amit')"
   ]
  },
  {
   "cell_type": "code",
   "execution_count": 219,
   "id": "2ff224c1-8102-4be9-9b1d-ad30bf5a1045",
   "metadata": {},
   "outputs": [
    {
     "data": {
      "text/plain": [
       "{}"
      ]
     },
     "execution_count": 219,
     "metadata": {},
     "output_type": "execute_result"
    }
   ],
   "source": [
    "s"
   ]
  },
  {
   "cell_type": "code",
   "execution_count": 220,
   "id": "baf870a0-6601-4acc-9f6a-b60c80c2baed",
   "metadata": {},
   "outputs": [],
   "source": [
    "s = {23,445,65,76,878,5,4,3,2,7,42,5}"
   ]
  },
  {
   "cell_type": "code",
   "execution_count": 221,
   "id": "a1cc25dd-4472-4613-8e47-1d9373b57517",
   "metadata": {},
   "outputs": [
    {
     "data": {
      "text/plain": [
       "{2, 3, 4, 5, 7, 23, 42, 65, 76, 445, 878}"
      ]
     },
     "execution_count": 221,
     "metadata": {},
     "output_type": "execute_result"
    }
   ],
   "source": [
    "s"
   ]
  },
  {
   "cell_type": "code",
   "execution_count": 222,
   "id": "7d7193ff-8b1e-4b63-b3eb-b830b785c748",
   "metadata": {},
   "outputs": [
    {
     "data": {
      "text/plain": [
       "set"
      ]
     },
     "execution_count": 222,
     "metadata": {},
     "output_type": "execute_result"
    }
   ],
   "source": [
    "type(s)"
   ]
  },
  {
   "cell_type": "code",
   "execution_count": 223,
   "id": "6b9270db-1d8a-4d10-9fc2-25699f3c3bfe",
   "metadata": {},
   "outputs": [],
   "source": [
    "s.add(543)"
   ]
  },
  {
   "cell_type": "code",
   "execution_count": 224,
   "id": "9ed78140-90f1-4362-a350-ab6a6b627b5e",
   "metadata": {},
   "outputs": [
    {
     "data": {
      "text/plain": [
       "{2, 3, 4, 5, 7, 23, 42, 65, 76, 445, 543, 878}"
      ]
     },
     "execution_count": 224,
     "metadata": {},
     "output_type": "execute_result"
    }
   ],
   "source": [
    "s"
   ]
  },
  {
   "cell_type": "code",
   "execution_count": 225,
   "id": "b718b8f0-b944-4a66-b186-9ee798fea539",
   "metadata": {},
   "outputs": [],
   "source": [
    "s.add(7)"
   ]
  },
  {
   "cell_type": "code",
   "execution_count": 226,
   "id": "fb8b1a33-36d2-4b3d-b227-2f438b4c38fd",
   "metadata": {},
   "outputs": [
    {
     "data": {
      "text/plain": [
       "{2, 3, 4, 5, 7, 23, 42, 65, 76, 445, 543, 878}"
      ]
     },
     "execution_count": 226,
     "metadata": {},
     "output_type": "execute_result"
    }
   ],
   "source": [
    "s"
   ]
  },
  {
   "cell_type": "code",
   "execution_count": 227,
   "id": "ab84e756-aab3-48cf-949f-ceef1fdf27fb",
   "metadata": {},
   "outputs": [],
   "source": [
    "s.discard(3)"
   ]
  },
  {
   "cell_type": "code",
   "execution_count": 228,
   "id": "634df213-491b-4b01-91ef-5f872cfe2320",
   "metadata": {},
   "outputs": [
    {
     "data": {
      "text/plain": [
       "{2, 4, 5, 7, 23, 42, 65, 76, 445, 543, 878}"
      ]
     },
     "execution_count": 228,
     "metadata": {},
     "output_type": "execute_result"
    }
   ],
   "source": [
    "s"
   ]
  },
  {
   "cell_type": "code",
   "execution_count": 229,
   "id": "ff4adb37-f05b-490b-b355-123c6f23c3a1",
   "metadata": {},
   "outputs": [
    {
     "data": {
      "text/plain": [
       "65"
      ]
     },
     "execution_count": 229,
     "metadata": {},
     "output_type": "execute_result"
    }
   ],
   "source": [
    "s.pop()"
   ]
  },
  {
   "cell_type": "code",
   "execution_count": 230,
   "id": "3d6e4773-5581-4f0e-a36b-26fec6e3b525",
   "metadata": {},
   "outputs": [
    {
     "data": {
      "text/plain": [
       "{2, 4, 5, 7, 23, 42, 76, 445, 543, 878}"
      ]
     },
     "execution_count": 230,
     "metadata": {},
     "output_type": "execute_result"
    }
   ],
   "source": [
    "s"
   ]
  },
  {
   "cell_type": "code",
   "execution_count": 231,
   "id": "e38e9b5b-aba1-4352-bdfc-56ceff1bc497",
   "metadata": {},
   "outputs": [],
   "source": [
    "s.remove(42)"
   ]
  },
  {
   "cell_type": "code",
   "execution_count": 232,
   "id": "d4e17485-61f5-4231-9e0a-54111955e7d0",
   "metadata": {},
   "outputs": [
    {
     "data": {
      "text/plain": [
       "{2, 4, 5, 7, 23, 76, 445, 543, 878}"
      ]
     },
     "execution_count": 232,
     "metadata": {},
     "output_type": "execute_result"
    }
   ],
   "source": [
    "s"
   ]
  },
  {
   "cell_type": "code",
   "execution_count": 233,
   "id": "62e4ef92-0fa7-45c5-8354-9e839d8aebc6",
   "metadata": {},
   "outputs": [
    {
     "data": {
      "text/plain": [
       "2"
      ]
     },
     "execution_count": 233,
     "metadata": {},
     "output_type": "execute_result"
    }
   ],
   "source": [
    "s.pop()"
   ]
  },
  {
   "cell_type": "code",
   "execution_count": 234,
   "id": "c6d9293c-8c6e-4cb8-afcf-5a624033e3ae",
   "metadata": {},
   "outputs": [
    {
     "data": {
      "text/plain": [
       "{4, 5, 7, 23, 76, 445, 543, 878}"
      ]
     },
     "execution_count": 234,
     "metadata": {},
     "output_type": "execute_result"
    }
   ],
   "source": [
    "s"
   ]
  },
  {
   "cell_type": "code",
   "execution_count": 235,
   "id": "16de9489-129d-4d9a-bd0d-9a50f654aa4e",
   "metadata": {},
   "outputs": [
    {
     "data": {
      "text/plain": [
       "{'name': 'Amit',\n",
       " 'Subject': ['DS', 'Big Data', 'Data Analytics'],\n",
       " 'number': 5898034}"
      ]
     },
     "execution_count": 235,
     "metadata": {},
     "output_type": "execute_result"
    }
   ],
   "source": [
    "d1"
   ]
  },
  {
   "cell_type": "code",
   "execution_count": 236,
   "id": "2ac02878-74c7-4fbb-aec1-7211e3257597",
   "metadata": {},
   "outputs": [
    {
     "data": {
      "text/plain": [
       "dict_keys(['name', 'Subject', 'number'])"
      ]
     },
     "execution_count": 236,
     "metadata": {},
     "output_type": "execute_result"
    }
   ],
   "source": [
    "d1.keys()"
   ]
  },
  {
   "cell_type": "code",
   "execution_count": 237,
   "id": "731e9822-5e0f-491d-8a03-ec0927b2ff33",
   "metadata": {},
   "outputs": [
    {
     "data": {
      "text/plain": [
       "['name', 'Subject', 'number']"
      ]
     },
     "execution_count": 237,
     "metadata": {},
     "output_type": "execute_result"
    }
   ],
   "source": [
    "list(d1.keys())"
   ]
  },
  {
   "cell_type": "code",
   "execution_count": 238,
   "id": "798844a2-f797-4a2e-bed3-6b8d43d40c58",
   "metadata": {},
   "outputs": [
    {
     "data": {
      "text/plain": [
       "dict_values(['Amit', ['DS', 'Big Data', 'Data Analytics'], 5898034])"
      ]
     },
     "execution_count": 238,
     "metadata": {},
     "output_type": "execute_result"
    }
   ],
   "source": [
    "d1.values()"
   ]
  },
  {
   "cell_type": "code",
   "execution_count": 239,
   "id": "11df0e95-6b81-444b-85fe-136941e7585b",
   "metadata": {},
   "outputs": [
    {
     "data": {
      "text/plain": [
       "['Amit', ['DS', 'Big Data', 'Data Analytics'], 5898034]"
      ]
     },
     "execution_count": 239,
     "metadata": {},
     "output_type": "execute_result"
    }
   ],
   "source": [
    "list(d1.values())"
   ]
  },
  {
   "cell_type": "code",
   "execution_count": 240,
   "id": "620c9123-5316-48d9-85e9-3a90da7a2d13",
   "metadata": {},
   "outputs": [
    {
     "data": {
      "text/plain": [
       "dict_items([('name', 'Amit'), ('Subject', ['DS', 'Big Data', 'Data Analytics']), ('number', 5898034)])"
      ]
     },
     "execution_count": 240,
     "metadata": {},
     "output_type": "execute_result"
    }
   ],
   "source": [
    "d1.items()"
   ]
  },
  {
   "cell_type": "code",
   "execution_count": 241,
   "id": "b80c5b7a-a7ae-4272-a76a-c5ca5f8a2949",
   "metadata": {},
   "outputs": [
    {
     "data": {
      "text/plain": [
       "[('name', 'Amit'),\n",
       " ('Subject', ['DS', 'Big Data', 'Data Analytics']),\n",
       " ('number', 5898034)]"
      ]
     },
     "execution_count": 241,
     "metadata": {},
     "output_type": "execute_result"
    }
   ],
   "source": [
    "list(d1.items())"
   ]
  },
  {
   "cell_type": "code",
   "execution_count": 242,
   "id": "896025a0-0783-4bc9-9278-1994ff6e88fb",
   "metadata": {},
   "outputs": [
    {
     "data": {
      "text/plain": [
       "'Amit'"
      ]
     },
     "execution_count": 242,
     "metadata": {},
     "output_type": "execute_result"
    }
   ],
   "source": [
    "d1.get('name')"
   ]
  },
  {
   "cell_type": "code",
   "execution_count": 244,
   "id": "824ca7ee-0879-4968-bd16-e8e30275d13f",
   "metadata": {},
   "outputs": [
    {
     "data": {
      "text/plain": [
       "'Amit'"
      ]
     },
     "execution_count": 244,
     "metadata": {},
     "output_type": "execute_result"
    }
   ],
   "source": [
    "d1['name']"
   ]
  },
  {
   "cell_type": "code",
   "execution_count": 245,
   "id": "72d0108f-a36b-459b-a30e-5e2127d53c65",
   "metadata": {},
   "outputs": [
    {
     "data": {
      "text/plain": [
       "'Amit'"
      ]
     },
     "execution_count": 245,
     "metadata": {},
     "output_type": "execute_result"
    }
   ],
   "source": [
    "d1.pop('name')"
   ]
  },
  {
   "cell_type": "code",
   "execution_count": 246,
   "id": "fcfe0be1-d6f0-4497-984b-3157f2d84502",
   "metadata": {},
   "outputs": [
    {
     "data": {
      "text/plain": [
       "{'Subject': ['DS', 'Big Data', 'Data Analytics'], 'number': 5898034}"
      ]
     },
     "execution_count": 246,
     "metadata": {},
     "output_type": "execute_result"
    }
   ],
   "source": [
    "d1"
   ]
  },
  {
   "cell_type": "code",
   "execution_count": 247,
   "id": "868e134f-b464-48f6-bad6-c7967092d82a",
   "metadata": {},
   "outputs": [
    {
     "data": {
      "text/plain": [
       "['Subject', 'number']"
      ]
     },
     "execution_count": 247,
     "metadata": {},
     "output_type": "execute_result"
    }
   ],
   "source": [
    "list(d1)"
   ]
  },
  {
   "cell_type": "code",
   "execution_count": 248,
   "id": "1a52f520-f314-4885-ad12-5e35d1ad34de",
   "metadata": {},
   "outputs": [],
   "source": [
    "d1['test'] = \"dsdffd\""
   ]
  },
  {
   "cell_type": "code",
   "execution_count": 249,
   "id": "a6839a69-1c9b-4749-bbb2-61d3591206a3",
   "metadata": {},
   "outputs": [
    {
     "data": {
      "text/plain": [
       "{'Subject': ['DS', 'Big Data', 'Data Analytics'],\n",
       " 'number': 5898034,\n",
       " 'test': 'dsdffd'}"
      ]
     },
     "execution_count": 249,
     "metadata": {},
     "output_type": "execute_result"
    }
   ],
   "source": [
    "d1"
   ]
  },
  {
   "cell_type": "code",
   "execution_count": null,
   "id": "dea87575-be4f-4b93-a046-db266f83e2f0",
   "metadata": {},
   "outputs": [],
   "source": []
  }
 ],
 "metadata": {
  "kernelspec": {
   "display_name": "Python 3 (ipykernel)",
   "language": "python",
   "name": "python3"
  },
  "language_info": {
   "codemirror_mode": {
    "name": "ipython",
    "version": 3
   },
   "file_extension": ".py",
   "mimetype": "text/x-python",
   "name": "python",
   "nbconvert_exporter": "python",
   "pygments_lexer": "ipython3",
   "version": "3.10.8"
  }
 },
 "nbformat": 4,
 "nbformat_minor": 5
}
