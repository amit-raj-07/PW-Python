{
 "cells": [
  {
   "cell_type": "markdown",
   "id": "d903e832-f631-457b-843f-de3eda4c8cd8",
   "metadata": {},
   "source": [
    "#Data Types\n",
    "\n",
    "1. Numeric --- INT,FLOAT, COMPLEX\n",
    "2. STRING - STR\n",
    "3. LIST\n",
    "4. TUPLE\n",
    "5. DICT\n",
    "6. SETS"
   ]
  },
  {
   "cell_type": "code",
   "execution_count": 1,
   "id": "65f9045e-b579-4c93-b6a3-93533d5fd7de",
   "metadata": {},
   "outputs": [],
   "source": [
    "x=10\n"
   ]
  },
  {
   "cell_type": "code",
   "execution_count": 2,
   "id": "0c21ce83-d271-44ec-9b74-eb5c498ab954",
   "metadata": {},
   "outputs": [],
   "source": [
    "x=10.54"
   ]
  },
  {
   "cell_type": "code",
   "execution_count": 3,
   "id": "4abfdbae-e2dd-4d5e-b09d-0a0b8e25ea7b",
   "metadata": {},
   "outputs": [],
   "source": [
    "x = \"Amit\""
   ]
  },
  {
   "cell_type": "code",
   "execution_count": 4,
   "id": "2fd72b18-9970-4811-9c4b-84893cf41930",
   "metadata": {},
   "outputs": [],
   "source": [
    "x = ['Hi',3,6,4]"
   ]
  },
  {
   "cell_type": "code",
   "execution_count": 5,
   "id": "06c1ab5d-85a9-4f77-8ce3-7c5849ef99aa",
   "metadata": {},
   "outputs": [],
   "source": [
    "y = {'name': 'Amit'}"
   ]
  },
  {
   "cell_type": "code",
   "execution_count": 6,
   "id": "83f43eed-ec67-405d-b862-88d1c50c1e9c",
   "metadata": {},
   "outputs": [],
   "source": [
    "h = (2,3,4,6)"
   ]
  },
  {
   "cell_type": "code",
   "execution_count": 7,
   "id": "d54efe9e-c00a-470a-b456-07e4ab834270",
   "metadata": {},
   "outputs": [
    {
     "data": {
      "text/plain": [
       "dict"
      ]
     },
     "execution_count": 7,
     "metadata": {},
     "output_type": "execute_result"
    }
   ],
   "source": [
    "type(y)"
   ]
  },
  {
   "cell_type": "markdown",
   "id": "690fa0c2-abba-4502-9437-4716df593d7a",
   "metadata": {},
   "source": [
    "#INPUT and OUTPUT function"
   ]
  },
  {
   "cell_type": "markdown",
   "id": "0ccfad81-3000-4df0-a6b7-93bca16289be",
   "metadata": {},
   "source": [
    "#INPUT"
   ]
  },
  {
   "cell_type": "code",
   "execution_count": 9,
   "id": "16ff4f3b-e6bb-496d-a5bf-3babbe3f5c8a",
   "metadata": {},
   "outputs": [
    {
     "name": "stdin",
     "output_type": "stream",
     "text": [
      " Raj\n"
     ]
    }
   ],
   "source": [
    "x = input()"
   ]
  },
  {
   "cell_type": "code",
   "execution_count": 10,
   "id": "85345ccc-f36a-4197-b185-982776135ad8",
   "metadata": {},
   "outputs": [
    {
     "data": {
      "text/plain": [
       "'Raj'"
      ]
     },
     "execution_count": 10,
     "metadata": {},
     "output_type": "execute_result"
    }
   ],
   "source": [
    "x"
   ]
  },
  {
   "cell_type": "code",
   "execution_count": 11,
   "id": "cc51ea89-3833-47c5-a90a-d7635e0cd3b8",
   "metadata": {},
   "outputs": [
    {
     "name": "stdin",
     "output_type": "stream",
     "text": [
      " Amit\n"
     ]
    }
   ],
   "source": [
    "y=input()"
   ]
  },
  {
   "cell_type": "code",
   "execution_count": 12,
   "id": "4d1b3828-e20e-4b1f-b0ae-6276df0724cf",
   "metadata": {},
   "outputs": [
    {
     "data": {
      "text/plain": [
       "'Amit'"
      ]
     },
     "execution_count": 12,
     "metadata": {},
     "output_type": "execute_result"
    }
   ],
   "source": [
    "y"
   ]
  },
  {
   "cell_type": "code",
   "execution_count": 13,
   "id": "c44c429a-bc8a-4cf4-8079-0f8fc852dc3f",
   "metadata": {},
   "outputs": [
    {
     "name": "stdin",
     "output_type": "stream",
     "text": [
      " 5\n"
     ]
    }
   ],
   "source": [
    "y=input()"
   ]
  },
  {
   "cell_type": "code",
   "execution_count": 14,
   "id": "67ef807b-6a36-42fe-8556-66b4d8968f85",
   "metadata": {},
   "outputs": [
    {
     "data": {
      "text/plain": [
       "'5'"
      ]
     },
     "execution_count": 14,
     "metadata": {},
     "output_type": "execute_result"
    }
   ],
   "source": [
    "y"
   ]
  },
  {
   "cell_type": "code",
   "execution_count": 16,
   "id": "1e782a46-8808-4178-b441-42053a3422b6",
   "metadata": {},
   "outputs": [
    {
     "name": "stdout",
     "output_type": "stream",
     "text": [
      "5\n"
     ]
    }
   ],
   "source": [
    "print(y)"
   ]
  },
  {
   "cell_type": "code",
   "execution_count": 17,
   "id": "34a4fb7c-76c7-4379-a97f-c0cd5013aaae",
   "metadata": {},
   "outputs": [
    {
     "name": "stdout",
     "output_type": "stream",
     "text": [
      "30\n"
     ]
    }
   ],
   "source": [
    "x=10\n",
    "y=20\n",
    "print(x+y)"
   ]
  },
  {
   "cell_type": "code",
   "execution_count": 18,
   "id": "9d7928c0-acec-454b-be34-f1076916a75b",
   "metadata": {},
   "outputs": [
    {
     "name": "stdin",
     "output_type": "stream",
     "text": [
      "Enter value :  5\n",
      "Enter value :  6\n"
     ]
    },
    {
     "name": "stdout",
     "output_type": "stream",
     "text": [
      "30\n"
     ]
    }
   ],
   "source": [
    "x=int(input(\"Enter value : \"))\n",
    "y=int(input(\"Enter value : \"))\n",
    "print(x*y)"
   ]
  },
  {
   "cell_type": "markdown",
   "id": "2330d8d2-0d3e-4814-8410-392c4e5dbe04",
   "metadata": {},
   "source": [
    "#Printing formats"
   ]
  },
  {
   "cell_type": "code",
   "execution_count": 19,
   "id": "3a017a45-40d3-4eb5-832f-dff86693041d",
   "metadata": {},
   "outputs": [
    {
     "name": "stdout",
     "output_type": "stream",
     "text": [
      "PwSkills\n"
     ]
    }
   ],
   "source": [
    "print(\"PwSkills\")"
   ]
  },
  {
   "cell_type": "code",
   "execution_count": 22,
   "id": "105c2c6d-a007-4f50-821b-e1600320b597",
   "metadata": {},
   "outputs": [
    {
     "name": "stdout",
     "output_type": "stream",
     "text": [
      "hi pwskills\n"
     ]
    }
   ],
   "source": [
    "x=\"hi\"\n",
    "y=\"pwskills\"\n",
    "print(f\"{x} {y}\")  #with placeholder"
   ]
  },
  {
   "cell_type": "code",
   "execution_count": 21,
   "id": "76df4f62-8666-438f-bcec-d7aaafa02c67",
   "metadata": {},
   "outputs": [
    {
     "name": "stdout",
     "output_type": "stream",
     "text": [
      "hi company name is :- pwskills\n"
     ]
    }
   ],
   "source": [
    "x=\"hi\"\n",
    "y=\"pwskills\"\n",
    "print(f\"{x} company name is :- {y}\")"
   ]
  },
  {
   "cell_type": "code",
   "execution_count": 25,
   "id": "97b6ac2d-8048-47b5-a049-650728a5407c",
   "metadata": {},
   "outputs": [
    {
     "name": "stdout",
     "output_type": "stream",
     "text": [
      "Pw and skills \n"
     ]
    }
   ],
   "source": [
    "print(\"{0} and {1} \".format(\"Pw\", \"skills\"))  #indexing and its value"
   ]
  },
  {
   "cell_type": "code",
   "execution_count": 26,
   "id": "9426ea34-bad1-42e1-9292-81deb79d698f",
   "metadata": {},
   "outputs": [
    {
     "name": "stdout",
     "output_type": "stream",
     "text": [
      "skills and Pw \n"
     ]
    }
   ],
   "source": [
    "print(\"{1} and {0} \".format(\"Pw\", \"skills\"))"
   ]
  },
  {
   "cell_type": "code",
   "execution_count": 27,
   "id": "94997906-db29-46f9-8faa-8926aaafbfff",
   "metadata": {},
   "outputs": [
    {
     "name": "stdout",
     "output_type": "stream",
     "text": [
      "skills and Pw and Air \n"
     ]
    }
   ],
   "source": [
    "print(\"{1} and {0} and {2} \".format(\"Pw\", \"skills\",\"Air\"))"
   ]
  },
  {
   "cell_type": "markdown",
   "id": "30178259-78a2-404b-bcda-ce5fa9d3b4da",
   "metadata": {},
   "source": [
    "Questions"
   ]
  },
  {
   "cell_type": "code",
   "execution_count": 29,
   "id": "c1f69270-b510-4a06-aef6-44d37f7bd7af",
   "metadata": {},
   "outputs": [],
   "source": [
    "#Print the follwing lines\n",
    "\n"
   ]
  },
  {
   "cell_type": "code",
   "execution_count": 30,
   "id": "931a5088-9867-4a72-bab8-5b2298d9cebe",
   "metadata": {},
   "outputs": [
    {
     "name": "stdout",
     "output_type": "stream",
     "text": [
      "89074562\n"
     ]
    }
   ],
   "source": [
    "print(89074562)"
   ]
  },
  {
   "cell_type": "code",
   "execution_count": 32,
   "id": "78ae18f5-88dc-404f-81aa-2047a5f3763f",
   "metadata": {},
   "outputs": [
    {
     "name": "stdout",
     "output_type": "stream",
     "text": [
      "Hii!!\n"
     ]
    }
   ],
   "source": [
    "print(\"Hii!!\")"
   ]
  },
  {
   "cell_type": "code",
   "execution_count": 33,
   "id": "1a33bd31-e21e-4a35-8da8-7aedcec2e1f3",
   "metadata": {},
   "outputs": [
    {
     "name": "stdout",
     "output_type": "stream",
     "text": [
      "$$Howareyou??\n"
     ]
    }
   ],
   "source": [
    "print(\"$$Howareyou??\")"
   ]
  },
  {
   "cell_type": "code",
   "execution_count": 34,
   "id": "85ae9cfe-425b-49e6-b812-f24dd176abfc",
   "metadata": {},
   "outputs": [
    {
     "name": "stdout",
     "output_type": "stream",
     "text": [
      "100\n"
     ]
    }
   ],
   "source": [
    "print(10*10)"
   ]
  },
  {
   "cell_type": "code",
   "execution_count": 35,
   "id": "90a9067c-f6bc-438c-9e79-79d5db9f55d0",
   "metadata": {},
   "outputs": [
    {
     "name": "stdout",
     "output_type": "stream",
     "text": [
      "True\n"
     ]
    }
   ],
   "source": [
    "if(12>10):\n",
    "    print(\"True\")"
   ]
  },
  {
   "cell_type": "code",
   "execution_count": 36,
   "id": "a1140bad-5b76-4a96-bc78-297ae5c21022",
   "metadata": {},
   "outputs": [
    {
     "name": "stdout",
     "output_type": "stream",
     "text": [
      "I am Here to learn 'Python'\n"
     ]
    }
   ],
   "source": [
    "print(\"I am Here to learn 'Python'\")"
   ]
  },
  {
   "cell_type": "code",
   "execution_count": 42,
   "id": "712ef880-f219-48e0-8c60-28b0fbc4a5d5",
   "metadata": {},
   "outputs": [
    {
     "name": "stdout",
     "output_type": "stream",
     "text": [
      "         $\n",
      "         $$\n",
      "         $$$\n",
      "         $$$$\n",
      "         $$$$$\n"
     ]
    }
   ],
   "source": [
    "print(\"\"\"         $\n",
    "         $$\n",
    "         $$$\n",
    "         $$$$\n",
    "         $$$$$\"\"\")"
   ]
  },
  {
   "cell_type": "code",
   "execution_count": 46,
   "id": "9eed1389-2b62-4833-981a-83311741d84e",
   "metadata": {},
   "outputs": [
    {
     "name": "stdin",
     "output_type": "stream",
     "text": [
      "Enter the string : cool\n"
     ]
    },
    {
     "name": "stdout",
     "output_type": "stream",
     "text": [
      "!cool!\n"
     ]
    }
   ],
   "source": [
    "input_str = input(\"Enter the string :\")\n",
    "y = input_str\n",
    "z = \"!\" + y + \"!\"\n",
    "print(z)\n"
   ]
  },
  {
   "cell_type": "markdown",
   "id": "23746a0f-17a2-41cc-bda7-158676f00e9f",
   "metadata": {},
   "source": [
    "#Operators"
   ]
  },
  {
   "cell_type": "code",
   "execution_count": 47,
   "id": "3dcde274-d49b-463e-915a-0f041f2b025a",
   "metadata": {},
   "outputs": [],
   "source": [
    "a = 200\n",
    "b = 10"
   ]
  },
  {
   "cell_type": "code",
   "execution_count": 51,
   "id": "2f170433-6b93-47fa-b6df-05dcd76043c7",
   "metadata": {},
   "outputs": [
    {
     "data": {
      "text/plain": [
       "20.0"
      ]
     },
     "execution_count": 51,
     "metadata": {},
     "output_type": "execute_result"
    }
   ],
   "source": [
    "a/b  #division,gives the floating value"
   ]
  },
  {
   "cell_type": "code",
   "execution_count": 52,
   "id": "4bc709bd-2915-419f-94fb-18afd2489b36",
   "metadata": {},
   "outputs": [
    {
     "data": {
      "text/plain": [
       "20"
      ]
     },
     "execution_count": 52,
     "metadata": {},
     "output_type": "execute_result"
    }
   ],
   "source": [
    "a//b  #quotient"
   ]
  },
  {
   "cell_type": "code",
   "execution_count": 53,
   "id": "122aa95b-eee6-46f9-87c4-f27321033a14",
   "metadata": {},
   "outputs": [
    {
     "data": {
      "text/plain": [
       "0"
      ]
     },
     "execution_count": 53,
     "metadata": {},
     "output_type": "execute_result"
    }
   ],
   "source": [
    "a%b  #remainder"
   ]
  },
  {
   "cell_type": "code",
   "execution_count": 58,
   "id": "52ca2c17-0a0c-4591-9bf6-ef48a0195805",
   "metadata": {},
   "outputs": [
    {
     "data": {
      "text/plain": [
       "True"
      ]
     },
     "execution_count": 58,
     "metadata": {},
     "output_type": "execute_result"
    }
   ],
   "source": [
    "a=10\n",
    "b=10\n",
    "a==b  #equality operators\n",
    "#compare the equality of objects"
   ]
  },
  {
   "cell_type": "code",
   "execution_count": 64,
   "id": "f7d3fa2b-ce9a-4d9a-b1a5-0e7555a3eac3",
   "metadata": {},
   "outputs": [
    {
     "data": {
      "text/plain": [
       "False"
      ]
     },
     "execution_count": 64,
     "metadata": {},
     "output_type": "execute_result"
    }
   ],
   "source": [
    "a is b #identity operator\n",
    "#address is difference, if addreess same then it is true otherwise false"
   ]
  },
  {
   "cell_type": "code",
   "execution_count": 59,
   "id": "55331bbf-0098-4318-b7a5-564856d38bbd",
   "metadata": {},
   "outputs": [],
   "source": [
    "a = 20\n",
    "b = 30"
   ]
  },
  {
   "cell_type": "code",
   "execution_count": 60,
   "id": "352b0cef-40df-47cc-a220-a86858b166e6",
   "metadata": {},
   "outputs": [
    {
     "data": {
      "text/plain": [
       "False"
      ]
     },
     "execution_count": 60,
     "metadata": {},
     "output_type": "execute_result"
    }
   ],
   "source": [
    "a==b"
   ]
  },
  {
   "cell_type": "code",
   "execution_count": 61,
   "id": "1b0638aa-1354-4708-a131-6d940a34a78b",
   "metadata": {},
   "outputs": [
    {
     "data": {
      "text/plain": [
       "False"
      ]
     },
     "execution_count": 61,
     "metadata": {},
     "output_type": "execute_result"
    }
   ],
   "source": [
    "a is b"
   ]
  },
  {
   "cell_type": "code",
   "execution_count": 62,
   "id": "ff1d29c6-73da-4038-9621-6eb9451af1d6",
   "metadata": {},
   "outputs": [
    {
     "data": {
      "text/plain": [
       "140254925947728"
      ]
     },
     "execution_count": 62,
     "metadata": {},
     "output_type": "execute_result"
    }
   ],
   "source": [
    "id(a)"
   ]
  },
  {
   "cell_type": "code",
   "execution_count": 63,
   "id": "1b587d78-98fb-41b1-88d0-3b349952f955",
   "metadata": {},
   "outputs": [
    {
     "data": {
      "text/plain": [
       "140254925948048"
      ]
     },
     "execution_count": 63,
     "metadata": {},
     "output_type": "execute_result"
    }
   ],
   "source": [
    "id(b)\n"
   ]
  },
  {
   "cell_type": "code",
   "execution_count": 65,
   "id": "68596c27-554a-4f14-87ba-976be5fb953f",
   "metadata": {},
   "outputs": [
    {
     "data": {
      "text/plain": [
       "True"
      ]
     },
     "execution_count": 65,
     "metadata": {},
     "output_type": "execute_result"
    }
   ],
   "source": [
    "a!=b"
   ]
  },
  {
   "cell_type": "code",
   "execution_count": 66,
   "id": "dc6991f4-4daf-456a-af12-7bbfe175a668",
   "metadata": {},
   "outputs": [],
   "source": [
    "a = [1,2,3]"
   ]
  },
  {
   "cell_type": "code",
   "execution_count": 67,
   "id": "6405efc0-0dd9-455c-a2ae-008ff492e3bb",
   "metadata": {},
   "outputs": [],
   "source": [
    "b = [1,2,3]"
   ]
  },
  {
   "cell_type": "code",
   "execution_count": 68,
   "id": "e4ce7974-f220-45ca-94d8-0e1921192796",
   "metadata": {},
   "outputs": [
    {
     "data": {
      "text/plain": [
       "True"
      ]
     },
     "execution_count": 68,
     "metadata": {},
     "output_type": "execute_result"
    }
   ],
   "source": [
    "a == b"
   ]
  },
  {
   "cell_type": "code",
   "execution_count": 69,
   "id": "642dcfbf-158b-4a21-8851-e79b22bdf657",
   "metadata": {},
   "outputs": [
    {
     "data": {
      "text/plain": [
       "False"
      ]
     },
     "execution_count": 69,
     "metadata": {},
     "output_type": "execute_result"
    }
   ],
   "source": [
    "a is b"
   ]
  },
  {
   "cell_type": "code",
   "execution_count": 70,
   "id": "af1513e1-d8f0-432d-b1b6-d1ce4aba3242",
   "metadata": {},
   "outputs": [
    {
     "data": {
      "text/plain": [
       "140254577760384"
      ]
     },
     "execution_count": 70,
     "metadata": {},
     "output_type": "execute_result"
    }
   ],
   "source": [
    "id(a)"
   ]
  },
  {
   "cell_type": "code",
   "execution_count": 71,
   "id": "bdb50e78-a668-479d-93a7-921831db0b1e",
   "metadata": {},
   "outputs": [
    {
     "data": {
      "text/plain": [
       "140254577328256"
      ]
     },
     "execution_count": 71,
     "metadata": {},
     "output_type": "execute_result"
    }
   ],
   "source": [
    "id(b)"
   ]
  },
  {
   "cell_type": "code",
   "execution_count": 72,
   "id": "a9ac965b-3aad-4bc8-83a3-398ca9ef6b66",
   "metadata": {},
   "outputs": [],
   "source": [
    "a = [1,2,3]"
   ]
  },
  {
   "cell_type": "code",
   "execution_count": 73,
   "id": "068c7a0a-a7c2-460d-91c6-aaf0700cfd21",
   "metadata": {},
   "outputs": [],
   "source": [
    "a=b"
   ]
  },
  {
   "cell_type": "code",
   "execution_count": 74,
   "id": "31c790cb-4b78-47bf-8e4f-07aea2b65b61",
   "metadata": {},
   "outputs": [
    {
     "data": {
      "text/plain": [
       "True"
      ]
     },
     "execution_count": 74,
     "metadata": {},
     "output_type": "execute_result"
    }
   ],
   "source": [
    "a is b #same memory location"
   ]
  },
  {
   "cell_type": "code",
   "execution_count": 75,
   "id": "3474f617-09cf-4614-9308-ba31fb29eba0",
   "metadata": {},
   "outputs": [
    {
     "data": {
      "text/plain": [
       "True"
      ]
     },
     "execution_count": 75,
     "metadata": {},
     "output_type": "execute_result"
    }
   ],
   "source": [
    "a == b"
   ]
  },
  {
   "cell_type": "code",
   "execution_count": 78,
   "id": "14d6c106-bec3-4668-b4f7-2e90d1ff397f",
   "metadata": {},
   "outputs": [
    {
     "data": {
      "text/plain": [
       "50031545098999707"
      ]
     },
     "execution_count": 78,
     "metadata": {},
     "output_type": "execute_result"
    }
   ],
   "source": [
    "3**(35)"
   ]
  },
  {
   "cell_type": "code",
   "execution_count": 80,
   "id": "a16a9adf-1980-4518-a3d6-149eb85d3b16",
   "metadata": {},
   "outputs": [
    {
     "name": "stdin",
     "output_type": "stream",
     "text": [
      " 10\n"
     ]
    },
    {
     "name": "stdout",
     "output_type": "stream",
     "text": [
      "5003154509899971.0\n"
     ]
    }
   ],
   "source": [
    "a = int(input())\n",
    "b = 3**35/a\n",
    "print(b)"
   ]
  },
  {
   "cell_type": "code",
   "execution_count": 81,
   "id": "fcce2ddc-7dd5-47e6-8d73-c4487464f7ae",
   "metadata": {},
   "outputs": [
    {
     "data": {
      "text/plain": [
       "4"
      ]
     },
     "execution_count": 81,
     "metadata": {},
     "output_type": "execute_result"
    }
   ],
   "source": [
    "2**2"
   ]
  },
  {
   "cell_type": "code",
   "execution_count": 83,
   "id": "d6fac845-86cd-4d0b-8586-f341bb359d10",
   "metadata": {},
   "outputs": [
    {
     "name": "stdin",
     "output_type": "stream",
     "text": [
      " 10\n"
     ]
    },
    {
     "name": "stdout",
     "output_type": "stream",
     "text": [
      "5003154509899970\n"
     ]
    }
   ],
   "source": [
    "a = int(input())\n",
    "b = 3**35//a\n",
    "print(b)  #give floor value"
   ]
  },
  {
   "cell_type": "code",
   "execution_count": 84,
   "id": "46e32e19-c5d4-47c6-a1c4-fac52db8f689",
   "metadata": {},
   "outputs": [],
   "source": [
    "a=10\n",
    "b=20"
   ]
  },
  {
   "cell_type": "code",
   "execution_count": 85,
   "id": "50b9d6a3-4397-44c0-a81d-e78fb5f3fe2f",
   "metadata": {},
   "outputs": [
    {
     "data": {
      "text/plain": [
       "False"
      ]
     },
     "execution_count": 85,
     "metadata": {},
     "output_type": "execute_result"
    }
   ],
   "source": [
    "a>b"
   ]
  },
  {
   "cell_type": "code",
   "execution_count": 86,
   "id": "92570f8a-c8f4-43cb-8e31-2c9d5b1300de",
   "metadata": {},
   "outputs": [
    {
     "data": {
      "text/plain": [
       "True"
      ]
     },
     "execution_count": 86,
     "metadata": {},
     "output_type": "execute_result"
    }
   ],
   "source": [
    "a<b"
   ]
  },
  {
   "cell_type": "markdown",
   "id": "ae61b285-f90b-474e-a2ec-4151d136248d",
   "metadata": {},
   "source": [
    "#Logical operator"
   ]
  },
  {
   "cell_type": "code",
   "execution_count": 87,
   "id": "dc366608-b981-4962-bcc6-135e49fabf54",
   "metadata": {},
   "outputs": [],
   "source": [
    "a = 10\n",
    "b = 4"
   ]
  },
  {
   "cell_type": "code",
   "execution_count": 88,
   "id": "52ce5d6d-0d9e-4fcf-9b70-8128399b4bd1",
   "metadata": {},
   "outputs": [
    {
     "data": {
      "text/plain": [
       "'0b1010'"
      ]
     },
     "execution_count": 88,
     "metadata": {},
     "output_type": "execute_result"
    }
   ],
   "source": [
    "bin(a)"
   ]
  },
  {
   "cell_type": "code",
   "execution_count": 89,
   "id": "ed133282-51f5-4723-907a-6d689c456b78",
   "metadata": {},
   "outputs": [
    {
     "data": {
      "text/plain": [
       "'0b100'"
      ]
     },
     "execution_count": 89,
     "metadata": {},
     "output_type": "execute_result"
    }
   ],
   "source": [
    "bin(b)"
   ]
  },
  {
   "cell_type": "code",
   "execution_count": 90,
   "id": "fc8b76a6-84c6-4f02-b99a-164a604e8e03",
   "metadata": {},
   "outputs": [
    {
     "data": {
      "text/plain": [
       "4"
      ]
     },
     "execution_count": 90,
     "metadata": {},
     "output_type": "execute_result"
    }
   ],
   "source": [
    "a and b"
   ]
  },
  {
   "cell_type": "code",
   "execution_count": 91,
   "id": "7180de29-53a1-4eb2-a114-f7481aebf542",
   "metadata": {},
   "outputs": [
    {
     "data": {
      "text/plain": [
       "0"
      ]
     },
     "execution_count": 91,
     "metadata": {},
     "output_type": "execute_result"
    }
   ],
   "source": [
    "a & b #and operatoer"
   ]
  },
  {
   "cell_type": "code",
   "execution_count": 92,
   "id": "2dc16c1f-5680-426c-bf5c-9ae6b1676eb4",
   "metadata": {},
   "outputs": [
    {
     "data": {
      "text/plain": [
       "14"
      ]
     },
     "execution_count": 92,
     "metadata": {},
     "output_type": "execute_result"
    }
   ],
   "source": [
    "a | b  #or operator"
   ]
  },
  {
   "cell_type": "code",
   "execution_count": 94,
   "id": "eefe04b2-5a64-44da-b050-74290cc15227",
   "metadata": {},
   "outputs": [
    {
     "data": {
      "text/plain": [
       "10"
      ]
     },
     "execution_count": 94,
     "metadata": {},
     "output_type": "execute_result"
    }
   ],
   "source": [
    "a"
   ]
  },
  {
   "cell_type": "code",
   "execution_count": 95,
   "id": "2a893f04-92fb-4bbc-a14a-7011d7db61c4",
   "metadata": {},
   "outputs": [
    {
     "data": {
      "text/plain": [
       "-11"
      ]
     },
     "execution_count": 95,
     "metadata": {},
     "output_type": "execute_result"
    }
   ],
   "source": [
    "~a"
   ]
  },
  {
   "cell_type": "code",
   "execution_count": 96,
   "id": "46c25b89-7e64-4ee5-8cce-1275235112d2",
   "metadata": {},
   "outputs": [
    {
     "data": {
      "text/plain": [
       "14"
      ]
     },
     "execution_count": 96,
     "metadata": {},
     "output_type": "execute_result"
    }
   ],
   "source": [
    "a ^ b"
   ]
  },
  {
   "cell_type": "code",
   "execution_count": 97,
   "id": "d7bb5edb-6b29-45ff-bac5-1388792d423c",
   "metadata": {},
   "outputs": [],
   "source": [
    "a=10"
   ]
  },
  {
   "cell_type": "code",
   "execution_count": 98,
   "id": "d07f520e-5ca8-4e23-b2a6-1e7b1f0a77bb",
   "metadata": {},
   "outputs": [
    {
     "data": {
      "text/plain": [
       "5"
      ]
     },
     "execution_count": 98,
     "metadata": {},
     "output_type": "execute_result"
    }
   ],
   "source": [
    "a>>1"
   ]
  },
  {
   "cell_type": "code",
   "execution_count": 99,
   "id": "141db994-d57f-4439-857b-2df9015d4881",
   "metadata": {},
   "outputs": [
    {
     "data": {
      "text/plain": [
       "20"
      ]
     },
     "execution_count": 99,
     "metadata": {},
     "output_type": "execute_result"
    }
   ],
   "source": [
    "a<<1"
   ]
  },
  {
   "cell_type": "code",
   "execution_count": 100,
   "id": "6291259e-47fa-4b31-a602-dc46004666cf",
   "metadata": {},
   "outputs": [
    {
     "data": {
      "text/plain": [
       "10"
      ]
     },
     "execution_count": 100,
     "metadata": {},
     "output_type": "execute_result"
    }
   ],
   "source": [
    "a"
   ]
  },
  {
   "cell_type": "code",
   "execution_count": 101,
   "id": "f915b07f-104f-49b0-9259-fa648cfd2eba",
   "metadata": {},
   "outputs": [
    {
     "data": {
      "text/plain": [
       "-10"
      ]
     },
     "execution_count": 101,
     "metadata": {},
     "output_type": "execute_result"
    }
   ],
   "source": [
    "-a"
   ]
  },
  {
   "cell_type": "code",
   "execution_count": 102,
   "id": "bda7ab0d-a413-4413-b521-feb71687ec30",
   "metadata": {},
   "outputs": [
    {
     "data": {
      "text/plain": [
       "-11"
      ]
     },
     "execution_count": 102,
     "metadata": {},
     "output_type": "execute_result"
    }
   ],
   "source": [
    "~a"
   ]
  },
  {
   "cell_type": "code",
   "execution_count": 103,
   "id": "06b20a3a-19da-4ab4-89d6-921aff9afaec",
   "metadata": {},
   "outputs": [],
   "source": [
    "a = 10"
   ]
  },
  {
   "cell_type": "code",
   "execution_count": 104,
   "id": "439ae5f3-2de7-4115-a97a-cb637d378f7c",
   "metadata": {},
   "outputs": [],
   "source": [
    "a+= 1"
   ]
  },
  {
   "cell_type": "code",
   "execution_count": 105,
   "id": "cbfc040f-2acb-418e-9d86-96aa59e0852c",
   "metadata": {},
   "outputs": [
    {
     "data": {
      "text/plain": [
       "11"
      ]
     },
     "execution_count": 105,
     "metadata": {},
     "output_type": "execute_result"
    }
   ],
   "source": [
    "a"
   ]
  },
  {
   "cell_type": "code",
   "execution_count": null,
   "id": "56b3164a-606c-49b6-b8eb-5123a560e3b0",
   "metadata": {},
   "outputs": [],
   "source": [
    "#input string\n",
    "input_string = input(\"Enter the string : \")\n",
    "\n",
    "#word to count\n",
    "Word_is = \"Ku\"\n",
    "\n",
    "#count variable to count\n",
    "count_word = 0\n",
    "\n",
    "#Iterate over string\n",
    "for Word_is in input_string:\n",
    "    if Word_is in input_string:\n",
    "        count_word += 1\n",
    "print(\"Total word present in the string is : \", count_word)"
   ]
  },
  {
   "cell_type": "code",
   "execution_count": null,
   "id": "0e5f79d2-14b9-4586-985c-9e23c1c1ad32",
   "metadata": {},
   "outputs": [],
   "source": []
  }
 ],
 "metadata": {
  "kernelspec": {
   "display_name": "Python 3 (ipykernel)",
   "language": "python",
   "name": "python3"
  },
  "language_info": {
   "codemirror_mode": {
    "name": "ipython",
    "version": 3
   },
   "file_extension": ".py",
   "mimetype": "text/x-python",
   "name": "python",
   "nbconvert_exporter": "python",
   "pygments_lexer": "ipython3",
   "version": "3.10.8"
  }
 },
 "nbformat": 4,
 "nbformat_minor": 5
}
