{
 "cells": [
  {
   "cell_type": "code",
   "execution_count": 12,
   "id": "a6d4269e-57b6-47f1-8f60-083c4a2b7ac6",
   "metadata": {},
   "outputs": [
    {
     "name": "stdin",
     "output_type": "stream",
     "text": [
      "Enter a number a :  2\n",
      "Enter a number b :  3\n"
     ]
    }
   ],
   "source": [
    "a=int(input(\"Enter a number a : \"))\n",
    "b=int(input(\"Enter a number b : \"))"
   ]
  },
  {
   "cell_type": "code",
   "execution_count": 13,
   "id": "65d0a963-ed17-4c45-ba5c-4b4fdad226db",
   "metadata": {},
   "outputs": [
    {
     "data": {
      "text/plain": [
       "6"
      ]
     },
     "execution_count": 13,
     "metadata": {},
     "output_type": "execute_result"
    }
   ],
   "source": [
    "a*b"
   ]
  },
  {
   "cell_type": "code",
   "execution_count": 14,
   "id": "c66798c0-149f-4e8c-9cf4-af5bdb13e7bd",
   "metadata": {},
   "outputs": [
    {
     "name": "stdout",
     "output_type": "stream",
     "text": [
      "Enter something\n"
     ]
    }
   ],
   "source": [
    "a/b\n",
    "print(\"Enter something\")"
   ]
  },
  {
   "cell_type": "code",
   "execution_count": 15,
   "id": "987e86b9-8237-4a8b-ad8e-07a90ff981c2",
   "metadata": {},
   "outputs": [],
   "source": [
    "#if b is not zero then it work perfectly...."
   ]
  },
  {
   "cell_type": "code",
   "execution_count": 16,
   "id": "11225f4d-373d-466c-ae52-f2c41e7e4df0",
   "metadata": {},
   "outputs": [
    {
     "data": {
      "text/plain": [
       "5"
      ]
     },
     "execution_count": 16,
     "metadata": {},
     "output_type": "execute_result"
    }
   ],
   "source": [
    "a+b"
   ]
  },
  {
   "cell_type": "code",
   "execution_count": 17,
   "id": "c1e0aa55-be16-4df3-9853-b35ca43fdc77",
   "metadata": {},
   "outputs": [],
   "source": [
    "###Exception Handling"
   ]
  },
  {
   "cell_type": "code",
   "execution_count": 18,
   "id": "c45904b4-f9d3-4934-a801-fdcf41d8014d",
   "metadata": {},
   "outputs": [],
   "source": [
    "l = [4,5,6,7,8,9,0]\n",
    "l1=[]"
   ]
  },
  {
   "cell_type": "code",
   "execution_count": 19,
   "id": "b9c444e5-c1e7-47fc-a9a9-cc9e95bad7bf",
   "metadata": {},
   "outputs": [
    {
     "data": {
      "text/plain": [
       "[4, 6, 8, 0]"
      ]
     },
     "execution_count": 19,
     "metadata": {},
     "output_type": "execute_result"
    }
   ],
   "source": [
    "def even_parser(l):\n",
    "    for i in l:\n",
    "        if i%2==0:\n",
    "            l1.append(i)\n",
    "    return l1\n",
    "even_parser(l)"
   ]
  },
  {
   "cell_type": "code",
   "execution_count": 20,
   "id": "ca73331e-3e23-45a5-a038-a2c094edcf39",
   "metadata": {},
   "outputs": [
    {
     "ename": "TypeError",
     "evalue": "'int' object is not iterable",
     "output_type": "error",
     "traceback": [
      "\u001b[0;31m---------------------------------------------------------------------------\u001b[0m",
      "\u001b[0;31mTypeError\u001b[0m                                 Traceback (most recent call last)",
      "Cell \u001b[0;32mIn[20], line 1\u001b[0m\n\u001b[0;32m----> 1\u001b[0m \u001b[43meven_parser\u001b[49m\u001b[43m(\u001b[49m\u001b[38;5;241;43m6\u001b[39;49m\u001b[43m)\u001b[49m\n\u001b[1;32m      2\u001b[0m \u001b[38;5;28mprint\u001b[39m(\u001b[38;5;124m\"\u001b[39m\u001b[38;5;124mPrint Something\u001b[39m\u001b[38;5;124m\"\u001b[39m)\n",
      "Cell \u001b[0;32mIn[19], line 2\u001b[0m, in \u001b[0;36meven_parser\u001b[0;34m(l)\u001b[0m\n\u001b[1;32m      1\u001b[0m \u001b[38;5;28;01mdef\u001b[39;00m \u001b[38;5;21meven_parser\u001b[39m(l):\n\u001b[0;32m----> 2\u001b[0m     \u001b[38;5;28;01mfor\u001b[39;00m i \u001b[38;5;129;01min\u001b[39;00m l:\n\u001b[1;32m      3\u001b[0m         \u001b[38;5;28;01mif\u001b[39;00m i\u001b[38;5;241m%\u001b[39m\u001b[38;5;241m2\u001b[39m\u001b[38;5;241m==\u001b[39m\u001b[38;5;241m0\u001b[39m:\n\u001b[1;32m      4\u001b[0m             l1\u001b[38;5;241m.\u001b[39mappend(i)\n",
      "\u001b[0;31mTypeError\u001b[0m: 'int' object is not iterable"
     ]
    }
   ],
   "source": [
    "even_parser(6)\n",
    "print(\"Print Something\")"
   ]
  },
  {
   "cell_type": "code",
   "execution_count": 21,
   "id": "2c821e77-a763-4da8-8ea5-28c25375b71f",
   "metadata": {},
   "outputs": [],
   "source": [
    "###Exception Handing Start"
   ]
  },
  {
   "cell_type": "code",
   "execution_count": 22,
   "id": "e5b64a17-6b6b-4470-8532-a032d612cd93",
   "metadata": {},
   "outputs": [
    {
     "name": "stdin",
     "output_type": "stream",
     "text": [
      "Enter a value for a :  5\n",
      "Enter a value for b :  3\n"
     ]
    },
    {
     "name": "stdout",
     "output_type": "stream",
     "text": [
      "1.6666666666666667\n",
      "Good Morning\n"
     ]
    }
   ],
   "source": [
    "try:  ##try to execute, if their is any error then tell us\n",
    "    a = int(input(\"Enter a value for a : \"))\n",
    "    b = int(input(\"Enter a value for b : \"))\n",
    "    c = a/b\n",
    "    print(c)\n",
    "    \n",
    "except:  #try to handle error and execute next line\n",
    "    pass\n",
    "print(\"Good Morning\")"
   ]
  },
  {
   "cell_type": "code",
   "execution_count": 23,
   "id": "1bbe2c9a-e6db-4c5c-930f-527290a69eb1",
   "metadata": {},
   "outputs": [
    {
     "data": {
      "text/plain": [
       "[4, 6, 8, 0]"
      ]
     },
     "execution_count": 23,
     "metadata": {},
     "output_type": "execute_result"
    }
   ],
   "source": [
    "l = [4,5,6,7,8,9,0]\n",
    "l1=[]\n",
    "\n",
    "def even_parser(l):\n",
    "    try:\n",
    "        \n",
    "        for i in l:\n",
    "            if i%2==0:\n",
    "                l1.append(i)\n",
    "        return l1\n",
    "    except:\n",
    "        pass\n",
    "even_parser(l)"
   ]
  },
  {
   "cell_type": "code",
   "execution_count": 24,
   "id": "39772fb0-4ae6-4f09-a1c1-f7ca53eb12d8",
   "metadata": {},
   "outputs": [
    {
     "name": "stdout",
     "output_type": "stream",
     "text": [
      "Kuchh Bolo!!\n"
     ]
    }
   ],
   "source": [
    "even_parser(6)\n",
    "print(\"Kuchh Bolo!!\")"
   ]
  },
  {
   "cell_type": "code",
   "execution_count": 25,
   "id": "52dc48b6-cec7-4ba5-abb6-f1a0781da007",
   "metadata": {},
   "outputs": [],
   "source": [
    "###exception handing is just like coding convention "
   ]
  },
  {
   "cell_type": "code",
   "execution_count": 26,
   "id": "c5dc3c45-cdd0-412a-9581-99f503fa22b0",
   "metadata": {},
   "outputs": [
    {
     "name": "stdout",
     "output_type": "stream",
     "text": [
      "division by zero\n"
     ]
    }
   ],
   "source": [
    "try:\n",
    "    c=6/0\n",
    "except Exception as e:\n",
    "    print(e)"
   ]
  },
  {
   "cell_type": "code",
   "execution_count": 27,
   "id": "20e9a98f-4b48-4b13-8744-c99f6b82ed08",
   "metadata": {},
   "outputs": [
    {
     "ename": "ZeroDivisionError",
     "evalue": "division by zero",
     "output_type": "error",
     "traceback": [
      "\u001b[0;31m---------------------------------------------------------------------------\u001b[0m",
      "\u001b[0;31mZeroDivisionError\u001b[0m                         Traceback (most recent call last)",
      "Cell \u001b[0;32mIn[27], line 1\u001b[0m\n\u001b[0;32m----> 1\u001b[0m c\u001b[38;5;241m=\u001b[39m\u001b[38;5;241;43m6\u001b[39;49m\u001b[38;5;241;43m/\u001b[39;49m\u001b[38;5;241;43m0\u001b[39;49m\n",
      "\u001b[0;31mZeroDivisionError\u001b[0m: division by zero"
     ]
    }
   ],
   "source": [
    "c=6/0"
   ]
  },
  {
   "cell_type": "code",
   "execution_count": 28,
   "id": "4475195a-b3ae-471c-aae7-4c35ee6fb9b7",
   "metadata": {},
   "outputs": [
    {
     "name": "stdin",
     "output_type": "stream",
     "text": [
      " 2\n",
      " 3\n"
     ]
    }
   ],
   "source": [
    "try:\n",
    "    a=int(input())\n",
    "    b=int(input())\n",
    "    c=a/b\n",
    "except Exception as e:\n",
    "    print(e)"
   ]
  },
  {
   "cell_type": "code",
   "execution_count": 29,
   "id": "a682890c-3c35-4f37-b463-ef861f182eb0",
   "metadata": {},
   "outputs": [
    {
     "ename": "ZeroDivisionError",
     "evalue": "division by zero",
     "output_type": "error",
     "traceback": [
      "\u001b[0;31m---------------------------------------------------------------------------\u001b[0m",
      "\u001b[0;31mZeroDivisionError\u001b[0m                         Traceback (most recent call last)",
      "Cell \u001b[0;32mIn[29], line 1\u001b[0m\n\u001b[0;32m----> 1\u001b[0m c\u001b[38;5;241m=\u001b[39m\u001b[38;5;241;43m3\u001b[39;49m\u001b[38;5;241;43m/\u001b[39;49m\u001b[38;5;241;43m0\u001b[39;49m\n",
      "\u001b[0;31mZeroDivisionError\u001b[0m: division by zero"
     ]
    }
   ],
   "source": [
    "c=3/0\n"
   ]
  },
  {
   "cell_type": "code",
   "execution_count": 32,
   "id": "31a9bddc-a9d8-4819-875b-7865bb4d7886",
   "metadata": {},
   "outputs": [
    {
     "name": "stdin",
     "output_type": "stream",
     "text": [
      " 5\n",
      " 3\n"
     ]
    },
    {
     "name": "stdout",
     "output_type": "stream",
     "text": [
      "1.6666666666666667\n"
     ]
    }
   ],
   "source": [
    "try:\n",
    "    a=int(input())\n",
    "    b=int(input())\n",
    "    c=a/b\n",
    "    print(c)\n",
    "except TypeError as t:\n",
    "    print(t)\n",
    "except Exception as e:\n",
    "    print(e)"
   ]
  },
  {
   "cell_type": "code",
   "execution_count": 42,
   "id": "1525a409-1d34-4cc6-8104-385a97cac8ec",
   "metadata": {},
   "outputs": [
    {
     "name": "stdin",
     "output_type": "stream",
     "text": [
      " 22\n",
      " \n"
     ]
    },
    {
     "name": "stdout",
     "output_type": "stream",
     "text": [
      "invalid literal for int() with base 10: ''\n"
     ]
    }
   ],
   "source": [
    "try:\n",
    "    a=int(input())\n",
    "    b=int(input())\n",
    "    c=a/b\n",
    "    print(c)\n",
    "except TypeError as t:\n",
    "    print(t)\n",
    "except Exception as e:\n",
    "    print(e)\n",
    "except ZeroDivisionError as z:\n",
    "    print(z)\n",
    "except ValueError as v:\n",
    "    print(v)"
   ]
  },
  {
   "cell_type": "code",
   "execution_count": 43,
   "id": "167b2cdb-a161-42f1-acc8-70dbd5dcd284",
   "metadata": {},
   "outputs": [
    {
     "name": "stdout",
     "output_type": "stream",
     "text": [
      "division by zero\n",
      "invalid literal for int() with base 10: 'Amit'\n"
     ]
    }
   ],
   "source": [
    "try:\n",
    "    x=5/0\n",
    "except ZeroDivisionError as z:\n",
    "    print(z)\n",
    "    try:\n",
    "        y = int(\"Amit\")\n",
    "    except ValueError as v:\n",
    "        print(v)"
   ]
  },
  {
   "cell_type": "code",
   "execution_count": 44,
   "id": "3cb66a41-f650-4715-a837-89b7e7974578",
   "metadata": {},
   "outputs": [
    {
     "name": "stdout",
     "output_type": "stream",
     "text": [
      "Else will execute itself once try will execute without any error\n",
      "This will always executed\n"
     ]
    }
   ],
   "source": [
    "try:\n",
    "    x=5/1\n",
    "    #x=5/0\n",
    "except ZeroDivisionError as z:\n",
    "    print(z)\n",
    "else:\n",
    "    print(\"Else will execute itself once try will execute without any error\")\n",
    "finally:\n",
    "    print(\"This will always executed\")"
   ]
  },
  {
   "cell_type": "code",
   "execution_count": 45,
   "id": "deca49c3-1a0c-4012-85d9-bf40fff3eabd",
   "metadata": {},
   "outputs": [
    {
     "name": "stdout",
     "output_type": "stream",
     "text": [
      "This is keyerror\n"
     ]
    }
   ],
   "source": [
    "try: \n",
    "    d = {\"name\" : \"sudh\", \"mob\" : 44445, \"email\" : \"jkdfal@\"}\n",
    "    d[\"course\"]\n",
    "except Exception:\n",
    "    print(\"This is keyerror\")"
   ]
  },
  {
   "cell_type": "code",
   "execution_count": 46,
   "id": "3246d7a1-1ce1-4545-bfef-61af46d328a7",
   "metadata": {},
   "outputs": [
    {
     "data": {
      "text/plain": [
       "{'name': 'sudh', 'mob': 44445, 'email': 'jkdfal@'}"
      ]
     },
     "execution_count": 46,
     "metadata": {},
     "output_type": "execute_result"
    }
   ],
   "source": [
    "d"
   ]
  },
  {
   "cell_type": "code",
   "execution_count": 47,
   "id": "bc8c24ff-d712-481e-b962-12f04b245e30",
   "metadata": {},
   "outputs": [
    {
     "name": "stdout",
     "output_type": "stream",
     "text": [
      "list index out of range\n"
     ]
    }
   ],
   "source": [
    "try:\n",
    "    l = [4,5,6,7,888,8,0]\n",
    "    l[10]\n",
    "except Exception as e:\n",
    "    print(e)"
   ]
  },
  {
   "cell_type": "code",
   "execution_count": 48,
   "id": "3fedcb6b-de2b-4702-b22b-4fc17444e3ae",
   "metadata": {},
   "outputs": [
    {
     "name": "stdout",
     "output_type": "stream",
     "text": [
      "invalid literal for int() with base 10: 'Amit'\n"
     ]
    }
   ],
   "source": [
    "try:\n",
    "    a=\"Amit\"\n",
    "    int(a)\n",
    "except Exception as e:\n",
    "    print(e)"
   ]
  },
  {
   "cell_type": "code",
   "execution_count": 49,
   "id": "278f1f46-5442-4670-9e11-761e9c372136",
   "metadata": {},
   "outputs": [
    {
     "ename": "FileNotFoundError",
     "evalue": "[Errno 2] No such file or directory: 'test.txt'",
     "output_type": "error",
     "traceback": [
      "\u001b[0;31m---------------------------------------------------------------------------\u001b[0m",
      "\u001b[0;31mFileNotFoundError\u001b[0m                         Traceback (most recent call last)",
      "Cell \u001b[0;32mIn[49], line 2\u001b[0m\n\u001b[1;32m      1\u001b[0m file_name \u001b[38;5;241m=\u001b[39m \u001b[38;5;124m\"\u001b[39m\u001b[38;5;124mtest.txt\u001b[39m\u001b[38;5;124m\"\u001b[39m\n\u001b[0;32m----> 2\u001b[0m f \u001b[38;5;241m=\u001b[39m \u001b[38;5;28;43mopen\u001b[39;49m\u001b[43m(\u001b[49m\u001b[43mfile_name\u001b[49m\u001b[43m)\u001b[49m\n\u001b[1;32m      3\u001b[0m f\u001b[38;5;241m.\u001b[39mread\n",
      "File \u001b[0;32m/opt/conda/lib/python3.10/site-packages/IPython/core/interactiveshell.py:282\u001b[0m, in \u001b[0;36m_modified_open\u001b[0;34m(file, *args, **kwargs)\u001b[0m\n\u001b[1;32m    275\u001b[0m \u001b[38;5;28;01mif\u001b[39;00m file \u001b[38;5;129;01min\u001b[39;00m {\u001b[38;5;241m0\u001b[39m, \u001b[38;5;241m1\u001b[39m, \u001b[38;5;241m2\u001b[39m}:\n\u001b[1;32m    276\u001b[0m     \u001b[38;5;28;01mraise\u001b[39;00m \u001b[38;5;167;01mValueError\u001b[39;00m(\n\u001b[1;32m    277\u001b[0m         \u001b[38;5;124mf\u001b[39m\u001b[38;5;124m\"\u001b[39m\u001b[38;5;124mIPython won\u001b[39m\u001b[38;5;124m'\u001b[39m\u001b[38;5;124mt let you open fd=\u001b[39m\u001b[38;5;132;01m{\u001b[39;00mfile\u001b[38;5;132;01m}\u001b[39;00m\u001b[38;5;124m by default \u001b[39m\u001b[38;5;124m\"\u001b[39m\n\u001b[1;32m    278\u001b[0m         \u001b[38;5;124m\"\u001b[39m\u001b[38;5;124mas it is likely to crash IPython. If you know what you are doing, \u001b[39m\u001b[38;5;124m\"\u001b[39m\n\u001b[1;32m    279\u001b[0m         \u001b[38;5;124m\"\u001b[39m\u001b[38;5;124myou can use builtins\u001b[39m\u001b[38;5;124m'\u001b[39m\u001b[38;5;124m open.\u001b[39m\u001b[38;5;124m\"\u001b[39m\n\u001b[1;32m    280\u001b[0m     )\n\u001b[0;32m--> 282\u001b[0m \u001b[38;5;28;01mreturn\u001b[39;00m \u001b[43mio_open\u001b[49m\u001b[43m(\u001b[49m\u001b[43mfile\u001b[49m\u001b[43m,\u001b[49m\u001b[43m \u001b[49m\u001b[38;5;241;43m*\u001b[39;49m\u001b[43margs\u001b[49m\u001b[43m,\u001b[49m\u001b[43m \u001b[49m\u001b[38;5;241;43m*\u001b[39;49m\u001b[38;5;241;43m*\u001b[39;49m\u001b[43mkwargs\u001b[49m\u001b[43m)\u001b[49m\n",
      "\u001b[0;31mFileNotFoundError\u001b[0m: [Errno 2] No such file or directory: 'test.txt'"
     ]
    }
   ],
   "source": [
    "file_name = \"test.txt\"\n",
    "f = open(file_name)\n",
    "f.read"
   ]
  },
  {
   "cell_type": "code",
   "execution_count": 50,
   "id": "357a9ea3-9a37-425e-a136-80ffbc6578e9",
   "metadata": {},
   "outputs": [
    {
     "name": "stdout",
     "output_type": "stream",
     "text": [
      "total 420\n",
      "-rw-r--r-- 1 jovyan users 57857 Sep 17 07:28 '17th Sept.ipynb'\n",
      "-rw-r--r-- 1 jovyan users 14991 Sep 23 07:08 '23th sept.ipynb'\n",
      "-rw-r--r-- 1 jovyan users 43026 Sep 24 06:36 '24th Sept.ipynb'\n",
      "drwxr-xr-x 3 jovyan users  4096 Sep 29 05:56  \u001b[0m\u001b[01;34mAssignments\u001b[0m/\n",
      "-rw-r--r-- 1 jovyan users  1120 Sep 24 06:22  a.txt\n",
      "-rw-r--r-- 1 jovyan users 21629 Sep  3 06:21  Control_Flow.ipynb\n",
      "-rw-r--r-- 1 jovyan users 90637 Aug 26 03:55 'Data Types Day 2.ipynb'\n",
      "-rw-r--r-- 1 jovyan users 22589 Sep 30 07:50 'Exception handling and loggin.ipynb'\n",
      "-rw-r--r-- 1 jovyan users 19597 Sep 10 03:27 'Function and control flow.ipynb'\n",
      "-rw-r--r-- 1 jovyan users 28069 Sep 10 06:00 'Local Global.ipynb'\n",
      "-rw-r--r-- 1 jovyan users 12292 Sep  3 04:19  Operators_Day_4.ipynb\n",
      "drwxr-xr-x 3 jovyan users  4096 Sep 30 05:58  \u001b[01;34mpro\u001b[0m/\n",
      "-rw-r--r-- 1 jovyan users 27037 Sep  2 06:54  Python_Basics_Day_3.ipynb\n",
      "-rw-r--r-- 1 jovyan users  3395 Sep 28 14:40  rough.ipynb\n",
      "-rw-r--r-- 1 jovyan users     0 Sep 30 06:48  test.log\n",
      "-rw-r--r-- 1 jovyan users 50356 Aug 19 06:35 'Variable Day1.ipynb'\n"
     ]
    }
   ],
   "source": [
    "ls -l"
   ]
  },
  {
   "cell_type": "code",
   "execution_count": 51,
   "id": "182a31a8-b9e6-4ff8-a2bd-80c24533e22e",
   "metadata": {},
   "outputs": [
    {
     "data": {
      "text/plain": [
       "'/home/jovyan/work'"
      ]
     },
     "execution_count": 51,
     "metadata": {},
     "output_type": "execute_result"
    }
   ],
   "source": [
    "pwd"
   ]
  },
  {
   "cell_type": "code",
   "execution_count": 52,
   "id": "c9e1ed5d-ab17-4c12-8b78-b5b19f232611",
   "metadata": {},
   "outputs": [
    {
     "data": {
      "text/plain": [
       "<function TextIOWrapper.read(size=-1, /)>"
      ]
     },
     "execution_count": 52,
     "metadata": {},
     "output_type": "execute_result"
    }
   ],
   "source": [
    "file_name = \"/home/jovyan/work/pro/test.txt\"\n",
    "f = open(file_name)\n",
    "f.read"
   ]
  },
  {
   "cell_type": "code",
   "execution_count": 55,
   "id": "1f2da3d7-e33d-4d73-becc-9c0b2ba64b23",
   "metadata": {},
   "outputs": [
    {
     "name": "stdin",
     "output_type": "stream",
     "text": [
      "Enter a number :  8\n"
     ]
    },
    {
     "name": "stdout",
     "output_type": "stream",
     "text": [
      "42.75\n"
     ]
    }
   ],
   "source": [
    "try:\n",
    "    n = int(input(\"Enter a number : \"))\n",
    "    div = 342/n\n",
    "    print(div)\n",
    "    \n",
    "except ValueError:\n",
    "    print(\"User has entered invalid input\")\n",
    "\n",
    "except ZeroDivisionError:\n",
    "    print(\"User has entered invalid input as ZeroDivisionError \")"
   ]
  },
  {
   "cell_type": "code",
   "execution_count": 56,
   "id": "cb3341f8-18cf-4616-934a-7d38fb414b21",
   "metadata": {},
   "outputs": [
    {
     "name": "stdin",
     "output_type": "stream",
     "text": [
      "Enter a number :  5\n"
     ]
    },
    {
     "name": "stdout",
     "output_type": "stream",
     "text": [
      "68.4\n"
     ]
    }
   ],
   "source": [
    "try:\n",
    "    n = int(input(\"Enter a number : \"))\n",
    "    div = 342/n\n",
    "    print(div)\n",
    "    \n",
    "except (ValueError,ZeroDivisionError):\n",
    "    print(\"User has entered invalid input\")\n"
   ]
  },
  {
   "cell_type": "code",
   "execution_count": 57,
   "id": "433d96fd-e53e-4c40-9b7f-ddf82ce0cf2d",
   "metadata": {},
   "outputs": [
    {
     "name": "stdin",
     "output_type": "stream",
     "text": [
      "Enter a number :  2\n"
     ]
    },
    {
     "name": "stdout",
     "output_type": "stream",
     "text": [
      "171.0\n"
     ]
    }
   ],
   "source": [
    "try:\n",
    "    try:\n",
    "        n = int(input(\"Enter a number : \"))\n",
    "        div = 342/n\n",
    "        print(div)\n",
    "    except ZeroDivisionError:\n",
    "        print(\"User has enterted zero\")\n",
    "\n",
    "except ValueError:\n",
    "    print(\"User has entered invalid input\")\n",
    "    "
   ]
  },
  {
   "cell_type": "code",
   "execution_count": 58,
   "id": "f4fe7b35-365e-43f5-bd8f-b61b83b17e88",
   "metadata": {},
   "outputs": [
    {
     "name": "stdin",
     "output_type": "stream",
     "text": [
      "Enter a number :  2\n"
     ]
    },
    {
     "name": "stdout",
     "output_type": "stream",
     "text": [
      "171.0\n",
      "171.0\n"
     ]
    }
   ],
   "source": [
    "try:\n",
    "    n = int(input(\"Enter a number : \"))\n",
    "    div = 342/n\n",
    "    print(div)\n",
    "    \n",
    "except Exception:\n",
    "    print(\"User has entered invalid input\")\n",
    "else:\n",
    "    print(div)"
   ]
  },
  {
   "cell_type": "code",
   "execution_count": 59,
   "id": "0c975d3a-d354-43d1-841c-ba4bb071ae65",
   "metadata": {},
   "outputs": [
    {
     "data": {
      "text/plain": [
       "'/home/jovyan/work'"
      ]
     },
     "execution_count": 59,
     "metadata": {},
     "output_type": "execute_result"
    }
   ],
   "source": [
    "pwd"
   ]
  },
  {
   "cell_type": "code",
   "execution_count": 60,
   "id": "601a9e89-e981-4eb7-8ac7-9ca5f4448840",
   "metadata": {},
   "outputs": [],
   "source": [
    "f = open(\"/home/jovyan/work/pro/test.txt\")"
   ]
  },
  {
   "cell_type": "code",
   "execution_count": 61,
   "id": "4a7d7eb1-4547-43a4-96dc-edbf78e0d7f8",
   "metadata": {},
   "outputs": [
    {
     "data": {
      "text/plain": [
       "<_io.TextIOWrapper name='/home/jovyan/work/pro/test.txt' mode='r' encoding='UTF-8'>"
      ]
     },
     "execution_count": 61,
     "metadata": {},
     "output_type": "execute_result"
    }
   ],
   "source": [
    "f"
   ]
  },
  {
   "cell_type": "code",
   "execution_count": 62,
   "id": "93784a88-7c2a-467f-bad3-5c9aae94ca5d",
   "metadata": {},
   "outputs": [
    {
     "data": {
      "text/plain": [
       "'Amit raj\\nclasss 12'"
      ]
     },
     "execution_count": 62,
     "metadata": {},
     "output_type": "execute_result"
    }
   ],
   "source": [
    "f.read()"
   ]
  },
  {
   "cell_type": "code",
   "execution_count": 63,
   "id": "9444707a-b319-41f9-a45a-856e007b4b87",
   "metadata": {},
   "outputs": [],
   "source": [
    "f.close()\n"
   ]
  },
  {
   "cell_type": "code",
   "execution_count": 64,
   "id": "1c98354b-2ffb-4a75-a5ae-6c7962947912",
   "metadata": {},
   "outputs": [
    {
     "ename": "UnsupportedOperation",
     "evalue": "not writable",
     "output_type": "error",
     "traceback": [
      "\u001b[0;31m---------------------------------------------------------------------------\u001b[0m",
      "\u001b[0;31mUnsupportedOperation\u001b[0m                      Traceback (most recent call last)",
      "Cell \u001b[0;32mIn[64], line 2\u001b[0m\n\u001b[1;32m      1\u001b[0m f \u001b[38;5;241m=\u001b[39m \u001b[38;5;28mopen\u001b[39m(\u001b[38;5;124m\"\u001b[39m\u001b[38;5;124m/home/jovyan/work/pro/test.txt\u001b[39m\u001b[38;5;124m\"\u001b[39m)\n\u001b[0;32m----> 2\u001b[0m \u001b[43mf\u001b[49m\u001b[38;5;241;43m.\u001b[39;49m\u001b[43mwrite\u001b[49m\u001b[43m(\u001b[49m\u001b[38;5;124;43m\"\u001b[39;49m\u001b[38;5;124;43mIt is verified\u001b[39;49m\u001b[38;5;124;43m\"\u001b[39;49m\u001b[43m)\u001b[49m\n",
      "\u001b[0;31mUnsupportedOperation\u001b[0m: not writable"
     ]
    }
   ],
   "source": [
    "f = open(\"/home/jovyan/work/pro/test.txt\")\n",
    "f.write(\"It is verified\")"
   ]
  },
  {
   "cell_type": "code",
   "execution_count": null,
   "id": "182876a3-395f-4df8-8b6d-60ef6966900a",
   "metadata": {},
   "outputs": [],
   "source": []
  },
  {
   "cell_type": "code",
   "execution_count": 65,
   "id": "716d1017-c25c-42db-b0b2-51b203329815",
   "metadata": {},
   "outputs": [
    {
     "name": "stdout",
     "output_type": "stream",
     "text": [
      "There is someone \n",
      "File Closed\n"
     ]
    }
   ],
   "source": [
    "try:\n",
    "    f=open(\"/home/jovyan/work/pro/test.txt\")\n",
    "    data = f.read()\n",
    "    f.write(\"A,it rhadjkksd\")\n",
    "except Exception:\n",
    "    print(\"There is someone \")\n",
    "else:\n",
    "    print(data)\n",
    "finally:\n",
    "    f.close()\n",
    "    print(\"File Closed\")"
   ]
  },
  {
   "cell_type": "code",
   "execution_count": 66,
   "id": "cc2a317e-259a-4eb9-becf-156d9708c1f7",
   "metadata": {},
   "outputs": [
    {
     "data": {
      "text/plain": [
       "<_io.TextIOWrapper name='/home/jovyan/work/pro/test.txt' mode='r' encoding='UTF-8'>"
      ]
     },
     "execution_count": 66,
     "metadata": {},
     "output_type": "execute_result"
    }
   ],
   "source": [
    "f"
   ]
  },
  {
   "cell_type": "code",
   "execution_count": null,
   "id": "21ca93f8-788d-491c-af4c-6e35fa599681",
   "metadata": {},
   "outputs": [],
   "source": []
  },
  {
   "cell_type": "code",
   "execution_count": 67,
   "id": "f7b35724-8cae-4e35-aebe-9c31b9c85303",
   "metadata": {},
   "outputs": [
    {
     "name": "stdout",
     "output_type": "stream",
     "text": [
      "There is someone \n",
      "Amit raj\n",
      "classs 12\n",
      "File Closed\n"
     ]
    }
   ],
   "source": [
    "try:\n",
    "    f=open(\"/home/jovyan/work/pro/test.txt\")\n",
    "    data = f.write()\n",
    "except Exception:\n",
    "    print(\"There is someone \")\n",
    "else:\n",
    "    print(data)\n",
    "finally:\n",
    "    print(data)\n",
    "    f.close()\n",
    "    print(\"File Closed\")"
   ]
  },
  {
   "cell_type": "code",
   "execution_count": null,
   "id": "d7b43c8b-cd29-4f6e-aba0-3e45312c20fc",
   "metadata": {},
   "outputs": [],
   "source": []
  },
  {
   "cell_type": "code",
   "execution_count": 68,
   "id": "c93e24f0-1e9b-40d9-a819-6459b696116c",
   "metadata": {},
   "outputs": [
    {
     "name": "stdout",
     "output_type": "stream",
     "text": [
      "Amit raj\n",
      "classs 12\n",
      "Amit raj\n",
      "classs 12\n",
      "File Closed\n"
     ]
    }
   ],
   "source": [
    "try:\n",
    "    f=open(\"/home/jovyan/work/pro/test.txt\")\n",
    "    data = f.read()\n",
    "except Exception:\n",
    "    print(\"There is someone \")\n",
    "else:\n",
    "    print(data)\n",
    "finally:\n",
    "    try:\n",
    "        print(data)\n",
    "    except:\n",
    "        pass\n",
    "    f.close()\n",
    "    print(\"File Closed\")"
   ]
  },
  {
   "cell_type": "code",
   "execution_count": 69,
   "id": "0639b4be-e7c0-4daa-a938-74f488163549",
   "metadata": {},
   "outputs": [
    {
     "data": {
      "text/plain": [
       "<_io.TextIOWrapper name='/home/jovyan/work/pro/test.txt' mode='r' encoding='UTF-8'>"
      ]
     },
     "execution_count": 69,
     "metadata": {},
     "output_type": "execute_result"
    }
   ],
   "source": [
    "f"
   ]
  },
  {
   "cell_type": "code",
   "execution_count": 71,
   "id": "704d66be-9b22-41b6-998d-65dd160659c5",
   "metadata": {},
   "outputs": [
    {
     "name": "stdin",
     "output_type": "stream",
     "text": [
      "Enter height of the wall 5\n"
     ]
    }
   ],
   "source": [
    "a = int(input(\"Enter height of the wall\"))\n"
   ]
  },
  {
   "cell_type": "code",
   "execution_count": 72,
   "id": "5968d734-3fd8-48e6-bcac-3067730aa7ef",
   "metadata": {},
   "outputs": [
    {
     "name": "stdin",
     "output_type": "stream",
     "text": [
      "Enter height of the wall 55\n"
     ]
    }
   ],
   "source": [
    "try:\n",
    "    a = int(input(\"Enter height of the wall\"))\n",
    "    if a<0:\n",
    "        raise ValueError(\"Entered Height is negative\")\n",
    "except ValueError as v:\n",
    "    print(v)"
   ]
  },
  {
   "cell_type": "code",
   "execution_count": 73,
   "id": "2c43364d-9566-4136-883d-b033d09a78ca",
   "metadata": {},
   "outputs": [
    {
     "name": "stdin",
     "output_type": "stream",
     "text": [
      "Enter your Age :  5\n"
     ]
    },
    {
     "name": "stdout",
     "output_type": "stream",
     "text": [
      "User is underage\n"
     ]
    }
   ],
   "source": [
    "try:\n",
    "    age = int(input(\"Enter your Age : \"))\n",
    "    if age < 0:\n",
    "        raise ValueError(\"User is not valid \")\n",
    "    elif age<18:\n",
    "        raise Exception(\"User is underage\")\n",
    "    else:\n",
    "        print(\"Valid User\")\n",
    "except Exception as e:\n",
    "    print(e)"
   ]
  },
  {
   "cell_type": "code",
   "execution_count": 74,
   "id": "f80887a3-6184-462e-840d-5ac87357bb10",
   "metadata": {},
   "outputs": [],
   "source": [
    "####Logging"
   ]
  },
  {
   "cell_type": "code",
   "execution_count": 75,
   "id": "f5654796-4eeb-4553-9c09-dc66e851ac55",
   "metadata": {},
   "outputs": [],
   "source": [
    "import logging as log"
   ]
  },
  {
   "cell_type": "code",
   "execution_count": 76,
   "id": "2b464619-702f-417e-871e-f1e2640a1e3d",
   "metadata": {},
   "outputs": [
    {
     "ename": "TypeError",
     "evalue": "Level not an integer or a valid string: <function info at 0x7fc5c3e8f9a0>",
     "output_type": "error",
     "traceback": [
      "\u001b[0;31m---------------------------------------------------------------------------\u001b[0m",
      "\u001b[0;31mTypeError\u001b[0m                                 Traceback (most recent call last)",
      "Cell \u001b[0;32mIn[76], line 1\u001b[0m\n\u001b[0;32m----> 1\u001b[0m \u001b[43mlog\u001b[49m\u001b[38;5;241;43m.\u001b[39;49m\u001b[43mbasicConfig\u001b[49m\u001b[43m(\u001b[49m\u001b[43mFilename\u001b[49m\u001b[43m \u001b[49m\u001b[38;5;241;43m=\u001b[39;49m\u001b[43m \u001b[49m\u001b[38;5;124;43m'\u001b[39;49m\u001b[38;5;124;43mtest.log\u001b[39;49m\u001b[38;5;124;43m'\u001b[39;49m\u001b[43m,\u001b[49m\u001b[43m \u001b[49m\u001b[43mlevel\u001b[49m\u001b[43m \u001b[49m\u001b[38;5;241;43m=\u001b[39;49m\u001b[43m \u001b[49m\u001b[43mlog\u001b[49m\u001b[38;5;241;43m.\u001b[39;49m\u001b[43minfo\u001b[49m\u001b[43m)\u001b[49m\n",
      "File \u001b[0;32m/opt/conda/lib/python3.10/logging/__init__.py:2059\u001b[0m, in \u001b[0;36mbasicConfig\u001b[0;34m(**kwargs)\u001b[0m\n\u001b[1;32m   2057\u001b[0m level \u001b[38;5;241m=\u001b[39m kwargs\u001b[38;5;241m.\u001b[39mpop(\u001b[38;5;124m\"\u001b[39m\u001b[38;5;124mlevel\u001b[39m\u001b[38;5;124m\"\u001b[39m, \u001b[38;5;28;01mNone\u001b[39;00m)\n\u001b[1;32m   2058\u001b[0m \u001b[38;5;28;01mif\u001b[39;00m level \u001b[38;5;129;01mis\u001b[39;00m \u001b[38;5;129;01mnot\u001b[39;00m \u001b[38;5;28;01mNone\u001b[39;00m:\n\u001b[0;32m-> 2059\u001b[0m     \u001b[43mroot\u001b[49m\u001b[38;5;241;43m.\u001b[39;49m\u001b[43msetLevel\u001b[49m\u001b[43m(\u001b[49m\u001b[43mlevel\u001b[49m\u001b[43m)\u001b[49m\n\u001b[1;32m   2060\u001b[0m \u001b[38;5;28;01mif\u001b[39;00m kwargs:\n\u001b[1;32m   2061\u001b[0m     keys \u001b[38;5;241m=\u001b[39m \u001b[38;5;124m'\u001b[39m\u001b[38;5;124m, \u001b[39m\u001b[38;5;124m'\u001b[39m\u001b[38;5;241m.\u001b[39mjoin(kwargs\u001b[38;5;241m.\u001b[39mkeys())\n",
      "File \u001b[0;32m/opt/conda/lib/python3.10/logging/__init__.py:1452\u001b[0m, in \u001b[0;36mLogger.setLevel\u001b[0;34m(self, level)\u001b[0m\n\u001b[1;32m   1448\u001b[0m \u001b[38;5;28;01mdef\u001b[39;00m \u001b[38;5;21msetLevel\u001b[39m(\u001b[38;5;28mself\u001b[39m, level):\n\u001b[1;32m   1449\u001b[0m     \u001b[38;5;124;03m\"\"\"\u001b[39;00m\n\u001b[1;32m   1450\u001b[0m \u001b[38;5;124;03m    Set the logging level of this logger.  level must be an int or a str.\u001b[39;00m\n\u001b[1;32m   1451\u001b[0m \u001b[38;5;124;03m    \"\"\"\u001b[39;00m\n\u001b[0;32m-> 1452\u001b[0m     \u001b[38;5;28mself\u001b[39m\u001b[38;5;241m.\u001b[39mlevel \u001b[38;5;241m=\u001b[39m \u001b[43m_checkLevel\u001b[49m\u001b[43m(\u001b[49m\u001b[43mlevel\u001b[49m\u001b[43m)\u001b[49m\n\u001b[1;32m   1453\u001b[0m     \u001b[38;5;28mself\u001b[39m\u001b[38;5;241m.\u001b[39mmanager\u001b[38;5;241m.\u001b[39m_clear_cache()\n",
      "File \u001b[0;32m/opt/conda/lib/python3.10/logging/__init__.py:201\u001b[0m, in \u001b[0;36m_checkLevel\u001b[0;34m(level)\u001b[0m\n\u001b[1;32m    199\u001b[0m     rv \u001b[38;5;241m=\u001b[39m _nameToLevel[level]\n\u001b[1;32m    200\u001b[0m \u001b[38;5;28;01melse\u001b[39;00m:\n\u001b[0;32m--> 201\u001b[0m     \u001b[38;5;28;01mraise\u001b[39;00m \u001b[38;5;167;01mTypeError\u001b[39;00m(\u001b[38;5;124m\"\u001b[39m\u001b[38;5;124mLevel not an integer or a valid string: \u001b[39m\u001b[38;5;132;01m%r\u001b[39;00m\u001b[38;5;124m\"\u001b[39m\n\u001b[1;32m    202\u001b[0m                     \u001b[38;5;241m%\u001b[39m (level,))\n\u001b[1;32m    203\u001b[0m \u001b[38;5;28;01mreturn\u001b[39;00m rv\n",
      "\u001b[0;31mTypeError\u001b[0m: Level not an integer or a valid string: <function info at 0x7fc5c3e8f9a0>"
     ]
    }
   ],
   "source": [
    "log.basicConfig(Filename = 'test.log', level = log.info)"
   ]
  },
  {
   "cell_type": "code",
   "execution_count": null,
   "id": "5bef6a9c-0d8f-4a93-8f71-d3f26621a1d7",
   "metadata": {},
   "outputs": [],
   "source": [
    "pwd"
   ]
  },
  {
   "cell_type": "code",
   "execution_count": 77,
   "id": "b886cba0-4b8c-4922-8e7e-2ce37c8f7b73",
   "metadata": {},
   "outputs": [],
   "source": [
    "log.info(\"Store a msg\")"
   ]
  },
  {
   "cell_type": "code",
   "execution_count": 78,
   "id": "b99d4eed-5b45-46fc-b10f-3f13214054fa",
   "metadata": {},
   "outputs": [],
   "source": [
    "log.debug(\"This is debug\")"
   ]
  },
  {
   "cell_type": "code",
   "execution_count": 79,
   "id": "573cfc85-8bae-4317-9252-0e775e138a5e",
   "metadata": {},
   "outputs": [
    {
     "name": "stderr",
     "output_type": "stream",
     "text": [
      "WARNING:root:warninig\n"
     ]
    }
   ],
   "source": [
    "log.warning(\"warninig\")"
   ]
  },
  {
   "cell_type": "code",
   "execution_count": 80,
   "id": "a02fa930-2d80-46f6-acbe-bcac3c1a9e85",
   "metadata": {},
   "outputs": [
    {
     "name": "stderr",
     "output_type": "stream",
     "text": [
      "ERROR:root:error\n"
     ]
    }
   ],
   "source": [
    "log.error(\"error\")"
   ]
  },
  {
   "cell_type": "code",
   "execution_count": 81,
   "id": "ba8d67e6-38d4-4995-bbd1-419e947e4838",
   "metadata": {},
   "outputs": [
    {
     "name": "stderr",
     "output_type": "stream",
     "text": [
      "CRITICAL:root:criticcal\n"
     ]
    }
   ],
   "source": [
    "log.critical(\"criticcal\")"
   ]
  },
  {
   "cell_type": "code",
   "execution_count": 85,
   "id": "35dd4fce-a7d9-427b-9edf-8cefca0eadf6",
   "metadata": {},
   "outputs": [],
   "source": [
    "###Not getting output"
   ]
  },
  {
   "cell_type": "code",
   "execution_count": 86,
   "id": "66ed6447-7dce-441e-a2cb-58a37017b59b",
   "metadata": {},
   "outputs": [
    {
     "name": "stdin",
     "output_type": "stream",
     "text": [
      "Enter the age 55\n"
     ]
    }
   ],
   "source": [
    "import logging\n",
    "logging.basicConfig(filename = 'testl=logging.DEBUG, format='%(asctime)s- %(message)s - %(levelname)s')'\n",
    "try:\n",
    "    logging.info(\"This is start of my Prog\")\n",
    "    logging.info(\"Asking user to enter age\")\n",
    "    age = int(input(\"Enter the age\"))\n",
    "    logging.info(\"User has entered the age\")\n",
    "    \n",
    "    if age<0:\n",
    "        logginginfo(\"I am checking negative value\")\n",
    "        raise ValueError(\"User has entered negative value\")\n",
    "        \n",
    "    elif age<18:\n",
    "        logging.info(\"I am checking less than 18 value\")\n",
    "        raise ValueError(\"User has entered less than 18 value\")\n",
    "    else:\n",
    "        logging.info(\"Valid User\")\n",
    "except Exception as e:\n",
    "    logging.error(e)"
   ]
  },
  {
   "cell_type": "code",
   "execution_count": 87,
   "id": "73b79497-483d-4966-b974-62864c3af134",
   "metadata": {},
   "outputs": [
    {
     "data": {
      "text/plain": [
       "'/home/jovyan/work'"
      ]
     },
     "execution_count": 87,
     "metadata": {},
     "output_type": "execute_result"
    }
   ],
   "source": [
    "pwd"
   ]
  },
  {
   "cell_type": "code",
   "execution_count": 1,
   "id": "52d6d038-e1b1-43fe-9627-249444aac039",
   "metadata": {},
   "outputs": [
    {
     "name": "stdin",
     "output_type": "stream",
     "text": [
      "Enter the age 45\n"
     ]
    }
   ],
   "source": [
    "import logging\n",
    "logging.basicConfig(filename = '/home/jovyan/work/test.log',level = logging.DEBUG, format='%(asctime)s- %(message)s - %(levelname)s')\n",
    "try:\n",
    "    logging.info(\"This is start of my Prog\")\n",
    "    logging.info(\"Asking user to enter age\")\n",
    "    age = int(input(\"Enter the age\"))\n",
    "    logging.info(\"User has entered the age\")\n",
    "    \n",
    "    if age<0:\n",
    "        logginginfo(\"I am checking negative value\")\n",
    "        raise ValueError(\"User has entered negative value\")\n",
    "        \n",
    "    elif age<18:\n",
    "        logging.info(\"I am checking less than 18 value\")\n",
    "        raise ValueError(\"User has entered less than 18 value\")\n",
    "    else:\n",
    "        logging.info(\"Valid User\")\n",
    "except Exception as e:\n",
    "    logging.error(e)"
   ]
  },
  {
   "cell_type": "code",
   "execution_count": null,
   "id": "63d1bdcf-f461-42d1-a898-64d5ccbe7a4c",
   "metadata": {},
   "outputs": [],
   "source": []
  }
 ],
 "metadata": {
  "kernelspec": {
   "display_name": "Python 3 (ipykernel)",
   "language": "python",
   "name": "python3"
  },
  "language_info": {
   "codemirror_mode": {
    "name": "ipython",
    "version": 3
   },
   "file_extension": ".py",
   "mimetype": "text/x-python",
   "name": "python",
   "nbconvert_exporter": "python",
   "pygments_lexer": "ipython3",
   "version": "3.10.8"
  }
 },
 "nbformat": 4,
 "nbformat_minor": 5
}
